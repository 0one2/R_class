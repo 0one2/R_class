{
 "cells": [
  {
   "cell_type": "markdown",
   "metadata": {},
   "source": [
    "# [Q1] Logistic Regression 모형 구축을 위해 필요하지 않은 변수는 어떤 것들이 있는가? 왜 그렇게 생각하는가? "
   ]
  },
  {
   "cell_type": "code",
   "execution_count": 1,
   "metadata": {
    "scrolled": true
   },
   "outputs": [
    {
     "name": "stdout",
     "output_type": "stream",
     "text": [
      "package 'moments' successfully unpacked and MD5 sums checked\n",
      "\n",
      "The downloaded binary packages are in\n",
      "\tC:\\Users\\lmwlm\\AppData\\Local\\Temp\\Rtmp4Opsqm\\downloaded_packages\n",
      "package 'corrplot' successfully unpacked and MD5 sums checked\n",
      "\n",
      "The downloaded binary packages are in\n",
      "\tC:\\Users\\lmwlm\\AppData\\Local\\Temp\\Rtmp4Opsqm\\downloaded_packages\n"
     ]
    },
    {
     "name": "stderr",
     "output_type": "stream",
     "text": [
      "Warning message:\n",
      "\"package 'corrplot' was built under R version 3.6.3\"corrplot 0.84 loaded\n"
     ]
    }
   ],
   "source": [
    "install.packages(\"moments\") \n",
    "install.packages(\"corrplot\")\n",
    "library(moments)\n",
    "library(corrplot)"
   ]
  },
  {
   "cell_type": "code",
   "execution_count": 2,
   "metadata": {},
   "outputs": [
    {
     "name": "stdout",
     "output_type": "stream",
     "text": [
      "'data.frame':\t500 obs. of  9 variables:\n",
      " $ Serial.No.       : int  1 2 3 4 5 6 7 8 9 10 ...\n",
      " $ GRE.Score        : int  337 324 316 322 314 330 321 308 302 323 ...\n",
      " $ TOEFL.Score      : int  118 107 104 110 103 115 109 101 102 108 ...\n",
      " $ University.Rating: int  4 4 3 3 2 5 3 2 1 3 ...\n",
      " $ SOP              : num  4.5 4 3 3.5 2 4.5 3 3 2 3.5 ...\n",
      " $ LOR              : num  4.5 4.5 3.5 2.5 3 3 4 4 1.5 3 ...\n",
      " $ CGPA             : num  9.65 8.87 8 8.67 8.21 9.34 8.2 7.9 8 8.6 ...\n",
      " $ Research         : int  1 1 1 1 0 1 1 0 0 0 ...\n",
      " $ Chance.of.Admit  : num  0.92 0.76 0.72 0.8 0.65 0.9 0.75 0.68 0.5 0.45 ...\n"
     ]
    },
    {
     "data": {
      "text/html": [
       "<table>\n",
       "<thead><tr><th scope=col>Serial.No.</th><th scope=col>GRE.Score</th><th scope=col>TOEFL.Score</th><th scope=col>University.Rating</th><th scope=col>SOP</th><th scope=col>LOR</th><th scope=col>CGPA</th><th scope=col>Research</th><th scope=col>Chance.of.Admit</th></tr></thead>\n",
       "<tbody>\n",
       "\t<tr><td>1   </td><td>337 </td><td>118 </td><td>4   </td><td>4.5 </td><td>4.5 </td><td>9.65</td><td>1   </td><td>0.92</td></tr>\n",
       "\t<tr><td>2   </td><td>324 </td><td>107 </td><td>4   </td><td>4.0 </td><td>4.5 </td><td>8.87</td><td>1   </td><td>0.76</td></tr>\n",
       "\t<tr><td>3   </td><td>316 </td><td>104 </td><td>3   </td><td>3.0 </td><td>3.5 </td><td>8.00</td><td>1   </td><td>0.72</td></tr>\n",
       "\t<tr><td>4   </td><td>322 </td><td>110 </td><td>3   </td><td>3.5 </td><td>2.5 </td><td>8.67</td><td>1   </td><td>0.80</td></tr>\n",
       "\t<tr><td>5   </td><td>314 </td><td>103 </td><td>2   </td><td>2.0 </td><td>3.0 </td><td>8.21</td><td>0   </td><td>0.65</td></tr>\n",
       "\t<tr><td>6   </td><td>330 </td><td>115 </td><td>5   </td><td>4.5 </td><td>3.0 </td><td>9.34</td><td>1   </td><td>0.90</td></tr>\n",
       "</tbody>\n",
       "</table>\n"
      ],
      "text/latex": [
       "\\begin{tabular}{r|lllllllll}\n",
       " Serial.No. & GRE.Score & TOEFL.Score & University.Rating & SOP & LOR & CGPA & Research & Chance.of.Admit\\\\\n",
       "\\hline\n",
       "\t 1    & 337  & 118  & 4    & 4.5  & 4.5  & 9.65 & 1    & 0.92\\\\\n",
       "\t 2    & 324  & 107  & 4    & 4.0  & 4.5  & 8.87 & 1    & 0.76\\\\\n",
       "\t 3    & 316  & 104  & 3    & 3.0  & 3.5  & 8.00 & 1    & 0.72\\\\\n",
       "\t 4    & 322  & 110  & 3    & 3.5  & 2.5  & 8.67 & 1    & 0.80\\\\\n",
       "\t 5    & 314  & 103  & 2    & 2.0  & 3.0  & 8.21 & 0    & 0.65\\\\\n",
       "\t 6    & 330  & 115  & 5    & 4.5  & 3.0  & 9.34 & 1    & 0.90\\\\\n",
       "\\end{tabular}\n"
      ],
      "text/markdown": [
       "\n",
       "| Serial.No. | GRE.Score | TOEFL.Score | University.Rating | SOP | LOR | CGPA | Research | Chance.of.Admit |\n",
       "|---|---|---|---|---|---|---|---|---|\n",
       "| 1    | 337  | 118  | 4    | 4.5  | 4.5  | 9.65 | 1    | 0.92 |\n",
       "| 2    | 324  | 107  | 4    | 4.0  | 4.5  | 8.87 | 1    | 0.76 |\n",
       "| 3    | 316  | 104  | 3    | 3.0  | 3.5  | 8.00 | 1    | 0.72 |\n",
       "| 4    | 322  | 110  | 3    | 3.5  | 2.5  | 8.67 | 1    | 0.80 |\n",
       "| 5    | 314  | 103  | 2    | 2.0  | 3.0  | 8.21 | 0    | 0.65 |\n",
       "| 6    | 330  | 115  | 5    | 4.5  | 3.0  | 9.34 | 1    | 0.90 |\n",
       "\n"
      ],
      "text/plain": [
       "  Serial.No. GRE.Score TOEFL.Score University.Rating SOP LOR CGPA Research\n",
       "1 1          337       118         4                 4.5 4.5 9.65 1       \n",
       "2 2          324       107         4                 4.0 4.5 8.87 1       \n",
       "3 3          316       104         3                 3.0 3.5 8.00 1       \n",
       "4 4          322       110         3                 3.5 2.5 8.67 1       \n",
       "5 5          314       103         2                 2.0 3.0 8.21 0       \n",
       "6 6          330       115         5                 4.5 3.0 9.34 1       \n",
       "  Chance.of.Admit\n",
       "1 0.92           \n",
       "2 0.76           \n",
       "3 0.72           \n",
       "4 0.80           \n",
       "5 0.65           \n",
       "6 0.90           "
      ]
     },
     "metadata": {},
     "output_type": "display_data"
    },
    {
     "data": {
      "text/html": [
       "TRUE"
      ],
      "text/latex": [
       "TRUE"
      ],
      "text/markdown": [
       "TRUE"
      ],
      "text/plain": [
       "[1] TRUE"
      ]
     },
     "metadata": {},
     "output_type": "display_data"
    },
    {
     "data": {
      "text/html": [
       "0"
      ],
      "text/latex": [
       "0"
      ],
      "text/markdown": [
       "0"
      ],
      "text/plain": [
       "[1] 0"
      ]
     },
     "metadata": {},
     "output_type": "display_data"
    }
   ],
   "source": [
    "df <- read.csv('Admission_Predict_Ver1.1.csv')\n",
    "str(df)\n",
    "head(df)\n",
    "length(unique(df$Serial.No.)) == nrow(df) #Serial.No.가 중복된 것이 있는지 확인\n",
    "sum(is.na(df)) # 데이터에 NULL값이 있는지 확인"
   ]
  },
  {
   "cell_type": "code",
   "execution_count": 3,
   "metadata": {},
   "outputs": [],
   "source": [
    "df <- subset(df,select=-Serial.No.) # Serial.No. 제거"
   ]
  },
  {
   "cell_type": "markdown",
   "metadata": {},
   "source": [
    "# [Q2] 개별 입력 변수들에 대하여 각각 다음과 같은 단변량 통계량을 계산하고 Box plot을 도시하시오: Mean, Standard deviation, Skewness, Kurtosis. 전체 변수 중에서 정규분포를 따른다고 할 수 있는 변수 들은 몇 개인가? 정규분포를 따른다고 가정한 근거는 무엇인가? "
   ]
  },
  {
   "cell_type": "code",
   "execution_count": 4,
   "metadata": {},
   "outputs": [
    {
     "data": {
      "text/html": [
       "<table>\n",
       "<thead><tr><th></th><th scope=col>mean</th><th scope=col>std</th><th scope=col>skewness</th><th scope=col>kurtosis</th></tr></thead>\n",
       "<tbody>\n",
       "\t<tr><th scope=row>GRE.Score</th><td>107.19200  </td><td>6.0818677  </td><td> 0.09531393</td><td>2.341293   </td></tr>\n",
       "\t<tr><th scope=row>TOEFL.Score</th><td>  3.11400  </td><td>1.1435118  </td><td> 0.09002387</td><td>2.186022   </td></tr>\n",
       "\t<tr><th scope=row>University.Rating</th><td>  3.37400  </td><td>0.9910036  </td><td>-0.22828491</td><td>2.289344   </td></tr>\n",
       "\t<tr><th scope=row>SOP</th><td>  3.48400  </td><td>0.9254496  </td><td>-0.14485408</td><td>2.249712   </td></tr>\n",
       "\t<tr><th scope=row>LOR</th><td>  8.57644  </td><td>0.6048128  </td><td>-0.02653261</td><td>2.432343   </td></tr>\n",
       "\t<tr><th scope=row>CGPA</th><td>  0.56000  </td><td>0.4968841  </td><td>-0.24174689</td><td>1.058442   </td></tr>\n",
       "\t<tr><th scope=row>Research</th><td>  0.72174  </td><td>0.1411404  </td><td>-0.28909559</td><td>2.537876   </td></tr>\n",
       "</tbody>\n",
       "</table>\n"
      ],
      "text/latex": [
       "\\begin{tabular}{r|llll}\n",
       "  & mean & std & skewness & kurtosis\\\\\n",
       "\\hline\n",
       "\tGRE.Score & 107.19200   & 6.0818677   &  0.09531393 & 2.341293   \\\\\n",
       "\tTOEFL.Score &   3.11400   & 1.1435118   &  0.09002387 & 2.186022   \\\\\n",
       "\tUniversity.Rating &   3.37400   & 0.9910036   & -0.22828491 & 2.289344   \\\\\n",
       "\tSOP &   3.48400   & 0.9254496   & -0.14485408 & 2.249712   \\\\\n",
       "\tLOR &   8.57644   & 0.6048128   & -0.02653261 & 2.432343   \\\\\n",
       "\tCGPA &   0.56000   & 0.4968841   & -0.24174689 & 1.058442   \\\\\n",
       "\tResearch &   0.72174   & 0.1411404   & -0.28909559 & 2.537876   \\\\\n",
       "\\end{tabular}\n"
      ],
      "text/markdown": [
       "\n",
       "| <!--/--> | mean | std | skewness | kurtosis |\n",
       "|---|---|---|---|---|\n",
       "| GRE.Score | 107.19200   | 6.0818677   |  0.09531393 | 2.341293    |\n",
       "| TOEFL.Score |   3.11400   | 1.1435118   |  0.09002387 | 2.186022    |\n",
       "| University.Rating |   3.37400   | 0.9910036   | -0.22828491 | 2.289344    |\n",
       "| SOP |   3.48400   | 0.9254496   | -0.14485408 | 2.249712    |\n",
       "| LOR |   8.57644   | 0.6048128   | -0.02653261 | 2.432343    |\n",
       "| CGPA |   0.56000   | 0.4968841   | -0.24174689 | 1.058442    |\n",
       "| Research |   0.72174   | 0.1411404   | -0.28909559 | 2.537876    |\n",
       "\n"
      ],
      "text/plain": [
       "                  mean      std       skewness    kurtosis\n",
       "GRE.Score         107.19200 6.0818677  0.09531393 2.341293\n",
       "TOEFL.Score         3.11400 1.1435118  0.09002387 2.186022\n",
       "University.Rating   3.37400 0.9910036 -0.22828491 2.289344\n",
       "SOP                 3.48400 0.9254496 -0.14485408 2.249712\n",
       "LOR                 8.57644 0.6048128 -0.02653261 2.432343\n",
       "CGPA                0.56000 0.4968841 -0.24174689 1.058442\n",
       "Research            0.72174 0.1411404 -0.28909559 2.537876"
      ]
     },
     "metadata": {},
     "output_type": "display_data"
    }
   ],
   "source": [
    "statics_mat <- matrix(c(1:7*4),nrow=7,ncol=4) # 통계량을 넣어둘 matrix생성\n",
    "colnames(statics_mat) <- c(\"mean\",\"std\",\"skewness\",\"kurtosis\") # 열 이름지정\n",
    "rownames(statics_mat) <- colnames(df[1:7]) # 행 이름 지정\n",
    "# 통계량 계산해서 넣는 부분\n",
    "for(i in 1:7){\n",
    "    statics_mat[i,1] = mean(unlist(df[,i+1]))\n",
    "    statics_mat[i,2] = sqrt(var(df[,i+1]))\n",
    "    statics_mat[i,3] = skewness(df[,i+1])\n",
    "    statics_mat[i,4] = kurtosis(df[,i+1])\n",
    "}\n",
    "statics_mat"
   ]
  },
  {
   "cell_type": "code",
   "execution_count": 5,
   "metadata": {},
   "outputs": [
    {
     "data": {
      "image/png": "[encoded data removed]",
      "text/plain": [
       "Plot with title \"Research\""
      ]
     },
     "metadata": {},
     "output_type": "display_data"
    }
   ],
   "source": [
    "par(mfrow=c(3,3)) # y축 범위는 min, max를 이용\n",
    "for(i in 1:7){\n",
    "    boxplot(df[,i],xlab =\"\",ylim = c(min(df[,i]),max(df[,i]))\n",
    "            ,main = paste(colnames(df[i])),col=c(\"green\",\"yellow\"))\n",
    "}"
   ]
  },
  {
   "cell_type": "code",
   "execution_count": 6,
   "metadata": {},
   "outputs": [
    {
     "data": {
      "image/png": "[encoded data removed]",
      "text/plain": [
       "Plot with title \"Research\""
      ]
     },
     "metadata": {},
     "output_type": "display_data"
    }
   ],
   "source": [
    "# 히스토그램 그리기\n",
    "par(mfrow=c(3,3))\n",
    "for(i in 1:7){\n",
    "    hist(df[,i],xlab =\"\",main = paste(colnames(df[i])))\n",
    "}"
   ]
  },
  {
   "cell_type": "markdown",
   "metadata": {},
   "source": [
    "# [Q3] [Q2]의 Box plot을 근거로 각 변수들에 대한 이상치(너무 값이 크거나 작은 객체) 조건을 정의하고, 해당하는 객체들을 데이터셋에서 제거해 보시오. "
   ]
  },
  {
   "cell_type": "code",
   "execution_count": 7,
   "metadata": {},
   "outputs": [
    {
     "data": {
      "image/png": "[encoded data removed]",
      "text/plain": [
       "Plot with title \"Research\""
      ]
     },
     "metadata": {},
     "output_type": "display_data"
    }
   ],
   "source": [
    "# scatter plot그리기\n",
    "par(mfrow = c(3,3))\n",
    "for(i in 1:7){\n",
    "    plot(df[,i],df$Chance.of.Admit, main = names(df[i]),ylab = names(df$Chance.of.Admit),xlab = \"\", col = \"blue\")\n",
    "}"
   ]
  },
  {
   "cell_type": "code",
   "execution_count": 8,
   "metadata": {},
   "outputs": [],
   "source": [
    "# 각 칼럼들의 이상치의 값을 그래프로 확인하여 제거했습니다. \n",
    "df$SOP <- ifelse(df$SOP==5 & df$Chance.of.Admit <0.5, NA,df$SOP)\n",
    "df$LOR <- ifelse(df$LOR == 1, NA,df$LOR)\n",
    "df <- na.omit(df)"
   ]
  },
  {
   "cell_type": "markdown",
   "metadata": {},
   "source": [
    "# [Q4] 가능한 모든 두 쌍의 입력 변수 조합에 대한 산점도(scatter plot) 및 Correlation plot (hint: “corrplot” 패키지의 corrplot( ) 함수 사용) 상관관계를 계산해 보시오. 어떤 두 조합의 변수들이 서로 강 한 상관관계가 있다고 할 수 있는가? "
   ]
  },
  {
   "cell_type": "code",
   "execution_count": 9,
   "metadata": {},
   "outputs": [
    {
     "data": {
      "image/png": "[encoded data removed]",
      "text/plain": [
       "plot without title"
      ]
     },
     "metadata": {},
     "output_type": "display_data"
    }
   ],
   "source": [
    "# scatter plot 그리기\n",
    "pairs(~., data = df, main = \"Scatterplot matrix\")"
   ]
  },
  {
   "cell_type": "code",
   "execution_count": 10,
   "metadata": {},
   "outputs": [
    {
     "data": {
      "image/png": "[encoded data removed]",
      "text/plain": [
       "Plot with title \"\""
      ]
     },
     "metadata": {},
     "output_type": "display_data"
    }
   ],
   "source": [
    "corr <- cor(df) # 모든 칼럼에 대한 corr 그래프\n",
    "corrplot(corr, method = \"color\", outline = T, cl.pos = \"n\", rect.col = \"black\", tl.col = \"red\",addCoef.col = \"black\",\n",
    "        number.digits = 2, number.cex = 0.60, tl.cex = 0.7, cl.cex = 1, col = colorRampPalette(c(\"red\",\"white\",\"green4\"))(100))"
   ]
  },
  {
   "cell_type": "code",
   "execution_count": 11,
   "metadata": {},
   "outputs": [
    {
     "data": {
      "image/png": "[encoded data removed]",
      "text/plain": [
       "Plot with title \"Research\""
      ]
     },
     "metadata": {},
     "output_type": "display_data"
    }
   ],
   "source": [
    "# box plot 그리기\n",
    "conti = c(1,2,6,8) # 연속형 변수 index\n",
    "categ = c(3,4,5,7) # 범주형 변수 index\n",
    "par(mfrow = c(4,4))\n",
    "for(i in categ){\n",
    "    for(j in conti){\n",
    "        boxplot(df[,j]~df[,i], xlab =\"\",ylab = names(df[j]), main=names(df[i]), col=c(\"green\",\"yellow\"))\n",
    "    }\n",
    "}"
   ]
  },
  {
   "cell_type": "markdown",
   "metadata": {},
   "source": [
    "# [Q5] 종속변수인 Change of Admit은 원래 데이터에서는 0부터 1사이의 확률 값으로 표현되어 있다. 이를 0.8을 기준으로 하여 0.8을 초과하는 경우 1 (positive class), 0.8 이하인 경우 0 (negative class)의 값을 갖 는 binary target variable로 변환하시오. 이후 전체 데이터셋을 70%의 학습 데이터와 30%의 테스트 데이 터로 무작위(random)로 분할한 후 모든 변수를 사용하여 Logistic Regression 모델을 학습해 보시오. 유의수준(Significance level) 0.1에서 Change of Admit에 유의미하게 영향을 주는 변수들은 어떤 것들이 있는가? "
   ]
  },
  {
   "cell_type": "code",
   "execution_count": 12,
   "metadata": {},
   "outputs": [],
   "source": [
    "df$Chance.of.Admit <- as.factor(ifelse(df$Chance.of.Admit > 0.8,1,0)) # 1,0을 갖는 값으로 target 변수 변환"
   ]
  },
  {
   "cell_type": "code",
   "execution_count": 13,
   "metadata": {},
   "outputs": [],
   "source": [
    "#scaling 하기\n",
    "df_scaled <- df\n",
    "df_scaled[,1:6] <- scale(df_scaled[,1:6],center = TRUE, scale = TRUE)\n",
    "df_minmax <- df\n",
    "for (i in 1:6){\n",
    "    df_minmax[,i] <- (df_minmax[,i]-min(df_minmax[,i]))/(max(df_minmax[,i])-min(df_minmax[,i])) #minmax scaler 구현\n",
    "}"
   ]
  },
  {
   "cell_type": "code",
   "execution_count": 14,
   "metadata": {},
   "outputs": [],
   "source": [
    "set.seed(41)\n",
    "trn_idx <- sample(1:nrow(df_scaled),round(0.7*nrow(df_scaled))) # sample함수를 이용해 trainset index저장\n",
    "r_train <- df[trn_idx,]\n",
    "r_test <- df[-trn_idx,]\n",
    "s_train <- df_scaled[trn_idx,]\n",
    "s_test <- df_scaled[-trn_idx,]\n",
    "m_train <- df_minmax[trn_idx,]\n",
    "m_test <- df_minmax[-trn_idx,]"
   ]
  },
  {
   "cell_type": "code",
   "execution_count": 15,
   "metadata": {},
   "outputs": [
    {
     "data": {
      "text/plain": [
       "\n",
       "Call:\n",
       "glm(formula = r_train$Chance.of.Admit ~ ., family = binomial, \n",
       "    data = r_train)\n",
       "\n",
       "Deviance Residuals: \n",
       "    Min       1Q   Median       3Q      Max  \n",
       "-2.1673  -0.1527  -0.0239   0.0618   3.3243  \n",
       "\n",
       "Coefficients:\n",
       "                   Estimate Std. Error z value Pr(>|z|)    \n",
       "(Intercept)       -85.23098   17.05356  -4.998 5.80e-07 ***\n",
       "GRE.Score           0.02701    0.05862   0.461   0.6449    \n",
       "TOEFL.Score         0.16418    0.08443   1.945   0.0518 .  \n",
       "University.Rating   0.76298    0.36019   2.118   0.0342 *  \n",
       "SOP                -0.38662    0.54036  -0.715   0.4743    \n",
       "LOR                 0.24465    0.39751   0.615   0.5383    \n",
       "CGPA                6.20278    1.45104   4.275 1.91e-05 ***\n",
       "Research            0.63015    0.65279   0.965   0.3344    \n",
       "---\n",
       "Signif. codes:  0 '***' 0.001 '**' 0.01 '*' 0.05 '.' 0.1 ' ' 1\n",
       "\n",
       "(Dispersion parameter for binomial family taken to be 1)\n",
       "\n",
       "    Null deviance: 421.71  on 348  degrees of freedom\n",
       "Residual deviance: 114.74  on 341  degrees of freedom\n",
       "AIC: 130.74\n",
       "\n",
       "Number of Fisher Scoring iterations: 8\n"
      ]
     },
     "metadata": {},
     "output_type": "display_data"
    }
   ],
   "source": [
    "r_lr <- glm(r_train$Chance.of.Admit ~ .,family = binomial, r_train) #scaling안한 데이터로 학습\n",
    "summary(r_lr)"
   ]
  },
  {
   "cell_type": "code",
   "execution_count": 16,
   "metadata": {},
   "outputs": [
    {
     "data": {
      "text/plain": [
       "\n",
       "Call:\n",
       "glm(formula = s_train$Chance.of.Admit ~ ., family = binomial, \n",
       "    data = s_train)\n",
       "\n",
       "Deviance Residuals: \n",
       "    Min       1Q   Median       3Q      Max  \n",
       "-2.1673  -0.1527  -0.0239   0.0618   3.3243  \n",
       "\n",
       "Coefficients:\n",
       "                  Estimate Std. Error z value Pr(>|z|)    \n",
       "(Intercept)        -3.9213     0.6747  -5.812 6.19e-09 ***\n",
       "GRE.Score           0.3043     0.6603   0.461   0.6449    \n",
       "TOEFL.Score         0.9929     0.5106   1.945   0.0518 .  \n",
       "University.Rating   0.8712     0.4113   2.118   0.0342 *  \n",
       "SOP                -0.3807     0.5320  -0.715   0.4743    \n",
       "LOR                 0.2252     0.3659   0.615   0.5383    \n",
       "CGPA                3.7345     0.8736   4.275 1.91e-05 ***\n",
       "Research            0.6301     0.6528   0.965   0.3344    \n",
       "---\n",
       "Signif. codes:  0 '***' 0.001 '**' 0.01 '*' 0.05 '.' 0.1 ' ' 1\n",
       "\n",
       "(Dispersion parameter for binomial family taken to be 1)\n",
       "\n",
       "    Null deviance: 421.71  on 348  degrees of freedom\n",
       "Residual deviance: 114.74  on 341  degrees of freedom\n",
       "AIC: 130.74\n",
       "\n",
       "Number of Fisher Scoring iterations: 8\n"
      ]
     },
     "metadata": {},
     "output_type": "display_data"
    }
   ],
   "source": [
    "s_lr <- glm(s_train$Chance.of.Admit ~ .,family = binomial, s_train) #standardscaler 데이터로 학습\n",
    "summary(s_lr)"
   ]
  },
  {
   "cell_type": "code",
   "execution_count": 17,
   "metadata": {},
   "outputs": [
    {
     "data": {
      "text/plain": [
       "\n",
       "Call:\n",
       "glm(formula = m_train$Chance.of.Admit ~ ., family = binomial, \n",
       "    data = m_train)\n",
       "\n",
       "Deviance Residuals: \n",
       "    Min       1Q   Median       3Q      Max  \n",
       "-2.1673  -0.1527  -0.0239   0.0618   3.3243  \n",
       "\n",
       "Coefficients:\n",
       "                  Estimate Std. Error z value Pr(>|z|)    \n",
       "(Intercept)       -19.3704     2.7298  -7.096 1.29e-12 ***\n",
       "GRE.Score           1.3507     2.9312   0.461   0.6449    \n",
       "TOEFL.Score         4.5970     2.3639   1.945   0.0518 .  \n",
       "University.Rating   3.0519     1.4408   2.118   0.0342 *  \n",
       "SOP                -1.5465     2.1614  -0.715   0.4743    \n",
       "LOR                 0.8563     1.3913   0.615   0.5383    \n",
       "CGPA               19.3527     4.5272   4.275 1.91e-05 ***\n",
       "Research            0.6301     0.6528   0.965   0.3344    \n",
       "---\n",
       "Signif. codes:  0 '***' 0.001 '**' 0.01 '*' 0.05 '.' 0.1 ' ' 1\n",
       "\n",
       "(Dispersion parameter for binomial family taken to be 1)\n",
       "\n",
       "    Null deviance: 421.71  on 348  degrees of freedom\n",
       "Residual deviance: 114.74  on 341  degrees of freedom\n",
       "AIC: 130.74\n",
       "\n",
       "Number of Fisher Scoring iterations: 8\n"
      ]
     },
     "metadata": {},
     "output_type": "display_data"
    }
   ],
   "source": [
    "m_lr <- glm(m_train$Chance.of.Admit ~ .,family = binomial, m_train) # minmaxscaler데이터\n",
    "summary(m_lr)"
   ]
  },
  {
   "cell_type": "markdown",
   "metadata": {},
   "source": [
    "# [Q6] Test 데이터셋에 대하여 예측을 수행하고 Confusion Matrix를 생성한 뒤, True Positive Rate, True Negative Rate, False Positive Rate, False Negative Rate, Simple Accuracy, Balanced Correction Rate, F1-Measure를 각각 구하고 그 의미를 해석하시오. "
   ]
  },
  {
   "cell_type": "code",
   "execution_count": 18,
   "metadata": {},
   "outputs": [],
   "source": [
    "# confusion matrix를 만드는 함수\n",
    "make_cm <- function(label, pred){\n",
    "    tmp <- pred\n",
    "    pred <- rep(0,length(pred))\n",
    "    pred[which(tmp>0.5)] <- 1 # treshhold값은 0.5로 주었습니다.\n",
    "    cm <- table(label, pred)\n",
    "    \n",
    "    return (cm)\n",
    "}"
   ]
  },
  {
   "cell_type": "code",
   "execution_count": 19,
   "metadata": {},
   "outputs": [],
   "source": [
    "#3개의 데이터에 대해서 각각 confusion matrix를 구합니다.\n",
    "r_pred <- predict(r_lr, type=\"response\", newdata = r_test[,1:7])\n",
    "r_cm <- make_cm(r_test$Chance.of.Admit,r_pred)\n",
    "s_pred <- predict(s_lr, type=\"response\", newdata = s_test[,1:7])\n",
    "s_cm <- make_cm(s_test$Chance.of.Admit,s_pred)\n",
    "m_pred <- predict(m_lr, type=\"response\", newdata = m_test[,1:7])\n",
    "m_cm <- make_cm(m_test$Chance.of.Admit,m_pred)"
   ]
  },
  {
   "cell_type": "code",
   "execution_count": 20,
   "metadata": {},
   "outputs": [
    {
     "name": "stdout",
     "output_type": "stream",
     "text": [
      "     pred\n",
      "label   0   1\n",
      "    0 106   3\n",
      "    1   5  35\n",
      "     pred\n",
      "label   0   1\n",
      "    0 106   3\n",
      "    1   5  35\n",
      "     pred\n",
      "label   0   1\n",
      "    0 106   3\n",
      "    1   5  35\n"
     ]
    }
   ],
   "source": [
    "# 결과가 모두 같습니다. ㅠㅠ\n",
    "print(r_cm)\n",
    "print(s_cm)\n",
    "print(m_cm)"
   ]
  },
  {
   "cell_type": "code",
   "execution_count": 21,
   "metadata": {},
   "outputs": [],
   "source": [
    "perf_eval2 <- function(cm){\n",
    "  \n",
    "  # True positive rate: TPR (Recall)  \n",
    "  TPR <- cm[2,2]/sum(cm[2,]) #cm=>confusion matrix,R-script?뒗 ?삤由꾩감?닚?씠?뼱?꽌 TPR?씠 2?뻾.\n",
    "  # True negative rate: TNR\n",
    "  TNR <- cm[1,1]/sum(cm[1,])\n",
    "  # False Positive Rate: FPR\n",
    "  FPR <- cm[1,2]/sum(cm[1,])\n",
    "  # False Negative Rate: FNR\n",
    "  FNR <- cm[2,1]/sum(cm[2,])\n",
    "  \n",
    "  # Precision\n",
    "  PRE <- cm[2,2]/sum(cm[,2])\n",
    "  # Simple Accuracy\n",
    "  ACC <- (cm[1,1]+cm[2,2])/sum(cm)\n",
    "  # Balanced Correction Rate\n",
    "  BCR <- sqrt(TPR*TNR)\n",
    "  # F1-Measure\n",
    "  F1 <- 2*TPR*PRE/(TPR+PRE)\n",
    "  \n",
    "  return(c(TPR, TNR, FPR, FNR, PRE, ACC, BCR, F1))\n",
    "}"
   ]
  },
  {
   "cell_type": "code",
   "execution_count": 22,
   "metadata": {},
   "outputs": [
    {
     "data": {
      "text/html": [
       "<table>\n",
       "<thead><tr><th></th><th scope=col>TPR (Recall)</th><th scope=col>TNR</th><th scope=col>FPR</th><th scope=col>FNR</th><th scope=col>Precision</th><th scope=col>ACC</th><th scope=col>BCR</th><th scope=col>F1</th></tr></thead>\n",
       "<tbody>\n",
       "\t<tr><th scope=row>Logstic Regression</th><td>0.875     </td><td>0.9724771 </td><td>0.02752294</td><td>0.125     </td><td>0.9210526 </td><td>0.9463087 </td><td>0.9224519 </td><td>0.8974359 </td></tr>\n",
       "</tbody>\n",
       "</table>\n"
      ],
      "text/latex": [
       "\\begin{tabular}{r|llllllll}\n",
       "  & TPR (Recall) & TNR & FPR & FNR & Precision & ACC & BCR & F1\\\\\n",
       "\\hline\n",
       "\tLogstic Regression & 0.875      & 0.9724771  & 0.02752294 & 0.125      & 0.9210526  & 0.9463087  & 0.9224519  & 0.8974359 \\\\\n",
       "\\end{tabular}\n"
      ],
      "text/markdown": [
       "\n",
       "| <!--/--> | TPR (Recall) | TNR | FPR | FNR | Precision | ACC | BCR | F1 |\n",
       "|---|---|---|---|---|---|---|---|---|\n",
       "| Logstic Regression | 0.875      | 0.9724771  | 0.02752294 | 0.125      | 0.9210526  | 0.9463087  | 0.9224519  | 0.8974359  |\n",
       "\n"
      ],
      "text/plain": [
       "                   TPR (Recall) TNR       FPR        FNR   Precision ACC      \n",
       "Logstic Regression 0.875        0.9724771 0.02752294 0.125 0.9210526 0.9463087\n",
       "                   BCR       F1       \n",
       "Logstic Regression 0.9224519 0.8974359"
      ]
     },
     "metadata": {},
     "output_type": "display_data"
    }
   ],
   "source": [
    "# Initialize the performance matrix\n",
    "perf_mat <- matrix(0, 1, 8)\n",
    "colnames(perf_mat) <- c(\"TPR (Recall)\", \"TNR\",\"FPR\",\"FNR\",\"Precision\", \"ACC\", \"BCR\", \"F1\")\n",
    "rownames(perf_mat) <- \"Logstic Regression\"\n",
    "perf_mat[1,] <- perf_eval2(s_cm)\n",
    "perf_mat"
   ]
  },
  {
   "cell_type": "markdown",
   "metadata": {},
   "source": [
    "# [Q7] Test 데이터셋에 대한 AUROC를 산출하는 함수를 직접 작성하고, random seed를 변경해가면서 학습-테스트를 5회 반복하여 산출된 AUROC값의 변화를 확인해보시오. "
   ]
  },
  {
   "cell_type": "code",
   "execution_count": 23,
   "metadata": {},
   "outputs": [],
   "source": [
    "ROC_calculation <- function(label, pred){\n",
    "    tmp <-  sort(pred, decreasing = TRUE, index.return=TRUE) # 예측한 확률값들을 내림차순으로 정렬\n",
    "    pred_pb <- pred[tmp$ix] # 내림차순으로 정렬한 index를 가져와 pred를 pred_pb에 정렬\n",
    "    label <- label[tmp$ix] # 비교하는 label값도 순서가 같아야 하므로 내림차순한 인덱스 활용하여 정렬\n",
    "    pred <- rep(0,length(pred)) # ROC커브에서 1,0으로 변환되는 것이 들어가는 곳\n",
    "    dum <- matrix(0,nrow=2,ncol=1)\n",
    "    #confusion matrix에서 둘다 0이 나오면, 한 칼럼이 사라진다. 그것을 방지하기 위한 매트릭스\n",
    "    TPR <- c(length(pred)+1) # TPR값 저장소\n",
    "    FPR <- c(length(pred)+1) # FPR값 저장소\n",
    "    TPR[1] <- 0 # 처음값은 0이다.\n",
    "    FPR[1] <- 0 # 처음값은 0이다.\n",
    "    diff_FPR <- 0 # 면적 게산시에 가로축의 길이를 저장할 변수\n",
    "    ROC <- 0 # ROC의 면적을 더해 갈 변수\n",
    "    for(i in 1:length(pred)){\n",
    "        pred[which(pred_pb >= pred_pb[i])] <- 1 # cutoff를 한칸씩 옮겨준다\n",
    "        cm <- cbind(table(label, pred),dum) # confusion matrix생성. 혹시나 0,0 이 나오는 것을 대비해 dum 추가\n",
    "        TPR[i+1] <- cm[2,2]/sum(cm[2,]) # TPR 계산\n",
    "        FPR[i+1] <- cm[1,2]/sum(cm[1,]) # FPR 계산\n",
    "        if(i>1){\n",
    "            diff_FPR <- FPR[i+1] - FPR[(i)] # 가로축 길이 계산\n",
    "        }\n",
    "        ROC <- ROC + TPR[i+1]*diff_FPR # 면적 계산\n",
    "        if (i == length(pred)){\n",
    "            TPR[i+1] <- 1 \n",
    "            # TPR의 마지막 값은 1이다. 그런데 confusion matrix가 열이 0 일때가 0,0이 나와 한칸 밀리게 된다.\n",
    "            # 그것을 보정해 주기 위하여 1을 넣어준다.\n",
    "            FPR[i+1] <- 1 # 위와 마찬가지\n",
    "        }\n",
    "    }\n",
    "    \n",
    "    plot(FPR, TPR, type = \"l\") # ROC커브 그리기\n",
    "\n",
    "    return (ROC) #ROC 면적값 리턴\n",
    "}"
   ]
  },
  {
   "cell_type": "code",
   "execution_count": 24,
   "metadata": {},
   "outputs": [
    {
     "data": {
      "text/html": [
       "0.980733944954129"
      ],
      "text/latex": [
       "0.980733944954129"
      ],
      "text/markdown": [
       "0.980733944954129"
      ],
      "text/plain": [
       "[1] 0.9807339"
      ]
     },
     "metadata": {},
     "output_type": "display_data"
    },
    {
     "data": {
      "image/png": "[encoded data removed]",
      "text/plain": [
       "plot without title"
      ]
     },
     "metadata": {},
     "output_type": "display_data"
    }
   ],
   "source": [
    "ROC_calculation(s_test$Chance.of.Admit,s_pred)"
   ]
  },
  {
   "cell_type": "code",
   "execution_count": 25,
   "metadata": {},
   "outputs": [],
   "source": [
    "# plot 그리는 것을 뺀 함수입니다.\n",
    "ROC_calculation_rmplot <- function(label, pred){\n",
    "    tmp <-  sort(pred, decreasing = TRUE, index.return=TRUE) # 예측한 확률값들을 내림차순으로 정렬\n",
    "    pred_pb <- pred[tmp$ix] # 내림차순으로 정렬한 index를 가져와 pred를 pred_pb에 정렬\n",
    "    label <- label[tmp$ix] # 비교하는 label값도 순서가 같아야 하므로 내림차순한 인덱스 활용하여 정렬\n",
    "    pred <- rep(0,length(pred)) # ROC커브에서 1,0으로 변환되는 것이 들어가는 곳\n",
    "    dum <- matrix(0,nrow=2,ncol=1)\n",
    "    #confusion matrix에서 둘다 0이 나오면, 한 칼럼이 사라진다. 그것을 방지하기 위한 매트릭스\n",
    "    TPR <- c(length(pred)+1) # TPR값 저장소\n",
    "    FPR <- c(length(pred)+1) # FPR값 저장소\n",
    "    TPR[1] <- 0 # 처음값은 0이다.\n",
    "    FPR[1] <- 0 # 처음값은 0이다.\n",
    "    diff_FPR <- 0 # 면적 게산시에 가로축의 길이를 저장할 변수\n",
    "    ROC <- 0 # ROC의 면적을 더해 갈 변수\n",
    "    for(i in 1:length(pred)){\n",
    "        pred[which(pred_pb >= pred_pb[i])] <- 1 # cutoff를 한칸씩 옮겨준다\n",
    "        cm <- cbind(table(label, pred),dum) # confusion matrix생성. 혹시나 0,0 이 나오는 것을 대비해 dum 추가\n",
    "        TPR[i+1] <- cm[2,2]/sum(cm[2,]) # TPR 계산\n",
    "        FPR[i+1] <- cm[1,2]/sum(cm[1,]) # FPR 계산\n",
    "        if(i>1){\n",
    "            diff_FPR <- FPR[i+1] - FPR[(i)] # 가로축 길이 계산\n",
    "        }\n",
    "        ROC <- ROC + TPR[i+1]*diff_FPR # 면적 계산\n",
    "        if (i == length(pred)){\n",
    "            TPR[i+1] <- 1 \n",
    "            # TPR의 마지막 값은 1이다. 그런데 confusion matrix가 열이 0 일때가 0,0이 나와 한칸 밀리게 된다.\n",
    "            # 그것을 보정해 주기 위하여 1을 넣어준다.\n",
    "            FPR[i+1] <- 1 # 위와 마찬가지\n",
    "        }\n",
    "    }\n",
    "    \n",
    "    #plot(FPR, TPR, type = \"l\") # ROC커브 그리기\n",
    "\n",
    "    return (ROC) #ROC 면적값 리턴\n",
    "}"
   ]
  },
  {
   "cell_type": "code",
   "execution_count": 26,
   "metadata": {},
   "outputs": [
    {
     "name": "stderr",
     "output_type": "stream",
     "text": [
      "Warning message:\n",
      "\"glm.fit: fitted probabilities numerically 0 or 1 occurred\""
     ]
    },
    {
     "data": {
      "text/html": [
       "<table>\n",
       "<thead><tr><th scope=col>seed</th><th scope=col>AUROC</th></tr></thead>\n",
       "<tbody>\n",
       "\t<tr><td>41       </td><td>0.9807339</td></tr>\n",
       "\t<tr><td>42       </td><td>0.9624835</td></tr>\n",
       "\t<tr><td>43       </td><td>0.9604078</td></tr>\n",
       "\t<tr><td>44       </td><td>0.9820097</td></tr>\n",
       "\t<tr><td>45       </td><td>0.9324610</td></tr>\n",
       "</tbody>\n",
       "</table>\n"
      ],
      "text/latex": [
       "\\begin{tabular}{ll}\n",
       " seed & AUROC\\\\\n",
       "\\hline\n",
       "\t 41        & 0.9807339\\\\\n",
       "\t 42        & 0.9624835\\\\\n",
       "\t 43        & 0.9604078\\\\\n",
       "\t 44        & 0.9820097\\\\\n",
       "\t 45        & 0.9324610\\\\\n",
       "\\end{tabular}\n"
      ],
      "text/markdown": [
       "\n",
       "| seed | AUROC |\n",
       "|---|---|\n",
       "| 41        | 0.9807339 |\n",
       "| 42        | 0.9624835 |\n",
       "| 43        | 0.9604078 |\n",
       "| 44        | 0.9820097 |\n",
       "| 45        | 0.9324610 |\n",
       "\n"
      ],
      "text/plain": [
       "     seed AUROC    \n",
       "[1,] 41   0.9807339\n",
       "[2,] 42   0.9624835\n",
       "[3,] 43   0.9604078\n",
       "[4,] 44   0.9820097\n",
       "[5,] 45   0.9324610"
      ]
     },
     "metadata": {},
     "output_type": "display_data"
    }
   ],
   "source": [
    "AUROC_mat <- matrix(0, 5, 2)\n",
    "colnames(AUROC_mat) <- c(\"seed\",\"AUROC\")\n",
    "seed_vector <- c(41,42,43,44,45)\n",
    "for(i in 1:5){\n",
    "    set.seed(seed_vector[i])\n",
    "    AUROC_mat[i,1] = seed_vector[i]\n",
    "    trn_idx <- sample(1:nrow(df_scaled),round(0.7*nrow(df_scaled))) # sample함수를 이용해 trainset index저장\n",
    "    s_train <- df_scaled[trn_idx,]\n",
    "    s_test <- df_scaled[-trn_idx,]\n",
    "    s_lr <- glm(s_train$Chance.of.Admit ~ .,family = binomial, s_train) #standardscaler 데이터로 학습\n",
    "    s_pred <- predict(s_lr, type=\"response\", newdata = s_test[,1:7])\n",
    "    AUROC_mat[i,2] = ROC_calculation_rmplot(s_test$Chance.of.Admit,s_pred)\n",
    "}\n",
    "AUROC_mat"
   ]
  },
  {
   "cell_type": "markdown",
   "metadata": {},
   "source": [
    "# [Q8] 이 외 웹이나 기타 자료들을 통해 재미있는 데이터셋(fun dataset)을 찾아 나름대로의 로지스틱 회귀 분석 모형 구축 및 결과 해석을 수행하시오."
   ]
  },
  {
   "cell_type": "code",
   "execution_count": 27,
   "metadata": {},
   "outputs": [
    {
     "name": "stdout",
     "output_type": "stream",
     "text": [
      "package 'caret' successfully unpacked and MD5 sums checked\n",
      "\n",
      "The downloaded binary packages are in\n",
      "\tC:\\Users\\lmwlm\\AppData\\Local\\Temp\\Rtmp4Opsqm\\downloaded_packages\n"
     ]
    },
    {
     "name": "stderr",
     "output_type": "stream",
     "text": [
      "Warning message:\n",
      "\"package 'caret' was built under R version 3.6.3\"Loading required package: lattice\n",
      "Loading required package: ggplot2\n",
      "Registered S3 methods overwritten by 'ggplot2':\n",
      "  method         from \n",
      "  [.quosures     rlang\n",
      "  c.quosures     rlang\n",
      "  print.quosures rlang\n"
     ]
    },
    {
     "name": "stdout",
     "output_type": "stream",
     "text": [
      "\n",
      "  There is a binary version available but the source version is later:\n",
      "     binary source needs_compilation\n",
      "nnet 7.3-13 7.3-14              TRUE\n",
      "\n",
      "  Binaries will be installed\n",
      "package 'nnet' successfully unpacked and MD5 sums checked\n"
     ]
    },
    {
     "name": "stderr",
     "output_type": "stream",
     "text": [
      "Warning message:\n",
      "\"cannot remove prior installation of package 'nnet'\"Warning message in file.copy(savedcopy, lib, recursive = TRUE):\n",
      "\"C:\\Users\\lmwlm\\Anaconda3\\Lib\\R\\library\\00LOCK\\nnet\\libs\\x64\\nnet.dll를 C:\\Users\\lmwlm\\Anaconda3\\Lib\\R\\library\\nnet\\libs\\x64\\nnet.dll로 복사하는데 문제가 발생했습니다: Permission denied\"Warning message:\n",
      "\"restored 'nnet'\""
     ]
    },
    {
     "name": "stdout",
     "output_type": "stream",
     "text": [
      "\n",
      "The downloaded binary packages are in\n",
      "\tC:\\Users\\lmwlm\\AppData\\Local\\Temp\\Rtmp4Opsqm\\downloaded_packages\n"
     ]
    }
   ],
   "source": [
    "install.packages(\"caret\") \n",
    "library(caret)\n",
    "install.packages(\"nnet\")\n",
    "library(nnet)"
   ]
  },
  {
   "cell_type": "code",
   "execution_count": 28,
   "metadata": {},
   "outputs": [
    {
     "data": {
      "text/html": [
       "<table>\n",
       "<thead><tr><th scope=col>id</th><th scope=col>bone_length</th><th scope=col>rotting_flesh</th><th scope=col>hair_length</th><th scope=col>has_soul</th><th scope=col>color</th><th scope=col>type</th></tr></thead>\n",
       "<tbody>\n",
       "\t<tr><td>0        </td><td>0.3545122</td><td>0.3508390</td><td>0.4657609</td><td>0.7811417</td><td>clear    </td><td>Ghoul    </td></tr>\n",
       "\t<tr><td>1        </td><td>0.5755599</td><td>0.4258684</td><td>0.5314014</td><td>0.4398989</td><td>green    </td><td>Goblin   </td></tr>\n",
       "\t<tr><td>2        </td><td>0.4678755</td><td>0.3543304</td><td>0.8116161</td><td>0.7912250</td><td>black    </td><td>Ghoul    </td></tr>\n",
       "\t<tr><td>4        </td><td>0.7766525</td><td>0.5087225</td><td>0.6367656</td><td>0.8844637</td><td>black    </td><td>Ghoul    </td></tr>\n",
       "\t<tr><td>5        </td><td>0.5661166</td><td>0.8758618</td><td>0.4185937</td><td>0.6364378</td><td>green    </td><td>Ghost    </td></tr>\n",
       "\t<tr><td>7        </td><td>0.4056797</td><td>0.2532775</td><td>0.4414197</td><td>0.2803238</td><td>green    </td><td>Goblin   </td></tr>\n",
       "</tbody>\n",
       "</table>\n"
      ],
      "text/latex": [
       "\\begin{tabular}{r|lllllll}\n",
       " id & bone\\_length & rotting\\_flesh & hair\\_length & has\\_soul & color & type\\\\\n",
       "\\hline\n",
       "\t 0         & 0.3545122 & 0.3508390 & 0.4657609 & 0.7811417 & clear     & Ghoul    \\\\\n",
       "\t 1         & 0.5755599 & 0.4258684 & 0.5314014 & 0.4398989 & green     & Goblin   \\\\\n",
       "\t 2         & 0.4678755 & 0.3543304 & 0.8116161 & 0.7912250 & black     & Ghoul    \\\\\n",
       "\t 4         & 0.7766525 & 0.5087225 & 0.6367656 & 0.8844637 & black     & Ghoul    \\\\\n",
       "\t 5         & 0.5661166 & 0.8758618 & 0.4185937 & 0.6364378 & green     & Ghost    \\\\\n",
       "\t 7         & 0.4056797 & 0.2532775 & 0.4414197 & 0.2803238 & green     & Goblin   \\\\\n",
       "\\end{tabular}\n"
      ],
      "text/markdown": [
       "\n",
       "| id | bone_length | rotting_flesh | hair_length | has_soul | color | type |\n",
       "|---|---|---|---|---|---|---|\n",
       "| 0         | 0.3545122 | 0.3508390 | 0.4657609 | 0.7811417 | clear     | Ghoul     |\n",
       "| 1         | 0.5755599 | 0.4258684 | 0.5314014 | 0.4398989 | green     | Goblin    |\n",
       "| 2         | 0.4678755 | 0.3543304 | 0.8116161 | 0.7912250 | black     | Ghoul     |\n",
       "| 4         | 0.7766525 | 0.5087225 | 0.6367656 | 0.8844637 | black     | Ghoul     |\n",
       "| 5         | 0.5661166 | 0.8758618 | 0.4185937 | 0.6364378 | green     | Ghost     |\n",
       "| 7         | 0.4056797 | 0.2532775 | 0.4414197 | 0.2803238 | green     | Goblin    |\n",
       "\n"
      ],
      "text/plain": [
       "  id bone_length rotting_flesh hair_length has_soul  color type  \n",
       "1 0  0.3545122   0.3508390     0.4657609   0.7811417 clear Ghoul \n",
       "2 1  0.5755599   0.4258684     0.5314014   0.4398989 green Goblin\n",
       "3 2  0.4678755   0.3543304     0.8116161   0.7912250 black Ghoul \n",
       "4 4  0.7766525   0.5087225     0.6367656   0.8844637 black Ghoul \n",
       "5 5  0.5661166   0.8758618     0.4185937   0.6364378 green Ghost \n",
       "6 7  0.4056797   0.2532775     0.4414197   0.2803238 green Goblin"
      ]
     },
     "metadata": {},
     "output_type": "display_data"
    }
   ],
   "source": [
    "data <- read.csv('train.csv')\n",
    "head(data)"
   ]
  },
  {
   "cell_type": "code",
   "execution_count": 29,
   "metadata": {},
   "outputs": [],
   "source": [
    "tmp <- data"
   ]
  },
  {
   "cell_type": "code",
   "execution_count": 30,
   "metadata": {},
   "outputs": [
    {
     "data": {
      "text/html": [
       "<table>\n",
       "<thead><tr><th scope=col>id</th><th scope=col>bone_length</th><th scope=col>rotting_flesh</th><th scope=col>hair_length</th><th scope=col>has_soul</th><th scope=col>color.black</th><th scope=col>color.blood</th><th scope=col>color.blue</th><th scope=col>color.clear</th><th scope=col>color.green</th><th scope=col>color.white</th></tr></thead>\n",
       "<tbody>\n",
       "\t<tr><td>0        </td><td>0.3545122</td><td>0.3508390</td><td>0.4657609</td><td>0.7811417</td><td>0        </td><td>0        </td><td>0        </td><td>1        </td><td>0        </td><td>0        </td></tr>\n",
       "\t<tr><td>1        </td><td>0.5755599</td><td>0.4258684</td><td>0.5314014</td><td>0.4398989</td><td>0        </td><td>0        </td><td>0        </td><td>0        </td><td>1        </td><td>0        </td></tr>\n",
       "\t<tr><td>2        </td><td>0.4678755</td><td>0.3543304</td><td>0.8116161</td><td>0.7912250</td><td>1        </td><td>0        </td><td>0        </td><td>0        </td><td>0        </td><td>0        </td></tr>\n",
       "\t<tr><td>4        </td><td>0.7766525</td><td>0.5087225</td><td>0.6367656</td><td>0.8844637</td><td>1        </td><td>0        </td><td>0        </td><td>0        </td><td>0        </td><td>0        </td></tr>\n",
       "\t<tr><td>5        </td><td>0.5661166</td><td>0.8758618</td><td>0.4185937</td><td>0.6364378</td><td>0        </td><td>0        </td><td>0        </td><td>0        </td><td>1        </td><td>0        </td></tr>\n",
       "\t<tr><td>7        </td><td>0.4056797</td><td>0.2532775</td><td>0.4414197</td><td>0.2803238</td><td>0        </td><td>0        </td><td>0        </td><td>0        </td><td>1        </td><td>0        </td></tr>\n",
       "</tbody>\n",
       "</table>\n"
      ],
      "text/latex": [
       "\\begin{tabular}{r|lllllllllll}\n",
       " id & bone\\_length & rotting\\_flesh & hair\\_length & has\\_soul & color.black & color.blood & color.blue & color.clear & color.green & color.white\\\\\n",
       "\\hline\n",
       "\t 0         & 0.3545122 & 0.3508390 & 0.4657609 & 0.7811417 & 0         & 0         & 0         & 1         & 0         & 0        \\\\\n",
       "\t 1         & 0.5755599 & 0.4258684 & 0.5314014 & 0.4398989 & 0         & 0         & 0         & 0         & 1         & 0        \\\\\n",
       "\t 2         & 0.4678755 & 0.3543304 & 0.8116161 & 0.7912250 & 1         & 0         & 0         & 0         & 0         & 0        \\\\\n",
       "\t 4         & 0.7766525 & 0.5087225 & 0.6367656 & 0.8844637 & 1         & 0         & 0         & 0         & 0         & 0        \\\\\n",
       "\t 5         & 0.5661166 & 0.8758618 & 0.4185937 & 0.6364378 & 0         & 0         & 0         & 0         & 1         & 0        \\\\\n",
       "\t 7         & 0.4056797 & 0.2532775 & 0.4414197 & 0.2803238 & 0         & 0         & 0         & 0         & 1         & 0        \\\\\n",
       "\\end{tabular}\n"
      ],
      "text/markdown": [
       "\n",
       "| id | bone_length | rotting_flesh | hair_length | has_soul | color.black | color.blood | color.blue | color.clear | color.green | color.white |\n",
       "|---|---|---|---|---|---|---|---|---|---|---|\n",
       "| 0         | 0.3545122 | 0.3508390 | 0.4657609 | 0.7811417 | 0         | 0         | 0         | 1         | 0         | 0         |\n",
       "| 1         | 0.5755599 | 0.4258684 | 0.5314014 | 0.4398989 | 0         | 0         | 0         | 0         | 1         | 0         |\n",
       "| 2         | 0.4678755 | 0.3543304 | 0.8116161 | 0.7912250 | 1         | 0         | 0         | 0         | 0         | 0         |\n",
       "| 4         | 0.7766525 | 0.5087225 | 0.6367656 | 0.8844637 | 1         | 0         | 0         | 0         | 0         | 0         |\n",
       "| 5         | 0.5661166 | 0.8758618 | 0.4185937 | 0.6364378 | 0         | 0         | 0         | 0         | 1         | 0         |\n",
       "| 7         | 0.4056797 | 0.2532775 | 0.4414197 | 0.2803238 | 0         | 0         | 0         | 0         | 1         | 0         |\n",
       "\n"
      ],
      "text/plain": [
       "  id bone_length rotting_flesh hair_length has_soul  color.black color.blood\n",
       "1 0  0.3545122   0.3508390     0.4657609   0.7811417 0           0          \n",
       "2 1  0.5755599   0.4258684     0.5314014   0.4398989 0           0          \n",
       "3 2  0.4678755   0.3543304     0.8116161   0.7912250 1           0          \n",
       "4 4  0.7766525   0.5087225     0.6367656   0.8844637 1           0          \n",
       "5 5  0.5661166   0.8758618     0.4185937   0.6364378 0           0          \n",
       "6 7  0.4056797   0.2532775     0.4414197   0.2803238 0           0          \n",
       "  color.blue color.clear color.green color.white\n",
       "1 0          1           0           0          \n",
       "2 0          0           1           0          \n",
       "3 0          0           0           0          \n",
       "4 0          0           0           0          \n",
       "5 0          0           1           0          \n",
       "6 0          0           1           0          "
      ]
     },
     "metadata": {},
     "output_type": "display_data"
    }
   ],
   "source": [
    "# color에 대한 원핫 인코딩을 하는 작업\n",
    "dmy <- dummyVars(~., data = data[,1:6]) # type은 원핫인코딩되면 안되는 칼럼이기에 제외\n",
    "data <- data.frame(predict(dmy, newdata = data))\n",
    "head(data)"
   ]
  },
  {
   "cell_type": "code",
   "execution_count": 31,
   "metadata": {},
   "outputs": [],
   "source": [
    "data$type <- tmp$type # type이 빠져있으므로, tmp에 저장해둔 type을 가져옴\n",
    "data <- subset(data,select=-id) # id는 필요 없으니 제거"
   ]
  },
  {
   "cell_type": "code",
   "execution_count": 32,
   "metadata": {},
   "outputs": [
    {
     "data": {
      "text/html": [
       "<table>\n",
       "<thead><tr><th scope=col>bone_length</th><th scope=col>rotting_flesh</th><th scope=col>hair_length</th><th scope=col>has_soul</th><th scope=col>color.black</th><th scope=col>color.blood</th><th scope=col>color.blue</th><th scope=col>color.clear</th><th scope=col>color.green</th><th scope=col>color.white</th><th scope=col>type</th></tr></thead>\n",
       "<tbody>\n",
       "\t<tr><td>0.3545122</td><td>0.3508390</td><td>0.4657609</td><td>0.7811417</td><td>0        </td><td>0        </td><td>0        </td><td>1        </td><td>0        </td><td>0        </td><td>Ghoul    </td></tr>\n",
       "\t<tr><td>0.5755599</td><td>0.4258684</td><td>0.5314014</td><td>0.4398989</td><td>0        </td><td>0        </td><td>0        </td><td>0        </td><td>1        </td><td>0        </td><td>Goblin   </td></tr>\n",
       "\t<tr><td>0.4678755</td><td>0.3543304</td><td>0.8116161</td><td>0.7912250</td><td>1        </td><td>0        </td><td>0        </td><td>0        </td><td>0        </td><td>0        </td><td>Ghoul    </td></tr>\n",
       "\t<tr><td>0.7766525</td><td>0.5087225</td><td>0.6367656</td><td>0.8844637</td><td>1        </td><td>0        </td><td>0        </td><td>0        </td><td>0        </td><td>0        </td><td>Ghoul    </td></tr>\n",
       "\t<tr><td>0.5661166</td><td>0.8758618</td><td>0.4185937</td><td>0.6364378</td><td>0        </td><td>0        </td><td>0        </td><td>0        </td><td>1        </td><td>0        </td><td>Ghost    </td></tr>\n",
       "\t<tr><td>0.4056797</td><td>0.2532775</td><td>0.4414197</td><td>0.2803238</td><td>0        </td><td>0        </td><td>0        </td><td>0        </td><td>1        </td><td>0        </td><td>Goblin   </td></tr>\n",
       "</tbody>\n",
       "</table>\n"
      ],
      "text/latex": [
       "\\begin{tabular}{r|lllllllllll}\n",
       " bone\\_length & rotting\\_flesh & hair\\_length & has\\_soul & color.black & color.blood & color.blue & color.clear & color.green & color.white & type\\\\\n",
       "\\hline\n",
       "\t 0.3545122 & 0.3508390 & 0.4657609 & 0.7811417 & 0         & 0         & 0         & 1         & 0         & 0         & Ghoul    \\\\\n",
       "\t 0.5755599 & 0.4258684 & 0.5314014 & 0.4398989 & 0         & 0         & 0         & 0         & 1         & 0         & Goblin   \\\\\n",
       "\t 0.4678755 & 0.3543304 & 0.8116161 & 0.7912250 & 1         & 0         & 0         & 0         & 0         & 0         & Ghoul    \\\\\n",
       "\t 0.7766525 & 0.5087225 & 0.6367656 & 0.8844637 & 1         & 0         & 0         & 0         & 0         & 0         & Ghoul    \\\\\n",
       "\t 0.5661166 & 0.8758618 & 0.4185937 & 0.6364378 & 0         & 0         & 0         & 0         & 1         & 0         & Ghost    \\\\\n",
       "\t 0.4056797 & 0.2532775 & 0.4414197 & 0.2803238 & 0         & 0         & 0         & 0         & 1         & 0         & Goblin   \\\\\n",
       "\\end{tabular}\n"
      ],
      "text/markdown": [
       "\n",
       "| bone_length | rotting_flesh | hair_length | has_soul | color.black | color.blood | color.blue | color.clear | color.green | color.white | type |\n",
       "|---|---|---|---|---|---|---|---|---|---|---|\n",
       "| 0.3545122 | 0.3508390 | 0.4657609 | 0.7811417 | 0         | 0         | 0         | 1         | 0         | 0         | Ghoul     |\n",
       "| 0.5755599 | 0.4258684 | 0.5314014 | 0.4398989 | 0         | 0         | 0         | 0         | 1         | 0         | Goblin    |\n",
       "| 0.4678755 | 0.3543304 | 0.8116161 | 0.7912250 | 1         | 0         | 0         | 0         | 0         | 0         | Ghoul     |\n",
       "| 0.7766525 | 0.5087225 | 0.6367656 | 0.8844637 | 1         | 0         | 0         | 0         | 0         | 0         | Ghoul     |\n",
       "| 0.5661166 | 0.8758618 | 0.4185937 | 0.6364378 | 0         | 0         | 0         | 0         | 1         | 0         | Ghost     |\n",
       "| 0.4056797 | 0.2532775 | 0.4414197 | 0.2803238 | 0         | 0         | 0         | 0         | 1         | 0         | Goblin    |\n",
       "\n"
      ],
      "text/plain": [
       "  bone_length rotting_flesh hair_length has_soul  color.black color.blood\n",
       "1 0.3545122   0.3508390     0.4657609   0.7811417 0           0          \n",
       "2 0.5755599   0.4258684     0.5314014   0.4398989 0           0          \n",
       "3 0.4678755   0.3543304     0.8116161   0.7912250 1           0          \n",
       "4 0.7766525   0.5087225     0.6367656   0.8844637 1           0          \n",
       "5 0.5661166   0.8758618     0.4185937   0.6364378 0           0          \n",
       "6 0.4056797   0.2532775     0.4414197   0.2803238 0           0          \n",
       "  color.blue color.clear color.green color.white type  \n",
       "1 0          1           0           0           Ghoul \n",
       "2 0          0           1           0           Goblin\n",
       "3 0          0           0           0           Ghoul \n",
       "4 0          0           0           0           Ghoul \n",
       "5 0          0           1           0           Ghost \n",
       "6 0          0           1           0           Goblin"
      ]
     },
     "metadata": {},
     "output_type": "display_data"
    }
   ],
   "source": [
    "head(data)"
   ]
  },
  {
   "cell_type": "code",
   "execution_count": 33,
   "metadata": {},
   "outputs": [],
   "source": [
    "perf_eval3 <- function(cm){\n",
    "  \n",
    "  # Simple accuracy\n",
    "  ACC <- sum(diag(cm))/sum(cm)\n",
    "  \n",
    "  # ACC for each class, \n",
    "  A1 <- cm[1,1]/sum(cm[1,])\n",
    "  A2 <- cm[2,2]/sum(cm[2,])\n",
    "  A3 <- cm[3,3]/sum(cm[3,])\n",
    "  BCR <- (A1*A2*A3)^(1/3)\n",
    "  \n",
    "  return(c(ACC, BCR))\n",
    "}"
   ]
  },
  {
   "cell_type": "code",
   "execution_count": 34,
   "metadata": {},
   "outputs": [],
   "source": [
    "data$type <- as.factor(data$type) # type이 문자로 되어있기 때문에, 범주로 바꿔줍니다.\n",
    "data$type <- relevel(data$type, ref = \"Ghoul\") # 기준 범주를 선택해 줍니다. 3개 중 랜덤하게 정했습니다."
   ]
  },
  {
   "cell_type": "code",
   "execution_count": 35,
   "metadata": {},
   "outputs": [
    {
     "name": "stdout",
     "output_type": "stream",
     "text": [
      "# weights:  36 (22 variable)\n",
      "initial  value 285.639195 \n",
      "iter  10 value 145.198773\n",
      "iter  20 value 127.814593\n",
      "iter  30 value 127.757769\n",
      "final  value 127.757750 \n",
      "converged\n"
     ]
    }
   ],
   "source": [
    "set.seed(41)\n",
    "trn_idx <- sample(1:nrow(data),round(0.7*nrow(data)))\n",
    "train <- data[trn_idx,]\n",
    "test <- data[-trn_idx,]\n",
    "mult_lr <- multinom(type ~ ., data = train) # 다중 로지스틱 회귀 모델 생성"
   ]
  },
  {
   "cell_type": "code",
   "execution_count": 36,
   "metadata": {},
   "outputs": [
    {
     "data": {
      "text/plain": [
       "Call:\n",
       "multinom(formula = type ~ ., data = train)\n",
       "\n",
       "Coefficients:\n",
       "       (Intercept) bone_length rotting_flesh hair_length   has_soul color.black\n",
       "Ghost    16.326140  -16.718417     12.545524  -21.373453 -17.107998   1.3642216\n",
       "Goblin    8.545092   -5.972704     -1.354064   -5.512868  -5.948026   0.9501995\n",
       "       color.blood color.blue color.clear color.green color.white\n",
       "Ghost     7.210996   1.368683    2.905723    2.136214   1.3403014\n",
       "Goblin    1.353576   2.059175    1.241936    2.058121   0.8820834\n",
       "\n",
       "Std. Errors:\n",
       "       (Intercept) bone_length rotting_flesh hair_length has_soul color.black\n",
       "Ghost     2.465836    3.299643       3.02646    3.739446 3.049959   1.0917413\n",
       "Goblin    1.469510    1.822192       1.46369    1.637399 1.535185   0.5809589\n",
       "       color.blood color.blue color.clear color.green color.white\n",
       "Ghost     3.743416  1.5337113   0.9520143   1.1699669   0.8264225\n",
       "Goblin    1.206193  0.7595562   0.4435352   0.7355973   0.4017584\n",
       "\n",
       "Residual Deviance: 255.5155 \n",
       "AIC: 295.5155 "
      ]
     },
     "metadata": {},
     "output_type": "display_data"
    }
   ],
   "source": [
    "summary(mult_lr)"
   ]
  },
  {
   "cell_type": "code",
   "execution_count": 37,
   "metadata": {},
   "outputs": [
    {
     "data": {
      "text/html": [
       "<table>\n",
       "<thead><tr><th></th><th scope=col>Ghost</th><th scope=col>Goblin</th></tr></thead>\n",
       "<tbody>\n",
       "\t<tr><th scope=row>(Intercept)</th><td> 16.326140</td><td> 8.5450920</td></tr>\n",
       "\t<tr><th scope=row>bone_length</th><td>-16.718417</td><td>-5.9727036</td></tr>\n",
       "\t<tr><th scope=row>rotting_flesh</th><td> 12.545524</td><td>-1.3540638</td></tr>\n",
       "\t<tr><th scope=row>hair_length</th><td>-21.373453</td><td>-5.5128679</td></tr>\n",
       "\t<tr><th scope=row>has_soul</th><td>-17.107998</td><td>-5.9480256</td></tr>\n",
       "\t<tr><th scope=row>color.black</th><td>  1.364222</td><td> 0.9501995</td></tr>\n",
       "\t<tr><th scope=row>color.blood</th><td>  7.210996</td><td> 1.3535763</td></tr>\n",
       "\t<tr><th scope=row>color.blue</th><td>  1.368683</td><td> 2.0591750</td></tr>\n",
       "\t<tr><th scope=row>color.clear</th><td>  2.905723</td><td> 1.2419365</td></tr>\n",
       "\t<tr><th scope=row>color.green</th><td>  2.136214</td><td> 2.0581214</td></tr>\n",
       "\t<tr><th scope=row>color.white</th><td>  1.340301</td><td> 0.8820834</td></tr>\n",
       "</tbody>\n",
       "</table>\n"
      ],
      "text/latex": [
       "\\begin{tabular}{r|ll}\n",
       "  & Ghost & Goblin\\\\\n",
       "\\hline\n",
       "\t(Intercept) &  16.326140 &  8.5450920\\\\\n",
       "\tbone\\_length & -16.718417 & -5.9727036\\\\\n",
       "\trotting\\_flesh &  12.545524 & -1.3540638\\\\\n",
       "\thair\\_length & -21.373453 & -5.5128679\\\\\n",
       "\thas\\_soul & -17.107998 & -5.9480256\\\\\n",
       "\tcolor.black &   1.364222 &  0.9501995\\\\\n",
       "\tcolor.blood &   7.210996 &  1.3535763\\\\\n",
       "\tcolor.blue &   1.368683 &  2.0591750\\\\\n",
       "\tcolor.clear &   2.905723 &  1.2419365\\\\\n",
       "\tcolor.green &   2.136214 &  2.0581214\\\\\n",
       "\tcolor.white &   1.340301 &  0.8820834\\\\\n",
       "\\end{tabular}\n"
      ],
      "text/markdown": [
       "\n",
       "| <!--/--> | Ghost | Goblin |\n",
       "|---|---|---|\n",
       "| (Intercept) |  16.326140 |  8.5450920 |\n",
       "| bone_length | -16.718417 | -5.9727036 |\n",
       "| rotting_flesh |  12.545524 | -1.3540638 |\n",
       "| hair_length | -21.373453 | -5.5128679 |\n",
       "| has_soul | -17.107998 | -5.9480256 |\n",
       "| color.black |   1.364222 |  0.9501995 |\n",
       "| color.blood |   7.210996 |  1.3535763 |\n",
       "| color.blue |   1.368683 |  2.0591750 |\n",
       "| color.clear |   2.905723 |  1.2419365 |\n",
       "| color.green |   2.136214 |  2.0581214 |\n",
       "| color.white |   1.340301 |  0.8820834 |\n",
       "\n"
      ],
      "text/plain": [
       "              Ghost      Goblin    \n",
       "(Intercept)    16.326140  8.5450920\n",
       "bone_length   -16.718417 -5.9727036\n",
       "rotting_flesh  12.545524 -1.3540638\n",
       "hair_length   -21.373453 -5.5128679\n",
       "has_soul      -17.107998 -5.9480256\n",
       "color.black     1.364222  0.9501995\n",
       "color.blood     7.210996  1.3535763\n",
       "color.blue      1.368683  2.0591750\n",
       "color.clear     2.905723  1.2419365\n",
       "color.green     2.136214  2.0581214\n",
       "color.white     1.340301  0.8820834"
      ]
     },
     "metadata": {},
     "output_type": "display_data"
    }
   ],
   "source": [
    "t(summary(mult_lr)$coefficients)"
   ]
  },
  {
   "cell_type": "code",
   "execution_count": 40,
   "metadata": {},
   "outputs": [
    {
     "data": {
      "text/html": [
       "<table>\n",
       "<thead><tr><th></th><th scope=col>Ghost</th><th scope=col>Goblin</th><th scope=col>Ghost</th><th scope=col>Goblin</th></tr></thead>\n",
       "<tbody>\n",
       "\t<tr><th scope=row>(Intercept)</th><td> 16.326140         </td><td> 8.5450920         </td><td>0.00000000003569345</td><td>0.000000006066007  </td></tr>\n",
       "\t<tr><th scope=row>bone_length</th><td>-16.718417         </td><td>-5.9727036         </td><td>0.00000040469766094</td><td>0.001046349333658  </td></tr>\n",
       "\t<tr><th scope=row>rotting_flesh</th><td> 12.545524         </td><td>-1.3540638         </td><td>0.00003393976853472</td><td>0.354912411552504  </td></tr>\n",
       "\t<tr><th scope=row>hair_length</th><td>-21.373453         </td><td>-5.5128679         </td><td>0.00000001092708013</td><td>0.000760332803898  </td></tr>\n",
       "\t<tr><th scope=row>has_soul</th><td>-17.107998         </td><td>-5.9480256         </td><td>0.00000002031993995</td><td>0.000106858286564  </td></tr>\n",
       "\t<tr><th scope=row>color.black</th><td>  1.364222         </td><td> 0.9501995         </td><td>0.21145183507449672</td><td>0.101929434998096  </td></tr>\n",
       "\t<tr><th scope=row>color.blood</th><td>  7.210996         </td><td> 1.3535763         </td><td>0.05406511814733506</td><td>0.261782345363355  </td></tr>\n",
       "\t<tr><th scope=row>color.blue</th><td>  1.368683         </td><td> 2.0591750         </td><td>0.37217875016801139</td><td>0.006707579644048  </td></tr>\n",
       "\t<tr><th scope=row>color.clear</th><td>  2.905723         </td><td> 1.2419365         </td><td>0.00227182265283621</td><td>0.005108911951103  </td></tr>\n",
       "\t<tr><th scope=row>color.green</th><td>  2.136214         </td><td> 2.0581214         </td><td>0.06786902104895587</td><td>0.005143740032508  </td></tr>\n",
       "\t<tr><th scope=row>color.white</th><td>  1.340301         </td><td> 0.8820834         </td><td>0.10484371528169012</td><td>0.028123682316488  </td></tr>\n",
       "</tbody>\n",
       "</table>\n"
      ],
      "text/latex": [
       "\\begin{tabular}{r|llll}\n",
       "  & Ghost & Goblin & Ghost & Goblin\\\\\n",
       "\\hline\n",
       "\t(Intercept) &  16.326140          &  8.5450920          & 0.00000000003569345 & 0.000000006066007  \\\\\n",
       "\tbone\\_length & -16.718417          & -5.9727036          & 0.00000040469766094 & 0.001046349333658  \\\\\n",
       "\trotting\\_flesh &  12.545524          & -1.3540638          & 0.00003393976853472 & 0.354912411552504  \\\\\n",
       "\thair\\_length & -21.373453          & -5.5128679          & 0.00000001092708013 & 0.000760332803898  \\\\\n",
       "\thas\\_soul & -17.107998          & -5.9480256          & 0.00000002031993995 & 0.000106858286564  \\\\\n",
       "\tcolor.black &   1.364222          &  0.9501995          & 0.21145183507449672 & 0.101929434998096  \\\\\n",
       "\tcolor.blood &   7.210996          &  1.3535763          & 0.05406511814733506 & 0.261782345363355  \\\\\n",
       "\tcolor.blue &   1.368683          &  2.0591750          & 0.37217875016801139 & 0.006707579644048  \\\\\n",
       "\tcolor.clear &   2.905723          &  1.2419365          & 0.00227182265283621 & 0.005108911951103  \\\\\n",
       "\tcolor.green &   2.136214          &  2.0581214          & 0.06786902104895587 & 0.005143740032508  \\\\\n",
       "\tcolor.white &   1.340301          &  0.8820834          & 0.10484371528169012 & 0.028123682316488  \\\\\n",
       "\\end{tabular}\n"
      ],
      "text/markdown": [
       "\n",
       "| <!--/--> | Ghost | Goblin | Ghost | Goblin |\n",
       "|---|---|---|---|---|\n",
       "| (Intercept) |  16.326140          |  8.5450920          | 0.00000000003569345 | 0.000000006066007   |\n",
       "| bone_length | -16.718417          | -5.9727036          | 0.00000040469766094 | 0.001046349333658   |\n",
       "| rotting_flesh |  12.545524          | -1.3540638          | 0.00003393976853472 | 0.354912411552504   |\n",
       "| hair_length | -21.373453          | -5.5128679          | 0.00000001092708013 | 0.000760332803898   |\n",
       "| has_soul | -17.107998          | -5.9480256          | 0.00000002031993995 | 0.000106858286564   |\n",
       "| color.black |   1.364222          |  0.9501995          | 0.21145183507449672 | 0.101929434998096   |\n",
       "| color.blood |   7.210996          |  1.3535763          | 0.05406511814733506 | 0.261782345363355   |\n",
       "| color.blue |   1.368683          |  2.0591750          | 0.37217875016801139 | 0.006707579644048   |\n",
       "| color.clear |   2.905723          |  1.2419365          | 0.00227182265283621 | 0.005108911951103   |\n",
       "| color.green |   2.136214          |  2.0581214          | 0.06786902104895587 | 0.005143740032508   |\n",
       "| color.white |   1.340301          |  0.8820834          | 0.10484371528169012 | 0.028123682316488   |\n",
       "\n"
      ],
      "text/plain": [
       "              Ghost      Goblin     Ghost               Goblin           \n",
       "(Intercept)    16.326140  8.5450920 0.00000000003569345 0.000000006066007\n",
       "bone_length   -16.718417 -5.9727036 0.00000040469766094 0.001046349333658\n",
       "rotting_flesh  12.545524 -1.3540638 0.00003393976853472 0.354912411552504\n",
       "hair_length   -21.373453 -5.5128679 0.00000001092708013 0.000760332803898\n",
       "has_soul      -17.107998 -5.9480256 0.00000002031993995 0.000106858286564\n",
       "color.black     1.364222  0.9501995 0.21145183507449672 0.101929434998096\n",
       "color.blood     7.210996  1.3535763 0.05406511814733506 0.261782345363355\n",
       "color.blue      1.368683  2.0591750 0.37217875016801139 0.006707579644048\n",
       "color.clear     2.905723  1.2419365 0.00227182265283621 0.005108911951103\n",
       "color.green     2.136214  2.0581214 0.06786902104895587 0.005143740032508\n",
       "color.white     1.340301  0.8820834 0.10484371528169012 0.028123682316488"
      ]
     },
     "metadata": {},
     "output_type": "display_data"
    }
   ],
   "source": [
    "z_stats <- summary(mult_lr)$coefficients/summary(mult_lr)$standard.errors \n",
    "#t(z_stats)\n",
    "\n",
    "p_value <- (1-pnorm(abs(z_stats), 0, 1))*2\n",
    "options(scipen=10)\n",
    "#t(p_value) \n",
    "\n",
    "cbind(t(summary(mult_lr)$coefficients), t(p_value)) #회귀계수와 P-value를 함께 보여줍니다."
   ]
  },
  {
   "cell_type": "code",
   "execution_count": 39,
   "metadata": {},
   "outputs": [
    {
     "data": {
      "text/html": [
       "<table>\n",
       "<thead><tr><th></th><th scope=col>Ghoul</th><th scope=col>Ghost</th><th scope=col>Goblin</th></tr></thead>\n",
       "<tbody>\n",
       "\t<tr><th scope=row>2</th><td>0.2599874929    </td><td>0.00236223451185</td><td>0.73765027      </td></tr>\n",
       "\t<tr><th scope=row>3</th><td>0.9507121424    </td><td>0.00000006051509</td><td>0.04928780      </td></tr>\n",
       "\t<tr><th scope=row>12</th><td>0.9787134548    </td><td>0.00000113491825</td><td>0.02128541      </td></tr>\n",
       "\t<tr><th scope=row>15</th><td>0.7397102883    </td><td>0.00001441556262</td><td>0.26027530      </td></tr>\n",
       "\t<tr><th scope=row>17</th><td>0.0396790450    </td><td>0.06253030435685</td><td>0.89779065      </td></tr>\n",
       "\t<tr><th scope=row>23</th><td>0.2998810624    </td><td>0.00706044166879</td><td>0.69305850      </td></tr>\n",
       "\t<tr><th scope=row>25</th><td>0.8789559820    </td><td>0.00000114655247</td><td>0.12104287      </td></tr>\n",
       "\t<tr><th scope=row>32</th><td>0.0005254666    </td><td>0.94273845350723</td><td>0.05673608      </td></tr>\n",
       "\t<tr><th scope=row>33</th><td>0.8402109510    </td><td>0.00086119399235</td><td>0.15892785      </td></tr>\n",
       "\t<tr><th scope=row>34</th><td>0.0620245008    </td><td>0.03185383353741</td><td>0.90612167      </td></tr>\n",
       "</tbody>\n",
       "</table>\n"
      ],
      "text/latex": [
       "\\begin{tabular}{r|lll}\n",
       "  & Ghoul & Ghost & Goblin\\\\\n",
       "\\hline\n",
       "\t2 & 0.2599874929     & 0.00236223451185 & 0.73765027      \\\\\n",
       "\t3 & 0.9507121424     & 0.00000006051509 & 0.04928780      \\\\\n",
       "\t12 & 0.9787134548     & 0.00000113491825 & 0.02128541      \\\\\n",
       "\t15 & 0.7397102883     & 0.00001441556262 & 0.26027530      \\\\\n",
       "\t17 & 0.0396790450     & 0.06253030435685 & 0.89779065      \\\\\n",
       "\t23 & 0.2998810624     & 0.00706044166879 & 0.69305850      \\\\\n",
       "\t25 & 0.8789559820     & 0.00000114655247 & 0.12104287      \\\\\n",
       "\t32 & 0.0005254666     & 0.94273845350723 & 0.05673608      \\\\\n",
       "\t33 & 0.8402109510     & 0.00086119399235 & 0.15892785      \\\\\n",
       "\t34 & 0.0620245008     & 0.03185383353741 & 0.90612167      \\\\\n",
       "\\end{tabular}\n"
      ],
      "text/markdown": [
       "\n",
       "| <!--/--> | Ghoul | Ghost | Goblin |\n",
       "|---|---|---|---|\n",
       "| 2 | 0.2599874929     | 0.00236223451185 | 0.73765027       |\n",
       "| 3 | 0.9507121424     | 0.00000006051509 | 0.04928780       |\n",
       "| 12 | 0.9787134548     | 0.00000113491825 | 0.02128541       |\n",
       "| 15 | 0.7397102883     | 0.00001441556262 | 0.26027530       |\n",
       "| 17 | 0.0396790450     | 0.06253030435685 | 0.89779065       |\n",
       "| 23 | 0.2998810624     | 0.00706044166879 | 0.69305850       |\n",
       "| 25 | 0.8789559820     | 0.00000114655247 | 0.12104287       |\n",
       "| 32 | 0.0005254666     | 0.94273845350723 | 0.05673608       |\n",
       "| 33 | 0.8402109510     | 0.00086119399235 | 0.15892785       |\n",
       "| 34 | 0.0620245008     | 0.03185383353741 | 0.90612167       |\n",
       "\n"
      ],
      "text/plain": [
       "   Ghoul        Ghost            Goblin    \n",
       "2  0.2599874929 0.00236223451185 0.73765027\n",
       "3  0.9507121424 0.00000006051509 0.04928780\n",
       "12 0.9787134548 0.00000113491825 0.02128541\n",
       "15 0.7397102883 0.00001441556262 0.26027530\n",
       "17 0.0396790450 0.06253030435685 0.89779065\n",
       "23 0.2998810624 0.00706044166879 0.69305850\n",
       "25 0.8789559820 0.00000114655247 0.12104287\n",
       "32 0.0005254666 0.94273845350723 0.05673608\n",
       "33 0.8402109510 0.00086119399235 0.15892785\n",
       "34 0.0620245008 0.03185383353741 0.90612167"
      ]
     },
     "metadata": {},
     "output_type": "display_data"
    },
    {
     "data": {
      "text/plain": [
       "        mult_lr_prey\n",
       "         Ghoul Ghost Goblin\n",
       "  Ghoul     27     0      6\n",
       "  Ghost      0    25      6\n",
       "  Goblin    13     2     32"
      ]
     },
     "metadata": {},
     "output_type": "display_data"
    },
    {
     "data": {
      "text/html": [
       "<ol class=list-inline>\n",
       "\t<li>0.756756756756757</li>\n",
       "\t<li>0.765878867632442</li>\n",
       "</ol>\n"
      ],
      "text/latex": [
       "\\begin{enumerate*}\n",
       "\\item 0.756756756756757\n",
       "\\item 0.765878867632442\n",
       "\\end{enumerate*}\n"
      ],
      "text/markdown": [
       "1. 0.756756756756757\n",
       "2. 0.765878867632442\n",
       "\n",
       "\n"
      ],
      "text/plain": [
       "[1] 0.7567568 0.7658789"
      ]
     },
     "metadata": {},
     "output_type": "display_data"
    }
   ],
   "source": [
    "mult_lr_haty <- predict(mult_lr, type=\"probs\", newdata = test) # 예측 확률값 담기\n",
    "mult_lr_haty[1:10,]\n",
    "\n",
    "# Predict the class label\n",
    "mult_lr_prey <- predict(mult_lr, newdata = test) # 예측 결과 담기\n",
    "\n",
    "cfmatrix <- table(test$type, mult_lr_prey) # 예측 결과를 이용하여 평가지표 계산\n",
    "cfmatrix\n",
    "perf_eval3(cfmatrix)"
   ]
  },
  {
   "cell_type": "code",
   "execution_count": null,
   "metadata": {},
   "outputs": [],
   "source": []
  }
 ],
 "metadata": {
  "kernelspec": {
   "display_name": "R",
   "language": "R",
   "name": "ir"
  },
  "language_info": {
   "codemirror_mode": "r",
   "file_extension": ".r",
   "mimetype": "text/x-r-source",
   "name": "R",
   "pygments_lexer": "r",
   "version": "3.6.1"
  }
 },
 "nbformat": 4,
 "nbformat_minor": 2
}
