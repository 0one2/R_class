{
 "cells": [
  {
   "cell_type": "markdown",
   "metadata": {},
   "source": [
    "# 전체 데이터셋을 임의로 200 명이 포함된 Training dataset 과 103 명 Validation dataset 으로 구분한 뒤 다음 각 물음에 답하시오. 분류 성능을 평가/비교할 때는 TPR, TNR, Precision, Accuracy, BCR, F1- Measure 를 모두 고려하여 의견을 서술하시오. "
   ]
  },
  {
   "cell_type": "code",
   "execution_count": 96,
   "metadata": {},
   "outputs": [],
   "source": [
    "# Performance Evaluation Function\n",
    "perf_eval <- function(cm){\n",
    "  \n",
    "  # True positive rate: TPR (Recall)\n",
    "  TPR <- cm[2,2]/sum(cm[2,])\n",
    "  # Precision\n",
    "  PRE <- cm[2,2]/sum(cm[,2])\n",
    "  # True negative rate: TNR\n",
    "  TNR <- cm[1,1]/sum(cm[1,])\n",
    "  # Simple Accuracy\n",
    "  ACC <- (cm[1,1]+cm[2,2])/sum(cm)\n",
    "  # Balanced Correction Rate\n",
    "  BCR <- sqrt(TPR*TNR)\n",
    "  # F1-Measure\n",
    "  F1 <- 2*TPR*PRE/(TPR+PRE)\n",
    "  \n",
    "  return(c(TPR, PRE, TNR, ACC, BCR, F1))\n",
    "}\n",
    "\n",
    "# Performance table\n",
    "Perf_Table <- matrix(0, nrow = 3, ncol = 6)\n",
    "rownames(Perf_Table) <- c(\"CART(pruned(x))\",\"CART(pruned(post))\",\"CART(pruned(pre))\")\n",
    "colnames(Perf_Table) <- c(\"TPR\", \"Precision\", \"TNR\", \"Accuracy\", \"BCR\", \"F1-Measure\")"
   ]
  },
  {
   "cell_type": "code",
   "execution_count": 97,
   "metadata": {},
   "outputs": [],
   "source": [
    "# Load the data & Preprocessing\n",
    "df <- read.csv(\"heart.csv\")\n",
    "input_idx <- c(1:13)\n",
    "target_idx <- 14\n",
    "\n",
    "df_input <- df[,input_idx]\n",
    "df_target <- as.factor(df[,target_idx])\n",
    "\n",
    "df_data <- data.frame(df_input, df_target)"
   ]
  },
  {
   "cell_type": "code",
   "execution_count": 98,
   "metadata": {},
   "outputs": [
    {
     "data": {
      "text/html": [
       "303"
      ],
      "text/latex": [
       "303"
      ],
      "text/markdown": [
       "303"
      ],
      "text/plain": [
       "[1] 303"
      ]
     },
     "metadata": {},
     "output_type": "display_data"
    }
   ],
   "source": [
    "nR <- nrow(df)\n",
    "nR"
   ]
  },
  {
   "cell_type": "code",
   "execution_count": 99,
   "metadata": {},
   "outputs": [],
   "source": [
    "set.seed(42) #랜덤 시드 지정\n",
    "trn_idx <- sample(1:nR, 200) #train data 200개 sampling\n",
    "train <- data.frame(df_input[trn_idx,], HeartYN = df_target[trn_idx])\n",
    "test <- data.frame(df_input[-trn_idx,], HeartYN = df_target[-trn_idx])"
   ]
  },
  {
   "cell_type": "markdown",
   "metadata": {},
   "source": [
    "# [Q1] 실습 시간에 사용한 \"tree”package를 사용하여 ClassificationTree를 학습한 결과물을 Plotting하고 이에 대한 해석을 수행하시오. 또한 해당 Tree 를 pruning 을 수행하지 않은 상태에서 Validation dataset 에 대한 분류 성능을 평가하시오. "
   ]
  },
  {
   "cell_type": "code",
   "execution_count": 100,
   "metadata": {},
   "outputs": [
    {
     "name": "stderr",
     "output_type": "stream",
     "text": [
      "Warning message:\n",
      "\"package 'tree' is in use and will not be installed\"\n"
     ]
    }
   ],
   "source": [
    "install.packages(\"tree\")\n",
    "library(tree)"
   ]
  },
  {
   "cell_type": "code",
   "execution_count": 101,
   "metadata": {},
   "outputs": [
    {
     "data": {
      "text/plain": [
       "\n",
       "Classification tree:\n",
       "tree(formula = HeartYN ~ ., data = train)\n",
       "Variables actually used in tree construction:\n",
       " [1] \"cp\"      \"ca\"      \"thal\"    \"exang\"   \"thalach\" \"oldpeak\" \"sex\"    \n",
       " [8] \"age\"     \"slope\"   \"chol\"   \n",
       "Number of terminal nodes:  17 \n",
       "Residual mean deviance:  0.4361 = 79.81 / 183 \n",
       "Misclassification error rate: 0.1 = 20 / 200 "
      ]
     },
     "metadata": {},
     "output_type": "display_data"
    }
   ],
   "source": [
    "# Training the tree\n",
    "CART_model <- tree(HeartYN ~ ., train)\n",
    "summary(CART_model)"
   ]
  },
  {
   "cell_type": "code",
   "execution_count": 102,
   "metadata": {},
   "outputs": [
    {
     "data": {
      "image/png": "[encoded data removed]",
      "text/plain": [
       "plot without title"
      ]
     },
     "metadata": {
      "image/png": {
       "height": 420,
       "width": 420
      },
      "text/plain": {
       "height": 420,
       "width": 420
      }
     },
     "output_type": "display_data"
    }
   ],
   "source": [
    "# Plot the tree\n",
    "plot(CART_model) \n",
    "text(CART_model, pretty = 1)"
   ]
  },
  {
   "cell_type": "code",
   "execution_count": 103,
   "metadata": {},
   "outputs": [
    {
     "data": {
      "text/plain": [
       "   CART_prey\n",
       "     0  1\n",
       "  0 37 12\n",
       "  1  9 45"
      ]
     },
     "metadata": {},
     "output_type": "display_data"
    }
   ],
   "source": [
    "# Prediction\n",
    "CART_prey <- predict(CART_model, test, type = \"class\")\n",
    "CART_cfm <- table(test$HeartYN, CART_prey)\n",
    "CART_cfm"
   ]
  },
  {
   "cell_type": "code",
   "execution_count": 104,
   "metadata": {},
   "outputs": [
    {
     "data": {
      "text/html": [
       "<table>\n",
       "<caption>A matrix: 3 × 6 of type dbl</caption>\n",
       "<thead>\n",
       "\t<tr><th></th><th scope=col>TPR</th><th scope=col>Precision</th><th scope=col>TNR</th><th scope=col>Accuracy</th><th scope=col>BCR</th><th scope=col>F1-Measure</th></tr>\n",
       "</thead>\n",
       "<tbody>\n",
       "\t<tr><th scope=row>CART(pruned(x))</th><td>0.8333333</td><td>0.7894737</td><td>0.755102</td><td>0.7961165</td><td>0.7932539</td><td>0.8108108</td></tr>\n",
       "\t<tr><th scope=row>CART(pruned(post))</th><td>0.0000000</td><td>0.0000000</td><td>0.000000</td><td>0.0000000</td><td>0.0000000</td><td>0.0000000</td></tr>\n",
       "\t<tr><th scope=row>CART(pruned(pre))</th><td>0.0000000</td><td>0.0000000</td><td>0.000000</td><td>0.0000000</td><td>0.0000000</td><td>0.0000000</td></tr>\n",
       "</tbody>\n",
       "</table>\n"
      ],
      "text/latex": [
       "A matrix: 3 × 6 of type dbl\n",
       "\\begin{tabular}{r|llllll}\n",
       "  & TPR & Precision & TNR & Accuracy & BCR & F1-Measure\\\\\n",
       "\\hline\n",
       "\tCART(pruned(x)) & 0.8333333 & 0.7894737 & 0.755102 & 0.7961165 & 0.7932539 & 0.8108108\\\\\n",
       "\tCART(pruned(post)) & 0.0000000 & 0.0000000 & 0.000000 & 0.0000000 & 0.0000000 & 0.0000000\\\\\n",
       "\tCART(pruned(pre)) & 0.0000000 & 0.0000000 & 0.000000 & 0.0000000 & 0.0000000 & 0.0000000\\\\\n",
       "\\end{tabular}\n"
      ],
      "text/markdown": [
       "\n",
       "A matrix: 3 × 6 of type dbl\n",
       "\n",
       "| <!--/--> | TPR | Precision | TNR | Accuracy | BCR | F1-Measure |\n",
       "|---|---|---|---|---|---|---|\n",
       "| CART(pruned(x)) | 0.8333333 | 0.7894737 | 0.755102 | 0.7961165 | 0.7932539 | 0.8108108 |\n",
       "| CART(pruned(post)) | 0.0000000 | 0.0000000 | 0.000000 | 0.0000000 | 0.0000000 | 0.0000000 |\n",
       "| CART(pruned(pre)) | 0.0000000 | 0.0000000 | 0.000000 | 0.0000000 | 0.0000000 | 0.0000000 |\n",
       "\n"
      ],
      "text/plain": [
       "                   TPR       Precision TNR      Accuracy  BCR       F1-Measure\n",
       "CART(pruned(x))    0.8333333 0.7894737 0.755102 0.7961165 0.7932539 0.8108108 \n",
       "CART(pruned(post)) 0.0000000 0.0000000 0.000000 0.0000000 0.0000000 0.0000000 \n",
       "CART(pruned(pre))  0.0000000 0.0000000 0.000000 0.0000000 0.0000000 0.0000000 "
      ]
     },
     "metadata": {},
     "output_type": "display_data"
    }
   ],
   "source": [
    "# Evaluation\n",
    "Perf_Table[1,] <- perf_eval(CART_cfm)\n",
    "Perf_Table"
   ]
  },
  {
   "cell_type": "markdown",
   "metadata": {},
   "source": [
    "# [Q2] 앞에서 생성한 Tree에 대해서 적절한 Pruning을 수행한 뒤 결과물을 Plotting하고 이에 대한 해석을 수행하시오. Pruning 전과 후에 Split에 사용된 변수는 어떤 변화가 있는가? Validation dataset에 대한 분류 성능을 평가하고 [Q1]의 결과와 비교해보시오. "
   ]
  },
  {
   "cell_type": "code",
   "execution_count": 105,
   "metadata": {},
   "outputs": [],
   "source": [
    "# Find the best tree\n",
    "set.seed(42)\n",
    "CART_model_cv <- cv.tree(CART_model, FUN = prune.misclass)"
   ]
  },
  {
   "cell_type": "code",
   "execution_count": 106,
   "metadata": {},
   "outputs": [
    {
     "data": {
      "text/plain": [
       "$size\n",
       "[1] 17 13 11 10  8  7  4  2  1\n",
       "\n",
       "$dev\n",
       "[1] 50 51 45 41 40 41 40 47 89\n",
       "\n",
       "$k\n",
       "[1]      -Inf  0.000000  0.500000  1.000000  1.500000  2.000000  2.333333\n",
       "[8]  6.000000 43.000000\n",
       "\n",
       "$method\n",
       "[1] \"misclass\"\n",
       "\n",
       "attr(,\"class\")\n",
       "[1] \"prune\"         \"tree.sequence\""
      ]
     },
     "metadata": {},
     "output_type": "display_data"
    },
    {
     "data": {
      "image/png": "[encoded data removed]",
      "text/plain": [
       "plot without title"
      ]
     },
     "metadata": {
      "image/png": {
       "height": 420,
       "width": 420
      },
      "text/plain": {
       "height": 420,
       "width": 420
      }
     },
     "output_type": "display_data"
    }
   ],
   "source": [
    "# Plot the pruning result\n",
    "plot(CART_model_cv$size, CART_model_cv$dev, type = \"b\")\n",
    "CART_model_cv #best model 찾기"
   ]
  },
  {
   "cell_type": "code",
   "execution_count": 107,
   "metadata": {},
   "outputs": [
    {
     "data": {
      "image/png": "[encoded data removed]",
      "text/plain": [
       "plot without title"
      ]
     },
     "metadata": {
      "image/png": {
       "height": 420,
       "width": 420
      },
      "text/plain": {
       "height": 420,
       "width": 420
      }
     },
     "output_type": "display_data"
    }
   ],
   "source": [
    "# Select the final model\n",
    "CART_model_pruned <- prune.misclass(CART_model, best = 4)\n",
    "plot(CART_model_pruned) \n",
    "text(CART_model_pruned, pretty = 1)"
   ]
  },
  {
   "cell_type": "code",
   "execution_count": 108,
   "metadata": {},
   "outputs": [
    {
     "data": {
      "text/plain": [
       "   CART_prey\n",
       "     0  1\n",
       "  0 33 16\n",
       "  1  3 51"
      ]
     },
     "metadata": {},
     "output_type": "display_data"
    }
   ],
   "source": [
    "# Prediction\n",
    "CART_prey <- predict(CART_model_pruned, test, type = \"class\")\n",
    "CART_cfm <- table(test$HeartYN, CART_prey)\n",
    "CART_cfm"
   ]
  },
  {
   "cell_type": "code",
   "execution_count": 109,
   "metadata": {},
   "outputs": [
    {
     "data": {
      "text/html": [
       "<table>\n",
       "<caption>A matrix: 3 × 6 of type dbl</caption>\n",
       "<thead>\n",
       "\t<tr><th></th><th scope=col>TPR</th><th scope=col>Precision</th><th scope=col>TNR</th><th scope=col>Accuracy</th><th scope=col>BCR</th><th scope=col>F1-Measure</th></tr>\n",
       "</thead>\n",
       "<tbody>\n",
       "\t<tr><th scope=row>CART(pruned(x))</th><td>0.8333333</td><td>0.7894737</td><td>0.7551020</td><td>0.7961165</td><td>0.7932539</td><td>0.8108108</td></tr>\n",
       "\t<tr><th scope=row>CART(pruned(post))</th><td>0.9444444</td><td>0.7611940</td><td>0.6734694</td><td>0.8155340</td><td>0.7975302</td><td>0.8429752</td></tr>\n",
       "\t<tr><th scope=row>CART(pruned(pre))</th><td>0.0000000</td><td>0.0000000</td><td>0.0000000</td><td>0.0000000</td><td>0.0000000</td><td>0.0000000</td></tr>\n",
       "</tbody>\n",
       "</table>\n"
      ],
      "text/latex": [
       "A matrix: 3 × 6 of type dbl\n",
       "\\begin{tabular}{r|llllll}\n",
       "  & TPR & Precision & TNR & Accuracy & BCR & F1-Measure\\\\\n",
       "\\hline\n",
       "\tCART(pruned(x)) & 0.8333333 & 0.7894737 & 0.7551020 & 0.7961165 & 0.7932539 & 0.8108108\\\\\n",
       "\tCART(pruned(post)) & 0.9444444 & 0.7611940 & 0.6734694 & 0.8155340 & 0.7975302 & 0.8429752\\\\\n",
       "\tCART(pruned(pre)) & 0.0000000 & 0.0000000 & 0.0000000 & 0.0000000 & 0.0000000 & 0.0000000\\\\\n",
       "\\end{tabular}\n"
      ],
      "text/markdown": [
       "\n",
       "A matrix: 3 × 6 of type dbl\n",
       "\n",
       "| <!--/--> | TPR | Precision | TNR | Accuracy | BCR | F1-Measure |\n",
       "|---|---|---|---|---|---|---|\n",
       "| CART(pruned(x)) | 0.8333333 | 0.7894737 | 0.7551020 | 0.7961165 | 0.7932539 | 0.8108108 |\n",
       "| CART(pruned(post)) | 0.9444444 | 0.7611940 | 0.6734694 | 0.8155340 | 0.7975302 | 0.8429752 |\n",
       "| CART(pruned(pre)) | 0.0000000 | 0.0000000 | 0.0000000 | 0.0000000 | 0.0000000 | 0.0000000 |\n",
       "\n"
      ],
      "text/plain": [
       "                   TPR       Precision TNR       Accuracy  BCR       F1-Measure\n",
       "CART(pruned(x))    0.8333333 0.7894737 0.7551020 0.7961165 0.7932539 0.8108108 \n",
       "CART(pruned(post)) 0.9444444 0.7611940 0.6734694 0.8155340 0.7975302 0.8429752 \n",
       "CART(pruned(pre))  0.0000000 0.0000000 0.0000000 0.0000000 0.0000000 0.0000000 "
      ]
     },
     "metadata": {},
     "output_type": "display_data"
    }
   ],
   "source": [
    "Perf_Table[2,] <- perf_eval(CART_cfm)\n",
    "Perf_Table"
   ]
  },
  {
   "cell_type": "code",
   "execution_count": 110,
   "metadata": {
    "scrolled": true
   },
   "outputs": [
    {
     "name": "stderr",
     "output_type": "stream",
     "text": [
      "Warning message:\n",
      "\"package 'party' is in use and will not be installed\"\n"
     ]
    }
   ],
   "source": [
    "# CART with Post-Pruning -------------------------------\n",
    "# For CART\n",
    "install.packages(\"party\")\n",
    "library(party)"
   ]
  },
  {
   "cell_type": "code",
   "execution_count": 111,
   "metadata": {},
   "outputs": [
    {
     "name": "stderr",
     "output_type": "stream",
     "text": [
      "Warning message:\n",
      "\"package 'ROCR' is in use and will not be installed\"\n"
     ]
    }
   ],
   "source": [
    "# For AUROC\n",
    "install.packages(\"ROCR\")\n",
    "library(ROCR)"
   ]
  },
  {
   "cell_type": "code",
   "execution_count": 112,
   "metadata": {},
   "outputs": [],
   "source": [
    "# Divide the dataset into training/validation/test datasets\n",
    "CART_trn <- train[1:120,]\n",
    "CART_val <- train[121:200,]"
   ]
  },
  {
   "cell_type": "code",
   "execution_count": 113,
   "metadata": {},
   "outputs": [],
   "source": [
    "min_criterion = c(0.5, 0.7, 0.9)  # 통계적 의미로 했을때 허용을 해주는 의미\n",
    "min_split = c(3, 5, 10, 15) # 대상으로하고 있는 영역에 관측치의 개수가 min_split이상이어야 사용\n",
    "max_depth = c(1, 3, 5) # 전체 트리의 max depth\n",
    "CART_pre_search_result = matrix(0,length(min_criterion)*length(min_split)*length(max_depth),11)\n",
    "colnames(CART_pre_search_result) <- c(\"min_criterion\", \"min_split\", \"max_depth\", \n",
    "                           \"TPR\", \"Precision\", \"TNR\", \"ACC\", \"BCR\", \"F1\", \"AUROC\", \"N_leaves\")"
   ]
  },
  {
   "cell_type": "code",
   "execution_count": 114,
   "metadata": {},
   "outputs": [
    {
     "name": "stdout",
     "output_type": "stream",
     "text": [
      "CART Min criterion: 0.5 , Min split: 3 , Max depth: 1 \n",
      "CART Min criterion: 0.5 , Min split: 3 , Max depth: 3 \n",
      "CART Min criterion: 0.5 , Min split: 3 , Max depth: 5 \n",
      "CART Min criterion: 0.5 , Min split: 5 , Max depth: 1 \n",
      "CART Min criterion: 0.5 , Min split: 5 , Max depth: 3 \n",
      "CART Min criterion: 0.5 , Min split: 5 , Max depth: 5 \n",
      "CART Min criterion: 0.5 , Min split: 10 , Max depth: 1 \n",
      "CART Min criterion: 0.5 , Min split: 10 , Max depth: 3 \n",
      "CART Min criterion: 0.5 , Min split: 10 , Max depth: 5 \n",
      "CART Min criterion: 0.5 , Min split: 15 , Max depth: 1 \n",
      "CART Min criterion: 0.5 , Min split: 15 , Max depth: 3 \n",
      "CART Min criterion: 0.5 , Min split: 15 , Max depth: 5 \n",
      "CART Min criterion: 0.7 , Min split: 3 , Max depth: 1 \n",
      "CART Min criterion: 0.7 , Min split: 3 , Max depth: 3 \n",
      "CART Min criterion: 0.7 , Min split: 3 , Max depth: 5 \n",
      "CART Min criterion: 0.7 , Min split: 5 , Max depth: 1 \n",
      "CART Min criterion: 0.7 , Min split: 5 , Max depth: 3 \n",
      "CART Min criterion: 0.7 , Min split: 5 , Max depth: 5 \n",
      "CART Min criterion: 0.7 , Min split: 10 , Max depth: 1 \n",
      "CART Min criterion: 0.7 , Min split: 10 , Max depth: 3 \n",
      "CART Min criterion: 0.7 , Min split: 10 , Max depth: 5 \n",
      "CART Min criterion: 0.7 , Min split: 15 , Max depth: 1 \n",
      "CART Min criterion: 0.7 , Min split: 15 , Max depth: 3 \n",
      "CART Min criterion: 0.7 , Min split: 15 , Max depth: 5 \n",
      "CART Min criterion: 0.9 , Min split: 3 , Max depth: 1 \n",
      "CART Min criterion: 0.9 , Min split: 3 , Max depth: 3 \n",
      "CART Min criterion: 0.9 , Min split: 3 , Max depth: 5 \n",
      "CART Min criterion: 0.9 , Min split: 5 , Max depth: 1 \n",
      "CART Min criterion: 0.9 , Min split: 5 , Max depth: 3 \n",
      "CART Min criterion: 0.9 , Min split: 5 , Max depth: 5 \n",
      "CART Min criterion: 0.9 , Min split: 10 , Max depth: 1 \n",
      "CART Min criterion: 0.9 , Min split: 10 , Max depth: 3 \n",
      "CART Min criterion: 0.9 , Min split: 10 , Max depth: 5 \n",
      "CART Min criterion: 0.9 , Min split: 15 , Max depth: 1 \n",
      "CART Min criterion: 0.9 , Min split: 15 , Max depth: 3 \n",
      "CART Min criterion: 0.9 , Min split: 15 , Max depth: 5 \n"
     ]
    }
   ],
   "source": [
    "iter_cnt = 1\n",
    "\n",
    "for (i in 1:length(min_criterion)){\n",
    "  for ( j in 1:length(min_split)){\n",
    "    for ( k in 1:length(max_depth)){\n",
    "      \n",
    "      cat(\"CART Min criterion:\", min_criterion[i], \", Min split:\", min_split[j], \", Max depth:\", max_depth[k], \"\\n\")\n",
    "      tmp_control = ctree_control(mincriterion = min_criterion[i], minsplit = min_split[j], maxdepth = max_depth[k])\n",
    "      tmp_tree <- ctree(HeartYN ~ ., data = CART_trn, controls = tmp_control)\n",
    "      tmp_tree_val_prediction <- predict(tmp_tree, newdata = CART_val)\n",
    "      tmp_tree_val_response <- treeresponse(tmp_tree, newdata = CART_val)\n",
    "      tmp_tree_val_prob <- 1-unlist(tmp_tree_val_response, use.names=F)[seq(1,nrow(CART_val)*2,2)]\n",
    "      tmp_tree_val_rocr <- prediction(tmp_tree_val_prob, CART_val$HeartYN)\n",
    "      # Confusion matrix for the validation dataset\n",
    "      tmp_tree_val_cm <- table(CART_val$HeartYN, tmp_tree_val_prediction)\n",
    "      \n",
    "      # parameters\n",
    "      CART_pre_search_result[iter_cnt,1] = min_criterion[i]\n",
    "      CART_pre_search_result[iter_cnt,2] = min_split[j]\n",
    "      CART_pre_search_result[iter_cnt,3] = max_depth[k]\n",
    "      # Performances from the confusion matrix\n",
    "      CART_pre_search_result[iter_cnt,4:9] = perf_eval(tmp_tree_val_cm)\n",
    "      # AUROC\n",
    "      CART_pre_search_result[iter_cnt,10] = unlist(performance(tmp_tree_val_rocr, \"auc\")@y.values)\n",
    "      # Number of leaf nodes\n",
    "      CART_pre_search_result[iter_cnt,11] = length(nodes(tmp_tree, unique(where(tmp_tree))))\n",
    "      iter_cnt = iter_cnt + 1\n",
    "    }\n",
    "  }\n",
    "}"
   ]
  },
  {
   "cell_type": "code",
   "execution_count": 115,
   "metadata": {
    "scrolled": true
   },
   "outputs": [
    {
     "data": {
      "text/html": [
       "<table>\n",
       "<caption>A matrix: 36 × 11 of type dbl</caption>\n",
       "<thead>\n",
       "\t<tr><th scope=col>min_criterion</th><th scope=col>min_split</th><th scope=col>max_depth</th><th scope=col>TPR</th><th scope=col>Precision</th><th scope=col>TNR</th><th scope=col>ACC</th><th scope=col>BCR</th><th scope=col>F1</th><th scope=col>AUROC</th><th scope=col>N_leaves</th></tr>\n",
       "</thead>\n",
       "<tbody>\n",
       "\t<tr><td>0.5</td><td> 3</td><td>5</td><td>0.8478261</td><td>0.7800000</td><td>0.6764706</td><td>0.7750</td><td>0.7573172</td><td>0.8125000</td><td>0.8388747</td><td>7</td></tr>\n",
       "\t<tr><td>0.5</td><td> 5</td><td>5</td><td>0.8478261</td><td>0.7800000</td><td>0.6764706</td><td>0.7750</td><td>0.7573172</td><td>0.8125000</td><td>0.8388747</td><td>7</td></tr>\n",
       "\t<tr><td>0.5</td><td>10</td><td>5</td><td>0.8478261</td><td>0.7800000</td><td>0.6764706</td><td>0.7750</td><td>0.7573172</td><td>0.8125000</td><td>0.8388747</td><td>7</td></tr>\n",
       "\t<tr><td>0.5</td><td>15</td><td>5</td><td>0.8478261</td><td>0.7800000</td><td>0.6764706</td><td>0.7750</td><td>0.7573172</td><td>0.8125000</td><td>0.8388747</td><td>7</td></tr>\n",
       "\t<tr><td>0.5</td><td> 3</td><td>3</td><td>0.8478261</td><td>0.7800000</td><td>0.6764706</td><td>0.7750</td><td>0.7573172</td><td>0.8125000</td><td>0.8248082</td><td>6</td></tr>\n",
       "\t<tr><td>0.5</td><td> 5</td><td>3</td><td>0.8478261</td><td>0.7800000</td><td>0.6764706</td><td>0.7750</td><td>0.7573172</td><td>0.8125000</td><td>0.8248082</td><td>6</td></tr>\n",
       "\t<tr><td>0.5</td><td>10</td><td>3</td><td>0.8478261</td><td>0.7800000</td><td>0.6764706</td><td>0.7750</td><td>0.7573172</td><td>0.8125000</td><td>0.8248082</td><td>6</td></tr>\n",
       "\t<tr><td>0.5</td><td>15</td><td>3</td><td>0.8478261</td><td>0.7800000</td><td>0.6764706</td><td>0.7750</td><td>0.7573172</td><td>0.8125000</td><td>0.8248082</td><td>6</td></tr>\n",
       "\t<tr><td>0.7</td><td> 3</td><td>3</td><td>0.8478261</td><td>0.7800000</td><td>0.6764706</td><td>0.7750</td><td>0.7573172</td><td>0.8125000</td><td>0.8148977</td><td>5</td></tr>\n",
       "\t<tr><td>0.7</td><td> 3</td><td>5</td><td>0.8478261</td><td>0.7800000</td><td>0.6764706</td><td>0.7750</td><td>0.7573172</td><td>0.8125000</td><td>0.8148977</td><td>5</td></tr>\n",
       "\t<tr><td>0.7</td><td> 5</td><td>3</td><td>0.8478261</td><td>0.7800000</td><td>0.6764706</td><td>0.7750</td><td>0.7573172</td><td>0.8125000</td><td>0.8148977</td><td>5</td></tr>\n",
       "\t<tr><td>0.7</td><td> 5</td><td>5</td><td>0.8478261</td><td>0.7800000</td><td>0.6764706</td><td>0.7750</td><td>0.7573172</td><td>0.8125000</td><td>0.8148977</td><td>5</td></tr>\n",
       "\t<tr><td>0.7</td><td>10</td><td>3</td><td>0.8478261</td><td>0.7800000</td><td>0.6764706</td><td>0.7750</td><td>0.7573172</td><td>0.8125000</td><td>0.8148977</td><td>5</td></tr>\n",
       "\t<tr><td>0.7</td><td>10</td><td>5</td><td>0.8478261</td><td>0.7800000</td><td>0.6764706</td><td>0.7750</td><td>0.7573172</td><td>0.8125000</td><td>0.8148977</td><td>5</td></tr>\n",
       "\t<tr><td>0.7</td><td>15</td><td>3</td><td>0.8478261</td><td>0.7800000</td><td>0.6764706</td><td>0.7750</td><td>0.7573172</td><td>0.8125000</td><td>0.8148977</td><td>5</td></tr>\n",
       "\t<tr><td>0.7</td><td>15</td><td>5</td><td>0.8478261</td><td>0.7800000</td><td>0.6764706</td><td>0.7750</td><td>0.7573172</td><td>0.8125000</td><td>0.8148977</td><td>5</td></tr>\n",
       "\t<tr><td>0.9</td><td> 3</td><td>3</td><td>0.8478261</td><td>0.7800000</td><td>0.6764706</td><td>0.7750</td><td>0.7573172</td><td>0.8125000</td><td>0.8148977</td><td>5</td></tr>\n",
       "\t<tr><td>0.9</td><td> 3</td><td>5</td><td>0.8478261</td><td>0.7800000</td><td>0.6764706</td><td>0.7750</td><td>0.7573172</td><td>0.8125000</td><td>0.8148977</td><td>5</td></tr>\n",
       "\t<tr><td>0.9</td><td> 5</td><td>3</td><td>0.8478261</td><td>0.7800000</td><td>0.6764706</td><td>0.7750</td><td>0.7573172</td><td>0.8125000</td><td>0.8148977</td><td>5</td></tr>\n",
       "\t<tr><td>0.9</td><td> 5</td><td>5</td><td>0.8478261</td><td>0.7800000</td><td>0.6764706</td><td>0.7750</td><td>0.7573172</td><td>0.8125000</td><td>0.8148977</td><td>5</td></tr>\n",
       "\t<tr><td>0.9</td><td>10</td><td>3</td><td>0.8478261</td><td>0.7800000</td><td>0.6764706</td><td>0.7750</td><td>0.7573172</td><td>0.8125000</td><td>0.8148977</td><td>5</td></tr>\n",
       "\t<tr><td>0.9</td><td>10</td><td>5</td><td>0.8478261</td><td>0.7800000</td><td>0.6764706</td><td>0.7750</td><td>0.7573172</td><td>0.8125000</td><td>0.8148977</td><td>5</td></tr>\n",
       "\t<tr><td>0.9</td><td>15</td><td>3</td><td>0.8478261</td><td>0.7800000</td><td>0.6764706</td><td>0.7750</td><td>0.7573172</td><td>0.8125000</td><td>0.8148977</td><td>5</td></tr>\n",
       "\t<tr><td>0.9</td><td>15</td><td>5</td><td>0.8478261</td><td>0.7800000</td><td>0.6764706</td><td>0.7750</td><td>0.7573172</td><td>0.8125000</td><td>0.8148977</td><td>5</td></tr>\n",
       "\t<tr><td>0.5</td><td> 3</td><td>1</td><td>0.7391304</td><td>0.7555556</td><td>0.6764706</td><td>0.7125</td><td>0.7071068</td><td>0.7472527</td><td>0.7078005</td><td>2</td></tr>\n",
       "\t<tr><td>0.5</td><td> 5</td><td>1</td><td>0.7391304</td><td>0.7555556</td><td>0.6764706</td><td>0.7125</td><td>0.7071068</td><td>0.7472527</td><td>0.7078005</td><td>2</td></tr>\n",
       "\t<tr><td>0.5</td><td>10</td><td>1</td><td>0.7391304</td><td>0.7555556</td><td>0.6764706</td><td>0.7125</td><td>0.7071068</td><td>0.7472527</td><td>0.7078005</td><td>2</td></tr>\n",
       "\t<tr><td>0.5</td><td>15</td><td>1</td><td>0.7391304</td><td>0.7555556</td><td>0.6764706</td><td>0.7125</td><td>0.7071068</td><td>0.7472527</td><td>0.7078005</td><td>2</td></tr>\n",
       "\t<tr><td>0.7</td><td> 3</td><td>1</td><td>0.7391304</td><td>0.7555556</td><td>0.6764706</td><td>0.7125</td><td>0.7071068</td><td>0.7472527</td><td>0.7078005</td><td>2</td></tr>\n",
       "\t<tr><td>0.7</td><td> 5</td><td>1</td><td>0.7391304</td><td>0.7555556</td><td>0.6764706</td><td>0.7125</td><td>0.7071068</td><td>0.7472527</td><td>0.7078005</td><td>2</td></tr>\n",
       "\t<tr><td>0.7</td><td>10</td><td>1</td><td>0.7391304</td><td>0.7555556</td><td>0.6764706</td><td>0.7125</td><td>0.7071068</td><td>0.7472527</td><td>0.7078005</td><td>2</td></tr>\n",
       "\t<tr><td>0.7</td><td>15</td><td>1</td><td>0.7391304</td><td>0.7555556</td><td>0.6764706</td><td>0.7125</td><td>0.7071068</td><td>0.7472527</td><td>0.7078005</td><td>2</td></tr>\n",
       "\t<tr><td>0.9</td><td> 3</td><td>1</td><td>0.7391304</td><td>0.7555556</td><td>0.6764706</td><td>0.7125</td><td>0.7071068</td><td>0.7472527</td><td>0.7078005</td><td>2</td></tr>\n",
       "\t<tr><td>0.9</td><td> 5</td><td>1</td><td>0.7391304</td><td>0.7555556</td><td>0.6764706</td><td>0.7125</td><td>0.7071068</td><td>0.7472527</td><td>0.7078005</td><td>2</td></tr>\n",
       "\t<tr><td>0.9</td><td>10</td><td>1</td><td>0.7391304</td><td>0.7555556</td><td>0.6764706</td><td>0.7125</td><td>0.7071068</td><td>0.7472527</td><td>0.7078005</td><td>2</td></tr>\n",
       "\t<tr><td>0.9</td><td>15</td><td>1</td><td>0.7391304</td><td>0.7555556</td><td>0.6764706</td><td>0.7125</td><td>0.7071068</td><td>0.7472527</td><td>0.7078005</td><td>2</td></tr>\n",
       "</tbody>\n",
       "</table>\n"
      ],
      "text/latex": [
       "A matrix: 36 × 11 of type dbl\n",
       "\\begin{tabular}{lllllllllll}\n",
       " min\\_criterion & min\\_split & max\\_depth & TPR & Precision & TNR & ACC & BCR & F1 & AUROC & N\\_leaves\\\\\n",
       "\\hline\n",
       "\t 0.5 &  3 & 5 & 0.8478261 & 0.7800000 & 0.6764706 & 0.7750 & 0.7573172 & 0.8125000 & 0.8388747 & 7\\\\\n",
       "\t 0.5 &  5 & 5 & 0.8478261 & 0.7800000 & 0.6764706 & 0.7750 & 0.7573172 & 0.8125000 & 0.8388747 & 7\\\\\n",
       "\t 0.5 & 10 & 5 & 0.8478261 & 0.7800000 & 0.6764706 & 0.7750 & 0.7573172 & 0.8125000 & 0.8388747 & 7\\\\\n",
       "\t 0.5 & 15 & 5 & 0.8478261 & 0.7800000 & 0.6764706 & 0.7750 & 0.7573172 & 0.8125000 & 0.8388747 & 7\\\\\n",
       "\t 0.5 &  3 & 3 & 0.8478261 & 0.7800000 & 0.6764706 & 0.7750 & 0.7573172 & 0.8125000 & 0.8248082 & 6\\\\\n",
       "\t 0.5 &  5 & 3 & 0.8478261 & 0.7800000 & 0.6764706 & 0.7750 & 0.7573172 & 0.8125000 & 0.8248082 & 6\\\\\n",
       "\t 0.5 & 10 & 3 & 0.8478261 & 0.7800000 & 0.6764706 & 0.7750 & 0.7573172 & 0.8125000 & 0.8248082 & 6\\\\\n",
       "\t 0.5 & 15 & 3 & 0.8478261 & 0.7800000 & 0.6764706 & 0.7750 & 0.7573172 & 0.8125000 & 0.8248082 & 6\\\\\n",
       "\t 0.7 &  3 & 3 & 0.8478261 & 0.7800000 & 0.6764706 & 0.7750 & 0.7573172 & 0.8125000 & 0.8148977 & 5\\\\\n",
       "\t 0.7 &  3 & 5 & 0.8478261 & 0.7800000 & 0.6764706 & 0.7750 & 0.7573172 & 0.8125000 & 0.8148977 & 5\\\\\n",
       "\t 0.7 &  5 & 3 & 0.8478261 & 0.7800000 & 0.6764706 & 0.7750 & 0.7573172 & 0.8125000 & 0.8148977 & 5\\\\\n",
       "\t 0.7 &  5 & 5 & 0.8478261 & 0.7800000 & 0.6764706 & 0.7750 & 0.7573172 & 0.8125000 & 0.8148977 & 5\\\\\n",
       "\t 0.7 & 10 & 3 & 0.8478261 & 0.7800000 & 0.6764706 & 0.7750 & 0.7573172 & 0.8125000 & 0.8148977 & 5\\\\\n",
       "\t 0.7 & 10 & 5 & 0.8478261 & 0.7800000 & 0.6764706 & 0.7750 & 0.7573172 & 0.8125000 & 0.8148977 & 5\\\\\n",
       "\t 0.7 & 15 & 3 & 0.8478261 & 0.7800000 & 0.6764706 & 0.7750 & 0.7573172 & 0.8125000 & 0.8148977 & 5\\\\\n",
       "\t 0.7 & 15 & 5 & 0.8478261 & 0.7800000 & 0.6764706 & 0.7750 & 0.7573172 & 0.8125000 & 0.8148977 & 5\\\\\n",
       "\t 0.9 &  3 & 3 & 0.8478261 & 0.7800000 & 0.6764706 & 0.7750 & 0.7573172 & 0.8125000 & 0.8148977 & 5\\\\\n",
       "\t 0.9 &  3 & 5 & 0.8478261 & 0.7800000 & 0.6764706 & 0.7750 & 0.7573172 & 0.8125000 & 0.8148977 & 5\\\\\n",
       "\t 0.9 &  5 & 3 & 0.8478261 & 0.7800000 & 0.6764706 & 0.7750 & 0.7573172 & 0.8125000 & 0.8148977 & 5\\\\\n",
       "\t 0.9 &  5 & 5 & 0.8478261 & 0.7800000 & 0.6764706 & 0.7750 & 0.7573172 & 0.8125000 & 0.8148977 & 5\\\\\n",
       "\t 0.9 & 10 & 3 & 0.8478261 & 0.7800000 & 0.6764706 & 0.7750 & 0.7573172 & 0.8125000 & 0.8148977 & 5\\\\\n",
       "\t 0.9 & 10 & 5 & 0.8478261 & 0.7800000 & 0.6764706 & 0.7750 & 0.7573172 & 0.8125000 & 0.8148977 & 5\\\\\n",
       "\t 0.9 & 15 & 3 & 0.8478261 & 0.7800000 & 0.6764706 & 0.7750 & 0.7573172 & 0.8125000 & 0.8148977 & 5\\\\\n",
       "\t 0.9 & 15 & 5 & 0.8478261 & 0.7800000 & 0.6764706 & 0.7750 & 0.7573172 & 0.8125000 & 0.8148977 & 5\\\\\n",
       "\t 0.5 &  3 & 1 & 0.7391304 & 0.7555556 & 0.6764706 & 0.7125 & 0.7071068 & 0.7472527 & 0.7078005 & 2\\\\\n",
       "\t 0.5 &  5 & 1 & 0.7391304 & 0.7555556 & 0.6764706 & 0.7125 & 0.7071068 & 0.7472527 & 0.7078005 & 2\\\\\n",
       "\t 0.5 & 10 & 1 & 0.7391304 & 0.7555556 & 0.6764706 & 0.7125 & 0.7071068 & 0.7472527 & 0.7078005 & 2\\\\\n",
       "\t 0.5 & 15 & 1 & 0.7391304 & 0.7555556 & 0.6764706 & 0.7125 & 0.7071068 & 0.7472527 & 0.7078005 & 2\\\\\n",
       "\t 0.7 &  3 & 1 & 0.7391304 & 0.7555556 & 0.6764706 & 0.7125 & 0.7071068 & 0.7472527 & 0.7078005 & 2\\\\\n",
       "\t 0.7 &  5 & 1 & 0.7391304 & 0.7555556 & 0.6764706 & 0.7125 & 0.7071068 & 0.7472527 & 0.7078005 & 2\\\\\n",
       "\t 0.7 & 10 & 1 & 0.7391304 & 0.7555556 & 0.6764706 & 0.7125 & 0.7071068 & 0.7472527 & 0.7078005 & 2\\\\\n",
       "\t 0.7 & 15 & 1 & 0.7391304 & 0.7555556 & 0.6764706 & 0.7125 & 0.7071068 & 0.7472527 & 0.7078005 & 2\\\\\n",
       "\t 0.9 &  3 & 1 & 0.7391304 & 0.7555556 & 0.6764706 & 0.7125 & 0.7071068 & 0.7472527 & 0.7078005 & 2\\\\\n",
       "\t 0.9 &  5 & 1 & 0.7391304 & 0.7555556 & 0.6764706 & 0.7125 & 0.7071068 & 0.7472527 & 0.7078005 & 2\\\\\n",
       "\t 0.9 & 10 & 1 & 0.7391304 & 0.7555556 & 0.6764706 & 0.7125 & 0.7071068 & 0.7472527 & 0.7078005 & 2\\\\\n",
       "\t 0.9 & 15 & 1 & 0.7391304 & 0.7555556 & 0.6764706 & 0.7125 & 0.7071068 & 0.7472527 & 0.7078005 & 2\\\\\n",
       "\\end{tabular}\n"
      ],
      "text/markdown": [
       "\n",
       "A matrix: 36 × 11 of type dbl\n",
       "\n",
       "| min_criterion | min_split | max_depth | TPR | Precision | TNR | ACC | BCR | F1 | AUROC | N_leaves |\n",
       "|---|---|---|---|---|---|---|---|---|---|---|\n",
       "| 0.5 |  3 | 5 | 0.8478261 | 0.7800000 | 0.6764706 | 0.7750 | 0.7573172 | 0.8125000 | 0.8388747 | 7 |\n",
       "| 0.5 |  5 | 5 | 0.8478261 | 0.7800000 | 0.6764706 | 0.7750 | 0.7573172 | 0.8125000 | 0.8388747 | 7 |\n",
       "| 0.5 | 10 | 5 | 0.8478261 | 0.7800000 | 0.6764706 | 0.7750 | 0.7573172 | 0.8125000 | 0.8388747 | 7 |\n",
       "| 0.5 | 15 | 5 | 0.8478261 | 0.7800000 | 0.6764706 | 0.7750 | 0.7573172 | 0.8125000 | 0.8388747 | 7 |\n",
       "| 0.5 |  3 | 3 | 0.8478261 | 0.7800000 | 0.6764706 | 0.7750 | 0.7573172 | 0.8125000 | 0.8248082 | 6 |\n",
       "| 0.5 |  5 | 3 | 0.8478261 | 0.7800000 | 0.6764706 | 0.7750 | 0.7573172 | 0.8125000 | 0.8248082 | 6 |\n",
       "| 0.5 | 10 | 3 | 0.8478261 | 0.7800000 | 0.6764706 | 0.7750 | 0.7573172 | 0.8125000 | 0.8248082 | 6 |\n",
       "| 0.5 | 15 | 3 | 0.8478261 | 0.7800000 | 0.6764706 | 0.7750 | 0.7573172 | 0.8125000 | 0.8248082 | 6 |\n",
       "| 0.7 |  3 | 3 | 0.8478261 | 0.7800000 | 0.6764706 | 0.7750 | 0.7573172 | 0.8125000 | 0.8148977 | 5 |\n",
       "| 0.7 |  3 | 5 | 0.8478261 | 0.7800000 | 0.6764706 | 0.7750 | 0.7573172 | 0.8125000 | 0.8148977 | 5 |\n",
       "| 0.7 |  5 | 3 | 0.8478261 | 0.7800000 | 0.6764706 | 0.7750 | 0.7573172 | 0.8125000 | 0.8148977 | 5 |\n",
       "| 0.7 |  5 | 5 | 0.8478261 | 0.7800000 | 0.6764706 | 0.7750 | 0.7573172 | 0.8125000 | 0.8148977 | 5 |\n",
       "| 0.7 | 10 | 3 | 0.8478261 | 0.7800000 | 0.6764706 | 0.7750 | 0.7573172 | 0.8125000 | 0.8148977 | 5 |\n",
       "| 0.7 | 10 | 5 | 0.8478261 | 0.7800000 | 0.6764706 | 0.7750 | 0.7573172 | 0.8125000 | 0.8148977 | 5 |\n",
       "| 0.7 | 15 | 3 | 0.8478261 | 0.7800000 | 0.6764706 | 0.7750 | 0.7573172 | 0.8125000 | 0.8148977 | 5 |\n",
       "| 0.7 | 15 | 5 | 0.8478261 | 0.7800000 | 0.6764706 | 0.7750 | 0.7573172 | 0.8125000 | 0.8148977 | 5 |\n",
       "| 0.9 |  3 | 3 | 0.8478261 | 0.7800000 | 0.6764706 | 0.7750 | 0.7573172 | 0.8125000 | 0.8148977 | 5 |\n",
       "| 0.9 |  3 | 5 | 0.8478261 | 0.7800000 | 0.6764706 | 0.7750 | 0.7573172 | 0.8125000 | 0.8148977 | 5 |\n",
       "| 0.9 |  5 | 3 | 0.8478261 | 0.7800000 | 0.6764706 | 0.7750 | 0.7573172 | 0.8125000 | 0.8148977 | 5 |\n",
       "| 0.9 |  5 | 5 | 0.8478261 | 0.7800000 | 0.6764706 | 0.7750 | 0.7573172 | 0.8125000 | 0.8148977 | 5 |\n",
       "| 0.9 | 10 | 3 | 0.8478261 | 0.7800000 | 0.6764706 | 0.7750 | 0.7573172 | 0.8125000 | 0.8148977 | 5 |\n",
       "| 0.9 | 10 | 5 | 0.8478261 | 0.7800000 | 0.6764706 | 0.7750 | 0.7573172 | 0.8125000 | 0.8148977 | 5 |\n",
       "| 0.9 | 15 | 3 | 0.8478261 | 0.7800000 | 0.6764706 | 0.7750 | 0.7573172 | 0.8125000 | 0.8148977 | 5 |\n",
       "| 0.9 | 15 | 5 | 0.8478261 | 0.7800000 | 0.6764706 | 0.7750 | 0.7573172 | 0.8125000 | 0.8148977 | 5 |\n",
       "| 0.5 |  3 | 1 | 0.7391304 | 0.7555556 | 0.6764706 | 0.7125 | 0.7071068 | 0.7472527 | 0.7078005 | 2 |\n",
       "| 0.5 |  5 | 1 | 0.7391304 | 0.7555556 | 0.6764706 | 0.7125 | 0.7071068 | 0.7472527 | 0.7078005 | 2 |\n",
       "| 0.5 | 10 | 1 | 0.7391304 | 0.7555556 | 0.6764706 | 0.7125 | 0.7071068 | 0.7472527 | 0.7078005 | 2 |\n",
       "| 0.5 | 15 | 1 | 0.7391304 | 0.7555556 | 0.6764706 | 0.7125 | 0.7071068 | 0.7472527 | 0.7078005 | 2 |\n",
       "| 0.7 |  3 | 1 | 0.7391304 | 0.7555556 | 0.6764706 | 0.7125 | 0.7071068 | 0.7472527 | 0.7078005 | 2 |\n",
       "| 0.7 |  5 | 1 | 0.7391304 | 0.7555556 | 0.6764706 | 0.7125 | 0.7071068 | 0.7472527 | 0.7078005 | 2 |\n",
       "| 0.7 | 10 | 1 | 0.7391304 | 0.7555556 | 0.6764706 | 0.7125 | 0.7071068 | 0.7472527 | 0.7078005 | 2 |\n",
       "| 0.7 | 15 | 1 | 0.7391304 | 0.7555556 | 0.6764706 | 0.7125 | 0.7071068 | 0.7472527 | 0.7078005 | 2 |\n",
       "| 0.9 |  3 | 1 | 0.7391304 | 0.7555556 | 0.6764706 | 0.7125 | 0.7071068 | 0.7472527 | 0.7078005 | 2 |\n",
       "| 0.9 |  5 | 1 | 0.7391304 | 0.7555556 | 0.6764706 | 0.7125 | 0.7071068 | 0.7472527 | 0.7078005 | 2 |\n",
       "| 0.9 | 10 | 1 | 0.7391304 | 0.7555556 | 0.6764706 | 0.7125 | 0.7071068 | 0.7472527 | 0.7078005 | 2 |\n",
       "| 0.9 | 15 | 1 | 0.7391304 | 0.7555556 | 0.6764706 | 0.7125 | 0.7071068 | 0.7472527 | 0.7078005 | 2 |\n",
       "\n"
      ],
      "text/plain": [
       "      min_criterion min_split max_depth TPR       Precision TNR       ACC   \n",
       " [1,] 0.5            3        5         0.8478261 0.7800000 0.6764706 0.7750\n",
       " [2,] 0.5            5        5         0.8478261 0.7800000 0.6764706 0.7750\n",
       " [3,] 0.5           10        5         0.8478261 0.7800000 0.6764706 0.7750\n",
       " [4,] 0.5           15        5         0.8478261 0.7800000 0.6764706 0.7750\n",
       " [5,] 0.5            3        3         0.8478261 0.7800000 0.6764706 0.7750\n",
       " [6,] 0.5            5        3         0.8478261 0.7800000 0.6764706 0.7750\n",
       " [7,] 0.5           10        3         0.8478261 0.7800000 0.6764706 0.7750\n",
       " [8,] 0.5           15        3         0.8478261 0.7800000 0.6764706 0.7750\n",
       " [9,] 0.7            3        3         0.8478261 0.7800000 0.6764706 0.7750\n",
       "[10,] 0.7            3        5         0.8478261 0.7800000 0.6764706 0.7750\n",
       "[11,] 0.7            5        3         0.8478261 0.7800000 0.6764706 0.7750\n",
       "[12,] 0.7            5        5         0.8478261 0.7800000 0.6764706 0.7750\n",
       "[13,] 0.7           10        3         0.8478261 0.7800000 0.6764706 0.7750\n",
       "[14,] 0.7           10        5         0.8478261 0.7800000 0.6764706 0.7750\n",
       "[15,] 0.7           15        3         0.8478261 0.7800000 0.6764706 0.7750\n",
       "[16,] 0.7           15        5         0.8478261 0.7800000 0.6764706 0.7750\n",
       "[17,] 0.9            3        3         0.8478261 0.7800000 0.6764706 0.7750\n",
       "[18,] 0.9            3        5         0.8478261 0.7800000 0.6764706 0.7750\n",
       "[19,] 0.9            5        3         0.8478261 0.7800000 0.6764706 0.7750\n",
       "[20,] 0.9            5        5         0.8478261 0.7800000 0.6764706 0.7750\n",
       "[21,] 0.9           10        3         0.8478261 0.7800000 0.6764706 0.7750\n",
       "[22,] 0.9           10        5         0.8478261 0.7800000 0.6764706 0.7750\n",
       "[23,] 0.9           15        3         0.8478261 0.7800000 0.6764706 0.7750\n",
       "[24,] 0.9           15        5         0.8478261 0.7800000 0.6764706 0.7750\n",
       "[25,] 0.5            3        1         0.7391304 0.7555556 0.6764706 0.7125\n",
       "[26,] 0.5            5        1         0.7391304 0.7555556 0.6764706 0.7125\n",
       "[27,] 0.5           10        1         0.7391304 0.7555556 0.6764706 0.7125\n",
       "[28,] 0.5           15        1         0.7391304 0.7555556 0.6764706 0.7125\n",
       "[29,] 0.7            3        1         0.7391304 0.7555556 0.6764706 0.7125\n",
       "[30,] 0.7            5        1         0.7391304 0.7555556 0.6764706 0.7125\n",
       "[31,] 0.7           10        1         0.7391304 0.7555556 0.6764706 0.7125\n",
       "[32,] 0.7           15        1         0.7391304 0.7555556 0.6764706 0.7125\n",
       "[33,] 0.9            3        1         0.7391304 0.7555556 0.6764706 0.7125\n",
       "[34,] 0.9            5        1         0.7391304 0.7555556 0.6764706 0.7125\n",
       "[35,] 0.9           10        1         0.7391304 0.7555556 0.6764706 0.7125\n",
       "[36,] 0.9           15        1         0.7391304 0.7555556 0.6764706 0.7125\n",
       "      BCR       F1        AUROC     N_leaves\n",
       " [1,] 0.7573172 0.8125000 0.8388747 7       \n",
       " [2,] 0.7573172 0.8125000 0.8388747 7       \n",
       " [3,] 0.7573172 0.8125000 0.8388747 7       \n",
       " [4,] 0.7573172 0.8125000 0.8388747 7       \n",
       " [5,] 0.7573172 0.8125000 0.8248082 6       \n",
       " [6,] 0.7573172 0.8125000 0.8248082 6       \n",
       " [7,] 0.7573172 0.8125000 0.8248082 6       \n",
       " [8,] 0.7573172 0.8125000 0.8248082 6       \n",
       " [9,] 0.7573172 0.8125000 0.8148977 5       \n",
       "[10,] 0.7573172 0.8125000 0.8148977 5       \n",
       "[11,] 0.7573172 0.8125000 0.8148977 5       \n",
       "[12,] 0.7573172 0.8125000 0.8148977 5       \n",
       "[13,] 0.7573172 0.8125000 0.8148977 5       \n",
       "[14,] 0.7573172 0.8125000 0.8148977 5       \n",
       "[15,] 0.7573172 0.8125000 0.8148977 5       \n",
       "[16,] 0.7573172 0.8125000 0.8148977 5       \n",
       "[17,] 0.7573172 0.8125000 0.8148977 5       \n",
       "[18,] 0.7573172 0.8125000 0.8148977 5       \n",
       "[19,] 0.7573172 0.8125000 0.8148977 5       \n",
       "[20,] 0.7573172 0.8125000 0.8148977 5       \n",
       "[21,] 0.7573172 0.8125000 0.8148977 5       \n",
       "[22,] 0.7573172 0.8125000 0.8148977 5       \n",
       "[23,] 0.7573172 0.8125000 0.8148977 5       \n",
       "[24,] 0.7573172 0.8125000 0.8148977 5       \n",
       "[25,] 0.7071068 0.7472527 0.7078005 2       \n",
       "[26,] 0.7071068 0.7472527 0.7078005 2       \n",
       "[27,] 0.7071068 0.7472527 0.7078005 2       \n",
       "[28,] 0.7071068 0.7472527 0.7078005 2       \n",
       "[29,] 0.7071068 0.7472527 0.7078005 2       \n",
       "[30,] 0.7071068 0.7472527 0.7078005 2       \n",
       "[31,] 0.7071068 0.7472527 0.7078005 2       \n",
       "[32,] 0.7071068 0.7472527 0.7078005 2       \n",
       "[33,] 0.7071068 0.7472527 0.7078005 2       \n",
       "[34,] 0.7071068 0.7472527 0.7078005 2       \n",
       "[35,] 0.7071068 0.7472527 0.7078005 2       \n",
       "[36,] 0.7071068 0.7472527 0.7078005 2       "
      ]
     },
     "metadata": {},
     "output_type": "display_data"
    }
   ],
   "source": [
    "CART_pre_search_result <- CART_pre_search_result[order(CART_pre_search_result[,10], decreasing = T),]\n",
    "CART_pre_search_result\n",
    "best_criterion <- CART_pre_search_result[1,1]\n",
    "best_split <- CART_pre_search_result[1,2]\n",
    "best_depth <- CART_pre_search_result[1,3]"
   ]
  },
  {
   "cell_type": "code",
   "execution_count": 116,
   "metadata": {},
   "outputs": [],
   "source": [
    "# Construct the best tree\n",
    "tree_control = ctree_control(mincriterion = best_criterion, minsplit = best_split, maxdepth = best_depth)"
   ]
  },
  {
   "cell_type": "code",
   "execution_count": 117,
   "metadata": {},
   "outputs": [],
   "source": [
    "CART_pre <- ctree(HeartYN ~ ., data = train, controls = tree_control)\n",
    "CART_pre_prediction <- predict(CART_pre, newdata = test)\n",
    "CART_pre_response <- treeresponse(CART_pre, newdata = test)"
   ]
  },
  {
   "cell_type": "code",
   "execution_count": 118,
   "metadata": {},
   "outputs": [
    {
     "data": {
      "image/png": "[encoded data removed]",
      "text/plain": [
       "plot without title"
      ]
     },
     "metadata": {
      "image/png": {
       "height": 420,
       "width": 420
      },
      "text/plain": {
       "height": 420,
       "width": 420
      }
     },
     "output_type": "display_data"
    }
   ],
   "source": [
    "plot(CART_pre)"
   ]
  },
  {
   "cell_type": "code",
   "execution_count": 119,
   "metadata": {},
   "outputs": [
    {
     "data": {
      "text/plain": [
       "   CART_pre_prediction\n",
       "     0  1\n",
       "  0 35 14\n",
       "  1 10 44"
      ]
     },
     "metadata": {},
     "output_type": "display_data"
    }
   ],
   "source": [
    "CART_pre_cm <- table(test$HeartYN, CART_pre_prediction)\n",
    "CART_pre_cm"
   ]
  },
  {
   "cell_type": "code",
   "execution_count": 120,
   "metadata": {},
   "outputs": [
    {
     "data": {
      "text/html": [
       "<table>\n",
       "<caption>A matrix: 3 × 6 of type dbl</caption>\n",
       "<thead>\n",
       "\t<tr><th></th><th scope=col>TPR</th><th scope=col>Precision</th><th scope=col>TNR</th><th scope=col>Accuracy</th><th scope=col>BCR</th><th scope=col>F1-Measure</th></tr>\n",
       "</thead>\n",
       "<tbody>\n",
       "\t<tr><th scope=row>CART(pruned(x))</th><td>0.8333333</td><td>0.7894737</td><td>0.7551020</td><td>0.7961165</td><td>0.7932539</td><td>0.8108108</td></tr>\n",
       "\t<tr><th scope=row>CART(pruned(post))</th><td>0.9444444</td><td>0.7611940</td><td>0.6734694</td><td>0.8155340</td><td>0.7975302</td><td>0.8429752</td></tr>\n",
       "\t<tr><th scope=row>CART(pruned(pre))</th><td>0.8148148</td><td>0.7586207</td><td>0.7142857</td><td>0.7669903</td><td>0.7628962</td><td>0.7857143</td></tr>\n",
       "</tbody>\n",
       "</table>\n"
      ],
      "text/latex": [
       "A matrix: 3 × 6 of type dbl\n",
       "\\begin{tabular}{r|llllll}\n",
       "  & TPR & Precision & TNR & Accuracy & BCR & F1-Measure\\\\\n",
       "\\hline\n",
       "\tCART(pruned(x)) & 0.8333333 & 0.7894737 & 0.7551020 & 0.7961165 & 0.7932539 & 0.8108108\\\\\n",
       "\tCART(pruned(post)) & 0.9444444 & 0.7611940 & 0.6734694 & 0.8155340 & 0.7975302 & 0.8429752\\\\\n",
       "\tCART(pruned(pre)) & 0.8148148 & 0.7586207 & 0.7142857 & 0.7669903 & 0.7628962 & 0.7857143\\\\\n",
       "\\end{tabular}\n"
      ],
      "text/markdown": [
       "\n",
       "A matrix: 3 × 6 of type dbl\n",
       "\n",
       "| <!--/--> | TPR | Precision | TNR | Accuracy | BCR | F1-Measure |\n",
       "|---|---|---|---|---|---|---|\n",
       "| CART(pruned(x)) | 0.8333333 | 0.7894737 | 0.7551020 | 0.7961165 | 0.7932539 | 0.8108108 |\n",
       "| CART(pruned(post)) | 0.9444444 | 0.7611940 | 0.6734694 | 0.8155340 | 0.7975302 | 0.8429752 |\n",
       "| CART(pruned(pre)) | 0.8148148 | 0.7586207 | 0.7142857 | 0.7669903 | 0.7628962 | 0.7857143 |\n",
       "\n"
      ],
      "text/plain": [
       "                   TPR       Precision TNR       Accuracy  BCR       F1-Measure\n",
       "CART(pruned(x))    0.8333333 0.7894737 0.7551020 0.7961165 0.7932539 0.8108108 \n",
       "CART(pruned(post)) 0.9444444 0.7611940 0.6734694 0.8155340 0.7975302 0.8429752 \n",
       "CART(pruned(pre))  0.8148148 0.7586207 0.7142857 0.7669903 0.7628962 0.7857143 "
      ]
     },
     "metadata": {},
     "output_type": "display_data"
    }
   ],
   "source": [
    "Perf_Table[3,] <- perf_eval(CART_pre_cm)\n",
    "Perf_Table"
   ]
  },
  {
   "cell_type": "markdown",
   "metadata": {},
   "source": [
    "# [Q3] \n",
    "\n"
   ]
  },
  {
   "cell_type": "code",
   "execution_count": 121,
   "metadata": {},
   "outputs": [
    {
     "data": {
      "text/html": [
       "<table>\n",
       "<caption>A matrix: 4 × 6 of type dbl</caption>\n",
       "<thead>\n",
       "\t<tr><th></th><th scope=col>TPR</th><th scope=col>Precision</th><th scope=col>TNR</th><th scope=col>Accuracy</th><th scope=col>BCR</th><th scope=col>F1-Measure</th></tr>\n",
       "</thead>\n",
       "<tbody>\n",
       "\t<tr><th scope=row>tree</th><td>0.9444444</td><td>0.761194</td><td>0.6734694</td><td>0.815534</td><td>0.7975302</td><td>0.8429752</td></tr>\n",
       "\t<tr><th scope=row>rpart</th><td>0.0000000</td><td>0.000000</td><td>0.0000000</td><td>0.000000</td><td>0.0000000</td><td>0.0000000</td></tr>\n",
       "\t<tr><th scope=row>c50</th><td>0.0000000</td><td>0.000000</td><td>0.0000000</td><td>0.000000</td><td>0.0000000</td><td>0.0000000</td></tr>\n",
       "\t<tr><th scope=row>random_forest</th><td>0.0000000</td><td>0.000000</td><td>0.0000000</td><td>0.000000</td><td>0.0000000</td><td>0.0000000</td></tr>\n",
       "</tbody>\n",
       "</table>\n"
      ],
      "text/latex": [
       "A matrix: 4 × 6 of type dbl\n",
       "\\begin{tabular}{r|llllll}\n",
       "  & TPR & Precision & TNR & Accuracy & BCR & F1-Measure\\\\\n",
       "\\hline\n",
       "\ttree & 0.9444444 & 0.761194 & 0.6734694 & 0.815534 & 0.7975302 & 0.8429752\\\\\n",
       "\trpart & 0.0000000 & 0.000000 & 0.0000000 & 0.000000 & 0.0000000 & 0.0000000\\\\\n",
       "\tc50 & 0.0000000 & 0.000000 & 0.0000000 & 0.000000 & 0.0000000 & 0.0000000\\\\\n",
       "\trandom\\_forest & 0.0000000 & 0.000000 & 0.0000000 & 0.000000 & 0.0000000 & 0.0000000\\\\\n",
       "\\end{tabular}\n"
      ],
      "text/markdown": [
       "\n",
       "A matrix: 4 × 6 of type dbl\n",
       "\n",
       "| <!--/--> | TPR | Precision | TNR | Accuracy | BCR | F1-Measure |\n",
       "|---|---|---|---|---|---|---|\n",
       "| tree | 0.9444444 | 0.761194 | 0.6734694 | 0.815534 | 0.7975302 | 0.8429752 |\n",
       "| rpart | 0.0000000 | 0.000000 | 0.0000000 | 0.000000 | 0.0000000 | 0.0000000 |\n",
       "| c50 | 0.0000000 | 0.000000 | 0.0000000 | 0.000000 | 0.0000000 | 0.0000000 |\n",
       "| random_forest | 0.0000000 | 0.000000 | 0.0000000 | 0.000000 | 0.0000000 | 0.0000000 |\n",
       "\n"
      ],
      "text/plain": [
       "              TPR       Precision TNR       Accuracy BCR       F1-Measure\n",
       "tree          0.9444444 0.761194  0.6734694 0.815534 0.7975302 0.8429752 \n",
       "rpart         0.0000000 0.000000  0.0000000 0.000000 0.0000000 0.0000000 \n",
       "c50           0.0000000 0.000000  0.0000000 0.000000 0.0000000 0.0000000 \n",
       "random_forest 0.0000000 0.000000  0.0000000 0.000000 0.0000000 0.0000000 "
      ]
     },
     "metadata": {},
     "output_type": "display_data"
    }
   ],
   "source": [
    "Perf_Table_2 <- matrix(0,nrow=4,ncol=6)\n",
    "rownames(Perf_Table_2) <- c(\"tree\",\"rpart\",\"c50\",\"random_forest\")\n",
    "colnames(Perf_Table_2) <- c(\"TPR\", \"Precision\", \"TNR\", \"Accuracy\", \"BCR\", \"F1-Measure\")\n",
    "Perf_Table_2[1,] <- perf_eval(CART_cfm)\n",
    "Perf_Table_2"
   ]
  },
  {
   "cell_type": "markdown",
   "metadata": {},
   "source": [
    "# rpart"
   ]
  },
  {
   "cell_type": "code",
   "execution_count": 122,
   "metadata": {},
   "outputs": [
    {
     "name": "stderr",
     "output_type": "stream",
     "text": [
      "Warning message:\n",
      "\"package 'rpart' is in use and will not be installed\"\n",
      "Warning message:\n",
      "\"package 'rpart.plot' is in use and will not be installed\"\n"
     ]
    }
   ],
   "source": [
    "install.packages(\"rpart\")\n",
    "install.packages(\"rpart.plot\")\n",
    "library(rpart)\n",
    "library(rpart.plot)"
   ]
  },
  {
   "cell_type": "code",
   "execution_count": 123,
   "metadata": {},
   "outputs": [],
   "source": [
    "rpart_trn <- CART_trn\n",
    "rpart_val <- CART_val"
   ]
  },
  {
   "cell_type": "code",
   "execution_count": 124,
   "metadata": {},
   "outputs": [],
   "source": [
    "max_depth <- c(3,5,10)\n",
    "min_split <- c(2,5,20,50)\n",
    "rpart_pre_search_result = matrix(0,length(min_split)*length(max_depth),8)\n",
    "colnames(rpart_pre_search_result) <- c(\"min_split\", \"max_depth\", \"TPR\", \"Precision\", \"TNR\", \"ACC\", \"BCR\", \"F1\")"
   ]
  },
  {
   "cell_type": "code",
   "execution_count": 125,
   "metadata": {},
   "outputs": [],
   "source": [
    "iter_cnt = 1\n",
    "for ( i in 1:length(min_split)){\n",
    "    for ( j in 1:length(max_depth)){\n",
    "        tmp_control <- rpart.control(maxdepth = max_depth[j], minsplit = min_split[i])\n",
    "        tmp_rpart_model <- rpart(HeartYN ~ ., data = rpart_trn, method = \"class\",control = tmp_control)\n",
    "        tmp_pred <- predict(tmp_rpart_model, rpart_val, type='class')\n",
    "        tmp_rpart_val_cm <- table(rpart_val$HeartYN, tmp_pred)\n",
    "        rpart_pre_search_result[iter_cnt,3:8] = perf_eval(tmp_rpart_val_cm)\n",
    "        rpart_pre_search_result[iter_cnt,1] = min_split[i]\n",
    "        rpart_pre_search_result[iter_cnt,2] = max_depth[j]\n",
    "        \n",
    "        iter_cnt = iter_cnt+1\n",
    "\n",
    "    }\n",
    "}\n"
   ]
  },
  {
   "cell_type": "code",
   "execution_count": 126,
   "metadata": {},
   "outputs": [
    {
     "data": {
      "text/html": [
       "<table>\n",
       "<caption>A matrix: 12 × 8 of type dbl</caption>\n",
       "<thead>\n",
       "\t<tr><th scope=col>min_split</th><th scope=col>max_depth</th><th scope=col>TPR</th><th scope=col>Precision</th><th scope=col>TNR</th><th scope=col>ACC</th><th scope=col>BCR</th><th scope=col>F1</th></tr>\n",
       "</thead>\n",
       "<tbody>\n",
       "\t<tr><td> 2</td><td> 3</td><td>0.8043478</td><td>0.8409091</td><td>0.7941176</td><td>0.8000</td><td>0.7992164</td><td>0.8222222</td></tr>\n",
       "\t<tr><td> 2</td><td> 5</td><td>0.8043478</td><td>0.7115385</td><td>0.5588235</td><td>0.7000</td><td>0.6704390</td><td>0.7551020</td></tr>\n",
       "\t<tr><td> 2</td><td>10</td><td>0.8043478</td><td>0.7115385</td><td>0.5588235</td><td>0.7000</td><td>0.6704390</td><td>0.7551020</td></tr>\n",
       "\t<tr><td> 5</td><td> 3</td><td>0.8043478</td><td>0.8409091</td><td>0.7941176</td><td>0.8000</td><td>0.7992164</td><td>0.8222222</td></tr>\n",
       "\t<tr><td> 5</td><td> 5</td><td>0.7826087</td><td>0.7058824</td><td>0.5588235</td><td>0.6875</td><td>0.6613170</td><td>0.7422680</td></tr>\n",
       "\t<tr><td> 5</td><td>10</td><td>0.7826087</td><td>0.7058824</td><td>0.5588235</td><td>0.6875</td><td>0.6613170</td><td>0.7422680</td></tr>\n",
       "\t<tr><td>20</td><td> 3</td><td>0.8260870</td><td>0.7450980</td><td>0.6176471</td><td>0.7375</td><td>0.7143040</td><td>0.7835052</td></tr>\n",
       "\t<tr><td>20</td><td> 5</td><td>0.8260870</td><td>0.7450980</td><td>0.6176471</td><td>0.7375</td><td>0.7143040</td><td>0.7835052</td></tr>\n",
       "\t<tr><td>20</td><td>10</td><td>0.8260870</td><td>0.7450980</td><td>0.6176471</td><td>0.7375</td><td>0.7143040</td><td>0.7835052</td></tr>\n",
       "\t<tr><td>50</td><td> 3</td><td>0.9130435</td><td>0.7241379</td><td>0.5294118</td><td>0.7500</td><td>0.6952524</td><td>0.8076923</td></tr>\n",
       "\t<tr><td>50</td><td> 5</td><td>0.9130435</td><td>0.7241379</td><td>0.5294118</td><td>0.7500</td><td>0.6952524</td><td>0.8076923</td></tr>\n",
       "\t<tr><td>50</td><td>10</td><td>0.9130435</td><td>0.7241379</td><td>0.5294118</td><td>0.7500</td><td>0.6952524</td><td>0.8076923</td></tr>\n",
       "</tbody>\n",
       "</table>\n"
      ],
      "text/latex": [
       "A matrix: 12 × 8 of type dbl\n",
       "\\begin{tabular}{llllllll}\n",
       " min\\_split & max\\_depth & TPR & Precision & TNR & ACC & BCR & F1\\\\\n",
       "\\hline\n",
       "\t  2 &  3 & 0.8043478 & 0.8409091 & 0.7941176 & 0.8000 & 0.7992164 & 0.8222222\\\\\n",
       "\t  2 &  5 & 0.8043478 & 0.7115385 & 0.5588235 & 0.7000 & 0.6704390 & 0.7551020\\\\\n",
       "\t  2 & 10 & 0.8043478 & 0.7115385 & 0.5588235 & 0.7000 & 0.6704390 & 0.7551020\\\\\n",
       "\t  5 &  3 & 0.8043478 & 0.8409091 & 0.7941176 & 0.8000 & 0.7992164 & 0.8222222\\\\\n",
       "\t  5 &  5 & 0.7826087 & 0.7058824 & 0.5588235 & 0.6875 & 0.6613170 & 0.7422680\\\\\n",
       "\t  5 & 10 & 0.7826087 & 0.7058824 & 0.5588235 & 0.6875 & 0.6613170 & 0.7422680\\\\\n",
       "\t 20 &  3 & 0.8260870 & 0.7450980 & 0.6176471 & 0.7375 & 0.7143040 & 0.7835052\\\\\n",
       "\t 20 &  5 & 0.8260870 & 0.7450980 & 0.6176471 & 0.7375 & 0.7143040 & 0.7835052\\\\\n",
       "\t 20 & 10 & 0.8260870 & 0.7450980 & 0.6176471 & 0.7375 & 0.7143040 & 0.7835052\\\\\n",
       "\t 50 &  3 & 0.9130435 & 0.7241379 & 0.5294118 & 0.7500 & 0.6952524 & 0.8076923\\\\\n",
       "\t 50 &  5 & 0.9130435 & 0.7241379 & 0.5294118 & 0.7500 & 0.6952524 & 0.8076923\\\\\n",
       "\t 50 & 10 & 0.9130435 & 0.7241379 & 0.5294118 & 0.7500 & 0.6952524 & 0.8076923\\\\\n",
       "\\end{tabular}\n"
      ],
      "text/markdown": [
       "\n",
       "A matrix: 12 × 8 of type dbl\n",
       "\n",
       "| min_split | max_depth | TPR | Precision | TNR | ACC | BCR | F1 |\n",
       "|---|---|---|---|---|---|---|---|\n",
       "|  2 |  3 | 0.8043478 | 0.8409091 | 0.7941176 | 0.8000 | 0.7992164 | 0.8222222 |\n",
       "|  2 |  5 | 0.8043478 | 0.7115385 | 0.5588235 | 0.7000 | 0.6704390 | 0.7551020 |\n",
       "|  2 | 10 | 0.8043478 | 0.7115385 | 0.5588235 | 0.7000 | 0.6704390 | 0.7551020 |\n",
       "|  5 |  3 | 0.8043478 | 0.8409091 | 0.7941176 | 0.8000 | 0.7992164 | 0.8222222 |\n",
       "|  5 |  5 | 0.7826087 | 0.7058824 | 0.5588235 | 0.6875 | 0.6613170 | 0.7422680 |\n",
       "|  5 | 10 | 0.7826087 | 0.7058824 | 0.5588235 | 0.6875 | 0.6613170 | 0.7422680 |\n",
       "| 20 |  3 | 0.8260870 | 0.7450980 | 0.6176471 | 0.7375 | 0.7143040 | 0.7835052 |\n",
       "| 20 |  5 | 0.8260870 | 0.7450980 | 0.6176471 | 0.7375 | 0.7143040 | 0.7835052 |\n",
       "| 20 | 10 | 0.8260870 | 0.7450980 | 0.6176471 | 0.7375 | 0.7143040 | 0.7835052 |\n",
       "| 50 |  3 | 0.9130435 | 0.7241379 | 0.5294118 | 0.7500 | 0.6952524 | 0.8076923 |\n",
       "| 50 |  5 | 0.9130435 | 0.7241379 | 0.5294118 | 0.7500 | 0.6952524 | 0.8076923 |\n",
       "| 50 | 10 | 0.9130435 | 0.7241379 | 0.5294118 | 0.7500 | 0.6952524 | 0.8076923 |\n",
       "\n"
      ],
      "text/plain": [
       "      min_split max_depth TPR       Precision TNR       ACC    BCR      \n",
       " [1,]  2         3        0.8043478 0.8409091 0.7941176 0.8000 0.7992164\n",
       " [2,]  2         5        0.8043478 0.7115385 0.5588235 0.7000 0.6704390\n",
       " [3,]  2        10        0.8043478 0.7115385 0.5588235 0.7000 0.6704390\n",
       " [4,]  5         3        0.8043478 0.8409091 0.7941176 0.8000 0.7992164\n",
       " [5,]  5         5        0.7826087 0.7058824 0.5588235 0.6875 0.6613170\n",
       " [6,]  5        10        0.7826087 0.7058824 0.5588235 0.6875 0.6613170\n",
       " [7,] 20         3        0.8260870 0.7450980 0.6176471 0.7375 0.7143040\n",
       " [8,] 20         5        0.8260870 0.7450980 0.6176471 0.7375 0.7143040\n",
       " [9,] 20        10        0.8260870 0.7450980 0.6176471 0.7375 0.7143040\n",
       "[10,] 50         3        0.9130435 0.7241379 0.5294118 0.7500 0.6952524\n",
       "[11,] 50         5        0.9130435 0.7241379 0.5294118 0.7500 0.6952524\n",
       "[12,] 50        10        0.9130435 0.7241379 0.5294118 0.7500 0.6952524\n",
       "      F1       \n",
       " [1,] 0.8222222\n",
       " [2,] 0.7551020\n",
       " [3,] 0.7551020\n",
       " [4,] 0.8222222\n",
       " [5,] 0.7422680\n",
       " [6,] 0.7422680\n",
       " [7,] 0.7835052\n",
       " [8,] 0.7835052\n",
       " [9,] 0.7835052\n",
       "[10,] 0.8076923\n",
       "[11,] 0.8076923\n",
       "[12,] 0.8076923"
      ]
     },
     "metadata": {},
     "output_type": "display_data"
    }
   ],
   "source": [
    "rpart_pre_search_result"
   ]
  },
  {
   "cell_type": "code",
   "execution_count": 127,
   "metadata": {},
   "outputs": [],
   "source": [
    "best_split <- rpart_pre_search_result[10,1]\n",
    "best_depth <- rpart_pre_search_result[10,2]\n",
    "rpart_control <- rpart.control(maxdepth = best_depth, minsplit = best_split)\n",
    "rpart_model <- rpart(HeartYN ~ ., data = train, control = rpart_control, method = \"class\")"
   ]
  },
  {
   "cell_type": "code",
   "execution_count": 128,
   "metadata": {},
   "outputs": [
    {
     "data": {
      "image/png": "[encoded data removed]",
      "text/plain": [
       "plot without title"
      ]
     },
     "metadata": {
      "image/png": {
       "height": 420,
       "width": 420
      },
      "text/plain": {
       "height": 420,
       "width": 420
      }
     },
     "output_type": "display_data"
    }
   ],
   "source": [
    "rpart.plot(rpart_model)"
   ]
  },
  {
   "cell_type": "code",
   "execution_count": 129,
   "metadata": {},
   "outputs": [
    {
     "data": {
      "text/html": [
       "<table>\n",
       "<caption>A matrix: 4 × 6 of type dbl</caption>\n",
       "<thead>\n",
       "\t<tr><th></th><th scope=col>TPR</th><th scope=col>Precision</th><th scope=col>TNR</th><th scope=col>Accuracy</th><th scope=col>BCR</th><th scope=col>F1-Measure</th></tr>\n",
       "</thead>\n",
       "<tbody>\n",
       "\t<tr><th scope=row>tree</th><td>0.9444444</td><td>0.761194</td><td>0.6734694</td><td>0.8155340</td><td>0.7975302</td><td>0.8429752</td></tr>\n",
       "\t<tr><th scope=row>rpart</th><td>0.7407407</td><td>0.754717</td><td>0.7346939</td><td>0.7378641</td><td>0.7377111</td><td>0.7476636</td></tr>\n",
       "\t<tr><th scope=row>c50</th><td>0.0000000</td><td>0.000000</td><td>0.0000000</td><td>0.0000000</td><td>0.0000000</td><td>0.0000000</td></tr>\n",
       "\t<tr><th scope=row>random_forest</th><td>0.0000000</td><td>0.000000</td><td>0.0000000</td><td>0.0000000</td><td>0.0000000</td><td>0.0000000</td></tr>\n",
       "</tbody>\n",
       "</table>\n"
      ],
      "text/latex": [
       "A matrix: 4 × 6 of type dbl\n",
       "\\begin{tabular}{r|llllll}\n",
       "  & TPR & Precision & TNR & Accuracy & BCR & F1-Measure\\\\\n",
       "\\hline\n",
       "\ttree & 0.9444444 & 0.761194 & 0.6734694 & 0.8155340 & 0.7975302 & 0.8429752\\\\\n",
       "\trpart & 0.7407407 & 0.754717 & 0.7346939 & 0.7378641 & 0.7377111 & 0.7476636\\\\\n",
       "\tc50 & 0.0000000 & 0.000000 & 0.0000000 & 0.0000000 & 0.0000000 & 0.0000000\\\\\n",
       "\trandom\\_forest & 0.0000000 & 0.000000 & 0.0000000 & 0.0000000 & 0.0000000 & 0.0000000\\\\\n",
       "\\end{tabular}\n"
      ],
      "text/markdown": [
       "\n",
       "A matrix: 4 × 6 of type dbl\n",
       "\n",
       "| <!--/--> | TPR | Precision | TNR | Accuracy | BCR | F1-Measure |\n",
       "|---|---|---|---|---|---|---|\n",
       "| tree | 0.9444444 | 0.761194 | 0.6734694 | 0.8155340 | 0.7975302 | 0.8429752 |\n",
       "| rpart | 0.7407407 | 0.754717 | 0.7346939 | 0.7378641 | 0.7377111 | 0.7476636 |\n",
       "| c50 | 0.0000000 | 0.000000 | 0.0000000 | 0.0000000 | 0.0000000 | 0.0000000 |\n",
       "| random_forest | 0.0000000 | 0.000000 | 0.0000000 | 0.0000000 | 0.0000000 | 0.0000000 |\n",
       "\n"
      ],
      "text/plain": [
       "              TPR       Precision TNR       Accuracy  BCR       F1-Measure\n",
       "tree          0.9444444 0.761194  0.6734694 0.8155340 0.7975302 0.8429752 \n",
       "rpart         0.7407407 0.754717  0.7346939 0.7378641 0.7377111 0.7476636 \n",
       "c50           0.0000000 0.000000  0.0000000 0.0000000 0.0000000 0.0000000 \n",
       "random_forest 0.0000000 0.000000  0.0000000 0.0000000 0.0000000 0.0000000 "
      ]
     },
     "metadata": {},
     "output_type": "display_data"
    }
   ],
   "source": [
    "rpart_pred <- predict(rpart_model, test, type='class')\n",
    "rpart_cm <- table(test$HeartYN, rpart_pred)\n",
    "Perf_Table_2[2,] <- perf_eval(rpart_cm)\n",
    "Perf_Table_2"
   ]
  },
  {
   "cell_type": "markdown",
   "metadata": {},
   "source": [
    "# C50"
   ]
  },
  {
   "cell_type": "code",
   "execution_count": 130,
   "metadata": {},
   "outputs": [
    {
     "name": "stderr",
     "output_type": "stream",
     "text": [
      "Warning message:\n",
      "\"package 'C50' is in use and will not be installed\"\n"
     ]
    }
   ],
   "source": [
    "install.packages(\"C50\")\n",
    "library(C50)"
   ]
  },
  {
   "cell_type": "code",
   "execution_count": 131,
   "metadata": {},
   "outputs": [],
   "source": [
    "c50_trn <- CART_trn\n",
    "c50_val <- CART_val"
   ]
  },
  {
   "cell_type": "code",
   "execution_count": 132,
   "metadata": {},
   "outputs": [],
   "source": [
    "confidence <- c(0.1,0.25,0.35,0.45) # default 0.25\n",
    "min_cases <- c(2, 5, 10) # default 2\n",
    "c50_pre_search_result = matrix(0,length(min_split)*length(max_depth),8)\n",
    "colnames(c50_pre_search_result) <- c(\"confidence\", \"min_cases\", \"TPR\", \"Precision\", \"TNR\", \"ACC\", \"BCR\", \"F1\")"
   ]
  },
  {
   "cell_type": "code",
   "execution_count": 133,
   "metadata": {},
   "outputs": [],
   "source": [
    "iter_cnt = 1\n",
    "for ( i in 1:length(confidence)){\n",
    "    for ( j in 1:length(min_cases)){\n",
    "        tmp_control <- C5.0Control(CF = confidence[i], minCases = min_cases[j])\n",
    "        tmp_c50_model <- C5.0(HeartYN ~ ., data = c50_trn, method = \"class\",control = tmp_control)\n",
    "        tmp_pred <- predict(tmp_c50_model, c50_val, type='class')\n",
    "        tmp_c50_val_cm <- table(c50_val$HeartYN, tmp_pred)\n",
    "        c50_pre_search_result[iter_cnt,3:8] = perf_eval(tmp_c50_val_cm)\n",
    "        c50_pre_search_result[iter_cnt,1] = confidence[i]\n",
    "        c50_pre_search_result[iter_cnt,2] = min_cases[j]\n",
    "        \n",
    "        iter_cnt = iter_cnt+1\n",
    "\n",
    "    }\n",
    "}"
   ]
  },
  {
   "cell_type": "code",
   "execution_count": 134,
   "metadata": {},
   "outputs": [
    {
     "data": {
      "text/html": [
       "<table>\n",
       "<caption>A matrix: 12 × 8 of type dbl</caption>\n",
       "<thead>\n",
       "\t<tr><th scope=col>confidence</th><th scope=col>min_cases</th><th scope=col>TPR</th><th scope=col>Precision</th><th scope=col>TNR</th><th scope=col>ACC</th><th scope=col>BCR</th><th scope=col>F1</th></tr>\n",
       "</thead>\n",
       "<tbody>\n",
       "\t<tr><td>0.10</td><td> 2</td><td>0.8260870</td><td>0.7450980</td><td>0.6176471</td><td>0.7375</td><td>0.7143040</td><td>0.7835052</td></tr>\n",
       "\t<tr><td>0.10</td><td> 5</td><td>0.8478261</td><td>0.7500000</td><td>0.6176471</td><td>0.7500</td><td>0.7236417</td><td>0.7959184</td></tr>\n",
       "\t<tr><td>0.10</td><td>10</td><td>0.8478261</td><td>0.7500000</td><td>0.6176471</td><td>0.7500</td><td>0.7236417</td><td>0.7959184</td></tr>\n",
       "\t<tr><td>0.25</td><td> 2</td><td>0.7391304</td><td>0.8292683</td><td>0.7941176</td><td>0.7625</td><td>0.7661309</td><td>0.7816092</td></tr>\n",
       "\t<tr><td>0.25</td><td> 5</td><td>0.7826087</td><td>0.8780488</td><td>0.8529412</td><td>0.8125</td><td>0.8170185</td><td>0.8275862</td></tr>\n",
       "\t<tr><td>0.25</td><td>10</td><td>0.8478261</td><td>0.7500000</td><td>0.6176471</td><td>0.7500</td><td>0.7236417</td><td>0.7959184</td></tr>\n",
       "\t<tr><td>0.35</td><td> 2</td><td>0.7391304</td><td>0.8500000</td><td>0.8235294</td><td>0.7750</td><td>0.7801895</td><td>0.7906977</td></tr>\n",
       "\t<tr><td>0.35</td><td> 5</td><td>0.7826087</td><td>0.8780488</td><td>0.8529412</td><td>0.8125</td><td>0.8170185</td><td>0.8275862</td></tr>\n",
       "\t<tr><td>0.35</td><td>10</td><td>0.8478261</td><td>0.7500000</td><td>0.6176471</td><td>0.7500</td><td>0.7236417</td><td>0.7959184</td></tr>\n",
       "\t<tr><td>0.45</td><td> 2</td><td>0.7391304</td><td>0.8500000</td><td>0.8235294</td><td>0.7750</td><td>0.7801895</td><td>0.7906977</td></tr>\n",
       "\t<tr><td>0.45</td><td> 5</td><td>0.7826087</td><td>0.8780488</td><td>0.8529412</td><td>0.8125</td><td>0.8170185</td><td>0.8275862</td></tr>\n",
       "\t<tr><td>0.45</td><td>10</td><td>0.8478261</td><td>0.7500000</td><td>0.6176471</td><td>0.7500</td><td>0.7236417</td><td>0.7959184</td></tr>\n",
       "</tbody>\n",
       "</table>\n"
      ],
      "text/latex": [
       "A matrix: 12 × 8 of type dbl\n",
       "\\begin{tabular}{llllllll}\n",
       " confidence & min\\_cases & TPR & Precision & TNR & ACC & BCR & F1\\\\\n",
       "\\hline\n",
       "\t 0.10 &  2 & 0.8260870 & 0.7450980 & 0.6176471 & 0.7375 & 0.7143040 & 0.7835052\\\\\n",
       "\t 0.10 &  5 & 0.8478261 & 0.7500000 & 0.6176471 & 0.7500 & 0.7236417 & 0.7959184\\\\\n",
       "\t 0.10 & 10 & 0.8478261 & 0.7500000 & 0.6176471 & 0.7500 & 0.7236417 & 0.7959184\\\\\n",
       "\t 0.25 &  2 & 0.7391304 & 0.8292683 & 0.7941176 & 0.7625 & 0.7661309 & 0.7816092\\\\\n",
       "\t 0.25 &  5 & 0.7826087 & 0.8780488 & 0.8529412 & 0.8125 & 0.8170185 & 0.8275862\\\\\n",
       "\t 0.25 & 10 & 0.8478261 & 0.7500000 & 0.6176471 & 0.7500 & 0.7236417 & 0.7959184\\\\\n",
       "\t 0.35 &  2 & 0.7391304 & 0.8500000 & 0.8235294 & 0.7750 & 0.7801895 & 0.7906977\\\\\n",
       "\t 0.35 &  5 & 0.7826087 & 0.8780488 & 0.8529412 & 0.8125 & 0.8170185 & 0.8275862\\\\\n",
       "\t 0.35 & 10 & 0.8478261 & 0.7500000 & 0.6176471 & 0.7500 & 0.7236417 & 0.7959184\\\\\n",
       "\t 0.45 &  2 & 0.7391304 & 0.8500000 & 0.8235294 & 0.7750 & 0.7801895 & 0.7906977\\\\\n",
       "\t 0.45 &  5 & 0.7826087 & 0.8780488 & 0.8529412 & 0.8125 & 0.8170185 & 0.8275862\\\\\n",
       "\t 0.45 & 10 & 0.8478261 & 0.7500000 & 0.6176471 & 0.7500 & 0.7236417 & 0.7959184\\\\\n",
       "\\end{tabular}\n"
      ],
      "text/markdown": [
       "\n",
       "A matrix: 12 × 8 of type dbl\n",
       "\n",
       "| confidence | min_cases | TPR | Precision | TNR | ACC | BCR | F1 |\n",
       "|---|---|---|---|---|---|---|---|\n",
       "| 0.10 |  2 | 0.8260870 | 0.7450980 | 0.6176471 | 0.7375 | 0.7143040 | 0.7835052 |\n",
       "| 0.10 |  5 | 0.8478261 | 0.7500000 | 0.6176471 | 0.7500 | 0.7236417 | 0.7959184 |\n",
       "| 0.10 | 10 | 0.8478261 | 0.7500000 | 0.6176471 | 0.7500 | 0.7236417 | 0.7959184 |\n",
       "| 0.25 |  2 | 0.7391304 | 0.8292683 | 0.7941176 | 0.7625 | 0.7661309 | 0.7816092 |\n",
       "| 0.25 |  5 | 0.7826087 | 0.8780488 | 0.8529412 | 0.8125 | 0.8170185 | 0.8275862 |\n",
       "| 0.25 | 10 | 0.8478261 | 0.7500000 | 0.6176471 | 0.7500 | 0.7236417 | 0.7959184 |\n",
       "| 0.35 |  2 | 0.7391304 | 0.8500000 | 0.8235294 | 0.7750 | 0.7801895 | 0.7906977 |\n",
       "| 0.35 |  5 | 0.7826087 | 0.8780488 | 0.8529412 | 0.8125 | 0.8170185 | 0.8275862 |\n",
       "| 0.35 | 10 | 0.8478261 | 0.7500000 | 0.6176471 | 0.7500 | 0.7236417 | 0.7959184 |\n",
       "| 0.45 |  2 | 0.7391304 | 0.8500000 | 0.8235294 | 0.7750 | 0.7801895 | 0.7906977 |\n",
       "| 0.45 |  5 | 0.7826087 | 0.8780488 | 0.8529412 | 0.8125 | 0.8170185 | 0.8275862 |\n",
       "| 0.45 | 10 | 0.8478261 | 0.7500000 | 0.6176471 | 0.7500 | 0.7236417 | 0.7959184 |\n",
       "\n"
      ],
      "text/plain": [
       "      confidence min_cases TPR       Precision TNR       ACC    BCR      \n",
       " [1,] 0.10        2        0.8260870 0.7450980 0.6176471 0.7375 0.7143040\n",
       " [2,] 0.10        5        0.8478261 0.7500000 0.6176471 0.7500 0.7236417\n",
       " [3,] 0.10       10        0.8478261 0.7500000 0.6176471 0.7500 0.7236417\n",
       " [4,] 0.25        2        0.7391304 0.8292683 0.7941176 0.7625 0.7661309\n",
       " [5,] 0.25        5        0.7826087 0.8780488 0.8529412 0.8125 0.8170185\n",
       " [6,] 0.25       10        0.8478261 0.7500000 0.6176471 0.7500 0.7236417\n",
       " [7,] 0.35        2        0.7391304 0.8500000 0.8235294 0.7750 0.7801895\n",
       " [8,] 0.35        5        0.7826087 0.8780488 0.8529412 0.8125 0.8170185\n",
       " [9,] 0.35       10        0.8478261 0.7500000 0.6176471 0.7500 0.7236417\n",
       "[10,] 0.45        2        0.7391304 0.8500000 0.8235294 0.7750 0.7801895\n",
       "[11,] 0.45        5        0.7826087 0.8780488 0.8529412 0.8125 0.8170185\n",
       "[12,] 0.45       10        0.8478261 0.7500000 0.6176471 0.7500 0.7236417\n",
       "      F1       \n",
       " [1,] 0.7835052\n",
       " [2,] 0.7959184\n",
       " [3,] 0.7959184\n",
       " [4,] 0.7816092\n",
       " [5,] 0.8275862\n",
       " [6,] 0.7959184\n",
       " [7,] 0.7906977\n",
       " [8,] 0.8275862\n",
       " [9,] 0.7959184\n",
       "[10,] 0.7906977\n",
       "[11,] 0.8275862\n",
       "[12,] 0.7959184"
      ]
     },
     "metadata": {},
     "output_type": "display_data"
    }
   ],
   "source": [
    "c50_pre_search_result"
   ]
  },
  {
   "cell_type": "code",
   "execution_count": 135,
   "metadata": {},
   "outputs": [],
   "source": [
    "best_cf <- c50_pre_search_result[12,1]\n",
    "best_mincases <- c50_pre_search_result[12,2]\n",
    "c50_control <- C5.0Control(CF = best_cf, minCases = best_mincases)\n",
    "c50_model <- C5.0(HeartYN ~ ., data = train, method = \"class\",control = c50_control)"
   ]
  },
  {
   "cell_type": "code",
   "execution_count": 136,
   "metadata": {},
   "outputs": [
    {
     "data": {
      "image/png": "[encoded data removed]",
      "text/plain": [
       "plot without title"
      ]
     },
     "metadata": {
      "image/png": {
       "height": 420,
       "width": 420
      },
      "text/plain": {
       "height": 420,
       "width": 420
      }
     },
     "output_type": "display_data"
    }
   ],
   "source": [
    "plot(c50_model)"
   ]
  },
  {
   "cell_type": "code",
   "execution_count": 137,
   "metadata": {},
   "outputs": [
    {
     "data": {
      "text/html": [
       "<table>\n",
       "<caption>A matrix: 4 × 6 of type dbl</caption>\n",
       "<thead>\n",
       "\t<tr><th></th><th scope=col>TPR</th><th scope=col>Precision</th><th scope=col>TNR</th><th scope=col>Accuracy</th><th scope=col>BCR</th><th scope=col>F1-Measure</th></tr>\n",
       "</thead>\n",
       "<tbody>\n",
       "\t<tr><th scope=row>tree</th><td>0.9444444</td><td>0.761194</td><td>0.6734694</td><td>0.8155340</td><td>0.7975302</td><td>0.8429752</td></tr>\n",
       "\t<tr><th scope=row>rpart</th><td>0.7407407</td><td>0.754717</td><td>0.7346939</td><td>0.7378641</td><td>0.7377111</td><td>0.7476636</td></tr>\n",
       "\t<tr><th scope=row>c50</th><td>0.9444444</td><td>0.761194</td><td>0.6734694</td><td>0.8155340</td><td>0.7975302</td><td>0.8429752</td></tr>\n",
       "\t<tr><th scope=row>random_forest</th><td>0.0000000</td><td>0.000000</td><td>0.0000000</td><td>0.0000000</td><td>0.0000000</td><td>0.0000000</td></tr>\n",
       "</tbody>\n",
       "</table>\n"
      ],
      "text/latex": [
       "A matrix: 4 × 6 of type dbl\n",
       "\\begin{tabular}{r|llllll}\n",
       "  & TPR & Precision & TNR & Accuracy & BCR & F1-Measure\\\\\n",
       "\\hline\n",
       "\ttree & 0.9444444 & 0.761194 & 0.6734694 & 0.8155340 & 0.7975302 & 0.8429752\\\\\n",
       "\trpart & 0.7407407 & 0.754717 & 0.7346939 & 0.7378641 & 0.7377111 & 0.7476636\\\\\n",
       "\tc50 & 0.9444444 & 0.761194 & 0.6734694 & 0.8155340 & 0.7975302 & 0.8429752\\\\\n",
       "\trandom\\_forest & 0.0000000 & 0.000000 & 0.0000000 & 0.0000000 & 0.0000000 & 0.0000000\\\\\n",
       "\\end{tabular}\n"
      ],
      "text/markdown": [
       "\n",
       "A matrix: 4 × 6 of type dbl\n",
       "\n",
       "| <!--/--> | TPR | Precision | TNR | Accuracy | BCR | F1-Measure |\n",
       "|---|---|---|---|---|---|---|\n",
       "| tree | 0.9444444 | 0.761194 | 0.6734694 | 0.8155340 | 0.7975302 | 0.8429752 |\n",
       "| rpart | 0.7407407 | 0.754717 | 0.7346939 | 0.7378641 | 0.7377111 | 0.7476636 |\n",
       "| c50 | 0.9444444 | 0.761194 | 0.6734694 | 0.8155340 | 0.7975302 | 0.8429752 |\n",
       "| random_forest | 0.0000000 | 0.000000 | 0.0000000 | 0.0000000 | 0.0000000 | 0.0000000 |\n",
       "\n"
      ],
      "text/plain": [
       "              TPR       Precision TNR       Accuracy  BCR       F1-Measure\n",
       "tree          0.9444444 0.761194  0.6734694 0.8155340 0.7975302 0.8429752 \n",
       "rpart         0.7407407 0.754717  0.7346939 0.7378641 0.7377111 0.7476636 \n",
       "c50           0.9444444 0.761194  0.6734694 0.8155340 0.7975302 0.8429752 \n",
       "random_forest 0.0000000 0.000000  0.0000000 0.0000000 0.0000000 0.0000000 "
      ]
     },
     "metadata": {},
     "output_type": "display_data"
    }
   ],
   "source": [
    "c50_pred <- predict(c50_model, test, type='class')\n",
    "c50_cm <- table(test$HeartYN, c50_pred)\n",
    "Perf_Table_2[3,] <- perf_eval(c50_cm)\n",
    "Perf_Table_2"
   ]
  },
  {
   "cell_type": "markdown",
   "metadata": {},
   "source": [
    "# randomForest"
   ]
  },
  {
   "cell_type": "code",
   "execution_count": 138,
   "metadata": {},
   "outputs": [
    {
     "name": "stderr",
     "output_type": "stream",
     "text": [
      "Warning message:\n",
      "\"package 'randomForest' is in use and will not be installed\"\n"
     ]
    }
   ],
   "source": [
    "install.packages(\"randomForest\")\n",
    "library(randomForest)"
   ]
  },
  {
   "cell_type": "code",
   "execution_count": 139,
   "metadata": {},
   "outputs": [],
   "source": [
    "rf_trn <- CART_trn\n",
    "rf_val <- CART_val"
   ]
  },
  {
   "cell_type": "code",
   "execution_count": 140,
   "metadata": {},
   "outputs": [],
   "source": [
    "ntree <- c(50, 100, 150) \n",
    "mtry <- c(floor(sqrt(ncol(train))),floor(sqrt(ncol(train)))*2,floor(sqrt(ncol(train)))*3)\n",
    "rf_pre_search_result = matrix(0,length(ntree)*length(mtry),8)\n",
    "colnames(rf_pre_search_result) <- c(\"ntree\", \"mtry\", \"TPR\", \"Precision\", \"TNR\", \"ACC\", \"BCR\", \"F1\")"
   ]
  },
  {
   "cell_type": "code",
   "execution_count": 141,
   "metadata": {},
   "outputs": [],
   "source": [
    "iter_cnt = 1\n",
    "for ( i in 1:length(ntree)){\n",
    "    for ( j in 1:length(mtry)){\n",
    "        tmp_rf_model <-randomForest(HeartYN ~ ., data=rf_trn, mtry = mtry[j], ntree = ntree[i], importance = T)\n",
    "        tmp_pred <- predict(tmp_rf_model, rf_val)\n",
    "        tmp_rf_val_cm <- table(rf_val$HeartYN, tmp_pred)\n",
    "        rf_pre_search_result[iter_cnt,3:8] = perf_eval(tmp_rf_val_cm)\n",
    "        rf_pre_search_result[iter_cnt,1] = ntree[i]\n",
    "        rf_pre_search_result[iter_cnt,2] = mtry[j]\n",
    "        \n",
    "        iter_cnt = iter_cnt+1\n",
    "\n",
    "    }\n",
    "}"
   ]
  },
  {
   "cell_type": "code",
   "execution_count": 142,
   "metadata": {},
   "outputs": [
    {
     "data": {
      "text/html": [
       "<table>\n",
       "<caption>A matrix: 9 × 8 of type dbl</caption>\n",
       "<thead>\n",
       "\t<tr><th scope=col>ntree</th><th scope=col>mtry</th><th scope=col>TPR</th><th scope=col>Precision</th><th scope=col>TNR</th><th scope=col>ACC</th><th scope=col>BCR</th><th scope=col>F1</th></tr>\n",
       "</thead>\n",
       "<tbody>\n",
       "\t<tr><td> 50</td><td>3</td><td>0.8478261</td><td>0.8666667</td><td>0.8235294</td><td>0.8375</td><td>0.8355894</td><td>0.8571429</td></tr>\n",
       "\t<tr><td> 50</td><td>6</td><td>0.8478261</td><td>0.8478261</td><td>0.7941176</td><td>0.8250</td><td>0.8205325</td><td>0.8478261</td></tr>\n",
       "\t<tr><td> 50</td><td>9</td><td>0.8478261</td><td>0.8478261</td><td>0.7941176</td><td>0.8250</td><td>0.8205325</td><td>0.8478261</td></tr>\n",
       "\t<tr><td>100</td><td>3</td><td>0.8478261</td><td>0.8125000</td><td>0.7352941</td><td>0.8000</td><td>0.7895578</td><td>0.8297872</td></tr>\n",
       "\t<tr><td>100</td><td>6</td><td>0.8478261</td><td>0.8478261</td><td>0.7941176</td><td>0.8250</td><td>0.8205325</td><td>0.8478261</td></tr>\n",
       "\t<tr><td>100</td><td>9</td><td>0.8478261</td><td>0.8666667</td><td>0.8235294</td><td>0.8375</td><td>0.8355894</td><td>0.8571429</td></tr>\n",
       "\t<tr><td>150</td><td>3</td><td>0.8478261</td><td>0.8297872</td><td>0.7647059</td><td>0.8125</td><td>0.8051941</td><td>0.8387097</td></tr>\n",
       "\t<tr><td>150</td><td>6</td><td>0.8478261</td><td>0.8297872</td><td>0.7647059</td><td>0.8125</td><td>0.8051941</td><td>0.8387097</td></tr>\n",
       "\t<tr><td>150</td><td>9</td><td>0.8478261</td><td>0.8478261</td><td>0.7941176</td><td>0.8250</td><td>0.8205325</td><td>0.8478261</td></tr>\n",
       "</tbody>\n",
       "</table>\n"
      ],
      "text/latex": [
       "A matrix: 9 × 8 of type dbl\n",
       "\\begin{tabular}{llllllll}\n",
       " ntree & mtry & TPR & Precision & TNR & ACC & BCR & F1\\\\\n",
       "\\hline\n",
       "\t  50 & 3 & 0.8478261 & 0.8666667 & 0.8235294 & 0.8375 & 0.8355894 & 0.8571429\\\\\n",
       "\t  50 & 6 & 0.8478261 & 0.8478261 & 0.7941176 & 0.8250 & 0.8205325 & 0.8478261\\\\\n",
       "\t  50 & 9 & 0.8478261 & 0.8478261 & 0.7941176 & 0.8250 & 0.8205325 & 0.8478261\\\\\n",
       "\t 100 & 3 & 0.8478261 & 0.8125000 & 0.7352941 & 0.8000 & 0.7895578 & 0.8297872\\\\\n",
       "\t 100 & 6 & 0.8478261 & 0.8478261 & 0.7941176 & 0.8250 & 0.8205325 & 0.8478261\\\\\n",
       "\t 100 & 9 & 0.8478261 & 0.8666667 & 0.8235294 & 0.8375 & 0.8355894 & 0.8571429\\\\\n",
       "\t 150 & 3 & 0.8478261 & 0.8297872 & 0.7647059 & 0.8125 & 0.8051941 & 0.8387097\\\\\n",
       "\t 150 & 6 & 0.8478261 & 0.8297872 & 0.7647059 & 0.8125 & 0.8051941 & 0.8387097\\\\\n",
       "\t 150 & 9 & 0.8478261 & 0.8478261 & 0.7941176 & 0.8250 & 0.8205325 & 0.8478261\\\\\n",
       "\\end{tabular}\n"
      ],
      "text/markdown": [
       "\n",
       "A matrix: 9 × 8 of type dbl\n",
       "\n",
       "| ntree | mtry | TPR | Precision | TNR | ACC | BCR | F1 |\n",
       "|---|---|---|---|---|---|---|---|\n",
       "|  50 | 3 | 0.8478261 | 0.8666667 | 0.8235294 | 0.8375 | 0.8355894 | 0.8571429 |\n",
       "|  50 | 6 | 0.8478261 | 0.8478261 | 0.7941176 | 0.8250 | 0.8205325 | 0.8478261 |\n",
       "|  50 | 9 | 0.8478261 | 0.8478261 | 0.7941176 | 0.8250 | 0.8205325 | 0.8478261 |\n",
       "| 100 | 3 | 0.8478261 | 0.8125000 | 0.7352941 | 0.8000 | 0.7895578 | 0.8297872 |\n",
       "| 100 | 6 | 0.8478261 | 0.8478261 | 0.7941176 | 0.8250 | 0.8205325 | 0.8478261 |\n",
       "| 100 | 9 | 0.8478261 | 0.8666667 | 0.8235294 | 0.8375 | 0.8355894 | 0.8571429 |\n",
       "| 150 | 3 | 0.8478261 | 0.8297872 | 0.7647059 | 0.8125 | 0.8051941 | 0.8387097 |\n",
       "| 150 | 6 | 0.8478261 | 0.8297872 | 0.7647059 | 0.8125 | 0.8051941 | 0.8387097 |\n",
       "| 150 | 9 | 0.8478261 | 0.8478261 | 0.7941176 | 0.8250 | 0.8205325 | 0.8478261 |\n",
       "\n"
      ],
      "text/plain": [
       "      ntree mtry TPR       Precision TNR       ACC    BCR       F1       \n",
       " [1,]  50   3    0.8478261 0.8666667 0.8235294 0.8375 0.8355894 0.8571429\n",
       " [2,]  50   6    0.8478261 0.8478261 0.7941176 0.8250 0.8205325 0.8478261\n",
       " [3,]  50   9    0.8478261 0.8478261 0.7941176 0.8250 0.8205325 0.8478261\n",
       " [4,] 100   3    0.8478261 0.8125000 0.7352941 0.8000 0.7895578 0.8297872\n",
       " [5,] 100   6    0.8478261 0.8478261 0.7941176 0.8250 0.8205325 0.8478261\n",
       " [6,] 100   9    0.8478261 0.8666667 0.8235294 0.8375 0.8355894 0.8571429\n",
       " [7,] 150   3    0.8478261 0.8297872 0.7647059 0.8125 0.8051941 0.8387097\n",
       " [8,] 150   6    0.8478261 0.8297872 0.7647059 0.8125 0.8051941 0.8387097\n",
       " [9,] 150   9    0.8478261 0.8478261 0.7941176 0.8250 0.8205325 0.8478261"
      ]
     },
     "metadata": {},
     "output_type": "display_data"
    }
   ],
   "source": [
    "rf_pre_search_result"
   ]
  },
  {
   "cell_type": "code",
   "execution_count": 143,
   "metadata": {},
   "outputs": [],
   "source": [
    "best_ntree <- rf_pre_search_result[1,1]\n",
    "best_mtry <- rf_pre_search_result[1,2]\n",
    "rf_model <-randomForest(HeartYN ~ ., data=train, mtry = best_mtry, ntree = best_ntree, importance = T)"
   ]
  },
  {
   "cell_type": "code",
   "execution_count": 144,
   "metadata": {},
   "outputs": [
    {
     "data": {
      "image/png": "[encoded data removed]",
      "text/plain": [
       "Plot with title \"rf_model\""
      ]
     },
     "metadata": {
      "image/png": {
       "height": 420,
       "width": 420
      },
      "text/plain": {
       "height": 420,
       "width": 420
      }
     },
     "output_type": "display_data"
    }
   ],
   "source": [
    "plot(rf_model)"
   ]
  },
  {
   "cell_type": "code",
   "execution_count": 145,
   "metadata": {},
   "outputs": [
    {
     "name": "stdout",
     "output_type": "stream",
     "text": [
      "[[1]]\n",
      "[1] \"age < 54.5  &  sex < 0.5  &  thal < 2.5  =>  1\"\n",
      "\n",
      "[[2]]\n",
      "[1] \"age < 49.5  &  oldpeak < 0.7  &  thal > 2.5  =>  0\"\n",
      "\n",
      "[[3]]\n",
      "[1] \"age > 63.5  &  age > 54.5  &  sex < 0.5  &  thal < 2.5  =>  1\"\n",
      "\n",
      "[[4]]\n",
      "[1] \"age < 60.5  &  fbs > 0.5  &  sex > 0.5  &  thal < 2.5  =>  0\"\n",
      "\n",
      "[[5]]\n",
      "[1] \"cp > 0.5  &  age > 49.5  &  oldpeak < 0.7  &  thal > 2.5  =>  1\"\n",
      "\n",
      "[[6]]\n",
      "[1] \"age < 38.5  &  age < 42.5  &  oldpeak > 0.7  &  thal > 2.5  =>  0\"\n",
      "\n",
      "[[7]]\n",
      "[1] \"age > 38.5  &  age < 42.5  &  oldpeak > 0.7  &  thal > 2.5  =>  1\"\n",
      "\n",
      "[[8]]\n",
      "[1] \"ca > 0.5  &  age > 42.5  &  oldpeak > 0.7  &  thal > 2.5  =>  0\"\n",
      "\n",
      "[[9]]\n",
      "[1] \"oldpeak < 0.7  &  age > 60.5  &  fbs > 0.5  &  sex > 0.5  &  thal < 2.5  =>  1\"\n",
      "\n",
      "[[10]]\n",
      "[1] \"ca > 0.5  &  cp < 0.5  &  age > 49.5  &  oldpeak < 0.7  &  thal > 2.5  =>  0\"\n",
      "\n",
      "[[11]]\n",
      "[1] \"cp < 1  &  ca < 0.5  &  age > 42.5  &  oldpeak > 0.7  &  thal > 2.5  =>  0\"\n",
      "\n",
      "[[12]]\n",
      "[1] \"exang > 0.5  &  slope < 1.5  &  age < 63.5  &  age > 54.5  &  sex < 0.5  &  thal < 2.5  =>  0\"\n",
      "\n",
      "[[13]]\n",
      "[1] \"trestbps < 129  &  slope > 1.5  &  age < 63.5  &  age > 54.5  &  sex < 0.5  &  thal < 2.5  =>  1\"\n",
      "\n",
      "[[14]]\n",
      "[1] \"chol < 244  &  thalach < 161  &  oldpeak < 0.05  &  fbs < 0.5  &  sex > 0.5  &  thal < 2.5  =>  0\"\n",
      "\n",
      "[[15]]\n",
      "[1] \"chol > 244  &  thalach < 161  &  oldpeak < 0.05  &  fbs < 0.5  &  sex > 0.5  &  thal < 2.5  =>  1\"\n",
      "\n",
      "[[16]]\n",
      "[1] \"trestbps > 147  &  thalach > 161  &  oldpeak < 0.05  &  fbs < 0.5  &  sex > 0.5  &  thal < 2.5  =>  0\"\n",
      "\n",
      "[[17]]\n",
      "[1] \"ca > 0.5  &  thalach < 147.5  &  oldpeak > 0.05  &  fbs < 0.5  &  sex > 0.5  &  thal < 2.5  =>  0\"\n",
      "\n",
      "[[18]]\n",
      "[1] \"age < 56  &  thalach > 147.5  &  oldpeak > 0.05  &  fbs < 0.5  &  sex > 0.5  &  thal < 2.5  =>  1\"\n",
      "\n",
      "[[19]]\n",
      "[1] \"age > 56  &  thalach > 147.5  &  oldpeak > 0.05  &  fbs < 0.5  &  sex > 0.5  &  thal < 2.5  =>  0\"\n",
      "\n",
      "[[20]]\n",
      "[1] \"chol < 257.5  &  oldpeak > 0.7  &  age > 60.5  &  fbs > 0.5  &  sex > 0.5  &  thal < 2.5  =>  1\"\n",
      "\n",
      "[[21]]\n",
      "[1] \"chol > 257.5  &  oldpeak > 0.7  &  age > 60.5  &  fbs > 0.5  &  sex > 0.5  &  thal < 2.5  =>  0\"\n",
      "\n",
      "[[22]]\n",
      "[1] \"thalach < 131.5  &  ca < 0.5  &  cp < 0.5  &  age > 49.5  &  oldpeak < 0.7  &  thal > 2.5  =>  0\"\n",
      "\n",
      "[[23]]\n",
      "[1] \"thalach > 131.5  &  ca < 0.5  &  cp < 0.5  &  age > 49.5  &  oldpeak < 0.7  &  thal > 2.5  =>  1\"\n",
      "\n",
      "[[24]]\n",
      "[1] \"chol < 202.5  &  cp > 1  &  ca < 0.5  &  age > 42.5  &  oldpeak > 0.7  &  thal > 2.5  =>  1\"\n",
      "\n",
      "[[25]]\n",
      "[1] \"chol < 216.5  &  exang < 0.5  &  slope < 1.5  &  age < 63.5  &  age > 54.5  &  sex < 0.5  &  thal < 2.5  =>  1\"\n",
      "\n",
      "[[26]]\n",
      "[1] \"chol > 216.5  &  exang < 0.5  &  slope < 1.5  &  age < 63.5  &  age > 54.5  &  sex < 0.5  &  thal < 2.5  =>  1\"\n",
      "\n",
      "[[27]]\n",
      "[1] \"cp < 0.5  &  trestbps > 129  &  slope > 1.5  &  age < 63.5  &  age > 54.5  &  sex < 0.5  &  thal < 2.5  =>  0\"\n",
      "\n",
      "[[28]]\n",
      "[1] \"trestbps < 111  &  trestbps < 147  &  thalach > 161  &  oldpeak < 0.05  &  fbs < 0.5  &  sex > 0.5  &  thal < 2.5  =>  0\"\n",
      "\n",
      "[[29]]\n",
      "[1] \"trestbps > 111  &  trestbps < 147  &  thalach > 161  &  oldpeak < 0.05  &  fbs < 0.5  &  sex > 0.5  &  thal < 2.5  =>  1\"\n",
      "\n",
      "[[30]]\n",
      "[1] \"slope > 1.5  &  ca < 0.5  &  thalach < 147.5  &  oldpeak > 0.05  &  fbs < 0.5  &  sex > 0.5  &  thal < 2.5  =>  1\"\n",
      "\n",
      "[[31]]\n",
      "[1] \"oldpeak < 1.4  &  chol > 202.5  &  cp > 1  &  ca < 0.5  &  age > 42.5  &  oldpeak > 0.7  &  thal > 2.5  =>  0\"\n",
      "\n",
      "[[32]]\n",
      "[1] \"oldpeak > 1.4  &  chol > 202.5  &  cp > 1  &  ca < 0.5  &  age > 42.5  &  oldpeak > 0.7  &  thal > 2.5  =>  1\"\n",
      "\n",
      "[[33]]\n",
      "[1] \"ca < 1  &  cp > 0.5  &  trestbps > 129  &  slope > 1.5  &  age < 63.5  &  age > 54.5  &  sex < 0.5  &  thal < 2.5  =>  1\"\n",
      "\n",
      "[[34]]\n",
      "[1] \"age < 51.5  &  slope < 1.5  &  ca < 0.5  &  thalach < 147.5  &  oldpeak > 0.05  &  fbs < 0.5  &  sex > 0.5  &  thal < 2.5  =>  0\"\n",
      "\n",
      "[[35]]\n",
      "[1] \"age > 51.5  &  slope < 1.5  &  ca < 0.5  &  thalach < 147.5  &  oldpeak > 0.05  &  fbs < 0.5  &  sex > 0.5  &  thal < 2.5  =>  1\"\n",
      "\n",
      "[[36]]\n",
      "[1] \"fbs < 0.5  &  ca > 1  &  cp > 0.5  &  trestbps > 129  &  slope > 1.5  &  age < 63.5  &  age > 54.5  &  sex < 0.5  &  thal < 2.5  =>  1\"\n",
      "\n",
      "[[37]]\n",
      "[1] \"fbs > 0.5  &  ca > 1  &  cp > 0.5  &  trestbps > 129  &  slope > 1.5  &  age < 63.5  &  age > 54.5  &  sex < 0.5  &  thal < 2.5  =>  0\"\n",
      "\n"
     ]
    }
   ],
   "source": [
    "getConds<-function(tree){\n",
    "  #store all conditions into a list\n",
    "  conds<-list()\n",
    "  #start by the terminal nodes and find previous conditions\n",
    "  id.leafs<-which(tree$status==-1)\n",
    "\t  j<-0\n",
    "\t  for(i in id.leafs){\n",
    "\t\tj<-j+1\n",
    "\t\tprevConds<-prevCond(tree,i)\n",
    "\t\tconds[[j]]<-prevConds$cond\n",
    "\t\twhile(prevConds$id>1){\n",
    "\t\t  prevConds<-prevCond(tree,prevConds$id)\n",
    "\t\t  conds[[j]]<-paste(conds[[j]],\" & \",prevConds$cond)\n",
    "        }\n",
    "\t\tif(prevConds$id==1){\n",
    "\t\t\tconds[[j]]<-paste(conds[[j]],\" => \",tree$prediction[i])\n",
    "        }\n",
    "    }\n",
    "\n",
    "\n",
    "  return(conds)\n",
    "}\n",
    "\n",
    "#**************************\n",
    "#find the previous conditions in the tree\n",
    "#**************************\n",
    "prevCond<-function(tree,i){\n",
    "  if(i %in% tree$right_daughter){\n",
    "\t\tid<-which(tree$right_daughter==i)\n",
    "\t\tcond<-paste(tree$split_var[id],\">\",tree$split_point[id])\n",
    "\t  }\n",
    "\t  if(i %in% tree$left_daughter){\n",
    "    id<-which(tree$left_daughter==i)\n",
    "\t\tcond<-paste(tree$split_var[id],\"<\",tree$split_point[id])\n",
    "  }\n",
    "\n",
    "  return(list(cond=cond,id=id))\n",
    "}\n",
    "\n",
    "#remove spaces in a word\n",
    "collapse<-function(x){\n",
    "  x<-sub(\" \",\"_\",x)\n",
    "\n",
    "  return(x)\n",
    "}\n",
    "tree<-getTree(rf_model, k=1, labelVar=TRUE)\n",
    "#rename the name of the column\n",
    "colnames(tree)<-sapply(colnames(tree),collapse)\n",
    "rules<-getConds(tree)\n",
    "print(rules)"
   ]
  },
  {
   "cell_type": "code",
   "execution_count": 146,
   "metadata": {},
   "outputs": [
    {
     "data": {
      "text/html": [
       "<table>\n",
       "<caption>A matrix: 4 × 6 of type dbl</caption>\n",
       "<thead>\n",
       "\t<tr><th></th><th scope=col>TPR</th><th scope=col>Precision</th><th scope=col>TNR</th><th scope=col>Accuracy</th><th scope=col>BCR</th><th scope=col>F1-Measure</th></tr>\n",
       "</thead>\n",
       "<tbody>\n",
       "\t<tr><th scope=row>tree</th><td>0.9444444</td><td>0.7611940</td><td>0.6734694</td><td>0.8155340</td><td>0.7975302</td><td>0.8429752</td></tr>\n",
       "\t<tr><th scope=row>rpart</th><td>0.7407407</td><td>0.7547170</td><td>0.7346939</td><td>0.7378641</td><td>0.7377111</td><td>0.7476636</td></tr>\n",
       "\t<tr><th scope=row>c50</th><td>0.9444444</td><td>0.7611940</td><td>0.6734694</td><td>0.8155340</td><td>0.7975302</td><td>0.8429752</td></tr>\n",
       "\t<tr><th scope=row>random_forest</th><td>0.8888889</td><td>0.7619048</td><td>0.6938776</td><td>0.7961165</td><td>0.7853535</td><td>0.8205128</td></tr>\n",
       "</tbody>\n",
       "</table>\n"
      ],
      "text/latex": [
       "A matrix: 4 × 6 of type dbl\n",
       "\\begin{tabular}{r|llllll}\n",
       "  & TPR & Precision & TNR & Accuracy & BCR & F1-Measure\\\\\n",
       "\\hline\n",
       "\ttree & 0.9444444 & 0.7611940 & 0.6734694 & 0.8155340 & 0.7975302 & 0.8429752\\\\\n",
       "\trpart & 0.7407407 & 0.7547170 & 0.7346939 & 0.7378641 & 0.7377111 & 0.7476636\\\\\n",
       "\tc50 & 0.9444444 & 0.7611940 & 0.6734694 & 0.8155340 & 0.7975302 & 0.8429752\\\\\n",
       "\trandom\\_forest & 0.8888889 & 0.7619048 & 0.6938776 & 0.7961165 & 0.7853535 & 0.8205128\\\\\n",
       "\\end{tabular}\n"
      ],
      "text/markdown": [
       "\n",
       "A matrix: 4 × 6 of type dbl\n",
       "\n",
       "| <!--/--> | TPR | Precision | TNR | Accuracy | BCR | F1-Measure |\n",
       "|---|---|---|---|---|---|---|\n",
       "| tree | 0.9444444 | 0.7611940 | 0.6734694 | 0.8155340 | 0.7975302 | 0.8429752 |\n",
       "| rpart | 0.7407407 | 0.7547170 | 0.7346939 | 0.7378641 | 0.7377111 | 0.7476636 |\n",
       "| c50 | 0.9444444 | 0.7611940 | 0.6734694 | 0.8155340 | 0.7975302 | 0.8429752 |\n",
       "| random_forest | 0.8888889 | 0.7619048 | 0.6938776 | 0.7961165 | 0.7853535 | 0.8205128 |\n",
       "\n"
      ],
      "text/plain": [
       "              TPR       Precision TNR       Accuracy  BCR       F1-Measure\n",
       "tree          0.9444444 0.7611940 0.6734694 0.8155340 0.7975302 0.8429752 \n",
       "rpart         0.7407407 0.7547170 0.7346939 0.7378641 0.7377111 0.7476636 \n",
       "c50           0.9444444 0.7611940 0.6734694 0.8155340 0.7975302 0.8429752 \n",
       "random_forest 0.8888889 0.7619048 0.6938776 0.7961165 0.7853535 0.8205128 "
      ]
     },
     "metadata": {},
     "output_type": "display_data"
    }
   ],
   "source": [
    "rf_pred <- predict(rf_model, test, type='class')\n",
    "rf_cm <- table(test$HeartYN, rf_pred)\n",
    "Perf_Table_2[4,] <- perf_eval(rf_cm)\n",
    "Perf_Table_2"
   ]
  },
  {
   "cell_type": "code",
   "execution_count": null,
   "metadata": {},
   "outputs": [],
   "source": []
  }
 ],
 "metadata": {
  "kernelspec": {
   "display_name": "R",
   "language": "R",
   "name": "ir"
  },
  "language_info": {
   "codemirror_mode": "r",
   "file_extension": ".r",
   "mimetype": "text/x-r-source",
   "name": "R",
   "pygments_lexer": "r",
   "version": "3.6.3"
  }
 },
 "nbformat": 4,
 "nbformat_minor": 4
}
