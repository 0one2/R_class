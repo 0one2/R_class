{
 "cells": [
  {
   "cell_type": "code",
   "execution_count": 1,
   "metadata": {
    "_execution_state": "idle",
    "_uuid": "051d70d956493feee0c6d64651c6a088724dca2a"
   },
   "outputs": [
    {
     "name": "stderr",
     "output_type": "stream",
     "text": [
      "── \u001b[1mAttaching packages\u001b[22m ─────────────────────────────────────── tidyverse 1.3.0 ──\n",
      "\n",
      "\u001b[32m✔\u001b[39m \u001b[34mggplot2\u001b[39m 3.3.0.\u001b[31m9000\u001b[39m     \u001b[32m✔\u001b[39m \u001b[34mpurrr  \u001b[39m 0.3.4     \n",
      "\u001b[32m✔\u001b[39m \u001b[34mtibble \u001b[39m 3.0.1          \u001b[32m✔\u001b[39m \u001b[34mdplyr  \u001b[39m 0.8.5     \n",
      "\u001b[32m✔\u001b[39m \u001b[34mtidyr  \u001b[39m 1.0.3          \u001b[32m✔\u001b[39m \u001b[34mstringr\u001b[39m 1.4.0     \n",
      "\u001b[32m✔\u001b[39m \u001b[34mreadr  \u001b[39m 1.3.1          \u001b[32m✔\u001b[39m \u001b[34mforcats\u001b[39m 0.5.0     \n",
      "\n",
      "── \u001b[1mConflicts\u001b[22m ────────────────────────────────────────── tidyverse_conflicts() ──\n",
      "\u001b[31m✖\u001b[39m \u001b[34mdplyr\u001b[39m::\u001b[32mfilter()\u001b[39m masks \u001b[34mstats\u001b[39m::filter()\n",
      "\u001b[31m✖\u001b[39m \u001b[34mdplyr\u001b[39m::\u001b[32mlag()\u001b[39m    masks \u001b[34mstats\u001b[39m::lag()\n",
      "\n"
     ]
    },
    {
     "data": {
      "text/html": [
       "'a6-essemble'"
      ],
      "text/latex": [
       "'a6-essemble'"
      ],
      "text/markdown": [
       "'a6-essemble'"
      ],
      "text/plain": [
       "[1] \"a6-essemble\""
      ]
     },
     "metadata": {},
     "output_type": "display_data"
    }
   ],
   "source": [
    "# This R environment comes with many helpful analytics packages installed\n",
    "# It is defined by the kaggle/rstats Docker image: https://github.com/kaggle/docker-rstats\n",
    "# For example, here's a helpful package to load\n",
    "\n",
    "library(tidyverse) # metapackage of all tidyverse packages\n",
    "\n",
    "# Input data files are available in the read-only \"../input/\" directory\n",
    "# For example, running this (by clicking run or pressing Shift+Enter) will list all files under the input directory\n",
    "\n",
    "list.files(path = \"../input\")\n",
    "\n",
    "# You can write up to 5GB to the current directory (/kaggle/working/) that gets preserved as output when you create a version using \"Save & Run All\" \n",
    "# You can also write temporary files to /kaggle/temp/, but they won't be saved outside of the current session"
   ]
  },
  {
   "cell_type": "code",
   "execution_count": 2,
   "metadata": {},
   "outputs": [],
   "source": [
    "data <- read.csv(\"../input/a6-essemble/Earthquate_Damage.csv\")"
   ]
  },
  {
   "cell_type": "code",
   "execution_count": 3,
   "metadata": {},
   "outputs": [],
   "source": [
    "perf_eval_multi <- function(cm){\n",
    "  \n",
    "  # Simple Accuracy\n",
    "  ACC = sum(diag(cm))/sum(cm)\n",
    "  \n",
    "  # Balanced Correction Rate\n",
    "  BCR = 1\n",
    "  for (i in 1:dim(cm)[1]){\n",
    "    BCR = BCR*(cm[i,i]/sum(cm[i,])) \n",
    "  }\n",
    "  \n",
    "  BCR = BCR^(1/dim(cm)[1])\n",
    "  \n",
    "  return(c(ACC, BCR))\n",
    "}"
   ]
  },
  {
   "cell_type": "code",
   "execution_count": 4,
   "metadata": {},
   "outputs": [],
   "source": [
    "set.seed(42)\n",
    "trn_idx <- sample(1:nrow(data), 150000)\n",
    "train <- data[trn_idx,]\n",
    "tmp <- data[-trn_idx,]\n",
    "val_idx <- sample(1:nrow(tmp),50000)\n",
    "val <- tmp[val_idx,]\n",
    "test <- tmp[-val_idx,]\n",
    "all_train <- rbind(train,val)"
   ]
  },
  {
   "cell_type": "code",
   "execution_count": 5,
   "metadata": {},
   "outputs": [],
   "source": [
    "val$damage_grade <- as.factor(val$damage_grade)\n",
    "train$damage_grade <- as.factor(train$damage_grade)\n",
    "all_train$damage_grade <- as.factor(all_train$damage_grade)\n",
    "test$damage_grade <- as.factor(test$damage_grade)"
   ]
  },
  {
   "cell_type": "code",
   "execution_count": 6,
   "metadata": {},
   "outputs": [
    {
     "name": "stderr",
     "output_type": "stream",
     "text": [
      "Installing package into ‘/usr/local/lib/R/site-library’\n",
      "(as ‘lib’ is unspecified)\n",
      "\n",
      "Loading required package: rpart\n",
      "\n",
      "Loading required package: caret\n",
      "\n",
      "Loading required package: lattice\n",
      "\n",
      "\n",
      "Attaching package: ‘caret’\n",
      "\n",
      "\n",
      "The following object is masked from ‘package:purrr’:\n",
      "\n",
      "    lift\n",
      "\n",
      "\n",
      "The following object is masked from ‘package:httr’:\n",
      "\n",
      "    progress\n",
      "\n",
      "\n",
      "Loading required package: foreach\n",
      "\n",
      "\n",
      "Attaching package: ‘foreach’\n",
      "\n",
      "\n",
      "The following objects are masked from ‘package:purrr’:\n",
      "\n",
      "    accumulate, when\n",
      "\n",
      "\n",
      "Loading required package: doParallel\n",
      "\n",
      "Loading required package: iterators\n",
      "\n",
      "Loading required package: parallel\n",
      "\n"
     ]
    }
   ],
   "source": [
    "install.packages(\"adabag\")\n",
    "library(adabag)"
   ]
  },
  {
   "cell_type": "code",
   "execution_count": 7,
   "metadata": {},
   "outputs": [],
   "source": [
    "max_depth <- c(2,3,4)\n",
    "mfinal <- c(10,20,30)"
   ]
  },
  {
   "cell_type": "code",
   "execution_count": 8,
   "metadata": {},
   "outputs": [],
   "source": [
    "ada_pre_result = matrix(0,9,4)\n",
    "colnames(ada_pre_result) <- c(\"mfinal\",\"max_depth\",\"ACC\", \"BCR\")"
   ]
  },
  {
   "cell_type": "code",
   "execution_count": 9,
   "metadata": {},
   "outputs": [],
   "source": [
    "iters_cnt <- 1\n",
    "for(i in 1:3){\n",
    "    for(j in 1:3){\n",
    "        tmp_model <- boosting(damage_grade~., data=train[1:20000,], boos=TRUE, mfinal=mfinal[i],control=c(maxdepth=max_depth[j]))\n",
    "        tmp_pred <- predict.bagging(tmp_model, newdata=val)\n",
    "        ada_pre_result[iters_cnt,1] <- mfinal[i]\n",
    "        ada_pre_result[iters_cnt,2] <- max_depth[j]\n",
    "        ada_pre_result[iters_cnt,3:4] <- perf_eval_multi(tmp_pred$confusion)\n",
    "        iters_cnt <- iters_cnt +1\n",
    "    }\n",
    "}"
   ]
  },
  {
   "cell_type": "code",
   "execution_count": 10,
   "metadata": {},
   "outputs": [
    {
     "data": {
      "text/html": [
       "<table>\n",
       "<caption>A matrix: 9 × 4 of type dbl</caption>\n",
       "<thead>\n",
       "\t<tr><th scope=col>mfinal</th><th scope=col>max_depth</th><th scope=col>ACC</th><th scope=col>BCR</th></tr>\n",
       "</thead>\n",
       "<tbody>\n",
       "\t<tr><td>10</td><td>2</td><td>0.63460</td><td>0.6575046</td></tr>\n",
       "\t<tr><td>10</td><td>3</td><td>0.62940</td><td>0.6833075</td></tr>\n",
       "\t<tr><td>10</td><td>4</td><td>0.63324</td><td>0.6676789</td></tr>\n",
       "\t<tr><td>20</td><td>2</td><td>0.57510</td><td>0.5089399</td></tr>\n",
       "\t<tr><td>20</td><td>3</td><td>0.63494</td><td>0.6749944</td></tr>\n",
       "\t<tr><td>20</td><td>4</td><td>0.62584</td><td>0.6668763</td></tr>\n",
       "\t<tr><td>30</td><td>2</td><td>0.57546</td><td>0.5360569</td></tr>\n",
       "\t<tr><td>30</td><td>3</td><td>0.63752</td><td>0.6545663</td></tr>\n",
       "\t<tr><td>30</td><td>4</td><td>0.62846</td><td>0.6639726</td></tr>\n",
       "</tbody>\n",
       "</table>\n"
      ],
      "text/latex": [
       "A matrix: 9 × 4 of type dbl\n",
       "\\begin{tabular}{llll}\n",
       " mfinal & max\\_depth & ACC & BCR\\\\\n",
       "\\hline\n",
       "\t 10 & 2 & 0.63460 & 0.6575046\\\\\n",
       "\t 10 & 3 & 0.62940 & 0.6833075\\\\\n",
       "\t 10 & 4 & 0.63324 & 0.6676789\\\\\n",
       "\t 20 & 2 & 0.57510 & 0.5089399\\\\\n",
       "\t 20 & 3 & 0.63494 & 0.6749944\\\\\n",
       "\t 20 & 4 & 0.62584 & 0.6668763\\\\\n",
       "\t 30 & 2 & 0.57546 & 0.5360569\\\\\n",
       "\t 30 & 3 & 0.63752 & 0.6545663\\\\\n",
       "\t 30 & 4 & 0.62846 & 0.6639726\\\\\n",
       "\\end{tabular}\n"
      ],
      "text/markdown": [
       "\n",
       "A matrix: 9 × 4 of type dbl\n",
       "\n",
       "| mfinal | max_depth | ACC | BCR |\n",
       "|---|---|---|---|\n",
       "| 10 | 2 | 0.63460 | 0.6575046 |\n",
       "| 10 | 3 | 0.62940 | 0.6833075 |\n",
       "| 10 | 4 | 0.63324 | 0.6676789 |\n",
       "| 20 | 2 | 0.57510 | 0.5089399 |\n",
       "| 20 | 3 | 0.63494 | 0.6749944 |\n",
       "| 20 | 4 | 0.62584 | 0.6668763 |\n",
       "| 30 | 2 | 0.57546 | 0.5360569 |\n",
       "| 30 | 3 | 0.63752 | 0.6545663 |\n",
       "| 30 | 4 | 0.62846 | 0.6639726 |\n",
       "\n"
      ],
      "text/plain": [
       "      mfinal max_depth ACC     BCR      \n",
       " [1,] 10     2         0.63460 0.6575046\n",
       " [2,] 10     3         0.62940 0.6833075\n",
       " [3,] 10     4         0.63324 0.6676789\n",
       " [4,] 20     2         0.57510 0.5089399\n",
       " [5,] 20     3         0.63494 0.6749944\n",
       " [6,] 20     4         0.62584 0.6668763\n",
       " [7,] 30     2         0.57546 0.5360569\n",
       " [8,] 30     3         0.63752 0.6545663\n",
       " [9,] 30     4         0.62846 0.6639726"
      ]
     },
     "metadata": {},
     "output_type": "display_data"
    }
   ],
   "source": [
    "ada_pre_result"
   ]
  },
  {
   "cell_type": "code",
   "execution_count": 12,
   "metadata": {},
   "outputs": [],
   "source": [
    "model <- boosting(damage_grade~., data=all_train, boos=TRUE, mfinal=10,control=c(maxdepth=3))"
   ]
  },
  {
   "cell_type": "code",
   "execution_count": 13,
   "metadata": {},
   "outputs": [
    {
     "data": {
      "text/html": [
       "<style>\n",
       ".list-inline {list-style: none; margin:0; padding: 0}\n",
       ".list-inline>li {display: inline-block}\n",
       ".list-inline>li:not(:last-child)::after {content: \"\\00b7\"; padding: 0 .5ex}\n",
       "</style>\n",
       "<ol class=list-inline><li>0.633883929308097</li><li>0.666740772072171</li></ol>\n"
      ],
      "text/latex": [
       "\\begin{enumerate*}\n",
       "\\item 0.633883929308097\n",
       "\\item 0.666740772072171\n",
       "\\end{enumerate*}\n"
      ],
      "text/markdown": [
       "1. 0.633883929308097\n",
       "2. 0.666740772072171\n",
       "\n",
       "\n"
      ],
      "text/plain": [
       "[1] 0.6338839 0.6667408"
      ]
     },
     "metadata": {},
     "output_type": "display_data"
    }
   ],
   "source": [
    "pred <- predict.bagging(model, newdata=test)\n",
    "perf_eval_multi(pred$confusion)"
   ]
  },
  {
   "cell_type": "code",
   "execution_count": null,
   "metadata": {},
   "outputs": [],
   "source": []
  }
 ],
 "metadata": {
  "kernelspec": {
   "display_name": "R",
   "language": "R",
   "name": "ir"
  },
  "language_info": {
   "codemirror_mode": "r",
   "file_extension": ".r",
   "mimetype": "text/x-r-source",
   "name": "R",
   "pygments_lexer": "r",
   "version": "3.6.3"
  }
 },
 "nbformat": 4,
 "nbformat_minor": 4
}
