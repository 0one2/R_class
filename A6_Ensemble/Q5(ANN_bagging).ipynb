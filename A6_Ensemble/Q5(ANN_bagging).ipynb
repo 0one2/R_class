{
 "cells": [
  {
   "cell_type": "code",
   "execution_count": 1,
   "metadata": {
    "_execution_state": "idle",
    "_uuid": "051d70d956493feee0c6d64651c6a088724dca2a"
   },
   "outputs": [
    {
     "name": "stderr",
     "output_type": "stream",
     "text": [
      "── \u001b[1mAttaching packages\u001b[22m ─────────────────────────────────────── tidyverse 1.3.0 ──\n",
      "\n",
      "\u001b[32m✔\u001b[39m \u001b[34mggplot2\u001b[39m 3.3.0.\u001b[31m9000\u001b[39m     \u001b[32m✔\u001b[39m \u001b[34mpurrr  \u001b[39m 0.3.4     \n",
      "\u001b[32m✔\u001b[39m \u001b[34mtibble \u001b[39m 3.0.1          \u001b[32m✔\u001b[39m \u001b[34mdplyr  \u001b[39m 0.8.5     \n",
      "\u001b[32m✔\u001b[39m \u001b[34mtidyr  \u001b[39m 1.0.3          \u001b[32m✔\u001b[39m \u001b[34mstringr\u001b[39m 1.4.0     \n",
      "\u001b[32m✔\u001b[39m \u001b[34mreadr  \u001b[39m 1.3.1          \u001b[32m✔\u001b[39m \u001b[34mforcats\u001b[39m 0.5.0     \n",
      "\n",
      "── \u001b[1mConflicts\u001b[22m ────────────────────────────────────────── tidyverse_conflicts() ──\n",
      "\u001b[31m✖\u001b[39m \u001b[34mdplyr\u001b[39m::\u001b[32mfilter()\u001b[39m masks \u001b[34mstats\u001b[39m::filter()\n",
      "\u001b[31m✖\u001b[39m \u001b[34mdplyr\u001b[39m::\u001b[32mlag()\u001b[39m    masks \u001b[34mstats\u001b[39m::lag()\n",
      "\n"
     ]
    },
    {
     "data": {
      "text/html": [
       "'a6-essemble'"
      ],
      "text/latex": [
       "'a6-essemble'"
      ],
      "text/markdown": [
       "'a6-essemble'"
      ],
      "text/plain": [
       "[1] \"a6-essemble\""
      ]
     },
     "metadata": {},
     "output_type": "display_data"
    }
   ],
   "source": [
    "# This R environment comes with many helpful analytics packages installed\n",
    "# It is defined by the kaggle/rstats Docker image: https://github.com/kaggle/docker-rstats\n",
    "# For example, here's a helpful package to load\n",
    "\n",
    "library(tidyverse) # metapackage of all tidyverse packages\n",
    "\n",
    "# Input data files are available in the read-only \"../input/\" directory\n",
    "# For example, running this (by clicking run or pressing Shift+Enter) will list all files under the input directory\n",
    "\n",
    "list.files(path = \"../input\")\n",
    "\n",
    "# You can write up to 5GB to the current directory (/kaggle/working/) that gets preserved as output when you create a version using \"Save & Run All\" \n",
    "# You can also write temporary files to /kaggle/temp/, but they won't be saved outside of the current session"
   ]
  },
  {
   "cell_type": "code",
   "execution_count": 2,
   "metadata": {},
   "outputs": [
    {
     "name": "stderr",
     "output_type": "stream",
     "text": [
      "Installing package into ‘/usr/local/lib/R/site-library’\n",
      "(as ‘lib’ is unspecified)\n",
      "\n"
     ]
    }
   ],
   "source": [
    "data <- read.csv(\"../input/a6-essemble/Earthquate_Damage.csv\")\n",
    "cat_cols <- c(\"land_surface_condition\",\"foundation_type\",\n",
    "              \"roof_type\",\"ground_floor_type\",\n",
    "             \"other_floor_type\",\"position\",\n",
    "              \"plan_configuration\",\"legal_ownership_status\")\n",
    "install.packages(\"nnet\")\n",
    "library(nnet)\n",
    "j <- 1\n",
    "for(i in 1:length(cat_cols)){\n",
    "    tmp <- class.ind(data[,cat_cols[i]])\n",
    "    colnames(tmp) <- (j:(j+length(colnames(tmp)) - 1))\n",
    "    data <- cbind(data,tmp)\n",
    "    j <- (j+length(colnames(tmp)))\n",
    "}\n",
    "data <- data[,!(names(data)%in%cat_cols)]\n",
    "scaled_data <- scale(data[,1:31],center=TRUE,scale=TRUE)\n",
    "other_data <- data[,32:70]\n",
    "data <- cbind(scaled_data,other_data)\n",
    "rm(scaled_data)\n",
    "rm(other_data)\n",
    "set.seed(42)\n",
    "trn_idx <- sample(1:nrow(data), 150000)\n",
    "train <- data[trn_idx,]\n",
    "tmp <- data[-trn_idx,]\n",
    "val_idx <- sample(1:nrow(tmp),50000)\n",
    "val <- tmp[val_idx,]\n",
    "test <- tmp[-val_idx,]\n",
    "rm(trn_idx)\n",
    "rm(val_idx)\n",
    "train <- rbind(train,val)\n",
    "rm(val)\n",
    "perf_eval_multi <- function(cm){\n",
    "  \n",
    "  # Simple Accuracy\n",
    "  ACC = sum(diag(cm))/sum(cm)\n",
    "  \n",
    "  # Balanced Correction Rate\n",
    "  BCR = 1\n",
    "  for (i in 1:dim(cm)[1]){\n",
    "    BCR = BCR*(cm[i,i]/sum(cm[i,])) \n",
    "  }\n",
    "  \n",
    "  BCR = BCR^(1/dim(cm)[1])\n",
    "  \n",
    "  return(c(ACC, BCR))\n",
    "}\n",
    "prediction_one <- function(pred){\n",
    "    tmp <- apply(pred,1,which.max)\n",
    "    for (i in 1:nrow(pred)){\n",
    "        pred[i,tmp[i]] <- 1\n",
    "        pred[i,-tmp[i]] <- 0\n",
    "    }\n",
    "    return(pred)\n",
    "}\n",
    "set.seed(42)\n",
    "trn_idx <- sample(1:nrow(data), 150000)\n",
    "train <- data[trn_idx,]\n",
    "tmp <- data[-trn_idx,]\n",
    "val_idx <- sample(1:nrow(tmp),50000)\n",
    "val <- tmp[val_idx,]\n",
    "test <- tmp[-val_idx,]\n",
    "x_train <- train[,!(names(train)%in%\"damage_grade\")]\n",
    "y_train <- train[,(names(train)%in%\"damage_grade\")]\n",
    "y_train <- class.ind(y_train)\n",
    "x_val <- val[,!(names(val)%in%\"damage_grade\")]\n",
    "y_val <- val[,(names(val)%in%\"damage_grade\")]\n",
    "y_val <- class.ind(y_val) \n",
    "x_test <- test[,!(names(test)%in%\"damage_grade\")]\n",
    "y_test <- test[,(names(test)%in%\"damage_grade\")]\n",
    "#y_test <- class.ind(y_test)\n",
    "all_x_train <- rbind(x_train,x_val)\n",
    "all_y_train <- rbind(y_train,y_val)\n",
    "all_x_train <- as.matrix(all_x_train)\n",
    "all_y_train <- as.matrix(all_y_train)\n",
    "x_test <- as.matrix(x_test)"
   ]
  },
  {
   "cell_type": "code",
   "execution_count": 3,
   "metadata": {},
   "outputs": [],
   "source": [
    "library(keras)"
   ]
  },
  {
   "cell_type": "code",
   "execution_count": 4,
   "metadata": {},
   "outputs": [],
   "source": [
    "ann_boots <- function(seed,nh,epochs){\n",
    "    \n",
    "    set.seed(seed)\n",
    "    boots_idx <- sample(1:nrow(all_x_train),50000,replace=TRUE)\n",
    "    tmp_x_train <- all_x_train[boots_idx,]\n",
    "    tmp_y_train <- all_y_train[boots_idx,]\n",
    "    model <- keras_model_sequential() \n",
    "    model %>% \n",
    "      layer_dense(units = nh, input_shape = c(69)) %>% \n",
    "      layer_activation('relu') %>% \n",
    "      layer_dense(units = 3) %>% \n",
    "      layer_activation('softmax')\n",
    "    \n",
    "    model %>% compile(\n",
    "      loss = \"categorical_crossentropy\",\n",
    "      optimizer = optimizer_rmsprop(),\n",
    "      metrics = c(\"accuracy\")\n",
    "    )\n",
    "    \n",
    "    history <- model %>% fit(\n",
    "      tmp_x_train, tmp_y_train, verbose=0,\n",
    "      epochs = epochs, batch_size = 4096, \n",
    "    )\n",
    "    \n",
    "    preds <- model %>% predict_proba(x_test)\n",
    "    return(preds)\n",
    "}"
   ]
  },
  {
   "cell_type": "code",
   "execution_count": 5,
   "metadata": {},
   "outputs": [],
   "source": [
    "ann_result <- array(0, dim=c(nrow(test),3,330))"
   ]
  },
  {
   "cell_type": "code",
   "execution_count": 6,
   "metadata": {},
   "outputs": [],
   "source": [
    "tmp_preds <- c(rep(0,times=nrow(x_test)))\n",
    "tmp_repeat_preds <- c(rep(0,times=nrow(x_test)))\n",
    "iter_cnt <- 1\n",
    "for (i in 1:330){\n",
    "    ann_result[,,iter_cnt] <- ann_boots(i,50,50)\n",
    "    iter_cnt <- iter_cnt+1\n",
    "}"
   ]
  },
  {
   "cell_type": "code",
   "execution_count": 7,
   "metadata": {},
   "outputs": [],
   "source": [
    "generate_bagging <- function(index,num){\n",
    "    result <- array(0, dim=c(nrow(test),3))\n",
    "    for (i in index){\n",
    "        result <- result + ann_result[,,i]\n",
    "    }\n",
    "    result <- result/num\n",
    "    result <- max.col(result)\n",
    "    return(result)\n",
    "}"
   ]
  },
  {
   "cell_type": "code",
   "execution_count": 8,
   "metadata": {},
   "outputs": [],
   "source": [
    "ann_bagging30 = matrix(0,30,2)\n",
    "colnames(ann_bagging30) <- c(\"ACC\", \"BCR\")"
   ]
  },
  {
   "cell_type": "code",
   "execution_count": 9,
   "metadata": {},
   "outputs": [],
   "source": [
    "iters_cnt <- 1\n",
    "for (i in 1:30){\n",
    "    index <- c((1+(i-1)*10):(30+(i-1)*10))\n",
    "    tmp_cm <- table(y_test, generate_bagging(index,30))\n",
    "    tmp_cm <- cbind(tmp_cm,c(0,0,0))\n",
    "    tmp_cm <- cbind(tmp_cm,c(0,0,0))[,1:3]\n",
    "    ann_bagging30[iters_cnt,1:2] <- perf_eval_multi(tmp_cm)\n",
    "    iters_cnt <- iters_cnt+1\n",
    "}"
   ]
  },
  {
   "cell_type": "code",
   "execution_count": 10,
   "metadata": {},
   "outputs": [],
   "source": [
    "ann_bagging60 = matrix(0,30,2)\n",
    "colnames(ann_bagging60) <- c(\"ACC\", \"BCR\")"
   ]
  },
  {
   "cell_type": "code",
   "execution_count": 11,
   "metadata": {},
   "outputs": [],
   "source": [
    "iters_cnt <- 1\n",
    "for (i in 1:30){\n",
    "    index <- c((1+(i-1)*9):(60+(i-1)*9))\n",
    "    tmp_cm <- table(y_test, generate_bagging(index,60))\n",
    "    tmp_cm <- cbind(tmp_cm,c(0,0,0))\n",
    "    tmp_cm <- cbind(tmp_cm,c(0,0,0))[,1:3]\n",
    "    ann_bagging60[iters_cnt,1:2] <- perf_eval_multi(tmp_cm)\n",
    "    iters_cnt <- iters_cnt+1\n",
    "}"
   ]
  },
  {
   "cell_type": "code",
   "execution_count": 12,
   "metadata": {},
   "outputs": [],
   "source": [
    "ann_bagging90 = matrix(0,30,2)\n",
    "colnames(ann_bagging90) <- c(\"ACC\", \"BCR\")"
   ]
  },
  {
   "cell_type": "code",
   "execution_count": 13,
   "metadata": {},
   "outputs": [],
   "source": [
    "iters_cnt <- 1\n",
    "for (i in 1:30){\n",
    "    index <- c((1+(i-1)*8):(90+(i-1)*8))\n",
    "    tmp_cm <- table(y_test, generate_bagging(index,90))\n",
    "    tmp_cm <- cbind(tmp_cm,c(0,0,0))\n",
    "    tmp_cm <- cbind(tmp_cm,c(0,0,0))[,1:3]\n",
    "    ann_bagging90[iters_cnt,1:2] <- perf_eval_multi(tmp_cm)\n",
    "    iters_cnt <- iters_cnt+1\n",
    "}"
   ]
  },
  {
   "cell_type": "code",
   "execution_count": 14,
   "metadata": {},
   "outputs": [],
   "source": [
    "ann_bagging120 = matrix(0,30,2)\n",
    "colnames(ann_bagging120) <- c(\"ACC\", \"BCR\")"
   ]
  },
  {
   "cell_type": "code",
   "execution_count": 15,
   "metadata": {},
   "outputs": [],
   "source": [
    "iters_cnt <- 1\n",
    "for (i in 1:30){\n",
    "    index <- c((1+(i-1)*7):(120+(i-1)*7))\n",
    "    tmp_cm <- table(y_test, generate_bagging(index,120))\n",
    "    tmp_cm <- cbind(tmp_cm,c(0,0,0))\n",
    "    tmp_cm <- cbind(tmp_cm,c(0,0,0))[,1:3]\n",
    "    ann_bagging120[iters_cnt,1:2] <- perf_eval_multi(tmp_cm)\n",
    "    iters_cnt <- iters_cnt+1\n",
    "}"
   ]
  },
  {
   "cell_type": "code",
   "execution_count": 16,
   "metadata": {},
   "outputs": [],
   "source": [
    "ann_bagging150 = matrix(0,30,2)\n",
    "colnames(ann_bagging150) <- c(\"ACC\", \"BCR\")"
   ]
  },
  {
   "cell_type": "code",
   "execution_count": 17,
   "metadata": {},
   "outputs": [],
   "source": [
    "iters_cnt <- 1\n",
    "for (i in 1:30){\n",
    "    index <- c((1+(i-1)*6):(150+(i-1)*6))\n",
    "    tmp_cm <- table(y_test, generate_bagging(index,150))\n",
    "    tmp_cm <- cbind(tmp_cm,c(0,0,0))\n",
    "    tmp_cm <- cbind(tmp_cm,c(0,0,0))[,1:3]\n",
    "    ann_bagging150[iters_cnt,1:2] <- perf_eval_multi(tmp_cm)\n",
    "    iters_cnt <- iters_cnt+1\n",
    "}"
   ]
  },
  {
   "cell_type": "code",
   "execution_count": 18,
   "metadata": {},
   "outputs": [],
   "source": [
    "ann_bagging180 = matrix(0,30,2)\n",
    "colnames(ann_bagging180) <- c(\"ACC\", \"BCR\")"
   ]
  },
  {
   "cell_type": "code",
   "execution_count": 19,
   "metadata": {},
   "outputs": [],
   "source": [
    "iters_cnt <- 1\n",
    "for (i in 1:30){\n",
    "    index <- c((1+(i-1)*5):(180+(i-1)*5))\n",
    "    tmp_cm <- table(y_test, generate_bagging(index,180))\n",
    "    tmp_cm <- cbind(tmp_cm,c(0,0,0))\n",
    "    tmp_cm <- cbind(tmp_cm,c(0,0,0))[,1:3]\n",
    "    ann_bagging180[iters_cnt,1:2] <- perf_eval_multi(tmp_cm)\n",
    "    iters_cnt <- iters_cnt+1\n",
    "}"
   ]
  },
  {
   "cell_type": "code",
   "execution_count": 20,
   "metadata": {},
   "outputs": [],
   "source": [
    "ann_bagging210 = matrix(0,30,2)\n",
    "colnames(ann_bagging210) <- c(\"ACC\", \"BCR\")"
   ]
  },
  {
   "cell_type": "code",
   "execution_count": 21,
   "metadata": {},
   "outputs": [],
   "source": [
    "iters_cnt <- 1\n",
    "for (i in 1:30){\n",
    "    index <- c((1+(i-1)*4):(210+(i-1)*4))\n",
    "    tmp_cm <- table(y_test, generate_bagging(index,210))\n",
    "    tmp_cm <- cbind(tmp_cm,c(0,0,0))\n",
    "    tmp_cm <- cbind(tmp_cm,c(0,0,0))[,1:3]\n",
    "    ann_bagging210[iters_cnt,1:2] <- perf_eval_multi(tmp_cm)\n",
    "    iters_cnt <- iters_cnt+1\n",
    "}"
   ]
  },
  {
   "cell_type": "code",
   "execution_count": 22,
   "metadata": {},
   "outputs": [],
   "source": [
    "ann_bagging240 = matrix(0,30,2)\n",
    "colnames(ann_bagging240) <- c(\"ACC\", \"BCR\")"
   ]
  },
  {
   "cell_type": "code",
   "execution_count": 23,
   "metadata": {},
   "outputs": [],
   "source": [
    "iters_cnt <- 1\n",
    "for (i in 1:30){\n",
    "    index <- c((1+(i-1)*3):(240+(i-1)*3))\n",
    "    tmp_cm <- table(y_test, generate_bagging(index,240))\n",
    "    tmp_cm <- cbind(tmp_cm,c(0,0,0))\n",
    "    tmp_cm <- cbind(tmp_cm,c(0,0,0))[,1:3]\n",
    "    ann_bagging240[iters_cnt,1:2] <- perf_eval_multi(tmp_cm)\n",
    "    iters_cnt <- iters_cnt+1\n",
    "}"
   ]
  },
  {
   "cell_type": "code",
   "execution_count": 24,
   "metadata": {},
   "outputs": [],
   "source": [
    "ann_bagging270 = matrix(0,30,2)\n",
    "colnames(ann_bagging270) <- c(\"ACC\", \"BCR\")"
   ]
  },
  {
   "cell_type": "code",
   "execution_count": 25,
   "metadata": {},
   "outputs": [],
   "source": [
    "iters_cnt <- 1\n",
    "for (i in 1:30){\n",
    "    index <- c((1+(i-1)*2):(270+(i-1)*2))\n",
    "    tmp_cm <- table(y_test, generate_bagging(index,270))\n",
    "    tmp_cm <- cbind(tmp_cm,c(0,0,0))\n",
    "    tmp_cm <- cbind(tmp_cm,c(0,0,0))[,1:3]\n",
    "    ann_bagging270[iters_cnt,1:2] <- perf_eval_multi(tmp_cm)\n",
    "    iters_cnt <- iters_cnt+1\n",
    "}"
   ]
  },
  {
   "cell_type": "code",
   "execution_count": 26,
   "metadata": {},
   "outputs": [],
   "source": [
    "ann_bagging300 = matrix(0,30,2)\n",
    "colnames(ann_bagging300) <- c(\"ACC\", \"BCR\")"
   ]
  },
  {
   "cell_type": "code",
   "execution_count": 27,
   "metadata": {},
   "outputs": [],
   "source": [
    "iters_cnt <- 1\n",
    "for (i in 1:30){\n",
    "    index <- c((1+(i-1)*1):(300+(i-1)*1))\n",
    "    tmp_cm <- table(y_test, generate_bagging(index,300))\n",
    "    tmp_cm <- cbind(tmp_cm,c(0,0,0))\n",
    "    tmp_cm <- cbind(tmp_cm,c(0,0,0))[,1:3]\n",
    "    ann_bagging300[iters_cnt,1:2] <- perf_eval_multi(tmp_cm)\n",
    "    iters_cnt <- iters_cnt+1\n",
    "}"
   ]
  },
  {
   "cell_type": "code",
   "execution_count": 28,
   "metadata": {},
   "outputs": [
    {
     "data": {
      "text/html": [
       "<table>\n",
       "<caption>A matrix: 30 × 2 of type dbl</caption>\n",
       "<thead>\n",
       "\t<tr><th scope=col>ACC</th><th scope=col>BCR</th></tr>\n",
       "</thead>\n",
       "<tbody>\n",
       "\t<tr><td>0.6305837</td><td>0.4747559</td></tr>\n",
       "\t<tr><td>0.6311612</td><td>0.4748665</td></tr>\n",
       "\t<tr><td>0.6308807</td><td>0.4731470</td></tr>\n",
       "\t<tr><td>0.6304516</td><td>0.4744132</td></tr>\n",
       "\t<tr><td>0.6305176</td><td>0.4732387</td></tr>\n",
       "\t<tr><td>0.6303691</td><td>0.4721659</td></tr>\n",
       "\t<tr><td>0.6316067</td><td>0.4709047</td></tr>\n",
       "\t<tr><td>0.6307652</td><td>0.4688672</td></tr>\n",
       "\t<tr><td>0.6303361</td><td>0.4723218</td></tr>\n",
       "\t<tr><td>0.6302371</td><td>0.4745329</td></tr>\n",
       "\t<tr><td>0.6312107</td><td>0.4741661</td></tr>\n",
       "\t<tr><td>0.6305341</td><td>0.4737048</td></tr>\n",
       "\t<tr><td>0.6305507</td><td>0.4724819</td></tr>\n",
       "\t<tr><td>0.6298576</td><td>0.4776012</td></tr>\n",
       "\t<tr><td>0.6303361</td><td>0.4827044</td></tr>\n",
       "\t<tr><td>0.6296431</td><td>0.4841850</td></tr>\n",
       "\t<tr><td>0.6306827</td><td>0.4772311</td></tr>\n",
       "\t<tr><td>0.6303361</td><td>0.4683959</td></tr>\n",
       "\t<tr><td>0.6297421</td><td>0.4645966</td></tr>\n",
       "\t<tr><td>0.6301876</td><td>0.4734469</td></tr>\n",
       "\t<tr><td>0.6297586</td><td>0.4776911</td></tr>\n",
       "\t<tr><td>0.6290985</td><td>0.4809919</td></tr>\n",
       "\t<tr><td>0.6292800</td><td>0.4780921</td></tr>\n",
       "\t<tr><td>0.6286695</td><td>0.4828194</td></tr>\n",
       "\t<tr><td>0.6302371</td><td>0.4807116</td></tr>\n",
       "\t<tr><td>0.6302536</td><td>0.4788203</td></tr>\n",
       "\t<tr><td>0.6311117</td><td>0.4737324</td></tr>\n",
       "\t<tr><td>0.6314582</td><td>0.4768366</td></tr>\n",
       "\t<tr><td>0.6305176</td><td>0.4754493</td></tr>\n",
       "\t<tr><td>0.6304846</td><td>0.4807003</td></tr>\n",
       "</tbody>\n",
       "</table>\n"
      ],
      "text/latex": [
       "A matrix: 30 × 2 of type dbl\n",
       "\\begin{tabular}{ll}\n",
       " ACC & BCR\\\\\n",
       "\\hline\n",
       "\t 0.6305837 & 0.4747559\\\\\n",
       "\t 0.6311612 & 0.4748665\\\\\n",
       "\t 0.6308807 & 0.4731470\\\\\n",
       "\t 0.6304516 & 0.4744132\\\\\n",
       "\t 0.6305176 & 0.4732387\\\\\n",
       "\t 0.6303691 & 0.4721659\\\\\n",
       "\t 0.6316067 & 0.4709047\\\\\n",
       "\t 0.6307652 & 0.4688672\\\\\n",
       "\t 0.6303361 & 0.4723218\\\\\n",
       "\t 0.6302371 & 0.4745329\\\\\n",
       "\t 0.6312107 & 0.4741661\\\\\n",
       "\t 0.6305341 & 0.4737048\\\\\n",
       "\t 0.6305507 & 0.4724819\\\\\n",
       "\t 0.6298576 & 0.4776012\\\\\n",
       "\t 0.6303361 & 0.4827044\\\\\n",
       "\t 0.6296431 & 0.4841850\\\\\n",
       "\t 0.6306827 & 0.4772311\\\\\n",
       "\t 0.6303361 & 0.4683959\\\\\n",
       "\t 0.6297421 & 0.4645966\\\\\n",
       "\t 0.6301876 & 0.4734469\\\\\n",
       "\t 0.6297586 & 0.4776911\\\\\n",
       "\t 0.6290985 & 0.4809919\\\\\n",
       "\t 0.6292800 & 0.4780921\\\\\n",
       "\t 0.6286695 & 0.4828194\\\\\n",
       "\t 0.6302371 & 0.4807116\\\\\n",
       "\t 0.6302536 & 0.4788203\\\\\n",
       "\t 0.6311117 & 0.4737324\\\\\n",
       "\t 0.6314582 & 0.4768366\\\\\n",
       "\t 0.6305176 & 0.4754493\\\\\n",
       "\t 0.6304846 & 0.4807003\\\\\n",
       "\\end{tabular}\n"
      ],
      "text/markdown": [
       "\n",
       "A matrix: 30 × 2 of type dbl\n",
       "\n",
       "| ACC | BCR |\n",
       "|---|---|\n",
       "| 0.6305837 | 0.4747559 |\n",
       "| 0.6311612 | 0.4748665 |\n",
       "| 0.6308807 | 0.4731470 |\n",
       "| 0.6304516 | 0.4744132 |\n",
       "| 0.6305176 | 0.4732387 |\n",
       "| 0.6303691 | 0.4721659 |\n",
       "| 0.6316067 | 0.4709047 |\n",
       "| 0.6307652 | 0.4688672 |\n",
       "| 0.6303361 | 0.4723218 |\n",
       "| 0.6302371 | 0.4745329 |\n",
       "| 0.6312107 | 0.4741661 |\n",
       "| 0.6305341 | 0.4737048 |\n",
       "| 0.6305507 | 0.4724819 |\n",
       "| 0.6298576 | 0.4776012 |\n",
       "| 0.6303361 | 0.4827044 |\n",
       "| 0.6296431 | 0.4841850 |\n",
       "| 0.6306827 | 0.4772311 |\n",
       "| 0.6303361 | 0.4683959 |\n",
       "| 0.6297421 | 0.4645966 |\n",
       "| 0.6301876 | 0.4734469 |\n",
       "| 0.6297586 | 0.4776911 |\n",
       "| 0.6290985 | 0.4809919 |\n",
       "| 0.6292800 | 0.4780921 |\n",
       "| 0.6286695 | 0.4828194 |\n",
       "| 0.6302371 | 0.4807116 |\n",
       "| 0.6302536 | 0.4788203 |\n",
       "| 0.6311117 | 0.4737324 |\n",
       "| 0.6314582 | 0.4768366 |\n",
       "| 0.6305176 | 0.4754493 |\n",
       "| 0.6304846 | 0.4807003 |\n",
       "\n"
      ],
      "text/plain": [
       "      ACC       BCR      \n",
       " [1,] 0.6305837 0.4747559\n",
       " [2,] 0.6311612 0.4748665\n",
       " [3,] 0.6308807 0.4731470\n",
       " [4,] 0.6304516 0.4744132\n",
       " [5,] 0.6305176 0.4732387\n",
       " [6,] 0.6303691 0.4721659\n",
       " [7,] 0.6316067 0.4709047\n",
       " [8,] 0.6307652 0.4688672\n",
       " [9,] 0.6303361 0.4723218\n",
       "[10,] 0.6302371 0.4745329\n",
       "[11,] 0.6312107 0.4741661\n",
       "[12,] 0.6305341 0.4737048\n",
       "[13,] 0.6305507 0.4724819\n",
       "[14,] 0.6298576 0.4776012\n",
       "[15,] 0.6303361 0.4827044\n",
       "[16,] 0.6296431 0.4841850\n",
       "[17,] 0.6306827 0.4772311\n",
       "[18,] 0.6303361 0.4683959\n",
       "[19,] 0.6297421 0.4645966\n",
       "[20,] 0.6301876 0.4734469\n",
       "[21,] 0.6297586 0.4776911\n",
       "[22,] 0.6290985 0.4809919\n",
       "[23,] 0.6292800 0.4780921\n",
       "[24,] 0.6286695 0.4828194\n",
       "[25,] 0.6302371 0.4807116\n",
       "[26,] 0.6302536 0.4788203\n",
       "[27,] 0.6311117 0.4737324\n",
       "[28,] 0.6314582 0.4768366\n",
       "[29,] 0.6305176 0.4754493\n",
       "[30,] 0.6304846 0.4807003"
      ]
     },
     "metadata": {},
     "output_type": "display_data"
    }
   ],
   "source": [
    "ann_bagging30"
   ]
  },
  {
   "cell_type": "code",
   "execution_count": 29,
   "metadata": {},
   "outputs": [
    {
     "data": {
      "text/html": [
       "0.630361985225766"
      ],
      "text/latex": [
       "0.630361985225766"
      ],
      "text/markdown": [
       "0.630361985225766"
      ],
      "text/plain": [
       "[1] 0.630362"
      ]
     },
     "metadata": {},
     "output_type": "display_data"
    }
   ],
   "source": [
    "mean(ann_bagging30[,1])"
   ]
  },
  {
   "cell_type": "code",
   "execution_count": 30,
   "metadata": {},
   "outputs": [
    {
     "data": {
      "text/html": [
       "0.475452434076814"
      ],
      "text/latex": [
       "0.475452434076814"
      ],
      "text/markdown": [
       "0.475452434076814"
      ],
      "text/plain": [
       "[1] 0.4754524"
      ]
     },
     "metadata": {},
     "output_type": "display_data"
    }
   ],
   "source": [
    "mean(ann_bagging30[,2])"
   ]
  },
  {
   "cell_type": "code",
   "execution_count": 31,
   "metadata": {},
   "outputs": [
    {
     "data": {
      "text/html": [
       "0.000659652177806444"
      ],
      "text/latex": [
       "0.000659652177806444"
      ],
      "text/markdown": [
       "0.000659652177806444"
      ],
      "text/plain": [
       "[1] 0.0006596522"
      ]
     },
     "metadata": {},
     "output_type": "display_data"
    }
   ],
   "source": [
    "sd(ann_bagging30[,1])"
   ]
  },
  {
   "cell_type": "code",
   "execution_count": 32,
   "metadata": {},
   "outputs": [
    {
     "data": {
      "text/html": [
       "0.00450210472570777"
      ],
      "text/latex": [
       "0.00450210472570777"
      ],
      "text/markdown": [
       "0.00450210472570777"
      ],
      "text/plain": [
       "[1] 0.004502105"
      ]
     },
     "metadata": {},
     "output_type": "display_data"
    }
   ],
   "source": [
    "sd(ann_bagging30[,2])"
   ]
  },
  {
   "cell_type": "code",
   "execution_count": 33,
   "metadata": {},
   "outputs": [
    {
     "data": {
      "text/html": [
       "<table>\n",
       "<caption>A matrix: 30 × 2 of type dbl</caption>\n",
       "<thead>\n",
       "\t<tr><th scope=col>ACC</th><th scope=col>BCR</th></tr>\n",
       "</thead>\n",
       "<tbody>\n",
       "\t<tr><td>0.6309302</td><td>0.4745631</td></tr>\n",
       "\t<tr><td>0.6306332</td><td>0.4746051</td></tr>\n",
       "\t<tr><td>0.6309467</td><td>0.4727279</td></tr>\n",
       "\t<tr><td>0.6306332</td><td>0.4712904</td></tr>\n",
       "\t<tr><td>0.6309467</td><td>0.4708598</td></tr>\n",
       "\t<tr><td>0.6311447</td><td>0.4727025</td></tr>\n",
       "\t<tr><td>0.6311942</td><td>0.4735523</td></tr>\n",
       "\t<tr><td>0.6316397</td><td>0.4716527</td></tr>\n",
       "\t<tr><td>0.6313757</td><td>0.4728342</td></tr>\n",
       "\t<tr><td>0.6305341</td><td>0.4739734</td></tr>\n",
       "\t<tr><td>0.6306002</td><td>0.4737895</td></tr>\n",
       "\t<tr><td>0.6302866</td><td>0.4752243</td></tr>\n",
       "\t<tr><td>0.6303856</td><td>0.4784586</td></tr>\n",
       "\t<tr><td>0.6306332</td><td>0.4775385</td></tr>\n",
       "\t<tr><td>0.6301546</td><td>0.4776626</td></tr>\n",
       "\t<tr><td>0.6301216</td><td>0.4751417</td></tr>\n",
       "\t<tr><td>0.6301876</td><td>0.4732759</td></tr>\n",
       "\t<tr><td>0.6303526</td><td>0.4760512</td></tr>\n",
       "\t<tr><td>0.6297256</td><td>0.4740029</td></tr>\n",
       "\t<tr><td>0.6301051</td><td>0.4734969</td></tr>\n",
       "\t<tr><td>0.6299566</td><td>0.4734364</td></tr>\n",
       "\t<tr><td>0.6298576</td><td>0.4757992</td></tr>\n",
       "\t<tr><td>0.6296266</td><td>0.4799227</td></tr>\n",
       "\t<tr><td>0.6299731</td><td>0.4815768</td></tr>\n",
       "\t<tr><td>0.6298576</td><td>0.4788015</td></tr>\n",
       "\t<tr><td>0.6298411</td><td>0.4782068</td></tr>\n",
       "\t<tr><td>0.6307652</td><td>0.4801369</td></tr>\n",
       "\t<tr><td>0.6305837</td><td>0.4777096</td></tr>\n",
       "\t<tr><td>0.6309137</td><td>0.4783611</td></tr>\n",
       "\t<tr><td>0.6307322</td><td>0.4759645</td></tr>\n",
       "</tbody>\n",
       "</table>\n"
      ],
      "text/latex": [
       "A matrix: 30 × 2 of type dbl\n",
       "\\begin{tabular}{ll}\n",
       " ACC & BCR\\\\\n",
       "\\hline\n",
       "\t 0.6309302 & 0.4745631\\\\\n",
       "\t 0.6306332 & 0.4746051\\\\\n",
       "\t 0.6309467 & 0.4727279\\\\\n",
       "\t 0.6306332 & 0.4712904\\\\\n",
       "\t 0.6309467 & 0.4708598\\\\\n",
       "\t 0.6311447 & 0.4727025\\\\\n",
       "\t 0.6311942 & 0.4735523\\\\\n",
       "\t 0.6316397 & 0.4716527\\\\\n",
       "\t 0.6313757 & 0.4728342\\\\\n",
       "\t 0.6305341 & 0.4739734\\\\\n",
       "\t 0.6306002 & 0.4737895\\\\\n",
       "\t 0.6302866 & 0.4752243\\\\\n",
       "\t 0.6303856 & 0.4784586\\\\\n",
       "\t 0.6306332 & 0.4775385\\\\\n",
       "\t 0.6301546 & 0.4776626\\\\\n",
       "\t 0.6301216 & 0.4751417\\\\\n",
       "\t 0.6301876 & 0.4732759\\\\\n",
       "\t 0.6303526 & 0.4760512\\\\\n",
       "\t 0.6297256 & 0.4740029\\\\\n",
       "\t 0.6301051 & 0.4734969\\\\\n",
       "\t 0.6299566 & 0.4734364\\\\\n",
       "\t 0.6298576 & 0.4757992\\\\\n",
       "\t 0.6296266 & 0.4799227\\\\\n",
       "\t 0.6299731 & 0.4815768\\\\\n",
       "\t 0.6298576 & 0.4788015\\\\\n",
       "\t 0.6298411 & 0.4782068\\\\\n",
       "\t 0.6307652 & 0.4801369\\\\\n",
       "\t 0.6305837 & 0.4777096\\\\\n",
       "\t 0.6309137 & 0.4783611\\\\\n",
       "\t 0.6307322 & 0.4759645\\\\\n",
       "\\end{tabular}\n"
      ],
      "text/markdown": [
       "\n",
       "A matrix: 30 × 2 of type dbl\n",
       "\n",
       "| ACC | BCR |\n",
       "|---|---|\n",
       "| 0.6309302 | 0.4745631 |\n",
       "| 0.6306332 | 0.4746051 |\n",
       "| 0.6309467 | 0.4727279 |\n",
       "| 0.6306332 | 0.4712904 |\n",
       "| 0.6309467 | 0.4708598 |\n",
       "| 0.6311447 | 0.4727025 |\n",
       "| 0.6311942 | 0.4735523 |\n",
       "| 0.6316397 | 0.4716527 |\n",
       "| 0.6313757 | 0.4728342 |\n",
       "| 0.6305341 | 0.4739734 |\n",
       "| 0.6306002 | 0.4737895 |\n",
       "| 0.6302866 | 0.4752243 |\n",
       "| 0.6303856 | 0.4784586 |\n",
       "| 0.6306332 | 0.4775385 |\n",
       "| 0.6301546 | 0.4776626 |\n",
       "| 0.6301216 | 0.4751417 |\n",
       "| 0.6301876 | 0.4732759 |\n",
       "| 0.6303526 | 0.4760512 |\n",
       "| 0.6297256 | 0.4740029 |\n",
       "| 0.6301051 | 0.4734969 |\n",
       "| 0.6299566 | 0.4734364 |\n",
       "| 0.6298576 | 0.4757992 |\n",
       "| 0.6296266 | 0.4799227 |\n",
       "| 0.6299731 | 0.4815768 |\n",
       "| 0.6298576 | 0.4788015 |\n",
       "| 0.6298411 | 0.4782068 |\n",
       "| 0.6307652 | 0.4801369 |\n",
       "| 0.6305837 | 0.4777096 |\n",
       "| 0.6309137 | 0.4783611 |\n",
       "| 0.6307322 | 0.4759645 |\n",
       "\n"
      ],
      "text/plain": [
       "      ACC       BCR      \n",
       " [1,] 0.6309302 0.4745631\n",
       " [2,] 0.6306332 0.4746051\n",
       " [3,] 0.6309467 0.4727279\n",
       " [4,] 0.6306332 0.4712904\n",
       " [5,] 0.6309467 0.4708598\n",
       " [6,] 0.6311447 0.4727025\n",
       " [7,] 0.6311942 0.4735523\n",
       " [8,] 0.6316397 0.4716527\n",
       " [9,] 0.6313757 0.4728342\n",
       "[10,] 0.6305341 0.4739734\n",
       "[11,] 0.6306002 0.4737895\n",
       "[12,] 0.6302866 0.4752243\n",
       "[13,] 0.6303856 0.4784586\n",
       "[14,] 0.6306332 0.4775385\n",
       "[15,] 0.6301546 0.4776626\n",
       "[16,] 0.6301216 0.4751417\n",
       "[17,] 0.6301876 0.4732759\n",
       "[18,] 0.6303526 0.4760512\n",
       "[19,] 0.6297256 0.4740029\n",
       "[20,] 0.6301051 0.4734969\n",
       "[21,] 0.6299566 0.4734364\n",
       "[22,] 0.6298576 0.4757992\n",
       "[23,] 0.6296266 0.4799227\n",
       "[24,] 0.6299731 0.4815768\n",
       "[25,] 0.6298576 0.4788015\n",
       "[26,] 0.6298411 0.4782068\n",
       "[27,] 0.6307652 0.4801369\n",
       "[28,] 0.6305837 0.4777096\n",
       "[29,] 0.6309137 0.4783611\n",
       "[30,] 0.6307322 0.4759645"
      ]
     },
     "metadata": {},
     "output_type": "display_data"
    }
   ],
   "source": [
    "ann_bagging60"
   ]
  },
  {
   "cell_type": "code",
   "execution_count": 34,
   "metadata": {},
   "outputs": [
    {
     "data": {
      "text/html": [
       "0.63048794574347"
      ],
      "text/latex": [
       "0.63048794574347"
      ],
      "text/markdown": [
       "0.63048794574347"
      ],
      "text/plain": [
       "[1] 0.6304879"
      ]
     },
     "metadata": {},
     "output_type": "display_data"
    }
   ],
   "source": [
    "mean(ann_bagging60[,1])"
   ]
  },
  {
   "cell_type": "code",
   "execution_count": 35,
   "metadata": {},
   "outputs": [
    {
     "data": {
      "text/html": [
       "0.475443963787885"
      ],
      "text/latex": [
       "0.475443963787885"
      ],
      "text/markdown": [
       "0.475443963787885"
      ],
      "text/plain": [
       "[1] 0.475444"
      ]
     },
     "metadata": {},
     "output_type": "display_data"
    }
   ],
   "source": [
    "mean(ann_bagging60[,2])"
   ]
  },
  {
   "cell_type": "code",
   "execution_count": 36,
   "metadata": {},
   "outputs": [
    {
     "data": {
      "text/html": [
       "0.000515326423494285"
      ],
      "text/latex": [
       "0.000515326423494285"
      ],
      "text/markdown": [
       "0.000515326423494285"
      ],
      "text/plain": [
       "[1] 0.0005153264"
      ]
     },
     "metadata": {},
     "output_type": "display_data"
    }
   ],
   "source": [
    "sd(ann_bagging60[,1])"
   ]
  },
  {
   "cell_type": "code",
   "execution_count": 37,
   "metadata": {},
   "outputs": [
    {
     "data": {
      "text/html": [
       "0.00281894609602312"
      ],
      "text/latex": [
       "0.00281894609602312"
      ],
      "text/markdown": [
       "0.00281894609602312"
      ],
      "text/plain": [
       "[1] 0.002818946"
      ]
     },
     "metadata": {},
     "output_type": "display_data"
    }
   ],
   "source": [
    "sd(ann_bagging60[,2])"
   ]
  },
  {
   "cell_type": "code",
   "execution_count": 38,
   "metadata": {},
   "outputs": [
    {
     "data": {
      "text/html": [
       "<table>\n",
       "<caption>A matrix: 30 × 2 of type dbl</caption>\n",
       "<thead>\n",
       "\t<tr><th scope=col>ACC</th><th scope=col>BCR</th></tr>\n",
       "</thead>\n",
       "<tbody>\n",
       "\t<tr><td>0.6305672</td><td>0.4727637</td></tr>\n",
       "\t<tr><td>0.6309632</td><td>0.4729582</td></tr>\n",
       "\t<tr><td>0.6310622</td><td>0.4734692</td></tr>\n",
       "\t<tr><td>0.6307487</td><td>0.4714975</td></tr>\n",
       "\t<tr><td>0.6310622</td><td>0.4734473</td></tr>\n",
       "\t<tr><td>0.6309632</td><td>0.4722772</td></tr>\n",
       "\t<tr><td>0.6307487</td><td>0.4732262</td></tr>\n",
       "\t<tr><td>0.6310622</td><td>0.4736241</td></tr>\n",
       "\t<tr><td>0.6309302</td><td>0.4726731</td></tr>\n",
       "\t<tr><td>0.6305837</td><td>0.4736600</td></tr>\n",
       "\t<tr><td>0.6304021</td><td>0.4760975</td></tr>\n",
       "\t<tr><td>0.6307487</td><td>0.4768119</td></tr>\n",
       "\t<tr><td>0.6305672</td><td>0.4772473</td></tr>\n",
       "\t<tr><td>0.6305341</td><td>0.4751709</td></tr>\n",
       "\t<tr><td>0.6299566</td><td>0.4734554</td></tr>\n",
       "\t<tr><td>0.6301546</td><td>0.4737561</td></tr>\n",
       "\t<tr><td>0.6304186</td><td>0.4761511</td></tr>\n",
       "\t<tr><td>0.6304681</td><td>0.4764224</td></tr>\n",
       "\t<tr><td>0.6299896</td><td>0.4759050</td></tr>\n",
       "\t<tr><td>0.6301381</td><td>0.4773794</td></tr>\n",
       "\t<tr><td>0.6301216</td><td>0.4764126</td></tr>\n",
       "\t<tr><td>0.6298906</td><td>0.4769007</td></tr>\n",
       "\t<tr><td>0.6301711</td><td>0.4773026</td></tr>\n",
       "\t<tr><td>0.6301216</td><td>0.4769674</td></tr>\n",
       "\t<tr><td>0.6302371</td><td>0.4783441</td></tr>\n",
       "\t<tr><td>0.6306497</td><td>0.4794536</td></tr>\n",
       "\t<tr><td>0.6305011</td><td>0.4799544</td></tr>\n",
       "\t<tr><td>0.6300556</td><td>0.4775276</td></tr>\n",
       "\t<tr><td>0.6304186</td><td>0.4787068</td></tr>\n",
       "\t<tr><td>0.6307817</td><td>0.4792693</td></tr>\n",
       "</tbody>\n",
       "</table>\n"
      ],
      "text/latex": [
       "A matrix: 30 × 2 of type dbl\n",
       "\\begin{tabular}{ll}\n",
       " ACC & BCR\\\\\n",
       "\\hline\n",
       "\t 0.6305672 & 0.4727637\\\\\n",
       "\t 0.6309632 & 0.4729582\\\\\n",
       "\t 0.6310622 & 0.4734692\\\\\n",
       "\t 0.6307487 & 0.4714975\\\\\n",
       "\t 0.6310622 & 0.4734473\\\\\n",
       "\t 0.6309632 & 0.4722772\\\\\n",
       "\t 0.6307487 & 0.4732262\\\\\n",
       "\t 0.6310622 & 0.4736241\\\\\n",
       "\t 0.6309302 & 0.4726731\\\\\n",
       "\t 0.6305837 & 0.4736600\\\\\n",
       "\t 0.6304021 & 0.4760975\\\\\n",
       "\t 0.6307487 & 0.4768119\\\\\n",
       "\t 0.6305672 & 0.4772473\\\\\n",
       "\t 0.6305341 & 0.4751709\\\\\n",
       "\t 0.6299566 & 0.4734554\\\\\n",
       "\t 0.6301546 & 0.4737561\\\\\n",
       "\t 0.6304186 & 0.4761511\\\\\n",
       "\t 0.6304681 & 0.4764224\\\\\n",
       "\t 0.6299896 & 0.4759050\\\\\n",
       "\t 0.6301381 & 0.4773794\\\\\n",
       "\t 0.6301216 & 0.4764126\\\\\n",
       "\t 0.6298906 & 0.4769007\\\\\n",
       "\t 0.6301711 & 0.4773026\\\\\n",
       "\t 0.6301216 & 0.4769674\\\\\n",
       "\t 0.6302371 & 0.4783441\\\\\n",
       "\t 0.6306497 & 0.4794536\\\\\n",
       "\t 0.6305011 & 0.4799544\\\\\n",
       "\t 0.6300556 & 0.4775276\\\\\n",
       "\t 0.6304186 & 0.4787068\\\\\n",
       "\t 0.6307817 & 0.4792693\\\\\n",
       "\\end{tabular}\n"
      ],
      "text/markdown": [
       "\n",
       "A matrix: 30 × 2 of type dbl\n",
       "\n",
       "| ACC | BCR |\n",
       "|---|---|\n",
       "| 0.6305672 | 0.4727637 |\n",
       "| 0.6309632 | 0.4729582 |\n",
       "| 0.6310622 | 0.4734692 |\n",
       "| 0.6307487 | 0.4714975 |\n",
       "| 0.6310622 | 0.4734473 |\n",
       "| 0.6309632 | 0.4722772 |\n",
       "| 0.6307487 | 0.4732262 |\n",
       "| 0.6310622 | 0.4736241 |\n",
       "| 0.6309302 | 0.4726731 |\n",
       "| 0.6305837 | 0.4736600 |\n",
       "| 0.6304021 | 0.4760975 |\n",
       "| 0.6307487 | 0.4768119 |\n",
       "| 0.6305672 | 0.4772473 |\n",
       "| 0.6305341 | 0.4751709 |\n",
       "| 0.6299566 | 0.4734554 |\n",
       "| 0.6301546 | 0.4737561 |\n",
       "| 0.6304186 | 0.4761511 |\n",
       "| 0.6304681 | 0.4764224 |\n",
       "| 0.6299896 | 0.4759050 |\n",
       "| 0.6301381 | 0.4773794 |\n",
       "| 0.6301216 | 0.4764126 |\n",
       "| 0.6298906 | 0.4769007 |\n",
       "| 0.6301711 | 0.4773026 |\n",
       "| 0.6301216 | 0.4769674 |\n",
       "| 0.6302371 | 0.4783441 |\n",
       "| 0.6306497 | 0.4794536 |\n",
       "| 0.6305011 | 0.4799544 |\n",
       "| 0.6300556 | 0.4775276 |\n",
       "| 0.6304186 | 0.4787068 |\n",
       "| 0.6307817 | 0.4792693 |\n",
       "\n"
      ],
      "text/plain": [
       "      ACC       BCR      \n",
       " [1,] 0.6305672 0.4727637\n",
       " [2,] 0.6309632 0.4729582\n",
       " [3,] 0.6310622 0.4734692\n",
       " [4,] 0.6307487 0.4714975\n",
       " [5,] 0.6310622 0.4734473\n",
       " [6,] 0.6309632 0.4722772\n",
       " [7,] 0.6307487 0.4732262\n",
       " [8,] 0.6310622 0.4736241\n",
       " [9,] 0.6309302 0.4726731\n",
       "[10,] 0.6305837 0.4736600\n",
       "[11,] 0.6304021 0.4760975\n",
       "[12,] 0.6307487 0.4768119\n",
       "[13,] 0.6305672 0.4772473\n",
       "[14,] 0.6305341 0.4751709\n",
       "[15,] 0.6299566 0.4734554\n",
       "[16,] 0.6301546 0.4737561\n",
       "[17,] 0.6304186 0.4761511\n",
       "[18,] 0.6304681 0.4764224\n",
       "[19,] 0.6299896 0.4759050\n",
       "[20,] 0.6301381 0.4773794\n",
       "[21,] 0.6301216 0.4764126\n",
       "[22,] 0.6298906 0.4769007\n",
       "[23,] 0.6301711 0.4773026\n",
       "[24,] 0.6301216 0.4769674\n",
       "[25,] 0.6302371 0.4783441\n",
       "[26,] 0.6306497 0.4794536\n",
       "[27,] 0.6305011 0.4799544\n",
       "[28,] 0.6300556 0.4775276\n",
       "[29,] 0.6304186 0.4787068\n",
       "[30,] 0.6307817 0.4792693"
      ]
     },
     "metadata": {},
     "output_type": "display_data"
    }
   ],
   "source": [
    "ann_bagging90"
   ]
  },
  {
   "cell_type": "code",
   "execution_count": 39,
   "metadata": {},
   "outputs": [
    {
     "data": {
      "text/html": [
       "0.630500596799833"
      ],
      "text/latex": [
       "0.630500596799833"
      ],
      "text/markdown": [
       "0.630500596799833"
      ],
      "text/plain": [
       "[1] 0.6305006"
      ]
     },
     "metadata": {},
     "output_type": "display_data"
    }
   ],
   "source": [
    "mean(ann_bagging90[,1])"
   ]
  },
  {
   "cell_type": "code",
   "execution_count": 40,
   "metadata": {},
   "outputs": [
    {
     "data": {
      "text/html": [
       "0.475627751171856"
      ],
      "text/latex": [
       "0.475627751171856"
      ],
      "text/markdown": [
       "0.475627751171856"
      ],
      "text/plain": [
       "[1] 0.4756278"
      ]
     },
     "metadata": {},
     "output_type": "display_data"
    }
   ],
   "source": [
    "mean(ann_bagging90[,2])"
   ]
  },
  {
   "cell_type": "code",
   "execution_count": 41,
   "metadata": {},
   "outputs": [
    {
     "data": {
      "text/html": [
       "0.000358592911296291"
      ],
      "text/latex": [
       "0.000358592911296291"
      ],
      "text/markdown": [
       "0.000358592911296291"
      ],
      "text/plain": [
       "[1] 0.0003585929"
      ]
     },
     "metadata": {},
     "output_type": "display_data"
    }
   ],
   "source": [
    "sd(ann_bagging90[,1])"
   ]
  },
  {
   "cell_type": "code",
   "execution_count": 42,
   "metadata": {},
   "outputs": [
    {
     "data": {
      "text/html": [
       "0.00239296894659799"
      ],
      "text/latex": [
       "0.00239296894659799"
      ],
      "text/markdown": [
       "0.00239296894659799"
      ],
      "text/plain": [
       "[1] 0.002392969"
      ]
     },
     "metadata": {},
     "output_type": "display_data"
    }
   ],
   "source": [
    "sd(ann_bagging90[,2])"
   ]
  },
  {
   "cell_type": "code",
   "execution_count": 43,
   "metadata": {},
   "outputs": [
    {
     "data": {
      "text/html": [
       "<table>\n",
       "<caption>A matrix: 30 × 2 of type dbl</caption>\n",
       "<thead>\n",
       "\t<tr><th scope=col>ACC</th><th scope=col>BCR</th></tr>\n",
       "</thead>\n",
       "<tbody>\n",
       "\t<tr><td>0.6305011</td><td>0.4732994</td></tr>\n",
       "\t<tr><td>0.6308642</td><td>0.4731160</td></tr>\n",
       "\t<tr><td>0.6307157</td><td>0.4728756</td></tr>\n",
       "\t<tr><td>0.6307157</td><td>0.4731229</td></tr>\n",
       "\t<tr><td>0.6309302</td><td>0.4731955</td></tr>\n",
       "\t<tr><td>0.6306002</td><td>0.4737174</td></tr>\n",
       "\t<tr><td>0.6307157</td><td>0.4744138</td></tr>\n",
       "\t<tr><td>0.6305341</td><td>0.4749233</td></tr>\n",
       "\t<tr><td>0.6307322</td><td>0.4754006</td></tr>\n",
       "\t<tr><td>0.6308147</td><td>0.4749309</td></tr>\n",
       "\t<tr><td>0.6305672</td><td>0.4743954</td></tr>\n",
       "\t<tr><td>0.6304846</td><td>0.4744165</td></tr>\n",
       "\t<tr><td>0.6302701</td><td>0.4733881</td></tr>\n",
       "\t<tr><td>0.6304681</td><td>0.4749756</td></tr>\n",
       "\t<tr><td>0.6303856</td><td>0.4753313</td></tr>\n",
       "\t<tr><td>0.6303856</td><td>0.4760911</td></tr>\n",
       "\t<tr><td>0.6301216</td><td>0.4747182</td></tr>\n",
       "\t<tr><td>0.6301546</td><td>0.4762416</td></tr>\n",
       "\t<tr><td>0.6301876</td><td>0.4769432</td></tr>\n",
       "\t<tr><td>0.6301381</td><td>0.4776787</td></tr>\n",
       "\t<tr><td>0.6298576</td><td>0.4781554</td></tr>\n",
       "\t<tr><td>0.6298906</td><td>0.4784514</td></tr>\n",
       "\t<tr><td>0.6302371</td><td>0.4781726</td></tr>\n",
       "\t<tr><td>0.6303526</td><td>0.4772986</td></tr>\n",
       "\t<tr><td>0.6302536</td><td>0.4769527</td></tr>\n",
       "\t<tr><td>0.6306992</td><td>0.4771136</td></tr>\n",
       "\t<tr><td>0.6305011</td><td>0.4763287</td></tr>\n",
       "\t<tr><td>0.6299731</td><td>0.4768877</td></tr>\n",
       "\t<tr><td>0.6303031</td><td>0.4787597</td></tr>\n",
       "\t<tr><td>0.6304516</td><td>0.4788195</td></tr>\n",
       "</tbody>\n",
       "</table>\n"
      ],
      "text/latex": [
       "A matrix: 30 × 2 of type dbl\n",
       "\\begin{tabular}{ll}\n",
       " ACC & BCR\\\\\n",
       "\\hline\n",
       "\t 0.6305011 & 0.4732994\\\\\n",
       "\t 0.6308642 & 0.4731160\\\\\n",
       "\t 0.6307157 & 0.4728756\\\\\n",
       "\t 0.6307157 & 0.4731229\\\\\n",
       "\t 0.6309302 & 0.4731955\\\\\n",
       "\t 0.6306002 & 0.4737174\\\\\n",
       "\t 0.6307157 & 0.4744138\\\\\n",
       "\t 0.6305341 & 0.4749233\\\\\n",
       "\t 0.6307322 & 0.4754006\\\\\n",
       "\t 0.6308147 & 0.4749309\\\\\n",
       "\t 0.6305672 & 0.4743954\\\\\n",
       "\t 0.6304846 & 0.4744165\\\\\n",
       "\t 0.6302701 & 0.4733881\\\\\n",
       "\t 0.6304681 & 0.4749756\\\\\n",
       "\t 0.6303856 & 0.4753313\\\\\n",
       "\t 0.6303856 & 0.4760911\\\\\n",
       "\t 0.6301216 & 0.4747182\\\\\n",
       "\t 0.6301546 & 0.4762416\\\\\n",
       "\t 0.6301876 & 0.4769432\\\\\n",
       "\t 0.6301381 & 0.4776787\\\\\n",
       "\t 0.6298576 & 0.4781554\\\\\n",
       "\t 0.6298906 & 0.4784514\\\\\n",
       "\t 0.6302371 & 0.4781726\\\\\n",
       "\t 0.6303526 & 0.4772986\\\\\n",
       "\t 0.6302536 & 0.4769527\\\\\n",
       "\t 0.6306992 & 0.4771136\\\\\n",
       "\t 0.6305011 & 0.4763287\\\\\n",
       "\t 0.6299731 & 0.4768877\\\\\n",
       "\t 0.6303031 & 0.4787597\\\\\n",
       "\t 0.6304516 & 0.4788195\\\\\n",
       "\\end{tabular}\n"
      ],
      "text/markdown": [
       "\n",
       "A matrix: 30 × 2 of type dbl\n",
       "\n",
       "| ACC | BCR |\n",
       "|---|---|\n",
       "| 0.6305011 | 0.4732994 |\n",
       "| 0.6308642 | 0.4731160 |\n",
       "| 0.6307157 | 0.4728756 |\n",
       "| 0.6307157 | 0.4731229 |\n",
       "| 0.6309302 | 0.4731955 |\n",
       "| 0.6306002 | 0.4737174 |\n",
       "| 0.6307157 | 0.4744138 |\n",
       "| 0.6305341 | 0.4749233 |\n",
       "| 0.6307322 | 0.4754006 |\n",
       "| 0.6308147 | 0.4749309 |\n",
       "| 0.6305672 | 0.4743954 |\n",
       "| 0.6304846 | 0.4744165 |\n",
       "| 0.6302701 | 0.4733881 |\n",
       "| 0.6304681 | 0.4749756 |\n",
       "| 0.6303856 | 0.4753313 |\n",
       "| 0.6303856 | 0.4760911 |\n",
       "| 0.6301216 | 0.4747182 |\n",
       "| 0.6301546 | 0.4762416 |\n",
       "| 0.6301876 | 0.4769432 |\n",
       "| 0.6301381 | 0.4776787 |\n",
       "| 0.6298576 | 0.4781554 |\n",
       "| 0.6298906 | 0.4784514 |\n",
       "| 0.6302371 | 0.4781726 |\n",
       "| 0.6303526 | 0.4772986 |\n",
       "| 0.6302536 | 0.4769527 |\n",
       "| 0.6306992 | 0.4771136 |\n",
       "| 0.6305011 | 0.4763287 |\n",
       "| 0.6299731 | 0.4768877 |\n",
       "| 0.6303031 | 0.4787597 |\n",
       "| 0.6304516 | 0.4788195 |\n",
       "\n"
      ],
      "text/plain": [
       "      ACC       BCR      \n",
       " [1,] 0.6305011 0.4732994\n",
       " [2,] 0.6308642 0.4731160\n",
       " [3,] 0.6307157 0.4728756\n",
       " [4,] 0.6307157 0.4731229\n",
       " [5,] 0.6309302 0.4731955\n",
       " [6,] 0.6306002 0.4737174\n",
       " [7,] 0.6307157 0.4744138\n",
       " [8,] 0.6305341 0.4749233\n",
       " [9,] 0.6307322 0.4754006\n",
       "[10,] 0.6308147 0.4749309\n",
       "[11,] 0.6305672 0.4743954\n",
       "[12,] 0.6304846 0.4744165\n",
       "[13,] 0.6302701 0.4733881\n",
       "[14,] 0.6304681 0.4749756\n",
       "[15,] 0.6303856 0.4753313\n",
       "[16,] 0.6303856 0.4760911\n",
       "[17,] 0.6301216 0.4747182\n",
       "[18,] 0.6301546 0.4762416\n",
       "[19,] 0.6301876 0.4769432\n",
       "[20,] 0.6301381 0.4776787\n",
       "[21,] 0.6298576 0.4781554\n",
       "[22,] 0.6298906 0.4784514\n",
       "[23,] 0.6302371 0.4781726\n",
       "[24,] 0.6303526 0.4772986\n",
       "[25,] 0.6302536 0.4769527\n",
       "[26,] 0.6306992 0.4771136\n",
       "[27,] 0.6305011 0.4763287\n",
       "[28,] 0.6299731 0.4768877\n",
       "[29,] 0.6303031 0.4787597\n",
       "[30,] 0.6304516 0.4788195"
      ]
     },
     "metadata": {},
     "output_type": "display_data"
    }
   ],
   "source": [
    "ann_bagging120"
   ]
  },
  {
   "cell_type": "code",
   "execution_count": 44,
   "metadata": {},
   "outputs": [
    {
     "ename": "ERROR",
     "evalue": "Error in mean(ann_baggin120[, 1]): object 'ann_baggin120' not found\n",
     "output_type": "error",
     "traceback": [
      "Error in mean(ann_baggin120[, 1]): object 'ann_baggin120' not found\nTraceback:\n",
      "1. mean(ann_baggin120[, 1])"
     ]
    }
   ],
   "source": [
    "mean(ann_baggin120[,1])"
   ]
  },
  {
   "cell_type": "code",
   "execution_count": 45,
   "metadata": {},
   "outputs": [
    {
     "data": {
      "text/html": [
       "0.475670498216373"
      ],
      "text/latex": [
       "0.475670498216373"
      ],
      "text/markdown": [
       "0.475670498216373"
      ],
      "text/plain": [
       "[1] 0.4756705"
      ]
     },
     "metadata": {},
     "output_type": "display_data"
    }
   ],
   "source": [
    "mean(ann_bagging120[,2])"
   ]
  },
  {
   "cell_type": "code",
   "execution_count": 46,
   "metadata": {},
   "outputs": [
    {
     "data": {
      "text/html": [
       "0.000283495003169212"
      ],
      "text/latex": [
       "0.000283495003169212"
      ],
      "text/markdown": [
       "0.000283495003169212"
      ],
      "text/plain": [
       "[1] 0.000283495"
      ]
     },
     "metadata": {},
     "output_type": "display_data"
    }
   ],
   "source": [
    "sd(ann_bagging120[,1])"
   ]
  },
  {
   "cell_type": "code",
   "execution_count": 47,
   "metadata": {},
   "outputs": [
    {
     "data": {
      "text/html": [
       "0.00188583646708333"
      ],
      "text/latex": [
       "0.00188583646708333"
      ],
      "text/markdown": [
       "0.00188583646708333"
      ],
      "text/plain": [
       "[1] 0.001885836"
      ]
     },
     "metadata": {},
     "output_type": "display_data"
    }
   ],
   "source": [
    "sd(ann_bagging120[,2])"
   ]
  },
  {
   "cell_type": "code",
   "execution_count": 48,
   "metadata": {},
   "outputs": [
    {
     "data": {
      "text/html": [
       "<table>\n",
       "<caption>A matrix: 30 × 2 of type dbl</caption>\n",
       "<thead>\n",
       "\t<tr><th scope=col>ACC</th><th scope=col>BCR</th></tr>\n",
       "</thead>\n",
       "<tbody>\n",
       "\t<tr><td>0.6304846</td><td>0.4729625</td></tr>\n",
       "\t<tr><td>0.6306167</td><td>0.4734985</td></tr>\n",
       "\t<tr><td>0.6306167</td><td>0.4742697</td></tr>\n",
       "\t<tr><td>0.6307157</td><td>0.4747496</td></tr>\n",
       "\t<tr><td>0.6304846</td><td>0.4743811</td></tr>\n",
       "\t<tr><td>0.6306167</td><td>0.4752055</td></tr>\n",
       "\t<tr><td>0.6305507</td><td>0.4744619</td></tr>\n",
       "\t<tr><td>0.6304351</td><td>0.4739602</td></tr>\n",
       "\t<tr><td>0.6303031</td><td>0.4738648</td></tr>\n",
       "\t<tr><td>0.6305011</td><td>0.4734312</td></tr>\n",
       "\t<tr><td>0.6305837</td><td>0.4735254</td></tr>\n",
       "\t<tr><td>0.6308972</td><td>0.4735620</td></tr>\n",
       "\t<tr><td>0.6302701</td><td>0.4738958</td></tr>\n",
       "\t<tr><td>0.6304186</td><td>0.4752346</td></tr>\n",
       "\t<tr><td>0.6305837</td><td>0.4752846</td></tr>\n",
       "\t<tr><td>0.6303856</td><td>0.4758456</td></tr>\n",
       "\t<tr><td>0.6305176</td><td>0.4767875</td></tr>\n",
       "\t<tr><td>0.6304021</td><td>0.4766945</td></tr>\n",
       "\t<tr><td>0.6299566</td><td>0.4775408</td></tr>\n",
       "\t<tr><td>0.6302701</td><td>0.4774849</td></tr>\n",
       "\t<tr><td>0.6303031</td><td>0.4773915</td></tr>\n",
       "\t<tr><td>0.6304516</td><td>0.4777783</td></tr>\n",
       "\t<tr><td>0.6305341</td><td>0.4777840</td></tr>\n",
       "\t<tr><td>0.6304681</td><td>0.4781515</td></tr>\n",
       "\t<tr><td>0.6306827</td><td>0.4781313</td></tr>\n",
       "\t<tr><td>0.6306662</td><td>0.4788447</td></tr>\n",
       "\t<tr><td>0.6306002</td><td>0.4777627</td></tr>\n",
       "\t<tr><td>0.6304516</td><td>0.4778507</td></tr>\n",
       "\t<tr><td>0.6303196</td><td>0.4773929</td></tr>\n",
       "\t<tr><td>0.6302041</td><td>0.4767257</td></tr>\n",
       "</tbody>\n",
       "</table>\n"
      ],
      "text/latex": [
       "A matrix: 30 × 2 of type dbl\n",
       "\\begin{tabular}{ll}\n",
       " ACC & BCR\\\\\n",
       "\\hline\n",
       "\t 0.6304846 & 0.4729625\\\\\n",
       "\t 0.6306167 & 0.4734985\\\\\n",
       "\t 0.6306167 & 0.4742697\\\\\n",
       "\t 0.6307157 & 0.4747496\\\\\n",
       "\t 0.6304846 & 0.4743811\\\\\n",
       "\t 0.6306167 & 0.4752055\\\\\n",
       "\t 0.6305507 & 0.4744619\\\\\n",
       "\t 0.6304351 & 0.4739602\\\\\n",
       "\t 0.6303031 & 0.4738648\\\\\n",
       "\t 0.6305011 & 0.4734312\\\\\n",
       "\t 0.6305837 & 0.4735254\\\\\n",
       "\t 0.6308972 & 0.4735620\\\\\n",
       "\t 0.6302701 & 0.4738958\\\\\n",
       "\t 0.6304186 & 0.4752346\\\\\n",
       "\t 0.6305837 & 0.4752846\\\\\n",
       "\t 0.6303856 & 0.4758456\\\\\n",
       "\t 0.6305176 & 0.4767875\\\\\n",
       "\t 0.6304021 & 0.4766945\\\\\n",
       "\t 0.6299566 & 0.4775408\\\\\n",
       "\t 0.6302701 & 0.4774849\\\\\n",
       "\t 0.6303031 & 0.4773915\\\\\n",
       "\t 0.6304516 & 0.4777783\\\\\n",
       "\t 0.6305341 & 0.4777840\\\\\n",
       "\t 0.6304681 & 0.4781515\\\\\n",
       "\t 0.6306827 & 0.4781313\\\\\n",
       "\t 0.6306662 & 0.4788447\\\\\n",
       "\t 0.6306002 & 0.4777627\\\\\n",
       "\t 0.6304516 & 0.4778507\\\\\n",
       "\t 0.6303196 & 0.4773929\\\\\n",
       "\t 0.6302041 & 0.4767257\\\\\n",
       "\\end{tabular}\n"
      ],
      "text/markdown": [
       "\n",
       "A matrix: 30 × 2 of type dbl\n",
       "\n",
       "| ACC | BCR |\n",
       "|---|---|\n",
       "| 0.6304846 | 0.4729625 |\n",
       "| 0.6306167 | 0.4734985 |\n",
       "| 0.6306167 | 0.4742697 |\n",
       "| 0.6307157 | 0.4747496 |\n",
       "| 0.6304846 | 0.4743811 |\n",
       "| 0.6306167 | 0.4752055 |\n",
       "| 0.6305507 | 0.4744619 |\n",
       "| 0.6304351 | 0.4739602 |\n",
       "| 0.6303031 | 0.4738648 |\n",
       "| 0.6305011 | 0.4734312 |\n",
       "| 0.6305837 | 0.4735254 |\n",
       "| 0.6308972 | 0.4735620 |\n",
       "| 0.6302701 | 0.4738958 |\n",
       "| 0.6304186 | 0.4752346 |\n",
       "| 0.6305837 | 0.4752846 |\n",
       "| 0.6303856 | 0.4758456 |\n",
       "| 0.6305176 | 0.4767875 |\n",
       "| 0.6304021 | 0.4766945 |\n",
       "| 0.6299566 | 0.4775408 |\n",
       "| 0.6302701 | 0.4774849 |\n",
       "| 0.6303031 | 0.4773915 |\n",
       "| 0.6304516 | 0.4777783 |\n",
       "| 0.6305341 | 0.4777840 |\n",
       "| 0.6304681 | 0.4781515 |\n",
       "| 0.6306827 | 0.4781313 |\n",
       "| 0.6306662 | 0.4788447 |\n",
       "| 0.6306002 | 0.4777627 |\n",
       "| 0.6304516 | 0.4778507 |\n",
       "| 0.6303196 | 0.4773929 |\n",
       "| 0.6302041 | 0.4767257 |\n",
       "\n"
      ],
      "text/plain": [
       "      ACC       BCR      \n",
       " [1,] 0.6304846 0.4729625\n",
       " [2,] 0.6306167 0.4734985\n",
       " [3,] 0.6306167 0.4742697\n",
       " [4,] 0.6307157 0.4747496\n",
       " [5,] 0.6304846 0.4743811\n",
       " [6,] 0.6306167 0.4752055\n",
       " [7,] 0.6305507 0.4744619\n",
       " [8,] 0.6304351 0.4739602\n",
       " [9,] 0.6303031 0.4738648\n",
       "[10,] 0.6305011 0.4734312\n",
       "[11,] 0.6305837 0.4735254\n",
       "[12,] 0.6308972 0.4735620\n",
       "[13,] 0.6302701 0.4738958\n",
       "[14,] 0.6304186 0.4752346\n",
       "[15,] 0.6305837 0.4752846\n",
       "[16,] 0.6303856 0.4758456\n",
       "[17,] 0.6305176 0.4767875\n",
       "[18,] 0.6304021 0.4766945\n",
       "[19,] 0.6299566 0.4775408\n",
       "[20,] 0.6302701 0.4774849\n",
       "[21,] 0.6303031 0.4773915\n",
       "[22,] 0.6304516 0.4777783\n",
       "[23,] 0.6305341 0.4777840\n",
       "[24,] 0.6304681 0.4781515\n",
       "[25,] 0.6306827 0.4781313\n",
       "[26,] 0.6306662 0.4788447\n",
       "[27,] 0.6306002 0.4777627\n",
       "[28,] 0.6304516 0.4778507\n",
       "[29,] 0.6303196 0.4773929\n",
       "[30,] 0.6302041 0.4767257"
      ]
     },
     "metadata": {},
     "output_type": "display_data"
    }
   ],
   "source": [
    "ann_bagging150"
   ]
  },
  {
   "cell_type": "code",
   "execution_count": 49,
   "metadata": {},
   "outputs": [
    {
     "ename": "ERROR",
     "evalue": "Error in mean(ann_baggin150[, 1]): object 'ann_baggin150' not found\n",
     "output_type": "error",
     "traceback": [
      "Error in mean(ann_baggin150[, 1]): object 'ann_baggin150' not found\nTraceback:\n",
      "1. mean(ann_baggin150[, 1])"
     ]
    }
   ],
   "source": [
    "mean(ann_baggin150[,1])"
   ]
  },
  {
   "cell_type": "code",
   "execution_count": 50,
   "metadata": {},
   "outputs": [
    {
     "data": {
      "text/html": [
       "0.475815129184723"
      ],
      "text/latex": [
       "0.475815129184723"
      ],
      "text/markdown": [
       "0.475815129184723"
      ],
      "text/plain": [
       "[1] 0.4758151"
      ]
     },
     "metadata": {},
     "output_type": "display_data"
    }
   ],
   "source": [
    "mean(ann_bagging150[,2])"
   ]
  },
  {
   "cell_type": "code",
   "execution_count": 51,
   "metadata": {},
   "outputs": [
    {
     "data": {
      "text/html": [
       "0.000181528088169241"
      ],
      "text/latex": [
       "0.000181528088169241"
      ],
      "text/markdown": [
       "0.000181528088169241"
      ],
      "text/plain": [
       "[1] 0.0001815281"
      ]
     },
     "metadata": {},
     "output_type": "display_data"
    }
   ],
   "source": [
    "sd(ann_bagging150[,1])"
   ]
  },
  {
   "cell_type": "code",
   "execution_count": 52,
   "metadata": {},
   "outputs": [
    {
     "data": {
      "text/html": [
       "0.00183635704275152"
      ],
      "text/latex": [
       "0.00183635704275152"
      ],
      "text/markdown": [
       "0.00183635704275152"
      ],
      "text/plain": [
       "[1] 0.001836357"
      ]
     },
     "metadata": {},
     "output_type": "display_data"
    }
   ],
   "source": [
    "sd(ann_bagging150[,2])"
   ]
  },
  {
   "cell_type": "code",
   "execution_count": 53,
   "metadata": {},
   "outputs": [
    {
     "data": {
      "text/html": [
       "<table>\n",
       "<caption>A matrix: 30 × 2 of type dbl</caption>\n",
       "<thead>\n",
       "\t<tr><th scope=col>ACC</th><th scope=col>BCR</th></tr>\n",
       "</thead>\n",
       "<tbody>\n",
       "\t<tr><td>0.6305176</td><td>0.4748469</td></tr>\n",
       "\t<tr><td>0.6306167</td><td>0.4748284</td></tr>\n",
       "\t<tr><td>0.6305341</td><td>0.4736771</td></tr>\n",
       "\t<tr><td>0.6308477</td><td>0.4735745</td></tr>\n",
       "\t<tr><td>0.6306332</td><td>0.4739923</td></tr>\n",
       "\t<tr><td>0.6303526</td><td>0.4725945</td></tr>\n",
       "\t<tr><td>0.6303196</td><td>0.4734067</td></tr>\n",
       "\t<tr><td>0.6305176</td><td>0.4746782</td></tr>\n",
       "\t<tr><td>0.6304351</td><td>0.4742415</td></tr>\n",
       "\t<tr><td>0.6306167</td><td>0.4750519</td></tr>\n",
       "\t<tr><td>0.6306002</td><td>0.4745255</td></tr>\n",
       "\t<tr><td>0.6305672</td><td>0.4749646</td></tr>\n",
       "\t<tr><td>0.6306497</td><td>0.4755739</td></tr>\n",
       "\t<tr><td>0.6306662</td><td>0.4756026</td></tr>\n",
       "\t<tr><td>0.6305507</td><td>0.4756437</td></tr>\n",
       "\t<tr><td>0.6305011</td><td>0.4761877</td></tr>\n",
       "\t<tr><td>0.6304681</td><td>0.4771857</td></tr>\n",
       "\t<tr><td>0.6305507</td><td>0.4775543</td></tr>\n",
       "\t<tr><td>0.6304516</td><td>0.4771850</td></tr>\n",
       "\t<tr><td>0.6305341</td><td>0.4773052</td></tr>\n",
       "\t<tr><td>0.6304186</td><td>0.4770060</td></tr>\n",
       "\t<tr><td>0.6305341</td><td>0.4769724</td></tr>\n",
       "\t<tr><td>0.6305507</td><td>0.4771933</td></tr>\n",
       "\t<tr><td>0.6306497</td><td>0.4769362</td></tr>\n",
       "\t<tr><td>0.6305341</td><td>0.4775592</td></tr>\n",
       "\t<tr><td>0.6305176</td><td>0.4776170</td></tr>\n",
       "\t<tr><td>0.6304846</td><td>0.4779917</td></tr>\n",
       "\t<tr><td>0.6306992</td><td>0.4785645</td></tr>\n",
       "\t<tr><td>0.6305176</td><td>0.4783732</td></tr>\n",
       "\t<tr><td>0.6304846</td><td>0.4782748</td></tr>\n",
       "</tbody>\n",
       "</table>\n"
      ],
      "text/latex": [
       "A matrix: 30 × 2 of type dbl\n",
       "\\begin{tabular}{ll}\n",
       " ACC & BCR\\\\\n",
       "\\hline\n",
       "\t 0.6305176 & 0.4748469\\\\\n",
       "\t 0.6306167 & 0.4748284\\\\\n",
       "\t 0.6305341 & 0.4736771\\\\\n",
       "\t 0.6308477 & 0.4735745\\\\\n",
       "\t 0.6306332 & 0.4739923\\\\\n",
       "\t 0.6303526 & 0.4725945\\\\\n",
       "\t 0.6303196 & 0.4734067\\\\\n",
       "\t 0.6305176 & 0.4746782\\\\\n",
       "\t 0.6304351 & 0.4742415\\\\\n",
       "\t 0.6306167 & 0.4750519\\\\\n",
       "\t 0.6306002 & 0.4745255\\\\\n",
       "\t 0.6305672 & 0.4749646\\\\\n",
       "\t 0.6306497 & 0.4755739\\\\\n",
       "\t 0.6306662 & 0.4756026\\\\\n",
       "\t 0.6305507 & 0.4756437\\\\\n",
       "\t 0.6305011 & 0.4761877\\\\\n",
       "\t 0.6304681 & 0.4771857\\\\\n",
       "\t 0.6305507 & 0.4775543\\\\\n",
       "\t 0.6304516 & 0.4771850\\\\\n",
       "\t 0.6305341 & 0.4773052\\\\\n",
       "\t 0.6304186 & 0.4770060\\\\\n",
       "\t 0.6305341 & 0.4769724\\\\\n",
       "\t 0.6305507 & 0.4771933\\\\\n",
       "\t 0.6306497 & 0.4769362\\\\\n",
       "\t 0.6305341 & 0.4775592\\\\\n",
       "\t 0.6305176 & 0.4776170\\\\\n",
       "\t 0.6304846 & 0.4779917\\\\\n",
       "\t 0.6306992 & 0.4785645\\\\\n",
       "\t 0.6305176 & 0.4783732\\\\\n",
       "\t 0.6304846 & 0.4782748\\\\\n",
       "\\end{tabular}\n"
      ],
      "text/markdown": [
       "\n",
       "A matrix: 30 × 2 of type dbl\n",
       "\n",
       "| ACC | BCR |\n",
       "|---|---|\n",
       "| 0.6305176 | 0.4748469 |\n",
       "| 0.6306167 | 0.4748284 |\n",
       "| 0.6305341 | 0.4736771 |\n",
       "| 0.6308477 | 0.4735745 |\n",
       "| 0.6306332 | 0.4739923 |\n",
       "| 0.6303526 | 0.4725945 |\n",
       "| 0.6303196 | 0.4734067 |\n",
       "| 0.6305176 | 0.4746782 |\n",
       "| 0.6304351 | 0.4742415 |\n",
       "| 0.6306167 | 0.4750519 |\n",
       "| 0.6306002 | 0.4745255 |\n",
       "| 0.6305672 | 0.4749646 |\n",
       "| 0.6306497 | 0.4755739 |\n",
       "| 0.6306662 | 0.4756026 |\n",
       "| 0.6305507 | 0.4756437 |\n",
       "| 0.6305011 | 0.4761877 |\n",
       "| 0.6304681 | 0.4771857 |\n",
       "| 0.6305507 | 0.4775543 |\n",
       "| 0.6304516 | 0.4771850 |\n",
       "| 0.6305341 | 0.4773052 |\n",
       "| 0.6304186 | 0.4770060 |\n",
       "| 0.6305341 | 0.4769724 |\n",
       "| 0.6305507 | 0.4771933 |\n",
       "| 0.6306497 | 0.4769362 |\n",
       "| 0.6305341 | 0.4775592 |\n",
       "| 0.6305176 | 0.4776170 |\n",
       "| 0.6304846 | 0.4779917 |\n",
       "| 0.6306992 | 0.4785645 |\n",
       "| 0.6305176 | 0.4783732 |\n",
       "| 0.6304846 | 0.4782748 |\n",
       "\n"
      ],
      "text/plain": [
       "      ACC       BCR      \n",
       " [1,] 0.6305176 0.4748469\n",
       " [2,] 0.6306167 0.4748284\n",
       " [3,] 0.6305341 0.4736771\n",
       " [4,] 0.6308477 0.4735745\n",
       " [5,] 0.6306332 0.4739923\n",
       " [6,] 0.6303526 0.4725945\n",
       " [7,] 0.6303196 0.4734067\n",
       " [8,] 0.6305176 0.4746782\n",
       " [9,] 0.6304351 0.4742415\n",
       "[10,] 0.6306167 0.4750519\n",
       "[11,] 0.6306002 0.4745255\n",
       "[12,] 0.6305672 0.4749646\n",
       "[13,] 0.6306497 0.4755739\n",
       "[14,] 0.6306662 0.4756026\n",
       "[15,] 0.6305507 0.4756437\n",
       "[16,] 0.6305011 0.4761877\n",
       "[17,] 0.6304681 0.4771857\n",
       "[18,] 0.6305507 0.4775543\n",
       "[19,] 0.6304516 0.4771850\n",
       "[20,] 0.6305341 0.4773052\n",
       "[21,] 0.6304186 0.4770060\n",
       "[22,] 0.6305341 0.4769724\n",
       "[23,] 0.6305507 0.4771933\n",
       "[24,] 0.6306497 0.4769362\n",
       "[25,] 0.6305341 0.4775592\n",
       "[26,] 0.6305176 0.4776170\n",
       "[27,] 0.6304846 0.4779917\n",
       "[28,] 0.6306992 0.4785645\n",
       "[29,] 0.6305176 0.4783732\n",
       "[30,] 0.6304846 0.4782748"
      ]
     },
     "metadata": {},
     "output_type": "display_data"
    }
   ],
   "source": [
    "ann_bagging180"
   ]
  },
  {
   "cell_type": "code",
   "execution_count": 54,
   "metadata": {},
   "outputs": [
    {
     "ename": "ERROR",
     "evalue": "Error in mean(ann_baggin180[, 1]): object 'ann_baggin180' not found\n",
     "output_type": "error",
     "traceback": [
      "Error in mean(ann_baggin180[, 1]): object 'ann_baggin180' not found\nTraceback:\n",
      "1. mean(ann_baggin180[, 1])"
     ]
    }
   ],
   "source": [
    "mean(ann_baggin180[,1])"
   ]
  },
  {
   "cell_type": "code",
   "execution_count": 55,
   "metadata": {},
   "outputs": [
    {
     "data": {
      "text/html": [
       "0.475970273807786"
      ],
      "text/latex": [
       "0.475970273807786"
      ],
      "text/markdown": [
       "0.475970273807786"
      ],
      "text/plain": [
       "[1] 0.4759703"
      ]
     },
     "metadata": {},
     "output_type": "display_data"
    }
   ],
   "source": [
    "mean(ann_bagging180[,2])"
   ]
  },
  {
   "cell_type": "code",
   "execution_count": 56,
   "metadata": {},
   "outputs": [
    {
     "data": {
      "text/html": [
       "0.000104507728205414"
      ],
      "text/latex": [
       "0.000104507728205414"
      ],
      "text/markdown": [
       "0.000104507728205414"
      ],
      "text/plain": [
       "[1] 0.0001045077"
      ]
     },
     "metadata": {},
     "output_type": "display_data"
    }
   ],
   "source": [
    "sd(ann_bagging180[,1])"
   ]
  },
  {
   "cell_type": "code",
   "execution_count": 57,
   "metadata": {},
   "outputs": [
    {
     "data": {
      "text/html": [
       "0.00169562161566554"
      ],
      "text/latex": [
       "0.00169562161566554"
      ],
      "text/markdown": [
       "0.00169562161566554"
      ],
      "text/plain": [
       "[1] 0.001695622"
      ]
     },
     "metadata": {},
     "output_type": "display_data"
    }
   ],
   "source": [
    "sd(ann_bagging180[,2])"
   ]
  },
  {
   "cell_type": "code",
   "execution_count": 58,
   "metadata": {},
   "outputs": [
    {
     "data": {
      "text/html": [
       "<table>\n",
       "<caption>A matrix: 30 × 2 of type dbl</caption>\n",
       "<thead>\n",
       "\t<tr><th scope=col>ACC</th><th scope=col>BCR</th></tr>\n",
       "</thead>\n",
       "<tbody>\n",
       "\t<tr><td>0.6303526</td><td>0.4730373</td></tr>\n",
       "\t<tr><td>0.6304186</td><td>0.4738127</td></tr>\n",
       "\t<tr><td>0.6304351</td><td>0.4738292</td></tr>\n",
       "\t<tr><td>0.6305672</td><td>0.4739318</td></tr>\n",
       "\t<tr><td>0.6305341</td><td>0.4743414</td></tr>\n",
       "\t<tr><td>0.6305176</td><td>0.4741623</td></tr>\n",
       "\t<tr><td>0.6306167</td><td>0.4738901</td></tr>\n",
       "\t<tr><td>0.6305341</td><td>0.4749813</td></tr>\n",
       "\t<tr><td>0.6306002</td><td>0.4751975</td></tr>\n",
       "\t<tr><td>0.6307322</td><td>0.4757832</td></tr>\n",
       "\t<tr><td>0.6306167</td><td>0.4755255</td></tr>\n",
       "\t<tr><td>0.6305176</td><td>0.4758390</td></tr>\n",
       "\t<tr><td>0.6303526</td><td>0.4759057</td></tr>\n",
       "\t<tr><td>0.6305672</td><td>0.4763604</td></tr>\n",
       "\t<tr><td>0.6305837</td><td>0.4768357</td></tr>\n",
       "\t<tr><td>0.6306992</td><td>0.4764885</td></tr>\n",
       "\t<tr><td>0.6307322</td><td>0.4761805</td></tr>\n",
       "\t<tr><td>0.6308312</td><td>0.4760263</td></tr>\n",
       "\t<tr><td>0.6307817</td><td>0.4761885</td></tr>\n",
       "\t<tr><td>0.6304681</td><td>0.4760222</td></tr>\n",
       "\t<tr><td>0.6307982</td><td>0.4768419</td></tr>\n",
       "\t<tr><td>0.6309632</td><td>0.4770882</td></tr>\n",
       "\t<tr><td>0.6309302</td><td>0.4772069</td></tr>\n",
       "\t<tr><td>0.6307487</td><td>0.4769519</td></tr>\n",
       "\t<tr><td>0.6305507</td><td>0.4767311</td></tr>\n",
       "\t<tr><td>0.6305507</td><td>0.4768025</td></tr>\n",
       "\t<tr><td>0.6306167</td><td>0.4770647</td></tr>\n",
       "\t<tr><td>0.6303856</td><td>0.4772278</td></tr>\n",
       "\t<tr><td>0.6301876</td><td>0.4763233</td></tr>\n",
       "\t<tr><td>0.6301546</td><td>0.4766030</td></tr>\n",
       "</tbody>\n",
       "</table>\n"
      ],
      "text/latex": [
       "A matrix: 30 × 2 of type dbl\n",
       "\\begin{tabular}{ll}\n",
       " ACC & BCR\\\\\n",
       "\\hline\n",
       "\t 0.6303526 & 0.4730373\\\\\n",
       "\t 0.6304186 & 0.4738127\\\\\n",
       "\t 0.6304351 & 0.4738292\\\\\n",
       "\t 0.6305672 & 0.4739318\\\\\n",
       "\t 0.6305341 & 0.4743414\\\\\n",
       "\t 0.6305176 & 0.4741623\\\\\n",
       "\t 0.6306167 & 0.4738901\\\\\n",
       "\t 0.6305341 & 0.4749813\\\\\n",
       "\t 0.6306002 & 0.4751975\\\\\n",
       "\t 0.6307322 & 0.4757832\\\\\n",
       "\t 0.6306167 & 0.4755255\\\\\n",
       "\t 0.6305176 & 0.4758390\\\\\n",
       "\t 0.6303526 & 0.4759057\\\\\n",
       "\t 0.6305672 & 0.4763604\\\\\n",
       "\t 0.6305837 & 0.4768357\\\\\n",
       "\t 0.6306992 & 0.4764885\\\\\n",
       "\t 0.6307322 & 0.4761805\\\\\n",
       "\t 0.6308312 & 0.4760263\\\\\n",
       "\t 0.6307817 & 0.4761885\\\\\n",
       "\t 0.6304681 & 0.4760222\\\\\n",
       "\t 0.6307982 & 0.4768419\\\\\n",
       "\t 0.6309632 & 0.4770882\\\\\n",
       "\t 0.6309302 & 0.4772069\\\\\n",
       "\t 0.6307487 & 0.4769519\\\\\n",
       "\t 0.6305507 & 0.4767311\\\\\n",
       "\t 0.6305507 & 0.4768025\\\\\n",
       "\t 0.6306167 & 0.4770647\\\\\n",
       "\t 0.6303856 & 0.4772278\\\\\n",
       "\t 0.6301876 & 0.4763233\\\\\n",
       "\t 0.6301546 & 0.4766030\\\\\n",
       "\\end{tabular}\n"
      ],
      "text/markdown": [
       "\n",
       "A matrix: 30 × 2 of type dbl\n",
       "\n",
       "| ACC | BCR |\n",
       "|---|---|\n",
       "| 0.6303526 | 0.4730373 |\n",
       "| 0.6304186 | 0.4738127 |\n",
       "| 0.6304351 | 0.4738292 |\n",
       "| 0.6305672 | 0.4739318 |\n",
       "| 0.6305341 | 0.4743414 |\n",
       "| 0.6305176 | 0.4741623 |\n",
       "| 0.6306167 | 0.4738901 |\n",
       "| 0.6305341 | 0.4749813 |\n",
       "| 0.6306002 | 0.4751975 |\n",
       "| 0.6307322 | 0.4757832 |\n",
       "| 0.6306167 | 0.4755255 |\n",
       "| 0.6305176 | 0.4758390 |\n",
       "| 0.6303526 | 0.4759057 |\n",
       "| 0.6305672 | 0.4763604 |\n",
       "| 0.6305837 | 0.4768357 |\n",
       "| 0.6306992 | 0.4764885 |\n",
       "| 0.6307322 | 0.4761805 |\n",
       "| 0.6308312 | 0.4760263 |\n",
       "| 0.6307817 | 0.4761885 |\n",
       "| 0.6304681 | 0.4760222 |\n",
       "| 0.6307982 | 0.4768419 |\n",
       "| 0.6309632 | 0.4770882 |\n",
       "| 0.6309302 | 0.4772069 |\n",
       "| 0.6307487 | 0.4769519 |\n",
       "| 0.6305507 | 0.4767311 |\n",
       "| 0.6305507 | 0.4768025 |\n",
       "| 0.6306167 | 0.4770647 |\n",
       "| 0.6303856 | 0.4772278 |\n",
       "| 0.6301876 | 0.4763233 |\n",
       "| 0.6301546 | 0.4766030 |\n",
       "\n"
      ],
      "text/plain": [
       "      ACC       BCR      \n",
       " [1,] 0.6303526 0.4730373\n",
       " [2,] 0.6304186 0.4738127\n",
       " [3,] 0.6304351 0.4738292\n",
       " [4,] 0.6305672 0.4739318\n",
       " [5,] 0.6305341 0.4743414\n",
       " [6,] 0.6305176 0.4741623\n",
       " [7,] 0.6306167 0.4738901\n",
       " [8,] 0.6305341 0.4749813\n",
       " [9,] 0.6306002 0.4751975\n",
       "[10,] 0.6307322 0.4757832\n",
       "[11,] 0.6306167 0.4755255\n",
       "[12,] 0.6305176 0.4758390\n",
       "[13,] 0.6303526 0.4759057\n",
       "[14,] 0.6305672 0.4763604\n",
       "[15,] 0.6305837 0.4768357\n",
       "[16,] 0.6306992 0.4764885\n",
       "[17,] 0.6307322 0.4761805\n",
       "[18,] 0.6308312 0.4760263\n",
       "[19,] 0.6307817 0.4761885\n",
       "[20,] 0.6304681 0.4760222\n",
       "[21,] 0.6307982 0.4768419\n",
       "[22,] 0.6309632 0.4770882\n",
       "[23,] 0.6309302 0.4772069\n",
       "[24,] 0.6307487 0.4769519\n",
       "[25,] 0.6305507 0.4767311\n",
       "[26,] 0.6305507 0.4768025\n",
       "[27,] 0.6306167 0.4770647\n",
       "[28,] 0.6303856 0.4772278\n",
       "[29,] 0.6301876 0.4763233\n",
       "[30,] 0.6301546 0.4766030"
      ]
     },
     "metadata": {},
     "output_type": "display_data"
    }
   ],
   "source": [
    "ann_bagging210"
   ]
  },
  {
   "cell_type": "code",
   "execution_count": 59,
   "metadata": {},
   "outputs": [
    {
     "ename": "ERROR",
     "evalue": "Error in mean(ann_baggin210[, 1]): object 'ann_baggin210' not found\n",
     "output_type": "error",
     "traceback": [
      "Error in mean(ann_baggin210[, 1]): object 'ann_baggin210' not found\nTraceback:\n",
      "1. mean(ann_baggin210[, 1])"
     ]
    }
   ],
   "source": [
    "mean(ann_baggin210[,1])"
   ]
  },
  {
   "cell_type": "code",
   "execution_count": 60,
   "metadata": {},
   "outputs": [
    {
     "data": {
      "text/html": [
       "0.475772674281701"
      ],
      "text/latex": [
       "0.475772674281701"
      ],
      "text/markdown": [
       "0.475772674281701"
      ],
      "text/plain": [
       "[1] 0.4757727"
      ]
     },
     "metadata": {},
     "output_type": "display_data"
    }
   ],
   "source": [
    "mean(ann_bagging210[,2])"
   ]
  },
  {
   "cell_type": "code",
   "execution_count": 61,
   "metadata": {},
   "outputs": [
    {
     "data": {
      "text/html": [
       "0.000191524522763995"
      ],
      "text/latex": [
       "0.000191524522763995"
      ],
      "text/markdown": [
       "0.000191524522763995"
      ],
      "text/plain": [
       "[1] 0.0001915245"
      ]
     },
     "metadata": {},
     "output_type": "display_data"
    }
   ],
   "source": [
    "sd(ann_bagging210[,1])"
   ]
  },
  {
   "cell_type": "code",
   "execution_count": 62,
   "metadata": {},
   "outputs": [
    {
     "data": {
      "text/html": [
       "0.0012212080262575"
      ],
      "text/latex": [
       "0.0012212080262575"
      ],
      "text/markdown": [
       "0.0012212080262575"
      ],
      "text/plain": [
       "[1] 0.001221208"
      ]
     },
     "metadata": {},
     "output_type": "display_data"
    }
   ],
   "source": [
    "sd(ann_bagging210[,2])"
   ]
  },
  {
   "cell_type": "code",
   "execution_count": 63,
   "metadata": {},
   "outputs": [
    {
     "data": {
      "text/html": [
       "<table>\n",
       "<caption>A matrix: 30 × 2 of type dbl</caption>\n",
       "<thead>\n",
       "\t<tr><th scope=col>ACC</th><th scope=col>BCR</th></tr>\n",
       "</thead>\n",
       "<tbody>\n",
       "\t<tr><td>0.6306332</td><td>0.4751062</td></tr>\n",
       "\t<tr><td>0.6307157</td><td>0.4752641</td></tr>\n",
       "\t<tr><td>0.6308147</td><td>0.4755434</td></tr>\n",
       "\t<tr><td>0.6305837</td><td>0.4751038</td></tr>\n",
       "\t<tr><td>0.6305507</td><td>0.4751252</td></tr>\n",
       "\t<tr><td>0.6305507</td><td>0.4750864</td></tr>\n",
       "\t<tr><td>0.6305837</td><td>0.4756046</td></tr>\n",
       "\t<tr><td>0.6308477</td><td>0.4759865</td></tr>\n",
       "\t<tr><td>0.6308147</td><td>0.4759843</td></tr>\n",
       "\t<tr><td>0.6306332</td><td>0.4758405</td></tr>\n",
       "\t<tr><td>0.6304846</td><td>0.4760268</td></tr>\n",
       "\t<tr><td>0.6305837</td><td>0.4764898</td></tr>\n",
       "\t<tr><td>0.6307157</td><td>0.4756594</td></tr>\n",
       "\t<tr><td>0.6305837</td><td>0.4755668</td></tr>\n",
       "\t<tr><td>0.6307322</td><td>0.4761654</td></tr>\n",
       "\t<tr><td>0.6308147</td><td>0.4762385</td></tr>\n",
       "\t<tr><td>0.6309467</td><td>0.4764642</td></tr>\n",
       "\t<tr><td>0.6306992</td><td>0.4757596</td></tr>\n",
       "\t<tr><td>0.6309302</td><td>0.4764533</td></tr>\n",
       "\t<tr><td>0.6308807</td><td>0.4763582</td></tr>\n",
       "\t<tr><td>0.6305176</td><td>0.4759055</td></tr>\n",
       "\t<tr><td>0.6306662</td><td>0.4758579</td></tr>\n",
       "\t<tr><td>0.6306497</td><td>0.4753367</td></tr>\n",
       "\t<tr><td>0.6307157</td><td>0.4758146</td></tr>\n",
       "\t<tr><td>0.6306662</td><td>0.4761582</td></tr>\n",
       "\t<tr><td>0.6304681</td><td>0.4761282</td></tr>\n",
       "\t<tr><td>0.6304351</td><td>0.4766467</td></tr>\n",
       "\t<tr><td>0.6305507</td><td>0.4766282</td></tr>\n",
       "\t<tr><td>0.6305507</td><td>0.4767160</td></tr>\n",
       "\t<tr><td>0.6303691</td><td>0.4766395</td></tr>\n",
       "</tbody>\n",
       "</table>\n"
      ],
      "text/latex": [
       "A matrix: 30 × 2 of type dbl\n",
       "\\begin{tabular}{ll}\n",
       " ACC & BCR\\\\\n",
       "\\hline\n",
       "\t 0.6306332 & 0.4751062\\\\\n",
       "\t 0.6307157 & 0.4752641\\\\\n",
       "\t 0.6308147 & 0.4755434\\\\\n",
       "\t 0.6305837 & 0.4751038\\\\\n",
       "\t 0.6305507 & 0.4751252\\\\\n",
       "\t 0.6305507 & 0.4750864\\\\\n",
       "\t 0.6305837 & 0.4756046\\\\\n",
       "\t 0.6308477 & 0.4759865\\\\\n",
       "\t 0.6308147 & 0.4759843\\\\\n",
       "\t 0.6306332 & 0.4758405\\\\\n",
       "\t 0.6304846 & 0.4760268\\\\\n",
       "\t 0.6305837 & 0.4764898\\\\\n",
       "\t 0.6307157 & 0.4756594\\\\\n",
       "\t 0.6305837 & 0.4755668\\\\\n",
       "\t 0.6307322 & 0.4761654\\\\\n",
       "\t 0.6308147 & 0.4762385\\\\\n",
       "\t 0.6309467 & 0.4764642\\\\\n",
       "\t 0.6306992 & 0.4757596\\\\\n",
       "\t 0.6309302 & 0.4764533\\\\\n",
       "\t 0.6308807 & 0.4763582\\\\\n",
       "\t 0.6305176 & 0.4759055\\\\\n",
       "\t 0.6306662 & 0.4758579\\\\\n",
       "\t 0.6306497 & 0.4753367\\\\\n",
       "\t 0.6307157 & 0.4758146\\\\\n",
       "\t 0.6306662 & 0.4761582\\\\\n",
       "\t 0.6304681 & 0.4761282\\\\\n",
       "\t 0.6304351 & 0.4766467\\\\\n",
       "\t 0.6305507 & 0.4766282\\\\\n",
       "\t 0.6305507 & 0.4767160\\\\\n",
       "\t 0.6303691 & 0.4766395\\\\\n",
       "\\end{tabular}\n"
      ],
      "text/markdown": [
       "\n",
       "A matrix: 30 × 2 of type dbl\n",
       "\n",
       "| ACC | BCR |\n",
       "|---|---|\n",
       "| 0.6306332 | 0.4751062 |\n",
       "| 0.6307157 | 0.4752641 |\n",
       "| 0.6308147 | 0.4755434 |\n",
       "| 0.6305837 | 0.4751038 |\n",
       "| 0.6305507 | 0.4751252 |\n",
       "| 0.6305507 | 0.4750864 |\n",
       "| 0.6305837 | 0.4756046 |\n",
       "| 0.6308477 | 0.4759865 |\n",
       "| 0.6308147 | 0.4759843 |\n",
       "| 0.6306332 | 0.4758405 |\n",
       "| 0.6304846 | 0.4760268 |\n",
       "| 0.6305837 | 0.4764898 |\n",
       "| 0.6307157 | 0.4756594 |\n",
       "| 0.6305837 | 0.4755668 |\n",
       "| 0.6307322 | 0.4761654 |\n",
       "| 0.6308147 | 0.4762385 |\n",
       "| 0.6309467 | 0.4764642 |\n",
       "| 0.6306992 | 0.4757596 |\n",
       "| 0.6309302 | 0.4764533 |\n",
       "| 0.6308807 | 0.4763582 |\n",
       "| 0.6305176 | 0.4759055 |\n",
       "| 0.6306662 | 0.4758579 |\n",
       "| 0.6306497 | 0.4753367 |\n",
       "| 0.6307157 | 0.4758146 |\n",
       "| 0.6306662 | 0.4761582 |\n",
       "| 0.6304681 | 0.4761282 |\n",
       "| 0.6304351 | 0.4766467 |\n",
       "| 0.6305507 | 0.4766282 |\n",
       "| 0.6305507 | 0.4767160 |\n",
       "| 0.6303691 | 0.4766395 |\n",
       "\n"
      ],
      "text/plain": [
       "      ACC       BCR      \n",
       " [1,] 0.6306332 0.4751062\n",
       " [2,] 0.6307157 0.4752641\n",
       " [3,] 0.6308147 0.4755434\n",
       " [4,] 0.6305837 0.4751038\n",
       " [5,] 0.6305507 0.4751252\n",
       " [6,] 0.6305507 0.4750864\n",
       " [7,] 0.6305837 0.4756046\n",
       " [8,] 0.6308477 0.4759865\n",
       " [9,] 0.6308147 0.4759843\n",
       "[10,] 0.6306332 0.4758405\n",
       "[11,] 0.6304846 0.4760268\n",
       "[12,] 0.6305837 0.4764898\n",
       "[13,] 0.6307157 0.4756594\n",
       "[14,] 0.6305837 0.4755668\n",
       "[15,] 0.6307322 0.4761654\n",
       "[16,] 0.6308147 0.4762385\n",
       "[17,] 0.6309467 0.4764642\n",
       "[18,] 0.6306992 0.4757596\n",
       "[19,] 0.6309302 0.4764533\n",
       "[20,] 0.6308807 0.4763582\n",
       "[21,] 0.6305176 0.4759055\n",
       "[22,] 0.6306662 0.4758579\n",
       "[23,] 0.6306497 0.4753367\n",
       "[24,] 0.6307157 0.4758146\n",
       "[25,] 0.6306662 0.4761582\n",
       "[26,] 0.6304681 0.4761282\n",
       "[27,] 0.6304351 0.4766467\n",
       "[28,] 0.6305507 0.4766282\n",
       "[29,] 0.6305507 0.4767160\n",
       "[30,] 0.6303691 0.4766395"
      ]
     },
     "metadata": {},
     "output_type": "display_data"
    }
   ],
   "source": [
    "ann_bagging240"
   ]
  },
  {
   "cell_type": "code",
   "execution_count": 64,
   "metadata": {},
   "outputs": [
    {
     "ename": "ERROR",
     "evalue": "Error in mean(ann_baggin240[, 1]): object 'ann_baggin240' not found\n",
     "output_type": "error",
     "traceback": [
      "Error in mean(ann_baggin240[, 1]): object 'ann_baggin240' not found\nTraceback:\n",
      "1. mean(ann_baggin240[, 1])"
     ]
    }
   ],
   "source": [
    "mean(ann_baggin240[,1])"
   ]
  },
  {
   "cell_type": "code",
   "execution_count": 65,
   "metadata": {},
   "outputs": [
    {
     "data": {
      "text/html": [
       "0.475921955087042"
      ],
      "text/latex": [
       "0.475921955087042"
      ],
      "text/markdown": [
       "0.475921955087042"
      ],
      "text/plain": [
       "[1] 0.475922"
      ]
     },
     "metadata": {},
     "output_type": "display_data"
    }
   ],
   "source": [
    "mean(ann_bagging240[,2])"
   ]
  },
  {
   "cell_type": "code",
   "execution_count": 66,
   "metadata": {},
   "outputs": [
    {
     "data": {
      "text/html": [
       "0.000146481681960178"
      ],
      "text/latex": [
       "0.000146481681960178"
      ],
      "text/markdown": [
       "0.000146481681960178"
      ],
      "text/plain": [
       "[1] 0.0001464817"
      ]
     },
     "metadata": {},
     "output_type": "display_data"
    }
   ],
   "source": [
    "sd(ann_bagging240[,1])"
   ]
  },
  {
   "cell_type": "code",
   "execution_count": 67,
   "metadata": {},
   "outputs": [
    {
     "data": {
      "text/html": [
       "0.000507422155299218"
      ],
      "text/latex": [
       "0.000507422155299218"
      ],
      "text/markdown": [
       "0.000507422155299218"
      ],
      "text/plain": [
       "[1] 0.0005074222"
      ]
     },
     "metadata": {},
     "output_type": "display_data"
    }
   ],
   "source": [
    "sd(ann_bagging240[,2])"
   ]
  },
  {
   "cell_type": "code",
   "execution_count": 68,
   "metadata": {},
   "outputs": [
    {
     "data": {
      "text/html": [
       "<table>\n",
       "<caption>A matrix: 30 × 2 of type dbl</caption>\n",
       "<thead>\n",
       "\t<tr><th scope=col>ACC</th><th scope=col>BCR</th></tr>\n",
       "</thead>\n",
       "<tbody>\n",
       "\t<tr><td>0.6307487</td><td>0.4758085</td></tr>\n",
       "\t<tr><td>0.6307652</td><td>0.4759455</td></tr>\n",
       "\t<tr><td>0.6306167</td><td>0.4758014</td></tr>\n",
       "\t<tr><td>0.6304681</td><td>0.4753747</td></tr>\n",
       "\t<tr><td>0.6305507</td><td>0.4752639</td></tr>\n",
       "\t<tr><td>0.6306992</td><td>0.4755809</td></tr>\n",
       "\t<tr><td>0.6307322</td><td>0.4758739</td></tr>\n",
       "\t<tr><td>0.6306992</td><td>0.4756892</td></tr>\n",
       "\t<tr><td>0.6307157</td><td>0.4758003</td></tr>\n",
       "\t<tr><td>0.6306827</td><td>0.4759201</td></tr>\n",
       "\t<tr><td>0.6308807</td><td>0.4759764</td></tr>\n",
       "\t<tr><td>0.6308147</td><td>0.4758765</td></tr>\n",
       "\t<tr><td>0.6305507</td><td>0.4753849</td></tr>\n",
       "\t<tr><td>0.6305341</td><td>0.4754895</td></tr>\n",
       "\t<tr><td>0.6304186</td><td>0.4754052</td></tr>\n",
       "\t<tr><td>0.6304351</td><td>0.4752347</td></tr>\n",
       "\t<tr><td>0.6303856</td><td>0.4755911</td></tr>\n",
       "\t<tr><td>0.6305837</td><td>0.4756577</td></tr>\n",
       "\t<tr><td>0.6306332</td><td>0.4757167</td></tr>\n",
       "\t<tr><td>0.6304681</td><td>0.4752854</td></tr>\n",
       "\t<tr><td>0.6306002</td><td>0.4758391</td></tr>\n",
       "\t<tr><td>0.6305176</td><td>0.4758745</td></tr>\n",
       "\t<tr><td>0.6306662</td><td>0.4761005</td></tr>\n",
       "\t<tr><td>0.6306167</td><td>0.4764203</td></tr>\n",
       "\t<tr><td>0.6304351</td><td>0.4761805</td></tr>\n",
       "\t<tr><td>0.6304516</td><td>0.4762493</td></tr>\n",
       "\t<tr><td>0.6304846</td><td>0.4759789</td></tr>\n",
       "\t<tr><td>0.6304186</td><td>0.4763930</td></tr>\n",
       "\t<tr><td>0.6304681</td><td>0.4765155</td></tr>\n",
       "\t<tr><td>0.6305672</td><td>0.4767150</td></tr>\n",
       "</tbody>\n",
       "</table>\n"
      ],
      "text/latex": [
       "A matrix: 30 × 2 of type dbl\n",
       "\\begin{tabular}{ll}\n",
       " ACC & BCR\\\\\n",
       "\\hline\n",
       "\t 0.6307487 & 0.4758085\\\\\n",
       "\t 0.6307652 & 0.4759455\\\\\n",
       "\t 0.6306167 & 0.4758014\\\\\n",
       "\t 0.6304681 & 0.4753747\\\\\n",
       "\t 0.6305507 & 0.4752639\\\\\n",
       "\t 0.6306992 & 0.4755809\\\\\n",
       "\t 0.6307322 & 0.4758739\\\\\n",
       "\t 0.6306992 & 0.4756892\\\\\n",
       "\t 0.6307157 & 0.4758003\\\\\n",
       "\t 0.6306827 & 0.4759201\\\\\n",
       "\t 0.6308807 & 0.4759764\\\\\n",
       "\t 0.6308147 & 0.4758765\\\\\n",
       "\t 0.6305507 & 0.4753849\\\\\n",
       "\t 0.6305341 & 0.4754895\\\\\n",
       "\t 0.6304186 & 0.4754052\\\\\n",
       "\t 0.6304351 & 0.4752347\\\\\n",
       "\t 0.6303856 & 0.4755911\\\\\n",
       "\t 0.6305837 & 0.4756577\\\\\n",
       "\t 0.6306332 & 0.4757167\\\\\n",
       "\t 0.6304681 & 0.4752854\\\\\n",
       "\t 0.6306002 & 0.4758391\\\\\n",
       "\t 0.6305176 & 0.4758745\\\\\n",
       "\t 0.6306662 & 0.4761005\\\\\n",
       "\t 0.6306167 & 0.4764203\\\\\n",
       "\t 0.6304351 & 0.4761805\\\\\n",
       "\t 0.6304516 & 0.4762493\\\\\n",
       "\t 0.6304846 & 0.4759789\\\\\n",
       "\t 0.6304186 & 0.4763930\\\\\n",
       "\t 0.6304681 & 0.4765155\\\\\n",
       "\t 0.6305672 & 0.4767150\\\\\n",
       "\\end{tabular}\n"
      ],
      "text/markdown": [
       "\n",
       "A matrix: 30 × 2 of type dbl\n",
       "\n",
       "| ACC | BCR |\n",
       "|---|---|\n",
       "| 0.6307487 | 0.4758085 |\n",
       "| 0.6307652 | 0.4759455 |\n",
       "| 0.6306167 | 0.4758014 |\n",
       "| 0.6304681 | 0.4753747 |\n",
       "| 0.6305507 | 0.4752639 |\n",
       "| 0.6306992 | 0.4755809 |\n",
       "| 0.6307322 | 0.4758739 |\n",
       "| 0.6306992 | 0.4756892 |\n",
       "| 0.6307157 | 0.4758003 |\n",
       "| 0.6306827 | 0.4759201 |\n",
       "| 0.6308807 | 0.4759764 |\n",
       "| 0.6308147 | 0.4758765 |\n",
       "| 0.6305507 | 0.4753849 |\n",
       "| 0.6305341 | 0.4754895 |\n",
       "| 0.6304186 | 0.4754052 |\n",
       "| 0.6304351 | 0.4752347 |\n",
       "| 0.6303856 | 0.4755911 |\n",
       "| 0.6305837 | 0.4756577 |\n",
       "| 0.6306332 | 0.4757167 |\n",
       "| 0.6304681 | 0.4752854 |\n",
       "| 0.6306002 | 0.4758391 |\n",
       "| 0.6305176 | 0.4758745 |\n",
       "| 0.6306662 | 0.4761005 |\n",
       "| 0.6306167 | 0.4764203 |\n",
       "| 0.6304351 | 0.4761805 |\n",
       "| 0.6304516 | 0.4762493 |\n",
       "| 0.6304846 | 0.4759789 |\n",
       "| 0.6304186 | 0.4763930 |\n",
       "| 0.6304681 | 0.4765155 |\n",
       "| 0.6305672 | 0.4767150 |\n",
       "\n"
      ],
      "text/plain": [
       "      ACC       BCR      \n",
       " [1,] 0.6307487 0.4758085\n",
       " [2,] 0.6307652 0.4759455\n",
       " [3,] 0.6306167 0.4758014\n",
       " [4,] 0.6304681 0.4753747\n",
       " [5,] 0.6305507 0.4752639\n",
       " [6,] 0.6306992 0.4755809\n",
       " [7,] 0.6307322 0.4758739\n",
       " [8,] 0.6306992 0.4756892\n",
       " [9,] 0.6307157 0.4758003\n",
       "[10,] 0.6306827 0.4759201\n",
       "[11,] 0.6308807 0.4759764\n",
       "[12,] 0.6308147 0.4758765\n",
       "[13,] 0.6305507 0.4753849\n",
       "[14,] 0.6305341 0.4754895\n",
       "[15,] 0.6304186 0.4754052\n",
       "[16,] 0.6304351 0.4752347\n",
       "[17,] 0.6303856 0.4755911\n",
       "[18,] 0.6305837 0.4756577\n",
       "[19,] 0.6306332 0.4757167\n",
       "[20,] 0.6304681 0.4752854\n",
       "[21,] 0.6306002 0.4758391\n",
       "[22,] 0.6305176 0.4758745\n",
       "[23,] 0.6306662 0.4761005\n",
       "[24,] 0.6306167 0.4764203\n",
       "[25,] 0.6304351 0.4761805\n",
       "[26,] 0.6304516 0.4762493\n",
       "[27,] 0.6304846 0.4759789\n",
       "[28,] 0.6304186 0.4763930\n",
       "[29,] 0.6304681 0.4765155\n",
       "[30,] 0.6305672 0.4767150"
      ]
     },
     "metadata": {},
     "output_type": "display_data"
    }
   ],
   "source": [
    "ann_bagging270"
   ]
  },
  {
   "cell_type": "code",
   "execution_count": 69,
   "metadata": {},
   "outputs": [
    {
     "ename": "ERROR",
     "evalue": "Error in mean(ann_baggin270[, 1]): object 'ann_baggin270' not found\n",
     "output_type": "error",
     "traceback": [
      "Error in mean(ann_baggin270[, 1]): object 'ann_baggin270' not found\nTraceback:\n",
      "1. mean(ann_baggin270[, 1])"
     ]
    }
   ],
   "source": [
    "mean(ann_baggin270[,1])"
   ]
  },
  {
   "cell_type": "code",
   "execution_count": 70,
   "metadata": {},
   "outputs": [
    {
     "data": {
      "text/html": [
       "0.475831440328401"
      ],
      "text/latex": [
       "0.475831440328401"
      ],
      "text/markdown": [
       "0.475831440328401"
      ],
      "text/plain": [
       "[1] 0.4758314"
      ]
     },
     "metadata": {},
     "output_type": "display_data"
    }
   ],
   "source": [
    "mean(ann_bagging270[,2])"
   ]
  },
  {
   "cell_type": "code",
   "execution_count": 71,
   "metadata": {},
   "outputs": [
    {
     "data": {
      "text/html": [
       "0.000131754718244108"
      ],
      "text/latex": [
       "0.000131754718244108"
      ],
      "text/markdown": [
       "0.000131754718244108"
      ],
      "text/plain": [
       "[1] 0.0001317547"
      ]
     },
     "metadata": {},
     "output_type": "display_data"
    }
   ],
   "source": [
    "sd(ann_bagging270[,1])"
   ]
  },
  {
   "cell_type": "code",
   "execution_count": 72,
   "metadata": {},
   "outputs": [
    {
     "data": {
      "text/html": [
       "0.000381401940319006"
      ],
      "text/latex": [
       "0.000381401940319006"
      ],
      "text/markdown": [
       "0.000381401940319006"
      ],
      "text/plain": [
       "[1] 0.0003814019"
      ]
     },
     "metadata": {},
     "output_type": "display_data"
    }
   ],
   "source": [
    "sd(ann_bagging270[,2])"
   ]
  },
  {
   "cell_type": "code",
   "execution_count": 73,
   "metadata": {},
   "outputs": [
    {
     "data": {
      "text/html": [
       "<table>\n",
       "<caption>A matrix: 30 × 2 of type dbl</caption>\n",
       "<thead>\n",
       "\t<tr><th scope=col>ACC</th><th scope=col>BCR</th></tr>\n",
       "</thead>\n",
       "<tbody>\n",
       "\t<tr><td>0.6307322</td><td>0.4757884</td></tr>\n",
       "\t<tr><td>0.6306002</td><td>0.4757414</td></tr>\n",
       "\t<tr><td>0.6305672</td><td>0.4754608</td></tr>\n",
       "\t<tr><td>0.6306662</td><td>0.4755822</td></tr>\n",
       "\t<tr><td>0.6305507</td><td>0.4753767</td></tr>\n",
       "\t<tr><td>0.6305837</td><td>0.4754787</td></tr>\n",
       "\t<tr><td>0.6306332</td><td>0.4754651</td></tr>\n",
       "\t<tr><td>0.6306497</td><td>0.4756013</td></tr>\n",
       "\t<tr><td>0.6305837</td><td>0.4755184</td></tr>\n",
       "\t<tr><td>0.6305672</td><td>0.4756190</td></tr>\n",
       "\t<tr><td>0.6306497</td><td>0.4755464</td></tr>\n",
       "\t<tr><td>0.6306167</td><td>0.4756687</td></tr>\n",
       "\t<tr><td>0.6306992</td><td>0.4759508</td></tr>\n",
       "\t<tr><td>0.6307487</td><td>0.4760253</td></tr>\n",
       "\t<tr><td>0.6307487</td><td>0.4758768</td></tr>\n",
       "\t<tr><td>0.6307652</td><td>0.4761312</td></tr>\n",
       "\t<tr><td>0.6307322</td><td>0.4761077</td></tr>\n",
       "\t<tr><td>0.6306332</td><td>0.4763885</td></tr>\n",
       "\t<tr><td>0.6305837</td><td>0.4762334</td></tr>\n",
       "\t<tr><td>0.6306332</td><td>0.4763584</td></tr>\n",
       "\t<tr><td>0.6306002</td><td>0.4762316</td></tr>\n",
       "\t<tr><td>0.6304351</td><td>0.4758440</td></tr>\n",
       "\t<tr><td>0.6305672</td><td>0.4759916</td></tr>\n",
       "\t<tr><td>0.6303856</td><td>0.4754272</td></tr>\n",
       "\t<tr><td>0.6304186</td><td>0.4757477</td></tr>\n",
       "\t<tr><td>0.6305341</td><td>0.4758347</td></tr>\n",
       "\t<tr><td>0.6304021</td><td>0.4760786</td></tr>\n",
       "\t<tr><td>0.6304186</td><td>0.4758752</td></tr>\n",
       "\t<tr><td>0.6304846</td><td>0.4763153</td></tr>\n",
       "\t<tr><td>0.6305837</td><td>0.4763912</td></tr>\n",
       "</tbody>\n",
       "</table>\n"
      ],
      "text/latex": [
       "A matrix: 30 × 2 of type dbl\n",
       "\\begin{tabular}{ll}\n",
       " ACC & BCR\\\\\n",
       "\\hline\n",
       "\t 0.6307322 & 0.4757884\\\\\n",
       "\t 0.6306002 & 0.4757414\\\\\n",
       "\t 0.6305672 & 0.4754608\\\\\n",
       "\t 0.6306662 & 0.4755822\\\\\n",
       "\t 0.6305507 & 0.4753767\\\\\n",
       "\t 0.6305837 & 0.4754787\\\\\n",
       "\t 0.6306332 & 0.4754651\\\\\n",
       "\t 0.6306497 & 0.4756013\\\\\n",
       "\t 0.6305837 & 0.4755184\\\\\n",
       "\t 0.6305672 & 0.4756190\\\\\n",
       "\t 0.6306497 & 0.4755464\\\\\n",
       "\t 0.6306167 & 0.4756687\\\\\n",
       "\t 0.6306992 & 0.4759508\\\\\n",
       "\t 0.6307487 & 0.4760253\\\\\n",
       "\t 0.6307487 & 0.4758768\\\\\n",
       "\t 0.6307652 & 0.4761312\\\\\n",
       "\t 0.6307322 & 0.4761077\\\\\n",
       "\t 0.6306332 & 0.4763885\\\\\n",
       "\t 0.6305837 & 0.4762334\\\\\n",
       "\t 0.6306332 & 0.4763584\\\\\n",
       "\t 0.6306002 & 0.4762316\\\\\n",
       "\t 0.6304351 & 0.4758440\\\\\n",
       "\t 0.6305672 & 0.4759916\\\\\n",
       "\t 0.6303856 & 0.4754272\\\\\n",
       "\t 0.6304186 & 0.4757477\\\\\n",
       "\t 0.6305341 & 0.4758347\\\\\n",
       "\t 0.6304021 & 0.4760786\\\\\n",
       "\t 0.6304186 & 0.4758752\\\\\n",
       "\t 0.6304846 & 0.4763153\\\\\n",
       "\t 0.6305837 & 0.4763912\\\\\n",
       "\\end{tabular}\n"
      ],
      "text/markdown": [
       "\n",
       "A matrix: 30 × 2 of type dbl\n",
       "\n",
       "| ACC | BCR |\n",
       "|---|---|\n",
       "| 0.6307322 | 0.4757884 |\n",
       "| 0.6306002 | 0.4757414 |\n",
       "| 0.6305672 | 0.4754608 |\n",
       "| 0.6306662 | 0.4755822 |\n",
       "| 0.6305507 | 0.4753767 |\n",
       "| 0.6305837 | 0.4754787 |\n",
       "| 0.6306332 | 0.4754651 |\n",
       "| 0.6306497 | 0.4756013 |\n",
       "| 0.6305837 | 0.4755184 |\n",
       "| 0.6305672 | 0.4756190 |\n",
       "| 0.6306497 | 0.4755464 |\n",
       "| 0.6306167 | 0.4756687 |\n",
       "| 0.6306992 | 0.4759508 |\n",
       "| 0.6307487 | 0.4760253 |\n",
       "| 0.6307487 | 0.4758768 |\n",
       "| 0.6307652 | 0.4761312 |\n",
       "| 0.6307322 | 0.4761077 |\n",
       "| 0.6306332 | 0.4763885 |\n",
       "| 0.6305837 | 0.4762334 |\n",
       "| 0.6306332 | 0.4763584 |\n",
       "| 0.6306002 | 0.4762316 |\n",
       "| 0.6304351 | 0.4758440 |\n",
       "| 0.6305672 | 0.4759916 |\n",
       "| 0.6303856 | 0.4754272 |\n",
       "| 0.6304186 | 0.4757477 |\n",
       "| 0.6305341 | 0.4758347 |\n",
       "| 0.6304021 | 0.4760786 |\n",
       "| 0.6304186 | 0.4758752 |\n",
       "| 0.6304846 | 0.4763153 |\n",
       "| 0.6305837 | 0.4763912 |\n",
       "\n"
      ],
      "text/plain": [
       "      ACC       BCR      \n",
       " [1,] 0.6307322 0.4757884\n",
       " [2,] 0.6306002 0.4757414\n",
       " [3,] 0.6305672 0.4754608\n",
       " [4,] 0.6306662 0.4755822\n",
       " [5,] 0.6305507 0.4753767\n",
       " [6,] 0.6305837 0.4754787\n",
       " [7,] 0.6306332 0.4754651\n",
       " [8,] 0.6306497 0.4756013\n",
       " [9,] 0.6305837 0.4755184\n",
       "[10,] 0.6305672 0.4756190\n",
       "[11,] 0.6306497 0.4755464\n",
       "[12,] 0.6306167 0.4756687\n",
       "[13,] 0.6306992 0.4759508\n",
       "[14,] 0.6307487 0.4760253\n",
       "[15,] 0.6307487 0.4758768\n",
       "[16,] 0.6307652 0.4761312\n",
       "[17,] 0.6307322 0.4761077\n",
       "[18,] 0.6306332 0.4763885\n",
       "[19,] 0.6305837 0.4762334\n",
       "[20,] 0.6306332 0.4763584\n",
       "[21,] 0.6306002 0.4762316\n",
       "[22,] 0.6304351 0.4758440\n",
       "[23,] 0.6305672 0.4759916\n",
       "[24,] 0.6303856 0.4754272\n",
       "[25,] 0.6304186 0.4757477\n",
       "[26,] 0.6305341 0.4758347\n",
       "[27,] 0.6304021 0.4760786\n",
       "[28,] 0.6304186 0.4758752\n",
       "[29,] 0.6304846 0.4763153\n",
       "[30,] 0.6305837 0.4763912"
      ]
     },
     "metadata": {},
     "output_type": "display_data"
    }
   ],
   "source": [
    "ann_bagging300"
   ]
  },
  {
   "cell_type": "code",
   "execution_count": 74,
   "metadata": {},
   "outputs": [
    {
     "ename": "ERROR",
     "evalue": "Error in mean(ann_baggin300[, 1]): object 'ann_baggin300' not found\n",
     "output_type": "error",
     "traceback": [
      "Error in mean(ann_baggin300[, 1]): object 'ann_baggin300' not found\nTraceback:\n",
      "1. mean(ann_baggin300[, 1])"
     ]
    }
   ],
   "source": [
    "mean(ann_baggin300[,1])"
   ]
  },
  {
   "cell_type": "code",
   "execution_count": 75,
   "metadata": {},
   "outputs": [
    {
     "data": {
      "text/html": [
       "0.475855215646646"
      ],
      "text/latex": [
       "0.475855215646646"
      ],
      "text/markdown": [
       "0.475855215646646"
      ],
      "text/plain": [
       "[1] 0.4758552"
      ]
     },
     "metadata": {},
     "output_type": "display_data"
    }
   ],
   "source": [
    "mean(ann_bagging300[,2])"
   ]
  },
  {
   "cell_type": "code",
   "execution_count": 76,
   "metadata": {},
   "outputs": [
    {
     "data": {
      "text/html": [
       "0.000106653950108744"
      ],
      "text/latex": [
       "0.000106653950108744"
      ],
      "text/markdown": [
       "0.000106653950108744"
      ],
      "text/plain": [
       "[1] 0.000106654"
      ]
     },
     "metadata": {},
     "output_type": "display_data"
    }
   ],
   "source": [
    "sd(ann_bagging300[,1])"
   ]
  },
  {
   "cell_type": "code",
   "execution_count": 77,
   "metadata": {},
   "outputs": [
    {
     "data": {
      "text/html": [
       "0.000316124365415883"
      ],
      "text/latex": [
       "0.000316124365415883"
      ],
      "text/markdown": [
       "0.000316124365415883"
      ],
      "text/plain": [
       "[1] 0.0003161244"
      ]
     },
     "metadata": {},
     "output_type": "display_data"
    }
   ],
   "source": [
    "sd(ann_bagging300[,2])"
   ]
  },
  {
   "cell_type": "code",
   "execution_count": null,
   "metadata": {},
   "outputs": [],
   "source": []
  }
 ],
 "metadata": {
  "kernelspec": {
   "display_name": "R",
   "language": "R",
   "name": "ir"
  },
  "language_info": {
   "codemirror_mode": "r",
   "file_extension": ".r",
   "mimetype": "text/x-r-source",
   "name": "R",
   "pygments_lexer": "r",
   "version": "3.6.3"
  }
 },
 "nbformat": 4,
 "nbformat_minor": 4
}
