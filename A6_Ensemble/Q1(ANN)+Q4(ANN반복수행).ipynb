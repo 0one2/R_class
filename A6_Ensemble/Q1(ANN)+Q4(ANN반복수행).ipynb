{
 "cells": [
  {
   "cell_type": "code",
   "execution_count": 1,
   "metadata": {
    "_execution_state": "idle",
    "_uuid": "051d70d956493feee0c6d64651c6a088724dca2a"
   },
   "outputs": [
    {
     "name": "stderr",
     "output_type": "stream",
     "text": [
      "── \u001b[1mAttaching packages\u001b[22m ─────────────────────────────────────── tidyverse 1.3.0 ──\n",
      "\n",
      "\u001b[32m✔\u001b[39m \u001b[34mggplot2\u001b[39m 3.3.0.\u001b[31m9000\u001b[39m     \u001b[32m✔\u001b[39m \u001b[34mpurrr  \u001b[39m 0.3.4     \n",
      "\u001b[32m✔\u001b[39m \u001b[34mtibble \u001b[39m 3.0.1          \u001b[32m✔\u001b[39m \u001b[34mdplyr  \u001b[39m 0.8.5     \n",
      "\u001b[32m✔\u001b[39m \u001b[34mtidyr  \u001b[39m 1.0.3          \u001b[32m✔\u001b[39m \u001b[34mstringr\u001b[39m 1.4.0     \n",
      "\u001b[32m✔\u001b[39m \u001b[34mreadr  \u001b[39m 1.3.1          \u001b[32m✔\u001b[39m \u001b[34mforcats\u001b[39m 0.5.0     \n",
      "\n",
      "── \u001b[1mConflicts\u001b[22m ────────────────────────────────────────── tidyverse_conflicts() ──\n",
      "\u001b[31m✖\u001b[39m \u001b[34mdplyr\u001b[39m::\u001b[32mfilter()\u001b[39m masks \u001b[34mstats\u001b[39m::filter()\n",
      "\u001b[31m✖\u001b[39m \u001b[34mdplyr\u001b[39m::\u001b[32mlag()\u001b[39m    masks \u001b[34mstats\u001b[39m::lag()\n",
      "\n"
     ]
    },
    {
     "data": {
      "text/html": [
       "'a6-essemble'"
      ],
      "text/latex": [
       "'a6-essemble'"
      ],
      "text/markdown": [
       "'a6-essemble'"
      ],
      "text/plain": [
       "[1] \"a6-essemble\""
      ]
     },
     "metadata": {},
     "output_type": "display_data"
    }
   ],
   "source": [
    "# This R environment comes with many helpful analytics packages installed\n",
    "# It is defined by the kaggle/rstats Docker image: https://github.com/kaggle/docker-rstats\n",
    "# For example, here's a helpful package to load\n",
    "\n",
    "library(tidyverse) # metapackage of all tidyverse packages\n",
    "\n",
    "# Input data files are available in the read-only \"../input/\" directory\n",
    "# For example, running this (by clicking run or pressing Shift+Enter) will list all files under the input directory\n",
    "\n",
    "list.files(path = \"../input\")\n",
    "\n",
    "# You can write up to 5GB to the current directory (/kaggle/working/) that gets preserved as output when you create a version using \"Save & Run All\" \n",
    "# You can also write temporary files to /kaggle/temp/, but they won't be saved outside of the current session"
   ]
  },
  {
   "cell_type": "code",
   "execution_count": 2,
   "metadata": {},
   "outputs": [
    {
     "name": "stderr",
     "output_type": "stream",
     "text": [
      "Installing package into ‘/usr/local/lib/R/site-library’\n",
      "(as ‘lib’ is unspecified)\n",
      "\n"
     ]
    }
   ],
   "source": [
    "data <- read.csv(\"../input/a6-essemble/Earthquate_Damage.csv\")\n",
    "cat_cols <- c(\"land_surface_condition\",\"foundation_type\",\n",
    "              \"roof_type\",\"ground_floor_type\",\n",
    "             \"other_floor_type\",\"position\",\n",
    "              \"plan_configuration\",\"legal_ownership_status\")\n",
    "install.packages(\"nnet\")\n",
    "library(nnet)\n",
    "j <- 1\n",
    "for(i in 1:length(cat_cols)){\n",
    "    tmp <- class.ind(data[,cat_cols[i]])\n",
    "    colnames(tmp) <- (j:(j+length(colnames(tmp)) - 1))\n",
    "    data <- cbind(data,tmp)\n",
    "    j <- (j+length(colnames(tmp)))\n",
    "}\n",
    "data <- data[,!(names(data)%in%cat_cols)]\n",
    "scaled_data <- scale(data[,1:31],center=TRUE,scale=TRUE)\n",
    "other_data <- data[,32:70]\n",
    "data <- cbind(scaled_data,other_data)\n",
    "rm(scaled_data)\n",
    "rm(other_data)\n",
    "set.seed(42)\n",
    "trn_idx <- sample(1:nrow(data), 150000)\n",
    "train <- data[trn_idx,]\n",
    "tmp <- data[-trn_idx,]\n",
    "val_idx <- sample(1:nrow(tmp),50000)\n",
    "val <- tmp[val_idx,]\n",
    "test <- tmp[-val_idx,]\n",
    "rm(trn_idx)\n",
    "rm(val_idx)\n",
    "train <- rbind(train,val)\n",
    "rm(val)\n",
    "perf_eval_multi <- function(cm){\n",
    "  \n",
    "  # Simple Accuracy\n",
    "  ACC = sum(diag(cm))/sum(cm)\n",
    "  \n",
    "  # Balanced Correction Rate\n",
    "  BCR = 1\n",
    "  for (i in 1:dim(cm)[1]){\n",
    "    BCR = BCR*(cm[i,i]/sum(cm[i,])) \n",
    "  }\n",
    "  \n",
    "  BCR = BCR^(1/dim(cm)[1])\n",
    "  \n",
    "  return(c(ACC, BCR))\n",
    "}\n",
    "prediction_one <- function(pred){\n",
    "    tmp <- apply(pred,1,which.max)\n",
    "    for (i in 1:nrow(pred)){\n",
    "        pred[i,tmp[i]] <- 1\n",
    "        pred[i,-tmp[i]] <- 0\n",
    "    }\n",
    "    return(pred)\n",
    "}\n",
    "set.seed(42)\n",
    "trn_idx <- sample(1:nrow(data), 150000)\n",
    "train <- data[trn_idx,]\n",
    "tmp <- data[-trn_idx,]\n",
    "val_idx <- sample(1:nrow(tmp),50000)\n",
    "val <- tmp[val_idx,]\n",
    "test <- tmp[-val_idx,]\n",
    "x_train <- train[,!(names(train)%in%\"damage_grade\")]\n",
    "y_train <- train[,(names(train)%in%\"damage_grade\")]\n",
    "y_train <- class.ind(y_train)\n",
    "x_val <- val[,!(names(val)%in%\"damage_grade\")]\n",
    "y_val <- val[,(names(val)%in%\"damage_grade\")]\n",
    "#y_val <- class.ind(y_val) \n",
    "x_test <- test[,!(names(test)%in%\"damage_grade\")]\n",
    "y_test <- test[,(names(test)%in%\"damage_grade\")]\n",
    "y_test <- class.ind(y_test)"
   ]
  },
  {
   "cell_type": "code",
   "execution_count": 3,
   "metadata": {},
   "outputs": [],
   "source": [
    "library(keras)"
   ]
  },
  {
   "cell_type": "code",
   "execution_count": 4,
   "metadata": {},
   "outputs": [],
   "source": [
    "x_train <- as.matrix(x_train)\n",
    "y_train <- as.matrix(y_train)\n",
    "x_val <- as.matrix(x_val)"
   ]
  },
  {
   "cell_type": "code",
   "execution_count": 5,
   "metadata": {},
   "outputs": [],
   "source": [
    "params_ann <- function(nh,epochs){\n",
    "    model <- keras_model_sequential() \n",
    "    model %>% \n",
    "      layer_dense(units = nh, input_shape = c(69)) %>% \n",
    "      layer_activation('relu') %>% \n",
    "      layer_dense(units = 3) %>% \n",
    "      layer_activation('softmax')\n",
    "    \n",
    "    model %>% compile(\n",
    "      loss = \"categorical_crossentropy\",\n",
    "      optimizer = optimizer_rmsprop(),\n",
    "      metrics = c(\"accuracy\")\n",
    "    )\n",
    "    \n",
    "    history <- model %>% fit(\n",
    "      x_train, y_train, verbose=0,\n",
    "      epochs = epochs, batch_size = 4096, \n",
    "    )\n",
    "    \n",
    "    preds <- model %>% predict_classes(x_val)\n",
    "    val_cm <- table(y_val, preds)\n",
    "    \n",
    "    return(perf_eval_multi(val_cm))\n",
    "}"
   ]
  },
  {
   "cell_type": "code",
   "execution_count": 6,
   "metadata": {},
   "outputs": [],
   "source": [
    "nh <- c(30,40,50)\n",
    "epochs <- c(50,75,100)\n",
    "ann_pre_search_result = matrix(0,length(nh)*length(epochs),4)\n",
    "colnames(ann_pre_search_result) <- c(\"nh\", \"epochs\",\"ACC\", \"BCR\")"
   ]
  },
  {
   "cell_type": "code",
   "execution_count": 7,
   "metadata": {},
   "outputs": [],
   "source": [
    "iter_cnt = 1\n",
    "for ( i in 1:length(nh)){\n",
    "    for ( j in 1:length(epochs)){\n",
    "        ann_pre_search_result[iter_cnt,3:4] = params_ann(nh[i],epochs[j])\n",
    "        ann_pre_search_result[iter_cnt,1] = nh[i]\n",
    "        ann_pre_search_result[iter_cnt,2] = epochs[j]\n",
    "        iter_cnt = iter_cnt+1\n",
    "    }\n",
    "}"
   ]
  },
  {
   "cell_type": "code",
   "execution_count": 8,
   "metadata": {},
   "outputs": [
    {
     "data": {
      "text/html": [
       "<table>\n",
       "<caption>A matrix: 9 × 4 of type dbl</caption>\n",
       "<thead>\n",
       "\t<tr><th scope=col>nh</th><th scope=col>epochs</th><th scope=col>ACC</th><th scope=col>BCR</th></tr>\n",
       "</thead>\n",
       "<tbody>\n",
       "\t<tr><td>30</td><td> 50</td><td>0.63294</td><td>0.4904217</td></tr>\n",
       "\t<tr><td>30</td><td> 75</td><td>0.63758</td><td>0.4960595</td></tr>\n",
       "\t<tr><td>30</td><td>100</td><td>0.63480</td><td>0.4832430</td></tr>\n",
       "\t<tr><td>40</td><td> 50</td><td>0.63468</td><td>0.4774988</td></tr>\n",
       "\t<tr><td>40</td><td> 75</td><td>0.63876</td><td>0.4954295</td></tr>\n",
       "\t<tr><td>40</td><td>100</td><td>0.63880</td><td>0.4968819</td></tr>\n",
       "\t<tr><td>50</td><td> 50</td><td>0.63586</td><td>0.5062350</td></tr>\n",
       "\t<tr><td>50</td><td> 75</td><td>0.63932</td><td>0.4964878</td></tr>\n",
       "\t<tr><td>50</td><td>100</td><td>0.64090</td><td>0.4872817</td></tr>\n",
       "</tbody>\n",
       "</table>\n"
      ],
      "text/latex": [
       "A matrix: 9 × 4 of type dbl\n",
       "\\begin{tabular}{llll}\n",
       " nh & epochs & ACC & BCR\\\\\n",
       "\\hline\n",
       "\t 30 &  50 & 0.63294 & 0.4904217\\\\\n",
       "\t 30 &  75 & 0.63758 & 0.4960595\\\\\n",
       "\t 30 & 100 & 0.63480 & 0.4832430\\\\\n",
       "\t 40 &  50 & 0.63468 & 0.4774988\\\\\n",
       "\t 40 &  75 & 0.63876 & 0.4954295\\\\\n",
       "\t 40 & 100 & 0.63880 & 0.4968819\\\\\n",
       "\t 50 &  50 & 0.63586 & 0.5062350\\\\\n",
       "\t 50 &  75 & 0.63932 & 0.4964878\\\\\n",
       "\t 50 & 100 & 0.64090 & 0.4872817\\\\\n",
       "\\end{tabular}\n"
      ],
      "text/markdown": [
       "\n",
       "A matrix: 9 × 4 of type dbl\n",
       "\n",
       "| nh | epochs | ACC | BCR |\n",
       "|---|---|---|---|\n",
       "| 30 |  50 | 0.63294 | 0.4904217 |\n",
       "| 30 |  75 | 0.63758 | 0.4960595 |\n",
       "| 30 | 100 | 0.63480 | 0.4832430 |\n",
       "| 40 |  50 | 0.63468 | 0.4774988 |\n",
       "| 40 |  75 | 0.63876 | 0.4954295 |\n",
       "| 40 | 100 | 0.63880 | 0.4968819 |\n",
       "| 50 |  50 | 0.63586 | 0.5062350 |\n",
       "| 50 |  75 | 0.63932 | 0.4964878 |\n",
       "| 50 | 100 | 0.64090 | 0.4872817 |\n",
       "\n"
      ],
      "text/plain": [
       "      nh epochs ACC     BCR      \n",
       " [1,] 30  50    0.63294 0.4904217\n",
       " [2,] 30  75    0.63758 0.4960595\n",
       " [3,] 30 100    0.63480 0.4832430\n",
       " [4,] 40  50    0.63468 0.4774988\n",
       " [5,] 40  75    0.63876 0.4954295\n",
       " [6,] 40 100    0.63880 0.4968819\n",
       " [7,] 50  50    0.63586 0.5062350\n",
       " [8,] 50  75    0.63932 0.4964878\n",
       " [9,] 50 100    0.64090 0.4872817"
      ]
     },
     "metadata": {},
     "output_type": "display_data"
    }
   ],
   "source": [
    "ann_pre_search_result"
   ]
  },
  {
   "cell_type": "code",
   "execution_count": 9,
   "metadata": {},
   "outputs": [],
   "source": [
    "set.seed(42)\n",
    "trn_idx <- sample(1:nrow(data), 150000)\n",
    "train <- data[trn_idx,]\n",
    "tmp <- data[-trn_idx,]\n",
    "val_idx <- sample(1:nrow(tmp),50000)\n",
    "val <- tmp[val_idx,]\n",
    "test <- tmp[-val_idx,]\n",
    "x_train <- train[,!(names(train)%in%\"damage_grade\")]\n",
    "y_train <- train[,(names(train)%in%\"damage_grade\")]\n",
    "y_train <- class.ind(y_train)\n",
    "x_val <- val[,!(names(val)%in%\"damage_grade\")]\n",
    "y_val <- val[,(names(val)%in%\"damage_grade\")]\n",
    "y_val <- class.ind(y_val) \n",
    "x_test <- test[,!(names(test)%in%\"damage_grade\")]\n",
    "y_test <- test[,(names(test)%in%\"damage_grade\")]\n",
    "#y_test <- class.ind(y_test)\n",
    "all_x_train <- rbind(x_train,x_val)\n",
    "all_y_train <- rbind(y_train,y_val)\n",
    "all_x_train <- as.matrix(all_x_train)\n",
    "all_y_train <- as.matrix(all_y_train)\n",
    "x_test <- as.matrix(x_test)"
   ]
  },
  {
   "cell_type": "code",
   "execution_count": 10,
   "metadata": {},
   "outputs": [],
   "source": [
    "repeat_ann <- function(nh,epochs){\n",
    "    model <- keras_model_sequential() \n",
    "    model %>% \n",
    "      layer_dense(units = nh, input_shape = c(69)) %>% \n",
    "      layer_activation('relu') %>% \n",
    "      layer_dense(units = 3) %>% \n",
    "      layer_activation('softmax')\n",
    "    \n",
    "    model %>% compile(\n",
    "      loss = \"categorical_crossentropy\",\n",
    "      optimizer = optimizer_rmsprop(),\n",
    "      metrics = c(\"accuracy\")\n",
    "    )\n",
    "    \n",
    "    history <- model %>% fit(\n",
    "      all_x_train, all_y_train, verbose=0,\n",
    "      epochs = epochs, batch_size = 4096, \n",
    "    )\n",
    "    \n",
    "    preds <- model %>% predict_classes(x_test)\n",
    "    test_cm <- table(y_test, preds)\n",
    "    \n",
    "    return(perf_eval_multi(test_cm))\n",
    "}"
   ]
  },
  {
   "cell_type": "code",
   "execution_count": 11,
   "metadata": {},
   "outputs": [],
   "source": [
    "ann_result = matrix(0,30,2)\n",
    "colnames(ann_result) <- c(\"ACC\", \"BCR\")"
   ]
  },
  {
   "cell_type": "code",
   "execution_count": 12,
   "metadata": {},
   "outputs": [],
   "source": [
    "iter_cnt <- 1\n",
    "for ( i in 1:30){\n",
    "    ann_result[iter_cnt,1:2] = repeat_ann(50,50)\n",
    "    iter_cnt <- iter_cnt+1\n",
    "}"
   ]
  },
  {
   "cell_type": "code",
   "execution_count": 13,
   "metadata": {},
   "outputs": [
    {
     "data": {
      "text/html": [
       "<table>\n",
       "<caption>A matrix: 30 × 2 of type dbl</caption>\n",
       "<thead>\n",
       "\t<tr><th scope=col>ACC</th><th scope=col>BCR</th></tr>\n",
       "</thead>\n",
       "<tbody>\n",
       "\t<tr><td>0.6397914</td><td>0.5034674</td></tr>\n",
       "\t<tr><td>0.6453524</td><td>0.4930092</td></tr>\n",
       "\t<tr><td>0.6414251</td><td>0.4978585</td></tr>\n",
       "\t<tr><td>0.6414086</td><td>0.5092474</td></tr>\n",
       "\t<tr><td>0.6396924</td><td>0.4920083</td></tr>\n",
       "\t<tr><td>0.6387353</td><td>0.4943356</td></tr>\n",
       "\t<tr><td>0.6400884</td><td>0.5127305</td></tr>\n",
       "\t<tr><td>0.6405670</td><td>0.5067576</td></tr>\n",
       "\t<tr><td>0.6408145</td><td>0.4819986</td></tr>\n",
       "\t<tr><td>0.6390984</td><td>0.5224842</td></tr>\n",
       "\t<tr><td>0.6369037</td><td>0.5071748</td></tr>\n",
       "\t<tr><td>0.6417716</td><td>0.4980321</td></tr>\n",
       "\t<tr><td>0.6422831</td><td>0.5162706</td></tr>\n",
       "\t<tr><td>0.6381578</td><td>0.5237179</td></tr>\n",
       "\t<tr><td>0.6392139</td><td>0.5095984</td></tr>\n",
       "\t<tr><td>0.6387683</td><td>0.4973087</td></tr>\n",
       "\t<tr><td>0.6402370</td><td>0.5231127</td></tr>\n",
       "\t<tr><td>0.6425141</td><td>0.5054076</td></tr>\n",
       "\t<tr><td>0.6393294</td><td>0.5054446</td></tr>\n",
       "\t<tr><td>0.6411280</td><td>0.5170713</td></tr>\n",
       "\t<tr><td>0.6418541</td><td>0.5085165</td></tr>\n",
       "\t<tr><td>0.6397254</td><td>0.5141400</td></tr>\n",
       "\t<tr><td>0.6406000</td><td>0.4873072</td></tr>\n",
       "\t<tr><td>0.6405010</td><td>0.4867521</td></tr>\n",
       "\t<tr><td>0.6375967</td><td>0.5045400</td></tr>\n",
       "\t<tr><td>0.6396099</td><td>0.5104786</td></tr>\n",
       "\t<tr><td>0.6378773</td><td>0.5144205</td></tr>\n",
       "\t<tr><td>0.6411280</td><td>0.5079503</td></tr>\n",
       "\t<tr><td>0.6423326</td><td>0.4962725</td></tr>\n",
       "\t<tr><td>0.6385208</td><td>0.4858259</td></tr>\n",
       "</tbody>\n",
       "</table>\n"
      ],
      "text/latex": [
       "A matrix: 30 × 2 of type dbl\n",
       "\\begin{tabular}{ll}\n",
       " ACC & BCR\\\\\n",
       "\\hline\n",
       "\t 0.6397914 & 0.5034674\\\\\n",
       "\t 0.6453524 & 0.4930092\\\\\n",
       "\t 0.6414251 & 0.4978585\\\\\n",
       "\t 0.6414086 & 0.5092474\\\\\n",
       "\t 0.6396924 & 0.4920083\\\\\n",
       "\t 0.6387353 & 0.4943356\\\\\n",
       "\t 0.6400884 & 0.5127305\\\\\n",
       "\t 0.6405670 & 0.5067576\\\\\n",
       "\t 0.6408145 & 0.4819986\\\\\n",
       "\t 0.6390984 & 0.5224842\\\\\n",
       "\t 0.6369037 & 0.5071748\\\\\n",
       "\t 0.6417716 & 0.4980321\\\\\n",
       "\t 0.6422831 & 0.5162706\\\\\n",
       "\t 0.6381578 & 0.5237179\\\\\n",
       "\t 0.6392139 & 0.5095984\\\\\n",
       "\t 0.6387683 & 0.4973087\\\\\n",
       "\t 0.6402370 & 0.5231127\\\\\n",
       "\t 0.6425141 & 0.5054076\\\\\n",
       "\t 0.6393294 & 0.5054446\\\\\n",
       "\t 0.6411280 & 0.5170713\\\\\n",
       "\t 0.6418541 & 0.5085165\\\\\n",
       "\t 0.6397254 & 0.5141400\\\\\n",
       "\t 0.6406000 & 0.4873072\\\\\n",
       "\t 0.6405010 & 0.4867521\\\\\n",
       "\t 0.6375967 & 0.5045400\\\\\n",
       "\t 0.6396099 & 0.5104786\\\\\n",
       "\t 0.6378773 & 0.5144205\\\\\n",
       "\t 0.6411280 & 0.5079503\\\\\n",
       "\t 0.6423326 & 0.4962725\\\\\n",
       "\t 0.6385208 & 0.4858259\\\\\n",
       "\\end{tabular}\n"
      ],
      "text/markdown": [
       "\n",
       "A matrix: 30 × 2 of type dbl\n",
       "\n",
       "| ACC | BCR |\n",
       "|---|---|\n",
       "| 0.6397914 | 0.5034674 |\n",
       "| 0.6453524 | 0.4930092 |\n",
       "| 0.6414251 | 0.4978585 |\n",
       "| 0.6414086 | 0.5092474 |\n",
       "| 0.6396924 | 0.4920083 |\n",
       "| 0.6387353 | 0.4943356 |\n",
       "| 0.6400884 | 0.5127305 |\n",
       "| 0.6405670 | 0.5067576 |\n",
       "| 0.6408145 | 0.4819986 |\n",
       "| 0.6390984 | 0.5224842 |\n",
       "| 0.6369037 | 0.5071748 |\n",
       "| 0.6417716 | 0.4980321 |\n",
       "| 0.6422831 | 0.5162706 |\n",
       "| 0.6381578 | 0.5237179 |\n",
       "| 0.6392139 | 0.5095984 |\n",
       "| 0.6387683 | 0.4973087 |\n",
       "| 0.6402370 | 0.5231127 |\n",
       "| 0.6425141 | 0.5054076 |\n",
       "| 0.6393294 | 0.5054446 |\n",
       "| 0.6411280 | 0.5170713 |\n",
       "| 0.6418541 | 0.5085165 |\n",
       "| 0.6397254 | 0.5141400 |\n",
       "| 0.6406000 | 0.4873072 |\n",
       "| 0.6405010 | 0.4867521 |\n",
       "| 0.6375967 | 0.5045400 |\n",
       "| 0.6396099 | 0.5104786 |\n",
       "| 0.6378773 | 0.5144205 |\n",
       "| 0.6411280 | 0.5079503 |\n",
       "| 0.6423326 | 0.4962725 |\n",
       "| 0.6385208 | 0.4858259 |\n",
       "\n"
      ],
      "text/plain": [
       "      ACC       BCR      \n",
       " [1,] 0.6397914 0.5034674\n",
       " [2,] 0.6453524 0.4930092\n",
       " [3,] 0.6414251 0.4978585\n",
       " [4,] 0.6414086 0.5092474\n",
       " [5,] 0.6396924 0.4920083\n",
       " [6,] 0.6387353 0.4943356\n",
       " [7,] 0.6400884 0.5127305\n",
       " [8,] 0.6405670 0.5067576\n",
       " [9,] 0.6408145 0.4819986\n",
       "[10,] 0.6390984 0.5224842\n",
       "[11,] 0.6369037 0.5071748\n",
       "[12,] 0.6417716 0.4980321\n",
       "[13,] 0.6422831 0.5162706\n",
       "[14,] 0.6381578 0.5237179\n",
       "[15,] 0.6392139 0.5095984\n",
       "[16,] 0.6387683 0.4973087\n",
       "[17,] 0.6402370 0.5231127\n",
       "[18,] 0.6425141 0.5054076\n",
       "[19,] 0.6393294 0.5054446\n",
       "[20,] 0.6411280 0.5170713\n",
       "[21,] 0.6418541 0.5085165\n",
       "[22,] 0.6397254 0.5141400\n",
       "[23,] 0.6406000 0.4873072\n",
       "[24,] 0.6405010 0.4867521\n",
       "[25,] 0.6375967 0.5045400\n",
       "[26,] 0.6396099 0.5104786\n",
       "[27,] 0.6378773 0.5144205\n",
       "[28,] 0.6411280 0.5079503\n",
       "[29,] 0.6423326 0.4962725\n",
       "[30,] 0.6385208 0.4858259"
      ]
     },
     "metadata": {},
     "output_type": "display_data"
    }
   ],
   "source": [
    "ann_result"
   ]
  },
  {
   "cell_type": "code",
   "execution_count": 14,
   "metadata": {},
   "outputs": [
    {
     "data": {
      "text/html": [
       "0.640234209556498"
      ],
      "text/latex": [
       "0.640234209556498"
      ],
      "text/markdown": [
       "0.640234209556498"
      ],
      "text/plain": [
       "[1] 0.6402342"
      ]
     },
     "metadata": {},
     "output_type": "display_data"
    }
   ],
   "source": [
    "mean(ann_result[,1])"
   ]
  },
  {
   "cell_type": "code",
   "execution_count": 15,
   "metadata": {},
   "outputs": [
    {
     "data": {
      "text/html": [
       "0.504441325697538"
      ],
      "text/latex": [
       "0.504441325697538"
      ],
      "text/markdown": [
       "0.504441325697538"
      ],
      "text/plain": [
       "[1] 0.5044413"
      ]
     },
     "metadata": {},
     "output_type": "display_data"
    }
   ],
   "source": [
    "mean(ann_result[,2])"
   ]
  },
  {
   "cell_type": "code",
   "execution_count": 16,
   "metadata": {},
   "outputs": [
    {
     "data": {
      "text/html": [
       "0.00175760754975719"
      ],
      "text/latex": [
       "0.00175760754975719"
      ],
      "text/markdown": [
       "0.00175760754975719"
      ],
      "text/plain": [
       "[1] 0.001757608"
      ]
     },
     "metadata": {},
     "output_type": "display_data"
    }
   ],
   "source": [
    "sd(ann_result[,1])"
   ]
  },
  {
   "cell_type": "code",
   "execution_count": 17,
   "metadata": {},
   "outputs": [
    {
     "data": {
      "text/html": [
       "0.0114236053421912"
      ],
      "text/latex": [
       "0.0114236053421912"
      ],
      "text/markdown": [
       "0.0114236053421912"
      ],
      "text/plain": [
       "[1] 0.01142361"
      ]
     },
     "metadata": {},
     "output_type": "display_data"
    }
   ],
   "source": [
    "sd(ann_result[,2])"
   ]
  }
 ],
 "metadata": {
  "kernelspec": {
   "display_name": "R",
   "language": "R",
   "name": "ir"
  },
  "language_info": {
   "codemirror_mode": "r",
   "file_extension": ".r",
   "mimetype": "text/x-r-source",
   "name": "R",
   "pygments_lexer": "r",
   "version": "3.6.3"
  }
 },
 "nbformat": 4,
 "nbformat_minor": 4
}
