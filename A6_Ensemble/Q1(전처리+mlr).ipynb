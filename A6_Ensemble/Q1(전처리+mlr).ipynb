{
 "cells": [
  {
   "cell_type": "code",
   "execution_count": 1,
   "metadata": {
    "_execution_state": "idle",
    "_uuid": "051d70d956493feee0c6d64651c6a088724dca2a"
   },
   "outputs": [
    {
     "name": "stderr",
     "output_type": "stream",
     "text": [
      "── \u001b[1mAttaching packages\u001b[22m ─────────────────────────────────────── tidyverse 1.3.0 ──\n",
      "\n",
      "\u001b[32m✔\u001b[39m \u001b[34mggplot2\u001b[39m 3.3.0.\u001b[31m9000\u001b[39m     \u001b[32m✔\u001b[39m \u001b[34mpurrr  \u001b[39m 0.3.4     \n",
      "\u001b[32m✔\u001b[39m \u001b[34mtibble \u001b[39m 3.0.1          \u001b[32m✔\u001b[39m \u001b[34mdplyr  \u001b[39m 0.8.5     \n",
      "\u001b[32m✔\u001b[39m \u001b[34mtidyr  \u001b[39m 1.0.3          \u001b[32m✔\u001b[39m \u001b[34mstringr\u001b[39m 1.4.0     \n",
      "\u001b[32m✔\u001b[39m \u001b[34mreadr  \u001b[39m 1.3.1          \u001b[32m✔\u001b[39m \u001b[34mforcats\u001b[39m 0.5.0     \n",
      "\n",
      "── \u001b[1mConflicts\u001b[22m ────────────────────────────────────────── tidyverse_conflicts() ──\n",
      "\u001b[31m✖\u001b[39m \u001b[34mdplyr\u001b[39m::\u001b[32mfilter()\u001b[39m masks \u001b[34mstats\u001b[39m::filter()\n",
      "\u001b[31m✖\u001b[39m \u001b[34mdplyr\u001b[39m::\u001b[32mlag()\u001b[39m    masks \u001b[34mstats\u001b[39m::lag()\n",
      "\n"
     ]
    },
    {
     "data": {
      "text/html": [
       "'a6-essemble'"
      ],
      "text/latex": [
       "'a6-essemble'"
      ],
      "text/markdown": [
       "'a6-essemble'"
      ],
      "text/plain": [
       "[1] \"a6-essemble\""
      ]
     },
     "metadata": {},
     "output_type": "display_data"
    }
   ],
   "source": [
    "# This R environment comes with many helpful analytics packages installed\n",
    "# It is defined by the kaggle/rstats Docker image: https://github.com/kaggle/docker-rstats\n",
    "# For example, here's a helpful package to load\n",
    "\n",
    "library(tidyverse) # metapackage of all tidyverse packages\n",
    "\n",
    "# Input data files are available in the read-only \"../input/\" directory\n",
    "# For example, running this (by clicking run or pressing Shift+Enter) will list all files under the input directory\n",
    "\n",
    "list.files(path = \"../input\")\n",
    "\n",
    "# You can write up to 5GB to the current directory (/kaggle/working/) that gets preserved as output when you create a version using \"Save & Run All\" \n",
    "# You can also write temporary files to /kaggle/temp/, but they won't be saved outside of the current session"
   ]
  },
  {
   "cell_type": "code",
   "execution_count": 2,
   "metadata": {},
   "outputs": [],
   "source": [
    "data <- read.csv(\"../input/a6-essemble/Earthquate_Damage.csv\")"
   ]
  },
  {
   "cell_type": "code",
   "execution_count": 3,
   "metadata": {},
   "outputs": [],
   "source": [
    "cat_cols <- c(\"land_surface_condition\",\"foundation_type\",\n",
    "              \"roof_type\",\"ground_floor_type\",\n",
    "             \"other_floor_type\",\"position\",\n",
    "              \"plan_configuration\",\"legal_ownership_status\")"
   ]
  },
  {
   "cell_type": "code",
   "execution_count": 4,
   "metadata": {},
   "outputs": [
    {
     "name": "stderr",
     "output_type": "stream",
     "text": [
      "Installing package into ‘/usr/local/lib/R/site-library’\n",
      "(as ‘lib’ is unspecified)\n",
      "\n"
     ]
    }
   ],
   "source": [
    "install.packages(\"nnet\")\n",
    "library(nnet)"
   ]
  },
  {
   "cell_type": "code",
   "execution_count": 5,
   "metadata": {},
   "outputs": [],
   "source": [
    "j <- 1\n",
    "for(i in 1:length(cat_cols)){\n",
    "    tmp <- class.ind(data[,cat_cols[i]])\n",
    "    colnames(tmp) <- (j:(j+length(colnames(tmp)) - 1))\n",
    "    data <- cbind(data,tmp)\n",
    "    j <- (j+length(colnames(tmp)))\n",
    "}"
   ]
  },
  {
   "cell_type": "code",
   "execution_count": 6,
   "metadata": {},
   "outputs": [],
   "source": [
    "data <- data[,!(names(data)%in%cat_cols)]"
   ]
  },
  {
   "cell_type": "code",
   "execution_count": 7,
   "metadata": {},
   "outputs": [],
   "source": [
    "scaled_data <- scale(data[,1:31],center=TRUE,scale=TRUE)\n",
    "other_data <- data[,32:70]\n",
    "data <- cbind(scaled_data,other_data)"
   ]
  },
  {
   "cell_type": "code",
   "execution_count": 8,
   "metadata": {},
   "outputs": [],
   "source": [
    "set.seed(42)\n",
    "trn_idx <- sample(1:nrow(data), 150000)\n",
    "train <- data[trn_idx,]\n",
    "tmp <- data[-trn_idx,]\n",
    "val_idx <- sample(1:nrow(tmp),50000)\n",
    "val <- tmp[val_idx,]\n",
    "test <- tmp[-val_idx,]"
   ]
  },
  {
   "cell_type": "code",
   "execution_count": 9,
   "metadata": {},
   "outputs": [],
   "source": [
    "perf_eval_multi <- function(cm){\n",
    "  \n",
    "  # Simple Accuracy\n",
    "  ACC = sum(diag(cm))/sum(cm)\n",
    "  \n",
    "  # Balanced Correction Rate\n",
    "  BCR = 1\n",
    "  for (i in 1:dim(cm)[1]){\n",
    "    BCR = BCR*(cm[i,i]/sum(cm[i,])) \n",
    "  }\n",
    "  \n",
    "  BCR = BCR^(1/dim(cm)[1])\n",
    "  \n",
    "  return(c(ACC, BCR))\n",
    "}"
   ]
  },
  {
   "cell_type": "code",
   "execution_count": 32,
   "metadata": {},
   "outputs": [],
   "source": [
    "prediction_one <- function(pred){\n",
    "    tmp <- apply(pred,1,which.max)\n",
    "    for (i in 1:nrow(pred)){\n",
    "        pred[i,tmp[i]] <- 1\n",
    "        pred[i,-tmp[i]] <- 0\n",
    "    }\n",
    "    return(pred)\n",
    "}"
   ]
  },
  {
   "cell_type": "code",
   "execution_count": 10,
   "metadata": {},
   "outputs": [],
   "source": [
    "x_train <- train[,!(names(train)%in%\"damage_grade\")]\n",
    "y_train <- train[,(names(train)%in%\"damage_grade\")]\n",
    "x_val <- val[,!(names(val)%in%\"damage_grade\")]\n",
    "y_val <- val[,(names(val)%in%\"damage_grade\")]\n",
    "x_test <- test[,!(names(train)%in%\"damage_grade\")]\n",
    "y_test <- test[,(names(train)%in%\"damage_grade\")]"
   ]
  },
  {
   "cell_type": "code",
   "execution_count": 11,
   "metadata": {},
   "outputs": [
    {
     "name": "stderr",
     "output_type": "stream",
     "text": [
      "Installing package into ‘/usr/local/lib/R/site-library’\n",
      "(as ‘lib’ is unspecified)\n",
      "\n"
     ]
    }
   ],
   "source": [
    "install.packages(\"moments\") \n",
    "library(moments)"
   ]
  },
  {
   "cell_type": "code",
   "execution_count": 12,
   "metadata": {},
   "outputs": [],
   "source": [
    "logistic_train <- rbind(train,val)"
   ]
  },
  {
   "cell_type": "code",
   "execution_count": 13,
   "metadata": {},
   "outputs": [
    {
     "name": "stdout",
     "output_type": "stream",
     "text": [
      "# weights:  213 (140 variable)\n",
      "initial  value 219722.457735 \n",
      "iter  10 value 175362.184661\n",
      "iter  20 value 174883.832267\n",
      "iter  30 value 174773.947634\n",
      "iter  40 value 174508.487264\n",
      "iter  50 value 173756.524829\n",
      "iter  60 value 171179.027412\n",
      "iter  70 value 166951.456076\n",
      "iter  80 value 165174.847066\n",
      "iter  90 value 163300.694940\n",
      "iter 100 value 162033.070788\n",
      "final  value 162033.070788 \n",
      "stopped after 100 iterations\n"
     ]
    }
   ],
   "source": [
    "set.seed(43)\n",
    "mult_lr <- multinom(damage_grade ~ ., data = logistic_train)"
   ]
  },
  {
   "cell_type": "code",
   "execution_count": 14,
   "metadata": {},
   "outputs": [
    {
     "data": {
      "text/plain": [
       "   mult_lr_pred\n",
       "        1     2     3\n",
       "  1  1263  4243   377\n",
       "  2   998 28072  5395\n",
       "  3   107 14070  6076"
      ]
     },
     "metadata": {},
     "output_type": "display_data"
    },
    {
     "data": {
      "text/html": [
       "<style>\n",
       ".list-inline {list-style: none; margin:0; padding: 0}\n",
       ".list-inline>li {display: inline-block}\n",
       ".list-inline>li:not(:last-child)::after {content: \"\\00b7\"; padding: 0 .5ex}\n",
       "</style>\n",
       "<ol class=list-inline><li>0.584330291579347</li><li>0.374348409558854</li></ol>\n"
      ],
      "text/latex": [
       "\\begin{enumerate*}\n",
       "\\item 0.584330291579347\n",
       "\\item 0.374348409558854\n",
       "\\end{enumerate*}\n"
      ],
      "text/markdown": [
       "1. 0.584330291579347\n",
       "2. 0.374348409558854\n",
       "\n",
       "\n"
      ],
      "text/plain": [
       "[1] 0.5843303 0.3743484"
      ]
     },
     "metadata": {},
     "output_type": "display_data"
    }
   ],
   "source": [
    "mult_lr_pred <- predict(mult_lr, newdata = test)\n",
    "cfmatrix <- table(test$damage_grade, mult_lr_pred)\n",
    "cfmatrix\n",
    "perf_eval_multi(cfmatrix)"
   ]
  },
  {
   "cell_type": "code",
   "execution_count": 15,
   "metadata": {},
   "outputs": [
    {
     "name": "stderr",
     "output_type": "stream",
     "text": [
      "Installing package into ‘/usr/local/lib/R/site-library’\n",
      "(as ‘lib’ is unspecified)\n",
      "\n"
     ]
    }
   ],
   "source": [
    "install.packages(\"rpart\")\n",
    "library(rpart)"
   ]
  },
  {
   "cell_type": "code",
   "execution_count": 25,
   "metadata": {},
   "outputs": [],
   "source": [
    "max_depth <- c(5,10,15)\n",
    "min_split <- c(10,100,1000)\n",
    "rpart_pre_search_result = matrix(0,length(min_split)*length(max_depth),4)\n",
    "colnames(rpart_pre_search_result) <- c(\"min_split\", \"max_depth\",\"ACC\", \"BCR\")"
   ]
  },
  {
   "cell_type": "code",
   "execution_count": 26,
   "metadata": {},
   "outputs": [],
   "source": [
    "rpart_trn <- train\n",
    "rpart_val <- val"
   ]
  },
  {
   "cell_type": "code",
   "execution_count": 27,
   "metadata": {},
   "outputs": [],
   "source": [
    "iter_cnt = 1\n",
    "for ( i in 1:length(min_split)){\n",
    "    for ( j in 1:length(max_depth)){\n",
    "        tmp_control <- rpart.control(maxdepth = max_depth[j], minsplit = min_split[i])\n",
    "        tmp_rpart_model <- rpart( damage_grade~ ., data = rpart_trn, method = \"class\",control = tmp_control)\n",
    "        tmp_pred <- predict(tmp_rpart_model, rpart_val, type='class')\n",
    "        tmp_rpart_val_cm <- table(rpart_val$damage_grade, tmp_pred)\n",
    "        rpart_pre_search_result[iter_cnt,3:4] = perf_eval_multi(tmp_rpart_val_cm)\n",
    "        rpart_pre_search_result[iter_cnt,1] = min_split[i]\n",
    "        rpart_pre_search_result[iter_cnt,2] = max_depth[j]\n",
    "        iter_cnt = iter_cnt+1\n",
    "\n",
    "    }\n",
    "}\n"
   ]
  },
  {
   "cell_type": "code",
   "execution_count": 28,
   "metadata": {},
   "outputs": [
    {
     "data": {
      "text/html": [
       "<table>\n",
       "<caption>A matrix: 9 × 4 of type dbl</caption>\n",
       "<thead>\n",
       "\t<tr><th scope=col>min_split</th><th scope=col>max_depth</th><th scope=col>ACC</th><th scope=col>BCR</th></tr>\n",
       "</thead>\n",
       "<tbody>\n",
       "\t<tr><td>  10</td><td> 5</td><td>0.62880</td><td>0</td></tr>\n",
       "\t<tr><td>  10</td><td>10</td><td>0.63836</td><td>0</td></tr>\n",
       "\t<tr><td>  10</td><td>15</td><td>0.63836</td><td>0</td></tr>\n",
       "\t<tr><td> 100</td><td> 5</td><td>0.62880</td><td>0</td></tr>\n",
       "\t<tr><td> 100</td><td>10</td><td>0.63836</td><td>0</td></tr>\n",
       "\t<tr><td> 100</td><td>15</td><td>0.63836</td><td>0</td></tr>\n",
       "\t<tr><td>1000</td><td> 5</td><td>0.62880</td><td>0</td></tr>\n",
       "\t<tr><td>1000</td><td>10</td><td>0.63836</td><td>0</td></tr>\n",
       "\t<tr><td>1000</td><td>15</td><td>0.63836</td><td>0</td></tr>\n",
       "</tbody>\n",
       "</table>\n"
      ],
      "text/latex": [
       "A matrix: 9 × 4 of type dbl\n",
       "\\begin{tabular}{llll}\n",
       " min\\_split & max\\_depth & ACC & BCR\\\\\n",
       "\\hline\n",
       "\t   10 &  5 & 0.62880 & 0\\\\\n",
       "\t   10 & 10 & 0.63836 & 0\\\\\n",
       "\t   10 & 15 & 0.63836 & 0\\\\\n",
       "\t  100 &  5 & 0.62880 & 0\\\\\n",
       "\t  100 & 10 & 0.63836 & 0\\\\\n",
       "\t  100 & 15 & 0.63836 & 0\\\\\n",
       "\t 1000 &  5 & 0.62880 & 0\\\\\n",
       "\t 1000 & 10 & 0.63836 & 0\\\\\n",
       "\t 1000 & 15 & 0.63836 & 0\\\\\n",
       "\\end{tabular}\n"
      ],
      "text/markdown": [
       "\n",
       "A matrix: 9 × 4 of type dbl\n",
       "\n",
       "| min_split | max_depth | ACC | BCR |\n",
       "|---|---|---|---|\n",
       "|   10 |  5 | 0.62880 | 0 |\n",
       "|   10 | 10 | 0.63836 | 0 |\n",
       "|   10 | 15 | 0.63836 | 0 |\n",
       "|  100 |  5 | 0.62880 | 0 |\n",
       "|  100 | 10 | 0.63836 | 0 |\n",
       "|  100 | 15 | 0.63836 | 0 |\n",
       "| 1000 |  5 | 0.62880 | 0 |\n",
       "| 1000 | 10 | 0.63836 | 0 |\n",
       "| 1000 | 15 | 0.63836 | 0 |\n",
       "\n"
      ],
      "text/plain": [
       "      min_split max_depth ACC     BCR\n",
       " [1,]   10       5        0.62880 0  \n",
       " [2,]   10      10        0.63836 0  \n",
       " [3,]   10      15        0.63836 0  \n",
       " [4,]  100       5        0.62880 0  \n",
       " [5,]  100      10        0.63836 0  \n",
       " [6,]  100      15        0.63836 0  \n",
       " [7,] 1000       5        0.62880 0  \n",
       " [8,] 1000      10        0.63836 0  \n",
       " [9,] 1000      15        0.63836 0  "
      ]
     },
     "metadata": {},
     "output_type": "display_data"
    }
   ],
   "source": [
    "rpart_pre_search_result"
   ]
  },
  {
   "cell_type": "code",
   "execution_count": 29,
   "metadata": {},
   "outputs": [
    {
     "name": "stderr",
     "output_type": "stream",
     "text": [
      "Loading required package: grid\n",
      "\n",
      "Loading required package: mvtnorm\n",
      "\n",
      "Loading required package: modeltools\n",
      "\n",
      "Loading required package: stats4\n",
      "\n",
      "Loading required package: strucchange\n",
      "\n",
      "Loading required package: zoo\n",
      "\n",
      "\n",
      "Attaching package: ‘zoo’\n",
      "\n",
      "\n",
      "The following objects are masked from ‘package:base’:\n",
      "\n",
      "    as.Date, as.Date.numeric\n",
      "\n",
      "\n",
      "Loading required package: sandwich\n",
      "\n",
      "\n",
      "Attaching package: ‘strucchange’\n",
      "\n",
      "\n",
      "The following object is masked from ‘package:stringr’:\n",
      "\n",
      "    boundary\n",
      "\n",
      "\n"
     ]
    }
   ],
   "source": [
    "library(party)"
   ]
  },
  {
   "cell_type": "code",
   "execution_count": 33,
   "metadata": {},
   "outputs": [],
   "source": [
    "max_depth <- c(5,10,15)\n",
    "min_split <- c(10,100,1000)\n",
    "cart_pre_search_result = matrix(0,length(min_split)*length(max_depth),4)\n",
    "colnames(cart_pre_search_result) <- c(\"min_split\", \"max_depth\",\"ACC\", \"BCR\")"
   ]
  },
  {
   "cell_type": "code",
   "execution_count": 34,
   "metadata": {},
   "outputs": [],
   "source": [
    "cart_trn <- train\n",
    "cart_val <- val"
   ]
  },
  {
   "cell_type": "code",
   "execution_count": 41,
   "metadata": {},
   "outputs": [
    {
     "name": "stdout",
     "output_type": "stream",
     "text": [
      "   tmp_pred\n",
      "        1     2     3\n",
      "  1  1101  3684     1\n",
      "  2   737 27427   273\n",
      "  3    24 15300  1453\n",
      "   tmp_pred\n",
      "        1     2     3\n",
      "  1  1393  3336    57\n",
      "  2   782 25064  2591\n",
      "  3    37 11874  4866\n",
      "   tmp_pred\n",
      "        1     2     3\n",
      "  1  1554  3161    71\n",
      "  2   894 24619  2924\n",
      "  3    45 10924  5808\n",
      "   tmp_pred\n",
      "        1     2     3\n",
      "  1  1101  3684     1\n",
      "  2   737 27427   273\n",
      "  3    24 15300  1453\n",
      "   tmp_pred\n",
      "        1     2     3\n",
      "  1  1390  3338    58\n",
      "  2   781 25061  2595\n",
      "  3    37 11870  4870\n",
      "   tmp_pred\n",
      "        1     2     3\n",
      "  1  1555  3159    72\n",
      "  2   899 24608  2930\n",
      "  3    45 10916  5816\n",
      "   tmp_pred\n",
      "        1     2     3\n",
      "  1  1101  3685     0\n",
      "  2   737 27462   238\n",
      "  3    24 15365  1388\n",
      "   tmp_pred\n",
      "        1     2     3\n",
      "  1  1427  3304    55\n",
      "  2   885 25046  2506\n",
      "  3    35 11998  4744\n",
      "   tmp_pred\n",
      "        1     2     3\n",
      "  1  1427  3292    67\n",
      "  2   885 24680  2872\n",
      "  3    35 11271  5471\n"
     ]
    }
   ],
   "source": [
    "iter_cnt = 1\n",
    "for ( i in 1:length(min_split)){\n",
    "    for ( j in 1:length(max_depth)){\n",
    "        tmp_control <- ctree_control(maxdepth = max_depth[j], minsplit = min_split[i])\n",
    "        tmp_cart_model <- ctree( damage_grade~ ., data = cart_trn,controls = tmp_control)\n",
    "        tmp_pred <- predict(tmp_cart_model, cart_val)\n",
    "        tmp_pred <- round(tmp_pred)\n",
    "        tmp_cart_val_cm <- table(cart_val$damage_grade, tmp_pred)\n",
    "        cart_pre_search_result[iter_cnt,3:4] = perf_eval_multi(tmp_cart_val_cm)\n",
    "        cart_pre_search_result[iter_cnt,1] = min_split[i]\n",
    "        cart_pre_search_result[iter_cnt,2] = max_depth[j]\n",
    "        iter_cnt = iter_cnt+1\n",
    "\n",
    "    }\n",
    "}\n"
   ]
  },
  {
   "cell_type": "code",
   "execution_count": 42,
   "metadata": {},
   "outputs": [
    {
     "data": {
      "text/html": [
       "<table>\n",
       "<caption>A matrix: 9 × 4 of type dbl</caption>\n",
       "<thead>\n",
       "\t<tr><th scope=col>min_split</th><th scope=col>max_depth</th><th scope=col>ACC</th><th scope=col>BCR</th></tr>\n",
       "</thead>\n",
       "<tbody>\n",
       "\t<tr><td>  10</td><td> 5</td><td>0.59962</td><td>0.2678470</td></tr>\n",
       "\t<tr><td>  10</td><td>10</td><td>0.62646</td><td>0.4205984</td></tr>\n",
       "\t<tr><td>  10</td><td>15</td><td>0.63962</td><td>0.4599660</td></tr>\n",
       "\t<tr><td> 100</td><td> 5</td><td>0.59962</td><td>0.2678470</td></tr>\n",
       "\t<tr><td> 100</td><td>10</td><td>0.62642</td><td>0.4203946</td></tr>\n",
       "\t<tr><td> 100</td><td>15</td><td>0.63958</td><td>0.4602072</td></tr>\n",
       "\t<tr><td>1000</td><td> 5</td><td>0.59902</td><td>0.2639041</td></tr>\n",
       "\t<tr><td>1000</td><td>10</td><td>0.62434</td><td>0.4203187</td></tr>\n",
       "\t<tr><td>1000</td><td>15</td><td>0.63156</td><td>0.4386199</td></tr>\n",
       "</tbody>\n",
       "</table>\n"
      ],
      "text/latex": [
       "A matrix: 9 × 4 of type dbl\n",
       "\\begin{tabular}{llll}\n",
       " min\\_split & max\\_depth & ACC & BCR\\\\\n",
       "\\hline\n",
       "\t   10 &  5 & 0.59962 & 0.2678470\\\\\n",
       "\t   10 & 10 & 0.62646 & 0.4205984\\\\\n",
       "\t   10 & 15 & 0.63962 & 0.4599660\\\\\n",
       "\t  100 &  5 & 0.59962 & 0.2678470\\\\\n",
       "\t  100 & 10 & 0.62642 & 0.4203946\\\\\n",
       "\t  100 & 15 & 0.63958 & 0.4602072\\\\\n",
       "\t 1000 &  5 & 0.59902 & 0.2639041\\\\\n",
       "\t 1000 & 10 & 0.62434 & 0.4203187\\\\\n",
       "\t 1000 & 15 & 0.63156 & 0.4386199\\\\\n",
       "\\end{tabular}\n"
      ],
      "text/markdown": [
       "\n",
       "A matrix: 9 × 4 of type dbl\n",
       "\n",
       "| min_split | max_depth | ACC | BCR |\n",
       "|---|---|---|---|\n",
       "|   10 |  5 | 0.59962 | 0.2678470 |\n",
       "|   10 | 10 | 0.62646 | 0.4205984 |\n",
       "|   10 | 15 | 0.63962 | 0.4599660 |\n",
       "|  100 |  5 | 0.59962 | 0.2678470 |\n",
       "|  100 | 10 | 0.62642 | 0.4203946 |\n",
       "|  100 | 15 | 0.63958 | 0.4602072 |\n",
       "| 1000 |  5 | 0.59902 | 0.2639041 |\n",
       "| 1000 | 10 | 0.62434 | 0.4203187 |\n",
       "| 1000 | 15 | 0.63156 | 0.4386199 |\n",
       "\n"
      ],
      "text/plain": [
       "      min_split max_depth ACC     BCR      \n",
       " [1,]   10       5        0.59962 0.2678470\n",
       " [2,]   10      10        0.62646 0.4205984\n",
       " [3,]   10      15        0.63962 0.4599660\n",
       " [4,]  100       5        0.59962 0.2678470\n",
       " [5,]  100      10        0.62642 0.4203946\n",
       " [6,]  100      15        0.63958 0.4602072\n",
       " [7,] 1000       5        0.59902 0.2639041\n",
       " [8,] 1000      10        0.62434 0.4203187\n",
       " [9,] 1000      15        0.63156 0.4386199"
      ]
     },
     "metadata": {},
     "output_type": "display_data"
    }
   ],
   "source": [
    "cart_pre_search_result"
   ]
  }
 ],
 "metadata": {
  "kernelspec": {
   "display_name": "R",
   "language": "R",
   "name": "ir"
  },
  "language_info": {
   "codemirror_mode": "r",
   "file_extension": ".r",
   "mimetype": "text/x-r-source",
   "name": "R",
   "pygments_lexer": "r",
   "version": "3.6.3"
  }
 },
 "nbformat": 4,
 "nbformat_minor": 4
}
