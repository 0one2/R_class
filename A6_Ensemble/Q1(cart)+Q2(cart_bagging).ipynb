{
 "cells": [
  {
   "cell_type": "code",
   "execution_count": 1,
   "metadata": {
    "_execution_state": "idle",
    "_uuid": "051d70d956493feee0c6d64651c6a088724dca2a"
   },
   "outputs": [
    {
     "ename": "ERROR",
     "evalue": "Error in library(tidyverse): there is no package called 'tidyverse'\n",
     "output_type": "error",
     "traceback": [
      "Error in library(tidyverse): there is no package called 'tidyverse'\nTraceback:\n",
      "1. library(tidyverse)"
     ]
    }
   ],
   "source": [
    "# This R environment comes with many helpful analytics packages installed\n",
    "# It is defined by the kaggle/rstats Docker image: https://github.com/kaggle/docker-rstats\n",
    "# For example, here's a helpful package to load\n",
    "\n",
    "library(tidyverse) # metapackage of all tidyverse packages\n",
    "\n",
    "# Input data files are available in the read-only \"../input/\" directory\n",
    "# For example, running this (by clicking run or pressing Shift+Enter) will list all files under the input directory\n",
    "\n",
    "list.files(path = \"../input\")\n",
    "\n",
    "# You can write up to 5GB to the current directory (/kaggle/working/) that gets preserved as output when you create a version using \"Save & Run All\" \n",
    "# You can also write temporary files to /kaggle/temp/, but they won't be saved outside of the current session"
   ]
  },
  {
   "cell_type": "code",
   "execution_count": 4,
   "metadata": {},
   "outputs": [
    {
     "name": "stdout",
     "output_type": "stream",
     "text": [
      "package 'nnet' successfully unpacked and MD5 sums checked\n",
      "\n",
      "The downloaded binary packages are in\n",
      "\tC:\\Users\\lmwlm\\AppData\\Local\\Temp\\RtmpeudPyh\\downloaded_packages\n"
     ]
    },
    {
     "name": "stderr",
     "output_type": "stream",
     "text": [
      "Loading required package: grid\n",
      "\n",
      "Loading required package: mvtnorm\n",
      "\n",
      "Loading required package: modeltools\n",
      "\n",
      "Loading required package: stats4\n",
      "\n",
      "Loading required package: strucchange\n",
      "\n",
      "Loading required package: zoo\n",
      "\n",
      "\n",
      "Attaching package: 'zoo'\n",
      "\n",
      "\n",
      "The following objects are masked from 'package:base':\n",
      "\n",
      "    as.Date, as.Date.numeric\n",
      "\n",
      "\n",
      "Loading required package: sandwich\n",
      "\n"
     ]
    }
   ],
   "source": [
    "data <- read.csv(\"Earthquate_Damage.csv\")\n",
    "cat_cols <- c(\"land_surface_condition\",\"foundation_type\",\n",
    "              \"roof_type\",\"ground_floor_type\",\n",
    "             \"other_floor_type\",\"position\",\n",
    "              \"plan_configuration\",\"legal_ownership_status\")\n",
    "install.packages(\"nnet\")\n",
    "library(nnet)\n",
    "j <- 1\n",
    "for(i in 1:length(cat_cols)){\n",
    "    tmp <- class.ind(data[,cat_cols[i]])\n",
    "    colnames(tmp) <- (j:(j+length(colnames(tmp)) - 1))\n",
    "    data <- cbind(data,tmp)\n",
    "    j <- (j+length(colnames(tmp)))\n",
    "}\n",
    "data <- data[,!(names(data)%in%cat_cols)]\n",
    "scaled_data <- scale(data[,1:31],center=TRUE,scale=TRUE)\n",
    "other_data <- data[,32:70]\n",
    "data <- cbind(scaled_data,other_data)\n",
    "rm(scaled_data)\n",
    "rm(other_data)\n",
    "set.seed(42)\n",
    "trn_idx <- sample(1:nrow(data), 150000)\n",
    "train <- data[trn_idx,]\n",
    "tmp <- data[-trn_idx,]\n",
    "val_idx <- sample(1:nrow(tmp),50000)\n",
    "val <- tmp[val_idx,]\n",
    "test <- tmp[-val_idx,]\n",
    "rm(trn_idx)\n",
    "rm(tmp)\n",
    "rm(val_idx)\n",
    "perf_eval_multi <- function(cm){\n",
    "  \n",
    "  # Simple Accuracy\n",
    "  ACC = sum(diag(cm))/sum(cm)\n",
    "  \n",
    "  # Balanced Correction Rate\n",
    "  BCR = 1\n",
    "  for (i in 1:dim(cm)[1]){\n",
    "    BCR = BCR*(cm[i,i]/sum(cm[i,])) \n",
    "  }\n",
    "  \n",
    "  BCR = BCR^(1/dim(cm)[1])\n",
    "  \n",
    "  return(c(ACC, BCR))\n",
    "}\n",
    "prediction_one <- function(pred){\n",
    "    tmp <- apply(pred,1,which.max)\n",
    "    for (i in 1:nrow(pred)){\n",
    "        pred[i,tmp[i]] <- 1\n",
    "        pred[i,-tmp[i]] <- 0\n",
    "    }\n",
    "    return(pred)\n",
    "}\n",
    "library(party)\n",
    "all_train <- rbind(train,val)"
   ]
  },
  {
   "cell_type": "code",
   "execution_count": 5,
   "metadata": {},
   "outputs": [],
   "source": [
    "val$damage_grade <- as.factor(val$damage_grade)\n",
    "train$damage_grade <- as.factor(train$damage_grade)\n",
    "all_train$damage_grade <- as.factor(all_train$damage_grade)\n",
    "test$damage_grade <- as.factor(test$damage_grade)"
   ]
  },
  {
   "cell_type": "code",
   "execution_count": 6,
   "metadata": {},
   "outputs": [],
   "source": [
    "max_depth <- c(5,7,10)\n",
    "min_split <- c(10,100,1000)\n",
    "ctree_pre_search_result = matrix(0,length(min_split)*length(max_depth),4)\n",
    "colnames(ctree_pre_search_result) <- c(\"min_split\", \"max_depth\",\"ACC\", \"BCR\")"
   ]
  },
  {
   "cell_type": "code",
   "execution_count": 7,
   "metadata": {},
   "outputs": [],
   "source": [
    "iter_cnt = 1\n",
    "for ( i in 1:length(min_split)){\n",
    "    for ( j in 1:length(max_depth)){\n",
    "        tmp_control <- ctree_control(maxdepth = max_depth[j], minsplit = min_split[i])\n",
    "        tmp_ctree_model <- ctree( damage_grade~ ., data = train,control = tmp_control)\n",
    "        tmp_pred <- predict(tmp_ctree_model, val)\n",
    "        tmp_ctree_val_cm <- table(val$damage_grade, tmp_pred)\n",
    "        ctree_pre_search_result[iter_cnt,3:4] = perf_eval_multi(tmp_ctree_val_cm)\n",
    "        ctree_pre_search_result[iter_cnt,1] = min_split[i]\n",
    "        ctree_pre_search_result[iter_cnt,2] = max_depth[j]\n",
    "        iter_cnt = iter_cnt+1\n",
    "\n",
    "    }\n",
    "}"
   ]
  },
  {
   "cell_type": "code",
   "execution_count": 8,
   "metadata": {},
   "outputs": [
    {
     "data": {
      "text/html": [
       "<table>\n",
       "<caption>A matrix: 9 × 4 of type dbl</caption>\n",
       "<thead>\n",
       "\t<tr><th scope=col>min_split</th><th scope=col>max_depth</th><th scope=col>ACC</th><th scope=col>BCR</th></tr>\n",
       "</thead>\n",
       "<tbody>\n",
       "\t<tr><td>  10</td><td> 5</td><td>0.59040</td><td>0.3705786</td></tr>\n",
       "\t<tr><td>  10</td><td> 7</td><td>0.63788</td><td>0.4898993</td></tr>\n",
       "\t<tr><td>  10</td><td>10</td><td>0.66092</td><td>0.5206601</td></tr>\n",
       "\t<tr><td> 100</td><td> 5</td><td>0.59040</td><td>0.3705786</td></tr>\n",
       "\t<tr><td> 100</td><td> 7</td><td>0.63786</td><td>0.4898986</td></tr>\n",
       "\t<tr><td> 100</td><td>10</td><td>0.66100</td><td>0.5204497</td></tr>\n",
       "\t<tr><td>1000</td><td> 5</td><td>0.58986</td><td>0.3698707</td></tr>\n",
       "\t<tr><td>1000</td><td> 7</td><td>0.63618</td><td>0.4958848</td></tr>\n",
       "\t<tr><td>1000</td><td>10</td><td>0.65722</td><td>0.5234024</td></tr>\n",
       "</tbody>\n",
       "</table>\n"
      ],
      "text/latex": [
       "A matrix: 9 × 4 of type dbl\n",
       "\\begin{tabular}{llll}\n",
       " min\\_split & max\\_depth & ACC & BCR\\\\\n",
       "\\hline\n",
       "\t   10 &  5 & 0.59040 & 0.3705786\\\\\n",
       "\t   10 &  7 & 0.63788 & 0.4898993\\\\\n",
       "\t   10 & 10 & 0.66092 & 0.5206601\\\\\n",
       "\t  100 &  5 & 0.59040 & 0.3705786\\\\\n",
       "\t  100 &  7 & 0.63786 & 0.4898986\\\\\n",
       "\t  100 & 10 & 0.66100 & 0.5204497\\\\\n",
       "\t 1000 &  5 & 0.58986 & 0.3698707\\\\\n",
       "\t 1000 &  7 & 0.63618 & 0.4958848\\\\\n",
       "\t 1000 & 10 & 0.65722 & 0.5234024\\\\\n",
       "\\end{tabular}\n"
      ],
      "text/markdown": [
       "\n",
       "A matrix: 9 × 4 of type dbl\n",
       "\n",
       "| min_split | max_depth | ACC | BCR |\n",
       "|---|---|---|---|\n",
       "|   10 |  5 | 0.59040 | 0.3705786 |\n",
       "|   10 |  7 | 0.63788 | 0.4898993 |\n",
       "|   10 | 10 | 0.66092 | 0.5206601 |\n",
       "|  100 |  5 | 0.59040 | 0.3705786 |\n",
       "|  100 |  7 | 0.63786 | 0.4898986 |\n",
       "|  100 | 10 | 0.66100 | 0.5204497 |\n",
       "| 1000 |  5 | 0.58986 | 0.3698707 |\n",
       "| 1000 |  7 | 0.63618 | 0.4958848 |\n",
       "| 1000 | 10 | 0.65722 | 0.5234024 |\n",
       "\n"
      ],
      "text/plain": [
       "      min_split max_depth ACC     BCR      \n",
       " [1,]   10       5        0.59040 0.3705786\n",
       " [2,]   10       7        0.63788 0.4898993\n",
       " [3,]   10      10        0.66092 0.5206601\n",
       " [4,]  100       5        0.59040 0.3705786\n",
       " [5,]  100       7        0.63786 0.4898986\n",
       " [6,]  100      10        0.66100 0.5204497\n",
       " [7,] 1000       5        0.58986 0.3698707\n",
       " [8,] 1000       7        0.63618 0.4958848\n",
       " [9,] 1000      10        0.65722 0.5234024"
      ]
     },
     "metadata": {},
     "output_type": "display_data"
    }
   ],
   "source": [
    "ctree_pre_search_result"
   ]
  },
  {
   "cell_type": "code",
   "execution_count": 10,
   "metadata": {},
   "outputs": [
    {
     "data": {
      "text/html": [
       "<style>\n",
       ".list-inline {list-style: none; margin:0; padding: 0}\n",
       ".list-inline>li {display: inline-block}\n",
       ".list-inline>li:not(:last-child)::after {content: \"\\00b7\"; padding: 0 .5ex}\n",
       "</style>\n",
       "<ol class=list-inline><li>0.659543571888253</li><li>0.521403967751084</li></ol>\n"
      ],
      "text/latex": [
       "\\begin{enumerate*}\n",
       "\\item 0.659543571888253\n",
       "\\item 0.521403967751084\n",
       "\\end{enumerate*}\n"
      ],
      "text/markdown": [
       "1. 0.659543571888253\n",
       "2. 0.521403967751084\n",
       "\n",
       "\n"
      ],
      "text/plain": [
       "[1] 0.6595436 0.5214040"
      ]
     },
     "metadata": {},
     "output_type": "display_data"
    }
   ],
   "source": [
    "tmp_control <- ctree_control(maxdepth = 10, minsplit = 100)\n",
    "tmp_ctree_model <- ctree( damage_grade~ ., data = all_train,control = tmp_control)\n",
    "tmp_pred <- predict(tmp_ctree_model, test)\n",
    "tmp_ctree_test_cm <- table(test$damage_grade, tmp_pred)\n",
    "perf_eval_multi(tmp_ctree_test_cm)"
   ]
  },
  {
   "cell_type": "code",
   "execution_count": 95,
   "metadata": {},
   "outputs": [],
   "source": [
    "ctree_boots <- function(seed){\n",
    "    set.seed(seed)\n",
    "    boots_idx <- sample(1:nrow(all_train),20000,replace=TRUE)\n",
    "    tmp_train <- all_train[boots_idx,]\n",
    "    tmp_control <- ctree_control(maxdepth = 10, minsplit = 100)\n",
    "    tmp_cart_model <- ctree(damage_grade~ ., data = tmp_train,controls = tmp_control)\n",
    "    tmp_pred <- predict(tmp_ctree_model, test)\n",
    "    \n",
    "    return(tmp_pred)\n",
    "}"
   ]
  },
  {
   "cell_type": "code",
   "execution_count": 96,
   "metadata": {},
   "outputs": [],
   "source": [
    "boots_result <- matrix(0,nrow(test),300)"
   ]
  },
  {
   "cell_type": "code",
   "execution_count": 97,
   "metadata": {},
   "outputs": [],
   "source": [
    "iters_cnt <- 1\n",
    "for (i in 1:300){\n",
    "    boots_result[,iters_cnt] <- ctree_boots(i)\n",
    "    iters_cnt <- iters_cnt + 1\n",
    "}"
   ]
  },
  {
   "cell_type": "code",
   "execution_count": 98,
   "metadata": {},
   "outputs": [
    {
     "data": {
      "text/html": [
       "300"
      ],
      "text/latex": [
       "300"
      ],
      "text/markdown": [
       "300"
      ],
      "text/plain": [
       "[1] 300"
      ]
     },
     "metadata": {},
     "output_type": "display_data"
    }
   ],
   "source": [
    "ncol(boots_result)"
   ]
  },
  {
   "cell_type": "code",
   "execution_count": 99,
   "metadata": {},
   "outputs": [],
   "source": [
    "getmode <- function(v) {\n",
    "   uniqv <- unique(v)\n",
    "   return(uniqv[which.max(tabulate(match(v, uniqv)))])\n",
    "}"
   ]
  },
  {
   "cell_type": "code",
   "execution_count": 100,
   "metadata": {},
   "outputs": [],
   "source": [
    " result <- c(rep(0,times=nrow(x_test)))"
   ]
  },
  {
   "cell_type": "code",
   "execution_count": 101,
   "metadata": {},
   "outputs": [],
   "source": [
    "perf_ctree_bagging <- matrix(0,10,3)\n",
    "colnames(perf_ctree_bagging) <- c(\"bootstrap_num\",\"ACC\", \"BCR\")"
   ]
  },
  {
   "cell_type": "code",
   "execution_count": 103,
   "metadata": {},
   "outputs": [],
   "source": [
    "iters_cnt <- 1\n",
    "for (i in 1:10){\n",
    "    for (j in 1:length(result)){\n",
    "        result[j] <- getmode(boots_result[j,(1:(i*30))])\n",
    "    }\n",
    "    tmp_cm <- table(test$damage_grade, result)\n",
    "    perf_ctree_bagging[iters_cnt,1] <- i*30\n",
    "    perf_ctree_bagging[iters_cnt,2:3] <- perf_eval_multi(tmp_cm)\n",
    "    iters_cnt <- iters_cnt+1\n",
    "}"
   ]
  },
  {
   "cell_type": "code",
   "execution_count": 104,
   "metadata": {},
   "outputs": [
    {
     "data": {
      "text/html": [
       "<table>\n",
       "<caption>A matrix: 10 × 3 of type dbl</caption>\n",
       "<thead>\n",
       "\t<tr><th scope=col>bootstrap_num</th><th scope=col>ACC</th><th scope=col>BCR</th></tr>\n",
       "</thead>\n",
       "<tbody>\n",
       "\t<tr><td> 30</td><td>0.6579759</td><td>0.5191223</td></tr>\n",
       "\t<tr><td> 60</td><td>0.6579759</td><td>0.5191223</td></tr>\n",
       "\t<tr><td> 90</td><td>0.6579759</td><td>0.5191223</td></tr>\n",
       "\t<tr><td>120</td><td>0.6579759</td><td>0.5191223</td></tr>\n",
       "\t<tr><td>150</td><td>0.6579759</td><td>0.5191223</td></tr>\n",
       "\t<tr><td>180</td><td>0.6579759</td><td>0.5191223</td></tr>\n",
       "\t<tr><td>210</td><td>0.6579759</td><td>0.5191223</td></tr>\n",
       "\t<tr><td>240</td><td>0.6579759</td><td>0.5191223</td></tr>\n",
       "\t<tr><td>270</td><td>0.6579759</td><td>0.5191223</td></tr>\n",
       "\t<tr><td>300</td><td>0.6579759</td><td>0.5191223</td></tr>\n",
       "</tbody>\n",
       "</table>\n"
      ],
      "text/latex": [
       "A matrix: 10 × 3 of type dbl\n",
       "\\begin{tabular}{lll}\n",
       " bootstrap\\_num & ACC & BCR\\\\\n",
       "\\hline\n",
       "\t  30 & 0.6579759 & 0.5191223\\\\\n",
       "\t  60 & 0.6579759 & 0.5191223\\\\\n",
       "\t  90 & 0.6579759 & 0.5191223\\\\\n",
       "\t 120 & 0.6579759 & 0.5191223\\\\\n",
       "\t 150 & 0.6579759 & 0.5191223\\\\\n",
       "\t 180 & 0.6579759 & 0.5191223\\\\\n",
       "\t 210 & 0.6579759 & 0.5191223\\\\\n",
       "\t 240 & 0.6579759 & 0.5191223\\\\\n",
       "\t 270 & 0.6579759 & 0.5191223\\\\\n",
       "\t 300 & 0.6579759 & 0.5191223\\\\\n",
       "\\end{tabular}\n"
      ],
      "text/markdown": [
       "\n",
       "A matrix: 10 × 3 of type dbl\n",
       "\n",
       "| bootstrap_num | ACC | BCR |\n",
       "|---|---|---|\n",
       "|  30 | 0.6579759 | 0.5191223 |\n",
       "|  60 | 0.6579759 | 0.5191223 |\n",
       "|  90 | 0.6579759 | 0.5191223 |\n",
       "| 120 | 0.6579759 | 0.5191223 |\n",
       "| 150 | 0.6579759 | 0.5191223 |\n",
       "| 180 | 0.6579759 | 0.5191223 |\n",
       "| 210 | 0.6579759 | 0.5191223 |\n",
       "| 240 | 0.6579759 | 0.5191223 |\n",
       "| 270 | 0.6579759 | 0.5191223 |\n",
       "| 300 | 0.6579759 | 0.5191223 |\n",
       "\n"
      ],
      "text/plain": [
       "      bootstrap_num ACC       BCR      \n",
       " [1,]  30           0.6579759 0.5191223\n",
       " [2,]  60           0.6579759 0.5191223\n",
       " [3,]  90           0.6579759 0.5191223\n",
       " [4,] 120           0.6579759 0.5191223\n",
       " [5,] 150           0.6579759 0.5191223\n",
       " [6,] 180           0.6579759 0.5191223\n",
       " [7,] 210           0.6579759 0.5191223\n",
       " [8,] 240           0.6579759 0.5191223\n",
       " [9,] 270           0.6579759 0.5191223\n",
       "[10,] 300           0.6579759 0.5191223"
      ]
     },
     "metadata": {},
     "output_type": "display_data"
    }
   ],
   "source": [
    "perf_ctree_bagging"
   ]
  },
  {
   "cell_type": "code",
   "execution_count": 13,
   "metadata": {},
   "outputs": [],
   "source": [
    "rf_cart <- matrix(0,10,5)\n",
    "colnames(rf_cart) <- c(\"bootstrap_num\",\"ACC-cart\",\"ACC-rf\", \"BCR-cart\",\"BCR-rf\")"
   ]
  },
  {
   "cell_type": "code",
   "execution_count": 14,
   "metadata": {},
   "outputs": [],
   "source": [
    "rf_cart[1:10,1] <- c(30,60,90,120,150,180,210,240,270,300)\n",
    "rf_cart[1:10,2] <- c(0.6579759,0.6579759,0.6579759,0.6579759,0.6579759,0.6579759,0.6579759,0.6579759,0.6579759,0.6579759)\n",
    "rf_cart[1:10,3] <- c(0.7072326,0.7116549,0.7104668,0.7121830,0.7132556,0.7122985,0.7129255,0.7134371,0.7136021,0.7139981)\n",
    "rf_cart[1:10,4] <- c(0.5191223,0.5191223,0.5191223,0.5191223,0.5191223,0.5191223,0.5191223,0.5191223,0.5191223,0.5191223)\n",
    "rf_cart[1:10,5] <- c(0.5766060,0.5748111,0.5744820,0.5776896,0.5797089,0.5763037,0.5775153,0.5775716,0.5787192,0.5780241)"
   ]
  },
  {
   "cell_type": "code",
   "execution_count": 17,
   "metadata": {},
   "outputs": [
    {
     "data": {
      "image/png": "[encoded data removed]",
      "text/plain": [
       "plot without title"
      ]
     },
     "metadata": {
      "image/png": {
       "height": 420,
       "width": 420
      },
      "text/plain": {
       "height": 420,
       "width": 420
      }
     },
     "output_type": "display_data"
    }
   ],
   "source": [
    "plot(rf_cart[1:10,1],rf_cart[1:10,2],type='o',col=2,ylab=\"ACC\") #col=2: 빨간색\n",
    "lines(rf_cart[1:10,1],rf_cart[1:10,3],type='o',col=4)               #col=4: 파란색\n",
    "legend(1,40,c(\"ACC-cart\",\"ACC-rf\"),lwd=c(1,1),col=c(\"red\",\"blue\"))"
   ]
  },
  {
   "cell_type": "code",
   "execution_count": 18,
   "metadata": {},
   "outputs": [
    {
     "data": {
      "image/png": "[encoded data removed]",
      "text/plain": [
       "plot without title"
      ]
     },
     "metadata": {
      "image/png": {
       "height": 420,
       "width": 420
      },
      "text/plain": {
       "height": 420,
       "width": 420
      }
     },
     "output_type": "display_data"
    }
   ],
   "source": [
    "plot(rf_cart[1:10,1],rf_cart[1:10,4],type='o',col=2,ylab=\"BCR\") #col=2: 빨간색\n",
    "lines(rf_cart[1:10,1],rf_cart[1:10,5],type='o',col=4)               #col=4: 파란색\n",
    "legend(1,40,c(\"BCR-cart\",\"BCR-rf\"),lwd=c(1,1),col=c(\"red\",\"blue\"))"
   ]
  },
  {
   "cell_type": "code",
   "execution_count": null,
   "metadata": {},
   "outputs": [],
   "source": []
  }
 ],
 "metadata": {
  "kernelspec": {
   "display_name": "R",
   "language": "R",
   "name": "ir"
  }
 },
 "nbformat": 4,
 "nbformat_minor": 4
}
