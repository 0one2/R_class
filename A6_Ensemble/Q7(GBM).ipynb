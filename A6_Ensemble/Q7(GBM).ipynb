{
 "cells": [
  {
   "cell_type": "code",
   "execution_count": 5,
   "metadata": {
    "_execution_state": "idle",
    "_uuid": "051d70d956493feee0c6d64651c6a088724dca2a"
   },
   "outputs": [
    {
     "ename": "ERROR",
     "evalue": "Error in library(tidyverse): there is no package called 'tidyverse'\n",
     "output_type": "error",
     "traceback": [
      "Error in library(tidyverse): there is no package called 'tidyverse'\nTraceback:\n",
      "1. library(tidyverse)"
     ]
    }
   ],
   "source": [
    "# This R environment comes with many helpful analytics packages installed\n",
    "# It is defined by the kaggle/rstats Docker image: https://github.com/kaggle/docker-rstats\n",
    "# For example, here's a helpful package to load\n",
    "\n",
    "library(tidyverse) # metapackage of all tidyverse packages\n",
    "\n",
    "# Input data files are available in the read-only \"../input/\" directory\n",
    "# For example, running this (by clicking run or pressing Shift+Enter) will list all files under the input directory\n",
    "\n",
    "list.files(path = \"./\")\n",
    "\n",
    "# You can write up to 5GB to the current directory (/kaggle/working/) that gets preserved as output when you create a version using \"Save & Run All\" \n",
    "# You can also write temporary files to /kaggle/temp/, but they won't be saved outside of the current session"
   ]
  },
  {
   "cell_type": "code",
   "execution_count": 3,
   "metadata": {},
   "outputs": [],
   "source": [
    "data <- read.csv(\"Earthquate_Damage.csv\")\n",
    "perf_eval_multi <- function(cm){\n",
    "  \n",
    "  # Simple Accuracy\n",
    "  ACC = sum(diag(cm))/sum(cm)\n",
    "  \n",
    "  # Balanced Correction Rate\n",
    "  BCR = 1\n",
    "  for (i in 1:dim(cm)[1]){\n",
    "    BCR = BCR*(cm[i,i]/sum(cm[i,])) \n",
    "  }\n",
    "  \n",
    "  BCR = BCR^(1/dim(cm)[1])\n",
    "  \n",
    "  return(c(ACC, BCR))\n",
    "}\n",
    "set.seed(42)\n",
    "trn_idx <- sample(1:nrow(data), 150000)\n",
    "train <- data[trn_idx,]\n",
    "tmp <- data[-trn_idx,]\n",
    "val_idx <- sample(1:nrow(tmp),50000)\n",
    "val <- tmp[val_idx,]\n",
    "test <- tmp[-val_idx,]\n",
    "all_train <- rbind(train,val)\n",
    "val$damage_grade <- as.factor(val$damage_grade)\n",
    "train$damage_grade <- as.factor(train$damage_grade)\n",
    "all_train$damage_grade <- as.factor(all_train$damage_grade)\n",
    "test$damage_grade <- as.factor(test$damage_grade)\n",
    "x_train <- train[,!(names(train)%in%\"damage_grade\")]\n",
    "y_train <- train[,(names(train)%in%\"damage_grade\")]\n",
    "x_val <- val[,!(names(val)%in%\"damage_grade\")]\n",
    "y_val <- val[,(names(val)%in%\"damage_grade\")]\n",
    "x_test <- test[,!(names(test)%in%\"damage_grade\")]\n",
    "y_test <- test[,(names(test)%in%\"damage_grade\")]\n",
    "x_all_train <- all_train[,!(names(all_train)%in%\"damage_grade\")]\n",
    "y_all_train <- all_train[,(names(all_train)%in%\"damage_grade\")]"
   ]
  },
  {
   "cell_type": "code",
   "execution_count": 4,
   "metadata": {},
   "outputs": [
    {
     "name": "stderr",
     "output_type": "stream",
     "text": [
      "also installing the dependency 'gridExtra'\n",
      "\n",
      "\n"
     ]
    },
    {
     "name": "stdout",
     "output_type": "stream",
     "text": [
      "package 'gridExtra' successfully unpacked and MD5 sums checked\n",
      "package 'gbm' successfully unpacked and MD5 sums checked\n",
      "\n",
      "The downloaded binary packages are in\n",
      "\tC:\\Users\\lmwlm\\AppData\\Local\\Temp\\RtmpM3KVI9\\downloaded_packages\n"
     ]
    },
    {
     "name": "stderr",
     "output_type": "stream",
     "text": [
      "Loaded gbm 2.1.5\n",
      "\n"
     ]
    }
   ],
   "source": [
    "install.packages(\"gbm\")\n",
    "library(gbm)"
   ]
  },
  {
   "cell_type": "code",
   "execution_count": 4,
   "metadata": {},
   "outputs": [],
   "source": [
    "n_trees <- c(50,100,150)\n",
    "shrinkage <- c(0.1,0.01,0.001)\n",
    "interaction_depth <- c(2,3,4)\n",
    "# depth 3,5,7 n.trees 100 500 1000일때 램이 터졌음\n",
    "# depth 100,200,300 , 2,3,4일때 또 터짐"
   ]
  },
  {
   "cell_type": "code",
   "execution_count": 7,
   "metadata": {},
   "outputs": [],
   "source": [
    "gbm_pre_result = matrix(0,27,5)\n",
    "colnames(gbm_pre_result) <- c(\"n.trees\",\"shrinkage\",\"interaction.depth\",\"ACC\", \"BCR\")"
   ]
  },
  {
   "cell_type": "code",
   "execution_count": 8,
   "metadata": {},
   "outputs": [],
   "source": [
    "iters_cnt <- 1\n",
    "for(i in 1:3){\n",
    "    for(j in 1:3){\n",
    "        for(k in 1:3){\n",
    "            tmp_model <- gbm.fit(x_train, y_train, verbose=0,\n",
    "                 n.trees = n_trees[i], shrinkage = shrinkage[j],distribution=\"multinomial\",interaction.depth = interaction_depth[k])\n",
    "            tmp_prey <- predict(tmp_model,newdata=x_val,n.trees=n_trees[i], type = \"response\")\n",
    "            dim(tmp_prey)<-c(50000,3)\n",
    "            tmp_prey <- apply(tmp_prey, 1, which.max)\n",
    "            tmp_cm <- table(tmp_prey,y_val)\n",
    "            gbm_pre_result[iters_cnt,1] <- n_trees[i]\n",
    "            gbm_pre_result[iters_cnt,2] <- shrinkage[j]\n",
    "            gbm_pre_result[iters_cnt,3] <- interaction_depth[k]\n",
    "            gbm_pre_result[iters_cnt,4:5] <- perf_eval_multi(tmp_cm)\n",
    "            iters_cnt <- iters_cnt+1\n",
    "            gc()\n",
    "        }\n",
    "    }\n",
    "}"
   ]
  },
  {
   "cell_type": "code",
   "execution_count": 9,
   "metadata": {},
   "outputs": [
    {
     "data": {
      "text/html": [
       "<table>\n",
       "<caption>A matrix: 27 × 5 of type dbl</caption>\n",
       "<thead>\n",
       "\t<tr><th scope=col>n.trees</th><th scope=col>shrinkage</th><th scope=col>interaction.depth</th><th scope=col>ACC</th><th scope=col>BCR</th></tr>\n",
       "</thead>\n",
       "<tbody>\n",
       "\t<tr><td> 50</td><td>0.100</td><td>2</td><td>0.65162</td><td>0.6687165</td></tr>\n",
       "\t<tr><td> 50</td><td>0.100</td><td>3</td><td>0.66624</td><td>0.6640815</td></tr>\n",
       "\t<tr><td> 50</td><td>0.100</td><td>4</td><td>0.67452</td><td>0.6670167</td></tr>\n",
       "\t<tr><td> 50</td><td>0.010</td><td>2</td><td>0.62734</td><td>0.4949843</td></tr>\n",
       "\t<tr><td> 50</td><td>0.010</td><td>3</td><td>0.63470</td><td>0.6796874</td></tr>\n",
       "\t<tr><td> 50</td><td>0.010</td><td>4</td><td>0.64462</td><td>0.6530733</td></tr>\n",
       "\t<tr><td> 50</td><td>0.001</td><td>2</td><td>0.09572</td><td>0.0957200</td></tr>\n",
       "\t<tr><td> 50</td><td>0.001</td><td>3</td><td>0.63110</td><td>0.6513730</td></tr>\n",
       "\t<tr><td> 50</td><td>0.001</td><td>4</td><td>0.62542</td><td>0.5966587</td></tr>\n",
       "\t<tr><td>100</td><td>0.100</td><td>2</td><td>0.66932</td><td>0.6631516</td></tr>\n",
       "\t<tr><td>100</td><td>0.100</td><td>3</td><td>0.68026</td><td>0.6675046</td></tr>\n",
       "\t<tr><td>100</td><td>0.100</td><td>4</td><td>0.68560</td><td>0.6739484</td></tr>\n",
       "\t<tr><td>100</td><td>0.010</td><td>2</td><td>0.63032</td><td>0.6383918</td></tr>\n",
       "\t<tr><td>100</td><td>0.010</td><td>3</td><td>0.63576</td><td>0.6790751</td></tr>\n",
       "\t<tr><td>100</td><td>0.010</td><td>4</td><td>0.64254</td><td>0.6643300</td></tr>\n",
       "\t<tr><td>100</td><td>0.001</td><td>2</td><td>0.56704</td><td>0.3735390</td></tr>\n",
       "\t<tr><td>100</td><td>0.001</td><td>3</td><td>0.62736</td><td>0.4958601</td></tr>\n",
       "\t<tr><td>100</td><td>0.001</td><td>4</td><td>0.62584</td><td>0.5992590</td></tr>\n",
       "\t<tr><td>150</td><td>0.100</td><td>2</td><td>0.67770</td><td>0.6659396</td></tr>\n",
       "\t<tr><td>150</td><td>0.100</td><td>3</td><td>0.68504</td><td>0.6724836</td></tr>\n",
       "\t<tr><td>150</td><td>0.100</td><td>4</td><td>0.69244</td><td>0.6833520</td></tr>\n",
       "\t<tr><td>150</td><td>0.010</td><td>2</td><td>0.63576</td><td>0.6739479</td></tr>\n",
       "\t<tr><td>150</td><td>0.010</td><td>3</td><td>0.64190</td><td>0.6741611</td></tr>\n",
       "\t<tr><td>150</td><td>0.010</td><td>4</td><td>0.64716</td><td>0.6719695</td></tr>\n",
       "\t<tr><td>150</td><td>0.001</td><td>2</td><td>0.62754</td><td>0.5064076</td></tr>\n",
       "\t<tr><td>150</td><td>0.001</td><td>3</td><td>0.62884</td><td>0.5949712</td></tr>\n",
       "\t<tr><td>150</td><td>0.001</td><td>4</td><td>0.62784</td><td>0.6176270</td></tr>\n",
       "</tbody>\n",
       "</table>\n"
      ],
      "text/latex": [
       "A matrix: 27 × 5 of type dbl\n",
       "\\begin{tabular}{lllll}\n",
       " n.trees & shrinkage & interaction.depth & ACC & BCR\\\\\n",
       "\\hline\n",
       "\t  50 & 0.100 & 2 & 0.65162 & 0.6687165\\\\\n",
       "\t  50 & 0.100 & 3 & 0.66624 & 0.6640815\\\\\n",
       "\t  50 & 0.100 & 4 & 0.67452 & 0.6670167\\\\\n",
       "\t  50 & 0.010 & 2 & 0.62734 & 0.4949843\\\\\n",
       "\t  50 & 0.010 & 3 & 0.63470 & 0.6796874\\\\\n",
       "\t  50 & 0.010 & 4 & 0.64462 & 0.6530733\\\\\n",
       "\t  50 & 0.001 & 2 & 0.09572 & 0.0957200\\\\\n",
       "\t  50 & 0.001 & 3 & 0.63110 & 0.6513730\\\\\n",
       "\t  50 & 0.001 & 4 & 0.62542 & 0.5966587\\\\\n",
       "\t 100 & 0.100 & 2 & 0.66932 & 0.6631516\\\\\n",
       "\t 100 & 0.100 & 3 & 0.68026 & 0.6675046\\\\\n",
       "\t 100 & 0.100 & 4 & 0.68560 & 0.6739484\\\\\n",
       "\t 100 & 0.010 & 2 & 0.63032 & 0.6383918\\\\\n",
       "\t 100 & 0.010 & 3 & 0.63576 & 0.6790751\\\\\n",
       "\t 100 & 0.010 & 4 & 0.64254 & 0.6643300\\\\\n",
       "\t 100 & 0.001 & 2 & 0.56704 & 0.3735390\\\\\n",
       "\t 100 & 0.001 & 3 & 0.62736 & 0.4958601\\\\\n",
       "\t 100 & 0.001 & 4 & 0.62584 & 0.5992590\\\\\n",
       "\t 150 & 0.100 & 2 & 0.67770 & 0.6659396\\\\\n",
       "\t 150 & 0.100 & 3 & 0.68504 & 0.6724836\\\\\n",
       "\t 150 & 0.100 & 4 & 0.69244 & 0.6833520\\\\\n",
       "\t 150 & 0.010 & 2 & 0.63576 & 0.6739479\\\\\n",
       "\t 150 & 0.010 & 3 & 0.64190 & 0.6741611\\\\\n",
       "\t 150 & 0.010 & 4 & 0.64716 & 0.6719695\\\\\n",
       "\t 150 & 0.001 & 2 & 0.62754 & 0.5064076\\\\\n",
       "\t 150 & 0.001 & 3 & 0.62884 & 0.5949712\\\\\n",
       "\t 150 & 0.001 & 4 & 0.62784 & 0.6176270\\\\\n",
       "\\end{tabular}\n"
      ],
      "text/markdown": [
       "\n",
       "A matrix: 27 × 5 of type dbl\n",
       "\n",
       "| n.trees | shrinkage | interaction.depth | ACC | BCR |\n",
       "|---|---|---|---|---|\n",
       "|  50 | 0.100 | 2 | 0.65162 | 0.6687165 |\n",
       "|  50 | 0.100 | 3 | 0.66624 | 0.6640815 |\n",
       "|  50 | 0.100 | 4 | 0.67452 | 0.6670167 |\n",
       "|  50 | 0.010 | 2 | 0.62734 | 0.4949843 |\n",
       "|  50 | 0.010 | 3 | 0.63470 | 0.6796874 |\n",
       "|  50 | 0.010 | 4 | 0.64462 | 0.6530733 |\n",
       "|  50 | 0.001 | 2 | 0.09572 | 0.0957200 |\n",
       "|  50 | 0.001 | 3 | 0.63110 | 0.6513730 |\n",
       "|  50 | 0.001 | 4 | 0.62542 | 0.5966587 |\n",
       "| 100 | 0.100 | 2 | 0.66932 | 0.6631516 |\n",
       "| 100 | 0.100 | 3 | 0.68026 | 0.6675046 |\n",
       "| 100 | 0.100 | 4 | 0.68560 | 0.6739484 |\n",
       "| 100 | 0.010 | 2 | 0.63032 | 0.6383918 |\n",
       "| 100 | 0.010 | 3 | 0.63576 | 0.6790751 |\n",
       "| 100 | 0.010 | 4 | 0.64254 | 0.6643300 |\n",
       "| 100 | 0.001 | 2 | 0.56704 | 0.3735390 |\n",
       "| 100 | 0.001 | 3 | 0.62736 | 0.4958601 |\n",
       "| 100 | 0.001 | 4 | 0.62584 | 0.5992590 |\n",
       "| 150 | 0.100 | 2 | 0.67770 | 0.6659396 |\n",
       "| 150 | 0.100 | 3 | 0.68504 | 0.6724836 |\n",
       "| 150 | 0.100 | 4 | 0.69244 | 0.6833520 |\n",
       "| 150 | 0.010 | 2 | 0.63576 | 0.6739479 |\n",
       "| 150 | 0.010 | 3 | 0.64190 | 0.6741611 |\n",
       "| 150 | 0.010 | 4 | 0.64716 | 0.6719695 |\n",
       "| 150 | 0.001 | 2 | 0.62754 | 0.5064076 |\n",
       "| 150 | 0.001 | 3 | 0.62884 | 0.5949712 |\n",
       "| 150 | 0.001 | 4 | 0.62784 | 0.6176270 |\n",
       "\n"
      ],
      "text/plain": [
       "      n.trees shrinkage interaction.depth ACC     BCR      \n",
       " [1,]  50     0.100     2                 0.65162 0.6687165\n",
       " [2,]  50     0.100     3                 0.66624 0.6640815\n",
       " [3,]  50     0.100     4                 0.67452 0.6670167\n",
       " [4,]  50     0.010     2                 0.62734 0.4949843\n",
       " [5,]  50     0.010     3                 0.63470 0.6796874\n",
       " [6,]  50     0.010     4                 0.64462 0.6530733\n",
       " [7,]  50     0.001     2                 0.09572 0.0957200\n",
       " [8,]  50     0.001     3                 0.63110 0.6513730\n",
       " [9,]  50     0.001     4                 0.62542 0.5966587\n",
       "[10,] 100     0.100     2                 0.66932 0.6631516\n",
       "[11,] 100     0.100     3                 0.68026 0.6675046\n",
       "[12,] 100     0.100     4                 0.68560 0.6739484\n",
       "[13,] 100     0.010     2                 0.63032 0.6383918\n",
       "[14,] 100     0.010     3                 0.63576 0.6790751\n",
       "[15,] 100     0.010     4                 0.64254 0.6643300\n",
       "[16,] 100     0.001     2                 0.56704 0.3735390\n",
       "[17,] 100     0.001     3                 0.62736 0.4958601\n",
       "[18,] 100     0.001     4                 0.62584 0.5992590\n",
       "[19,] 150     0.100     2                 0.67770 0.6659396\n",
       "[20,] 150     0.100     3                 0.68504 0.6724836\n",
       "[21,] 150     0.100     4                 0.69244 0.6833520\n",
       "[22,] 150     0.010     2                 0.63576 0.6739479\n",
       "[23,] 150     0.010     3                 0.64190 0.6741611\n",
       "[24,] 150     0.010     4                 0.64716 0.6719695\n",
       "[25,] 150     0.001     2                 0.62754 0.5064076\n",
       "[26,] 150     0.001     3                 0.62884 0.5949712\n",
       "[27,] 150     0.001     4                 0.62784 0.6176270"
      ]
     },
     "metadata": {},
     "output_type": "display_data"
    }
   ],
   "source": [
    "gbm_pre_result"
   ]
  },
  {
   "cell_type": "code",
   "execution_count": 10,
   "metadata": {},
   "outputs": [],
   "source": [
    "# 150 0.1, 4"
   ]
  },
  {
   "cell_type": "code",
   "execution_count": 6,
   "metadata": {},
   "outputs": [],
   "source": [
    "gbm_model <- gbm.fit(x_all_train, y_all_train, verbose=0,\n",
    "                 n.trees = 150, shrinkage = 0.1,distribution=\"multinomial\",interaction.depth = 4)"
   ]
  },
  {
   "cell_type": "code",
   "execution_count": 10,
   "metadata": {},
   "outputs": [
    {
     "data": {
      "text/html": [
       "<style>\n",
       ".list-inline {list-style: none; margin:0; padding: 0}\n",
       ".list-inline>li {display: inline-block}\n",
       ".list-inline>li:not(:last-child)::after {content: \"\\00b7\"; padding: 0 .5ex}\n",
       "</style>\n",
       "<ol class=list-inline><li>0.693305391000149</li><li>0.686272692721057</li></ol>\n"
      ],
      "text/latex": [
       "\\begin{enumerate*}\n",
       "\\item 0.693305391000149\n",
       "\\item 0.686272692721057\n",
       "\\end{enumerate*}\n"
      ],
      "text/markdown": [
       "1. 0.693305391000149\n",
       "2. 0.686272692721057\n",
       "\n",
       "\n"
      ],
      "text/plain": [
       "[1] 0.6933054 0.6862727"
      ]
     },
     "metadata": {},
     "output_type": "display_data"
    }
   ],
   "source": [
    "pred <- predict(gbm_model,newdata=x_test,n.trees=150, type = \"response\")\n",
    "dim(pred)<-c(60601,3)\n",
    "pred <- apply(pred, 1, which.max)\n",
    "cm <- table(pred,y_test)\n",
    "perf_eval_multi(cm)"
   ]
  },
  {
   "cell_type": "code",
   "execution_count": 11,
   "metadata": {},
   "outputs": [
    {
     "data": {
      "text/html": [
       "<table>\n",
       "<caption>A data.frame: 10 × 2</caption>\n",
       "<thead>\n",
       "\t<tr><th></th><th scope=col>var</th><th scope=col>rel.inf</th></tr>\n",
       "\t<tr><th></th><th scope=col>&lt;fct&gt;</th><th scope=col>&lt;dbl&gt;</th></tr>\n",
       "</thead>\n",
       "<tbody>\n",
       "\t<tr><th scope=row>geo_level_1_id</th><td>geo_level_1_id                        </td><td>50.4463455</td></tr>\n",
       "\t<tr><th scope=row>foundation_type</th><td>foundation_type                       </td><td>16.5055923</td></tr>\n",
       "\t<tr><th scope=row>geo_level_2_id</th><td>geo_level_2_id                        </td><td> 6.9029915</td></tr>\n",
       "\t<tr><th scope=row>ground_floor_type</th><td>ground_floor_type                     </td><td> 6.4646776</td></tr>\n",
       "\t<tr><th scope=row>other_floor_type</th><td>other_floor_type                      </td><td> 3.6473149</td></tr>\n",
       "\t<tr><th scope=row>has_superstructure_mud_mortar_stone</th><td>has_superstructure_mud_mortar_stone   </td><td> 2.9560760</td></tr>\n",
       "\t<tr><th scope=row>age</th><td>age                                   </td><td> 2.9318106</td></tr>\n",
       "\t<tr><th scope=row>has_superstructure_cement_mortar_brick</th><td>has_superstructure_cement_mortar_brick</td><td> 2.1227524</td></tr>\n",
       "\t<tr><th scope=row>geo_level_3_id</th><td>geo_level_3_id                        </td><td> 1.4156718</td></tr>\n",
       "\t<tr><th scope=row>roof_type</th><td>roof_type                             </td><td> 0.9144203</td></tr>\n",
       "</tbody>\n",
       "</table>\n"
      ],
      "text/latex": [
       "A data.frame: 10 × 2\n",
       "\\begin{tabular}{r|ll}\n",
       "  & var & rel.inf\\\\\n",
       "  & <fct> & <dbl>\\\\\n",
       "\\hline\n",
       "\tgeo\\_level\\_1\\_id & geo\\_level\\_1\\_id                         & 50.4463455\\\\\n",
       "\tfoundation\\_type & foundation\\_type                        & 16.5055923\\\\\n",
       "\tgeo\\_level\\_2\\_id & geo\\_level\\_2\\_id                         &  6.9029915\\\\\n",
       "\tground\\_floor\\_type & ground\\_floor\\_type                      &  6.4646776\\\\\n",
       "\tother\\_floor\\_type & other\\_floor\\_type                       &  3.6473149\\\\\n",
       "\thas\\_superstructure\\_mud\\_mortar\\_stone & has\\_superstructure\\_mud\\_mortar\\_stone    &  2.9560760\\\\\n",
       "\tage & age                                    &  2.9318106\\\\\n",
       "\thas\\_superstructure\\_cement\\_mortar\\_brick & has\\_superstructure\\_cement\\_mortar\\_brick &  2.1227524\\\\\n",
       "\tgeo\\_level\\_3\\_id & geo\\_level\\_3\\_id                         &  1.4156718\\\\\n",
       "\troof\\_type & roof\\_type                              &  0.9144203\\\\\n",
       "\\end{tabular}\n"
      ],
      "text/markdown": [
       "\n",
       "A data.frame: 10 × 2\n",
       "\n",
       "| <!--/--> | var &lt;fct&gt; | rel.inf &lt;dbl&gt; |\n",
       "|---|---|---|\n",
       "| geo_level_1_id | geo_level_1_id                         | 50.4463455 |\n",
       "| foundation_type | foundation_type                        | 16.5055923 |\n",
       "| geo_level_2_id | geo_level_2_id                         |  6.9029915 |\n",
       "| ground_floor_type | ground_floor_type                      |  6.4646776 |\n",
       "| other_floor_type | other_floor_type                       |  3.6473149 |\n",
       "| has_superstructure_mud_mortar_stone | has_superstructure_mud_mortar_stone    |  2.9560760 |\n",
       "| age | age                                    |  2.9318106 |\n",
       "| has_superstructure_cement_mortar_brick | has_superstructure_cement_mortar_brick |  2.1227524 |\n",
       "| geo_level_3_id | geo_level_3_id                         |  1.4156718 |\n",
       "| roof_type | roof_type                              |  0.9144203 |\n",
       "\n"
      ],
      "text/plain": [
       "                                       var                                   \n",
       "geo_level_1_id                         geo_level_1_id                        \n",
       "foundation_type                        foundation_type                       \n",
       "geo_level_2_id                         geo_level_2_id                        \n",
       "ground_floor_type                      ground_floor_type                     \n",
       "other_floor_type                       other_floor_type                      \n",
       "has_superstructure_mud_mortar_stone    has_superstructure_mud_mortar_stone   \n",
       "age                                    age                                   \n",
       "has_superstructure_cement_mortar_brick has_superstructure_cement_mortar_brick\n",
       "geo_level_3_id                         geo_level_3_id                        \n",
       "roof_type                              roof_type                             \n",
       "                                       rel.inf   \n",
       "geo_level_1_id                         50.4463455\n",
       "foundation_type                        16.5055923\n",
       "geo_level_2_id                          6.9029915\n",
       "ground_floor_type                       6.4646776\n",
       "other_floor_type                        3.6473149\n",
       "has_superstructure_mud_mortar_stone     2.9560760\n",
       "age                                     2.9318106\n",
       "has_superstructure_cement_mortar_brick  2.1227524\n",
       "geo_level_3_id                          1.4156718\n",
       "roof_type                               0.9144203"
      ]
     },
     "metadata": {},
     "output_type": "display_data"
    },
    {
     "data": {
      "image/png": "[encoded data removed]",
      "text/plain": [
       "plot without title"
      ]
     },
     "metadata": {
      "image/png": {
       "height": 420,
       "width": 420
      },
      "text/plain": {
       "height": 420,
       "width": 420
      }
     },
     "output_type": "display_data"
    }
   ],
   "source": [
    "summary(gbm_model)[1:10,]"
   ]
  },
  {
   "cell_type": "code",
   "execution_count": null,
   "metadata": {},
   "outputs": [],
   "source": [
    "summary(gbm_model)[1:10,]"
   ]
  }
 ],
 "metadata": {
  "kernelspec": {
   "display_name": "R",
   "language": "R",
   "name": "ir"
  },
  "language_info": {
   "codemirror_mode": "r",
   "file_extension": ".r",
   "mimetype": "text/x-r-source",
   "name": "R",
   "pygments_lexer": "r",
   "version": "3.6.3"
  }
 },
 "nbformat": 4,
 "nbformat_minor": 4
}
