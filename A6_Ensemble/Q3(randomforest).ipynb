{
 "cells": [
  {
   "cell_type": "code",
   "execution_count": 1,
   "metadata": {
    "_execution_state": "idle",
    "_uuid": "051d70d956493feee0c6d64651c6a088724dca2a"
   },
   "outputs": [
    {
     "name": "stderr",
     "output_type": "stream",
     "text": [
      "── \u001b[1mAttaching packages\u001b[22m ─────────────────────────────────────── tidyverse 1.3.0 ──\n",
      "\n",
      "\u001b[32m✔\u001b[39m \u001b[34mggplot2\u001b[39m 3.3.0.\u001b[31m9000\u001b[39m     \u001b[32m✔\u001b[39m \u001b[34mpurrr  \u001b[39m 0.3.4     \n",
      "\u001b[32m✔\u001b[39m \u001b[34mtibble \u001b[39m 3.0.1          \u001b[32m✔\u001b[39m \u001b[34mdplyr  \u001b[39m 0.8.5     \n",
      "\u001b[32m✔\u001b[39m \u001b[34mtidyr  \u001b[39m 1.0.3          \u001b[32m✔\u001b[39m \u001b[34mstringr\u001b[39m 1.4.0     \n",
      "\u001b[32m✔\u001b[39m \u001b[34mreadr  \u001b[39m 1.3.1          \u001b[32m✔\u001b[39m \u001b[34mforcats\u001b[39m 0.5.0     \n",
      "\n",
      "── \u001b[1mConflicts\u001b[22m ────────────────────────────────────────── tidyverse_conflicts() ──\n",
      "\u001b[31m✖\u001b[39m \u001b[34mdplyr\u001b[39m::\u001b[32mfilter()\u001b[39m masks \u001b[34mstats\u001b[39m::filter()\n",
      "\u001b[31m✖\u001b[39m \u001b[34mdplyr\u001b[39m::\u001b[32mlag()\u001b[39m    masks \u001b[34mstats\u001b[39m::lag()\n",
      "\n"
     ]
    },
    {
     "data": {
      "text/html": [
       "'a6-essemble'"
      ],
      "text/latex": [
       "'a6-essemble'"
      ],
      "text/markdown": [
       "'a6-essemble'"
      ],
      "text/plain": [
       "[1] \"a6-essemble\""
      ]
     },
     "metadata": {},
     "output_type": "display_data"
    }
   ],
   "source": [
    "# This R environment comes with many helpful analytics packages installed\n",
    "# It is defined by the kaggle/rstats Docker image: https://github.com/kaggle/docker-rstats\n",
    "# For example, here's a helpful package to load\n",
    "\n",
    "library(tidyverse) # metapackage of all tidyverse packages\n",
    "\n",
    "# Input data files are available in the read-only \"../input/\" directory\n",
    "# For example, running this (by clicking run or pressing Shift+Enter) will list all files under the input directory\n",
    "\n",
    "list.files(path = \"../input\")\n",
    "\n",
    "# You can write up to 5GB to the current directory (/kaggle/working/) that gets preserved as output when you create a version using \"Save & Run All\" \n",
    "# You can also write temporary files to /kaggle/temp/, but they won't be saved outside of the current session"
   ]
  },
  {
   "cell_type": "code",
   "execution_count": 2,
   "metadata": {},
   "outputs": [
    {
     "name": "stderr",
     "output_type": "stream",
     "text": [
      "Installing package into ‘/usr/local/lib/R/site-library’\n",
      "(as ‘lib’ is unspecified)\n",
      "\n",
      "Loading required package: grid\n",
      "\n",
      "Loading required package: mvtnorm\n",
      "\n",
      "Loading required package: modeltools\n",
      "\n",
      "Loading required package: stats4\n",
      "\n",
      "Loading required package: strucchange\n",
      "\n",
      "Loading required package: zoo\n",
      "\n",
      "\n",
      "Attaching package: ‘zoo’\n",
      "\n",
      "\n",
      "The following objects are masked from ‘package:base’:\n",
      "\n",
      "    as.Date, as.Date.numeric\n",
      "\n",
      "\n",
      "Loading required package: sandwich\n",
      "\n",
      "\n",
      "Attaching package: ‘strucchange’\n",
      "\n",
      "\n",
      "The following object is masked from ‘package:stringr’:\n",
      "\n",
      "    boundary\n",
      "\n",
      "\n"
     ]
    }
   ],
   "source": [
    "data <- read.csv(\"../input/a6-essemble/Earthquate_Damage.csv\")\n",
    "cat_cols <- c(\"land_surface_condition\",\"foundation_type\",\n",
    "              \"roof_type\",\"ground_floor_type\",\n",
    "             \"other_floor_type\",\"position\",\n",
    "              \"plan_configuration\",\"legal_ownership_status\")\n",
    "install.packages(\"nnet\")\n",
    "library(nnet)\n",
    "j <- 1\n",
    "for(i in 1:length(cat_cols)){\n",
    "    tmp <- class.ind(data[,cat_cols[i]])\n",
    "    colnames(tmp) <- (j:(j+length(colnames(tmp)) - 1))\n",
    "    data <- cbind(data,tmp)\n",
    "    j <- (j+length(colnames(tmp)))\n",
    "}\n",
    "data <- data[,!(names(data)%in%cat_cols)]\n",
    "scaled_data <- scale(data[,1:31],center=TRUE,scale=TRUE)\n",
    "other_data <- data[,32:70]\n",
    "data <- cbind(scaled_data,other_data)\n",
    "rm(scaled_data)\n",
    "rm(other_data)\n",
    "set.seed(42)\n",
    "trn_idx <- sample(1:nrow(data), 150000)\n",
    "train <- data[trn_idx,]\n",
    "tmp <- data[-trn_idx,]\n",
    "val_idx <- sample(1:nrow(tmp),50000)\n",
    "val <- tmp[val_idx,]\n",
    "test <- tmp[-val_idx,]\n",
    "rm(trn_idx)\n",
    "rm(tmp)\n",
    "rm(val_idx)\n",
    "perf_eval_multi <- function(cm){\n",
    "  \n",
    "  # Simple Accuracy\n",
    "  ACC = sum(diag(cm))/sum(cm)\n",
    "  \n",
    "  # Balanced Correction Rate\n",
    "  BCR = 1\n",
    "  for (i in 1:dim(cm)[1]){\n",
    "    BCR = BCR*(cm[i,i]/sum(cm[i,])) \n",
    "  }\n",
    "  \n",
    "  BCR = BCR^(1/dim(cm)[1])\n",
    "  \n",
    "  return(c(ACC, BCR))\n",
    "}\n",
    "prediction_one <- function(pred){\n",
    "    tmp <- apply(pred,1,which.max)\n",
    "    for (i in 1:nrow(pred)){\n",
    "        pred[i,tmp[i]] <- 1\n",
    "        pred[i,-tmp[i]] <- 0\n",
    "    }\n",
    "    return(pred)\n",
    "}\n",
    "library(party)\n",
    "all_train <- rbind(train,val)"
   ]
  },
  {
   "cell_type": "code",
   "execution_count": 3,
   "metadata": {},
   "outputs": [
    {
     "name": "stderr",
     "output_type": "stream",
     "text": [
      "randomForest 4.6-14\n",
      "\n",
      "Type rfNews() to see new features/changes/bug fixes.\n",
      "\n",
      "\n",
      "Attaching package: ‘randomForest’\n",
      "\n",
      "\n",
      "The following object is masked from ‘package:dplyr’:\n",
      "\n",
      "    combine\n",
      "\n",
      "\n",
      "The following object is masked from ‘package:ggplot2’:\n",
      "\n",
      "    margin\n",
      "\n",
      "\n"
     ]
    }
   ],
   "source": [
    "library(randomForest)"
   ]
  },
  {
   "cell_type": "code",
   "execution_count": 4,
   "metadata": {},
   "outputs": [],
   "source": [
    "attach(all_train)"
   ]
  },
  {
   "cell_type": "code",
   "execution_count": 5,
   "metadata": {},
   "outputs": [],
   "source": [
    "all_train$damage_grade <- as.factor(all_train$damage_grade)\n",
    "test$damage_grade <- as.factor(test$damage_grade)"
   ]
  },
  {
   "cell_type": "code",
   "execution_count": 6,
   "metadata": {},
   "outputs": [],
   "source": [
    "rf_result = matrix(0,10,3)\n",
    "colnames(rf_result) <- c(\"ntree\",\"ACC\", \"BCR\")"
   ]
  },
  {
   "cell_type": "code",
   "execution_count": 7,
   "metadata": {},
   "outputs": [],
   "source": [
    "RF_model1 <- randomForest(damage_grade ~ ., data = all_train, ntree = 30, importance = TRUE)"
   ]
  },
  {
   "cell_type": "code",
   "execution_count": 8,
   "metadata": {},
   "outputs": [
    {
     "data": {
      "text/html": [
       "<table>\n",
       "<caption>A matrix: 10 × 2 of type dbl</caption>\n",
       "<thead>\n",
       "\t<tr><th></th><th scope=col>MeanDecreaseAccuracy</th><th scope=col>MeanDecreaseGini</th></tr>\n",
       "</thead>\n",
       "<tbody>\n",
       "\t<tr><th scope=row>geo_level_1_id</th><td>32.73467</td><td>11383.6502</td></tr>\n",
       "\t<tr><th scope=row>age</th><td>30.94528</td><td> 4156.9538</td></tr>\n",
       "\t<tr><th scope=row>geo_level_2_id</th><td>30.30032</td><td> 6964.7216</td></tr>\n",
       "\t<tr><th scope=row>geo_level_3_id</th><td>29.90210</td><td> 6393.7331</td></tr>\n",
       "\t<tr><th scope=row>height_percentage</th><td>26.10328</td><td> 2775.9213</td></tr>\n",
       "\t<tr><th scope=row>area_percentage</th><td>24.81629</td><td> 4275.8822</td></tr>\n",
       "\t<tr><th scope=row>has_superstructure_mud_mortar_brick</th><td>21.53827</td><td>  475.5810</td></tr>\n",
       "\t<tr><th scope=row>has_superstructure_rc_non_engineered</th><td>19.11217</td><td>  346.8733</td></tr>\n",
       "\t<tr><th scope=row>3</th><td>17.27661</td><td>  646.1823</td></tr>\n",
       "\t<tr><th scope=row>has_superstructure_cement_mortar_stone</th><td>17.26379</td><td>  256.4426</td></tr>\n",
       "</tbody>\n",
       "</table>\n"
      ],
      "text/latex": [
       "A matrix: 10 × 2 of type dbl\n",
       "\\begin{tabular}{r|ll}\n",
       "  & MeanDecreaseAccuracy & MeanDecreaseGini\\\\\n",
       "\\hline\n",
       "\tgeo\\_level\\_1\\_id & 32.73467 & 11383.6502\\\\\n",
       "\tage & 30.94528 &  4156.9538\\\\\n",
       "\tgeo\\_level\\_2\\_id & 30.30032 &  6964.7216\\\\\n",
       "\tgeo\\_level\\_3\\_id & 29.90210 &  6393.7331\\\\\n",
       "\theight\\_percentage & 26.10328 &  2775.9213\\\\\n",
       "\tarea\\_percentage & 24.81629 &  4275.8822\\\\\n",
       "\thas\\_superstructure\\_mud\\_mortar\\_brick & 21.53827 &   475.5810\\\\\n",
       "\thas\\_superstructure\\_rc\\_non\\_engineered & 19.11217 &   346.8733\\\\\n",
       "\t3 & 17.27661 &   646.1823\\\\\n",
       "\thas\\_superstructure\\_cement\\_mortar\\_stone & 17.26379 &   256.4426\\\\\n",
       "\\end{tabular}\n"
      ],
      "text/markdown": [
       "\n",
       "A matrix: 10 × 2 of type dbl\n",
       "\n",
       "| <!--/--> | MeanDecreaseAccuracy | MeanDecreaseGini |\n",
       "|---|---|---|\n",
       "| geo_level_1_id | 32.73467 | 11383.6502 |\n",
       "| age | 30.94528 |  4156.9538 |\n",
       "| geo_level_2_id | 30.30032 |  6964.7216 |\n",
       "| geo_level_3_id | 29.90210 |  6393.7331 |\n",
       "| height_percentage | 26.10328 |  2775.9213 |\n",
       "| area_percentage | 24.81629 |  4275.8822 |\n",
       "| has_superstructure_mud_mortar_brick | 21.53827 |   475.5810 |\n",
       "| has_superstructure_rc_non_engineered | 19.11217 |   346.8733 |\n",
       "| 3 | 17.27661 |   646.1823 |\n",
       "| has_superstructure_cement_mortar_stone | 17.26379 |   256.4426 |\n",
       "\n"
      ],
      "text/plain": [
       "                                       MeanDecreaseAccuracy MeanDecreaseGini\n",
       "geo_level_1_id                         32.73467             11383.6502      \n",
       "age                                    30.94528              4156.9538      \n",
       "geo_level_2_id                         30.30032              6964.7216      \n",
       "geo_level_3_id                         29.90210              6393.7331      \n",
       "height_percentage                      26.10328              2775.9213      \n",
       "area_percentage                        24.81629              4275.8822      \n",
       "has_superstructure_mud_mortar_brick    21.53827               475.5810      \n",
       "has_superstructure_rc_non_engineered   19.11217               346.8733      \n",
       "3                                      17.27661               646.1823      \n",
       "has_superstructure_cement_mortar_stone 17.26379               256.4426      "
      ]
     },
     "metadata": {},
     "output_type": "display_data"
    }
   ],
   "source": [
    "importance(RF_model1)[order(importance(RF_model1)[,4],decreasing = TRUE),][1:10,4:5]"
   ]
  },
  {
   "cell_type": "code",
   "execution_count": 9,
   "metadata": {},
   "outputs": [
    {
     "data": {
      "text/html": [
       "<table>\n",
       "<caption>A matrix: 10 × 2 of type dbl</caption>\n",
       "<thead>\n",
       "\t<tr><th></th><th scope=col>MeanDecreaseAccuracy</th><th scope=col>MeanDecreaseGini</th></tr>\n",
       "</thead>\n",
       "<tbody>\n",
       "\t<tr><th scope=row>geo_level_1_id</th><td>32.73467279</td><td>11383.650</td></tr>\n",
       "\t<tr><th scope=row>geo_level_2_id</th><td>30.30032165</td><td> 6964.722</td></tr>\n",
       "\t<tr><th scope=row>geo_level_3_id</th><td>29.90209964</td><td> 6393.733</td></tr>\n",
       "\t<tr><th scope=row>building_id</th><td> 0.09294729</td><td> 6005.752</td></tr>\n",
       "\t<tr><th scope=row>area_percentage</th><td>24.81629247</td><td> 4275.882</td></tr>\n",
       "\t<tr><th scope=row>age</th><td>30.94528252</td><td> 4156.954</td></tr>\n",
       "\t<tr><th scope=row>height_percentage</th><td>26.10327676</td><td> 2775.921</td></tr>\n",
       "\t<tr><th scope=row>6</th><td>10.66248166</td><td> 1389.887</td></tr>\n",
       "\t<tr><th scope=row>count_floors_pre_eq</th><td>16.01814772</td><td> 1366.091</td></tr>\n",
       "\t<tr><th scope=row>has_superstructure_mud_mortar_stone</th><td>15.92807824</td><td> 1268.620</td></tr>\n",
       "</tbody>\n",
       "</table>\n"
      ],
      "text/latex": [
       "A matrix: 10 × 2 of type dbl\n",
       "\\begin{tabular}{r|ll}\n",
       "  & MeanDecreaseAccuracy & MeanDecreaseGini\\\\\n",
       "\\hline\n",
       "\tgeo\\_level\\_1\\_id & 32.73467279 & 11383.650\\\\\n",
       "\tgeo\\_level\\_2\\_id & 30.30032165 &  6964.722\\\\\n",
       "\tgeo\\_level\\_3\\_id & 29.90209964 &  6393.733\\\\\n",
       "\tbuilding\\_id &  0.09294729 &  6005.752\\\\\n",
       "\tarea\\_percentage & 24.81629247 &  4275.882\\\\\n",
       "\tage & 30.94528252 &  4156.954\\\\\n",
       "\theight\\_percentage & 26.10327676 &  2775.921\\\\\n",
       "\t6 & 10.66248166 &  1389.887\\\\\n",
       "\tcount\\_floors\\_pre\\_eq & 16.01814772 &  1366.091\\\\\n",
       "\thas\\_superstructure\\_mud\\_mortar\\_stone & 15.92807824 &  1268.620\\\\\n",
       "\\end{tabular}\n"
      ],
      "text/markdown": [
       "\n",
       "A matrix: 10 × 2 of type dbl\n",
       "\n",
       "| <!--/--> | MeanDecreaseAccuracy | MeanDecreaseGini |\n",
       "|---|---|---|\n",
       "| geo_level_1_id | 32.73467279 | 11383.650 |\n",
       "| geo_level_2_id | 30.30032165 |  6964.722 |\n",
       "| geo_level_3_id | 29.90209964 |  6393.733 |\n",
       "| building_id |  0.09294729 |  6005.752 |\n",
       "| area_percentage | 24.81629247 |  4275.882 |\n",
       "| age | 30.94528252 |  4156.954 |\n",
       "| height_percentage | 26.10327676 |  2775.921 |\n",
       "| 6 | 10.66248166 |  1389.887 |\n",
       "| count_floors_pre_eq | 16.01814772 |  1366.091 |\n",
       "| has_superstructure_mud_mortar_stone | 15.92807824 |  1268.620 |\n",
       "\n"
      ],
      "text/plain": [
       "                                    MeanDecreaseAccuracy MeanDecreaseGini\n",
       "geo_level_1_id                      32.73467279          11383.650       \n",
       "geo_level_2_id                      30.30032165           6964.722       \n",
       "geo_level_3_id                      29.90209964           6393.733       \n",
       "building_id                          0.09294729           6005.752       \n",
       "area_percentage                     24.81629247           4275.882       \n",
       "age                                 30.94528252           4156.954       \n",
       "height_percentage                   26.10327676           2775.921       \n",
       "6                                   10.66248166           1389.887       \n",
       "count_floors_pre_eq                 16.01814772           1366.091       \n",
       "has_superstructure_mud_mortar_stone 15.92807824           1268.620       "
      ]
     },
     "metadata": {},
     "output_type": "display_data"
    }
   ],
   "source": [
    "importance(RF_model1)[order(importance(RF_model1)[,5],decreasing = TRUE),][1:10,4:5]"
   ]
  },
  {
   "cell_type": "code",
   "execution_count": 10,
   "metadata": {},
   "outputs": [],
   "source": [
    "pred <- predict(RF_model1, test)\n",
    "cm <- table(test$damage_grade,pred)\n",
    "rf_result[1,1] <- 30\n",
    "rf_result[1,2:3] <- perf_eval_multi(cm)"
   ]
  },
  {
   "cell_type": "code",
   "execution_count": 11,
   "metadata": {},
   "outputs": [],
   "source": [
    "RF_model2 <- randomForest(damage_grade ~ ., data = all_train, ntree = 60, importance = TRUE)"
   ]
  },
  {
   "cell_type": "code",
   "execution_count": 12,
   "metadata": {},
   "outputs": [
    {
     "data": {
      "text/html": [
       "<table>\n",
       "<caption>A matrix: 10 × 2 of type dbl</caption>\n",
       "<thead>\n",
       "\t<tr><th></th><th scope=col>MeanDecreaseAccuracy</th><th scope=col>MeanDecreaseGini</th></tr>\n",
       "</thead>\n",
       "<tbody>\n",
       "\t<tr><th scope=row>geo_level_2_id</th><td>60.60564</td><td> 7053.8848</td></tr>\n",
       "\t<tr><th scope=row>geo_level_3_id</th><td>55.33501</td><td> 6326.5697</td></tr>\n",
       "\t<tr><th scope=row>geo_level_1_id</th><td>41.13225</td><td>10678.8428</td></tr>\n",
       "\t<tr><th scope=row>area_percentage</th><td>38.01723</td><td> 4178.1346</td></tr>\n",
       "\t<tr><th scope=row>age</th><td>35.88104</td><td> 4133.9596</td></tr>\n",
       "\t<tr><th scope=row>height_percentage</th><td>28.38521</td><td> 2801.2026</td></tr>\n",
       "\t<tr><th scope=row>has_superstructure_stone_flag</th><td>27.53904</td><td>  446.5387</td></tr>\n",
       "\t<tr><th scope=row>has_superstructure_adobe_mud</th><td>25.68601</td><td>  556.7702</td></tr>\n",
       "\t<tr><th scope=row>has_superstructure_timber</th><td>24.13497</td><td>  804.9308</td></tr>\n",
       "\t<tr><th scope=row>count_floors_pre_eq</th><td>22.54631</td><td> 1315.2292</td></tr>\n",
       "</tbody>\n",
       "</table>\n"
      ],
      "text/latex": [
       "A matrix: 10 × 2 of type dbl\n",
       "\\begin{tabular}{r|ll}\n",
       "  & MeanDecreaseAccuracy & MeanDecreaseGini\\\\\n",
       "\\hline\n",
       "\tgeo\\_level\\_2\\_id & 60.60564 &  7053.8848\\\\\n",
       "\tgeo\\_level\\_3\\_id & 55.33501 &  6326.5697\\\\\n",
       "\tgeo\\_level\\_1\\_id & 41.13225 & 10678.8428\\\\\n",
       "\tarea\\_percentage & 38.01723 &  4178.1346\\\\\n",
       "\tage & 35.88104 &  4133.9596\\\\\n",
       "\theight\\_percentage & 28.38521 &  2801.2026\\\\\n",
       "\thas\\_superstructure\\_stone\\_flag & 27.53904 &   446.5387\\\\\n",
       "\thas\\_superstructure\\_adobe\\_mud & 25.68601 &   556.7702\\\\\n",
       "\thas\\_superstructure\\_timber & 24.13497 &   804.9308\\\\\n",
       "\tcount\\_floors\\_pre\\_eq & 22.54631 &  1315.2292\\\\\n",
       "\\end{tabular}\n"
      ],
      "text/markdown": [
       "\n",
       "A matrix: 10 × 2 of type dbl\n",
       "\n",
       "| <!--/--> | MeanDecreaseAccuracy | MeanDecreaseGini |\n",
       "|---|---|---|\n",
       "| geo_level_2_id | 60.60564 |  7053.8848 |\n",
       "| geo_level_3_id | 55.33501 |  6326.5697 |\n",
       "| geo_level_1_id | 41.13225 | 10678.8428 |\n",
       "| area_percentage | 38.01723 |  4178.1346 |\n",
       "| age | 35.88104 |  4133.9596 |\n",
       "| height_percentage | 28.38521 |  2801.2026 |\n",
       "| has_superstructure_stone_flag | 27.53904 |   446.5387 |\n",
       "| has_superstructure_adobe_mud | 25.68601 |   556.7702 |\n",
       "| has_superstructure_timber | 24.13497 |   804.9308 |\n",
       "| count_floors_pre_eq | 22.54631 |  1315.2292 |\n",
       "\n"
      ],
      "text/plain": [
       "                              MeanDecreaseAccuracy MeanDecreaseGini\n",
       "geo_level_2_id                60.60564              7053.8848      \n",
       "geo_level_3_id                55.33501              6326.5697      \n",
       "geo_level_1_id                41.13225             10678.8428      \n",
       "area_percentage               38.01723              4178.1346      \n",
       "age                           35.88104              4133.9596      \n",
       "height_percentage             28.38521              2801.2026      \n",
       "has_superstructure_stone_flag 27.53904               446.5387      \n",
       "has_superstructure_adobe_mud  25.68601               556.7702      \n",
       "has_superstructure_timber     24.13497               804.9308      \n",
       "count_floors_pre_eq           22.54631              1315.2292      "
      ]
     },
     "metadata": {},
     "output_type": "display_data"
    }
   ],
   "source": [
    "importance(RF_model2)[order(importance(RF_model2)[,4],decreasing = TRUE),][1:10,4:5]"
   ]
  },
  {
   "cell_type": "code",
   "execution_count": 13,
   "metadata": {},
   "outputs": [
    {
     "data": {
      "text/html": [
       "<table>\n",
       "<caption>A matrix: 10 × 2 of type dbl</caption>\n",
       "<thead>\n",
       "\t<tr><th></th><th scope=col>MeanDecreaseAccuracy</th><th scope=col>MeanDecreaseGini</th></tr>\n",
       "</thead>\n",
       "<tbody>\n",
       "\t<tr><th scope=row>geo_level_1_id</th><td>41.1322464</td><td>10678.843</td></tr>\n",
       "\t<tr><th scope=row>geo_level_2_id</th><td>60.6056441</td><td> 7053.885</td></tr>\n",
       "\t<tr><th scope=row>geo_level_3_id</th><td>55.3350065</td><td> 6326.570</td></tr>\n",
       "\t<tr><th scope=row>building_id</th><td> 0.3598482</td><td> 5916.854</td></tr>\n",
       "\t<tr><th scope=row>area_percentage</th><td>38.0172256</td><td> 4178.135</td></tr>\n",
       "\t<tr><th scope=row>age</th><td>35.8810392</td><td> 4133.960</td></tr>\n",
       "\t<tr><th scope=row>height_percentage</th><td>28.3852097</td><td> 2801.203</td></tr>\n",
       "\t<tr><th scope=row>6</th><td>14.8771677</td><td> 1677.214</td></tr>\n",
       "\t<tr><th scope=row>count_floors_pre_eq</th><td>22.5463096</td><td> 1315.229</td></tr>\n",
       "\t<tr><th scope=row>has_superstructure_mud_mortar_stone</th><td>19.5291748</td><td> 1220.708</td></tr>\n",
       "</tbody>\n",
       "</table>\n"
      ],
      "text/latex": [
       "A matrix: 10 × 2 of type dbl\n",
       "\\begin{tabular}{r|ll}\n",
       "  & MeanDecreaseAccuracy & MeanDecreaseGini\\\\\n",
       "\\hline\n",
       "\tgeo\\_level\\_1\\_id & 41.1322464 & 10678.843\\\\\n",
       "\tgeo\\_level\\_2\\_id & 60.6056441 &  7053.885\\\\\n",
       "\tgeo\\_level\\_3\\_id & 55.3350065 &  6326.570\\\\\n",
       "\tbuilding\\_id &  0.3598482 &  5916.854\\\\\n",
       "\tarea\\_percentage & 38.0172256 &  4178.135\\\\\n",
       "\tage & 35.8810392 &  4133.960\\\\\n",
       "\theight\\_percentage & 28.3852097 &  2801.203\\\\\n",
       "\t6 & 14.8771677 &  1677.214\\\\\n",
       "\tcount\\_floors\\_pre\\_eq & 22.5463096 &  1315.229\\\\\n",
       "\thas\\_superstructure\\_mud\\_mortar\\_stone & 19.5291748 &  1220.708\\\\\n",
       "\\end{tabular}\n"
      ],
      "text/markdown": [
       "\n",
       "A matrix: 10 × 2 of type dbl\n",
       "\n",
       "| <!--/--> | MeanDecreaseAccuracy | MeanDecreaseGini |\n",
       "|---|---|---|\n",
       "| geo_level_1_id | 41.1322464 | 10678.843 |\n",
       "| geo_level_2_id | 60.6056441 |  7053.885 |\n",
       "| geo_level_3_id | 55.3350065 |  6326.570 |\n",
       "| building_id |  0.3598482 |  5916.854 |\n",
       "| area_percentage | 38.0172256 |  4178.135 |\n",
       "| age | 35.8810392 |  4133.960 |\n",
       "| height_percentage | 28.3852097 |  2801.203 |\n",
       "| 6 | 14.8771677 |  1677.214 |\n",
       "| count_floors_pre_eq | 22.5463096 |  1315.229 |\n",
       "| has_superstructure_mud_mortar_stone | 19.5291748 |  1220.708 |\n",
       "\n"
      ],
      "text/plain": [
       "                                    MeanDecreaseAccuracy MeanDecreaseGini\n",
       "geo_level_1_id                      41.1322464           10678.843       \n",
       "geo_level_2_id                      60.6056441            7053.885       \n",
       "geo_level_3_id                      55.3350065            6326.570       \n",
       "building_id                          0.3598482            5916.854       \n",
       "area_percentage                     38.0172256            4178.135       \n",
       "age                                 35.8810392            4133.960       \n",
       "height_percentage                   28.3852097            2801.203       \n",
       "6                                   14.8771677            1677.214       \n",
       "count_floors_pre_eq                 22.5463096            1315.229       \n",
       "has_superstructure_mud_mortar_stone 19.5291748            1220.708       "
      ]
     },
     "metadata": {},
     "output_type": "display_data"
    }
   ],
   "source": [
    "importance(RF_model2)[order(importance(RF_model2)[,5],decreasing = TRUE),][1:10,4:5]"
   ]
  },
  {
   "cell_type": "code",
   "execution_count": 14,
   "metadata": {},
   "outputs": [],
   "source": [
    "pred <- predict(RF_model2, test)\n",
    "cm <- table(test$damage_grade,pred)\n",
    "rf_result[2,1] <- 60\n",
    "rf_result[2,2:3] <- perf_eval_multi(cm)"
   ]
  },
  {
   "cell_type": "code",
   "execution_count": 15,
   "metadata": {},
   "outputs": [],
   "source": [
    "RF_model3 <- randomForest(damage_grade ~ ., data = all_train, ntree = 90, importance = TRUE)"
   ]
  },
  {
   "cell_type": "code",
   "execution_count": 16,
   "metadata": {},
   "outputs": [
    {
     "data": {
      "text/html": [
       "<table>\n",
       "<caption>A matrix: 10 × 2 of type dbl</caption>\n",
       "<thead>\n",
       "\t<tr><th></th><th scope=col>MeanDecreaseAccuracy</th><th scope=col>MeanDecreaseGini</th></tr>\n",
       "</thead>\n",
       "<tbody>\n",
       "\t<tr><th scope=row>geo_level_3_id</th><td>62.50566</td><td> 6360.5222</td></tr>\n",
       "\t<tr><th scope=row>geo_level_2_id</th><td>61.83157</td><td> 6970.3771</td></tr>\n",
       "\t<tr><th scope=row>geo_level_1_id</th><td>59.42665</td><td>10815.3842</td></tr>\n",
       "\t<tr><th scope=row>age</th><td>39.37738</td><td> 4153.9828</td></tr>\n",
       "\t<tr><th scope=row>height_percentage</th><td>38.47259</td><td> 2859.4437</td></tr>\n",
       "\t<tr><th scope=row>area_percentage</th><td>36.59141</td><td> 4188.0494</td></tr>\n",
       "\t<tr><th scope=row>count_floors_pre_eq</th><td>33.84583</td><td> 1313.5237</td></tr>\n",
       "\t<tr><th scope=row>3</th><td>32.69437</td><td>  633.9734</td></tr>\n",
       "\t<tr><th scope=row>has_superstructure_timber</th><td>32.51548</td><td>  862.1900</td></tr>\n",
       "\t<tr><th scope=row>has_superstructure_stone_flag</th><td>32.03653</td><td>  461.4869</td></tr>\n",
       "</tbody>\n",
       "</table>\n"
      ],
      "text/latex": [
       "A matrix: 10 × 2 of type dbl\n",
       "\\begin{tabular}{r|ll}\n",
       "  & MeanDecreaseAccuracy & MeanDecreaseGini\\\\\n",
       "\\hline\n",
       "\tgeo\\_level\\_3\\_id & 62.50566 &  6360.5222\\\\\n",
       "\tgeo\\_level\\_2\\_id & 61.83157 &  6970.3771\\\\\n",
       "\tgeo\\_level\\_1\\_id & 59.42665 & 10815.3842\\\\\n",
       "\tage & 39.37738 &  4153.9828\\\\\n",
       "\theight\\_percentage & 38.47259 &  2859.4437\\\\\n",
       "\tarea\\_percentage & 36.59141 &  4188.0494\\\\\n",
       "\tcount\\_floors\\_pre\\_eq & 33.84583 &  1313.5237\\\\\n",
       "\t3 & 32.69437 &   633.9734\\\\\n",
       "\thas\\_superstructure\\_timber & 32.51548 &   862.1900\\\\\n",
       "\thas\\_superstructure\\_stone\\_flag & 32.03653 &   461.4869\\\\\n",
       "\\end{tabular}\n"
      ],
      "text/markdown": [
       "\n",
       "A matrix: 10 × 2 of type dbl\n",
       "\n",
       "| <!--/--> | MeanDecreaseAccuracy | MeanDecreaseGini |\n",
       "|---|---|---|\n",
       "| geo_level_3_id | 62.50566 |  6360.5222 |\n",
       "| geo_level_2_id | 61.83157 |  6970.3771 |\n",
       "| geo_level_1_id | 59.42665 | 10815.3842 |\n",
       "| age | 39.37738 |  4153.9828 |\n",
       "| height_percentage | 38.47259 |  2859.4437 |\n",
       "| area_percentage | 36.59141 |  4188.0494 |\n",
       "| count_floors_pre_eq | 33.84583 |  1313.5237 |\n",
       "| 3 | 32.69437 |   633.9734 |\n",
       "| has_superstructure_timber | 32.51548 |   862.1900 |\n",
       "| has_superstructure_stone_flag | 32.03653 |   461.4869 |\n",
       "\n"
      ],
      "text/plain": [
       "                              MeanDecreaseAccuracy MeanDecreaseGini\n",
       "geo_level_3_id                62.50566              6360.5222      \n",
       "geo_level_2_id                61.83157              6970.3771      \n",
       "geo_level_1_id                59.42665             10815.3842      \n",
       "age                           39.37738              4153.9828      \n",
       "height_percentage             38.47259              2859.4437      \n",
       "area_percentage               36.59141              4188.0494      \n",
       "count_floors_pre_eq           33.84583              1313.5237      \n",
       "3                             32.69437               633.9734      \n",
       "has_superstructure_timber     32.51548               862.1900      \n",
       "has_superstructure_stone_flag 32.03653               461.4869      "
      ]
     },
     "metadata": {},
     "output_type": "display_data"
    }
   ],
   "source": [
    "importance(RF_model3)[order(importance(RF_model3)[,4],decreasing = TRUE),][1:10,4:5]"
   ]
  },
  {
   "cell_type": "code",
   "execution_count": 17,
   "metadata": {},
   "outputs": [
    {
     "data": {
      "text/html": [
       "<table>\n",
       "<caption>A matrix: 10 × 2 of type dbl</caption>\n",
       "<thead>\n",
       "\t<tr><th></th><th scope=col>MeanDecreaseAccuracy</th><th scope=col>MeanDecreaseGini</th></tr>\n",
       "</thead>\n",
       "<tbody>\n",
       "\t<tr><th scope=row>geo_level_1_id</th><td>59.4266505</td><td>10815.384</td></tr>\n",
       "\t<tr><th scope=row>geo_level_2_id</th><td>61.8315677</td><td> 6970.377</td></tr>\n",
       "\t<tr><th scope=row>geo_level_3_id</th><td>62.5056623</td><td> 6360.522</td></tr>\n",
       "\t<tr><th scope=row>building_id</th><td> 0.2196931</td><td> 5979.942</td></tr>\n",
       "\t<tr><th scope=row>area_percentage</th><td>36.5914139</td><td> 4188.049</td></tr>\n",
       "\t<tr><th scope=row>age</th><td>39.3773808</td><td> 4153.983</td></tr>\n",
       "\t<tr><th scope=row>height_percentage</th><td>38.4725939</td><td> 2859.444</td></tr>\n",
       "\t<tr><th scope=row>6</th><td>16.8599819</td><td> 1530.966</td></tr>\n",
       "\t<tr><th scope=row>has_superstructure_mud_mortar_stone</th><td>24.1470154</td><td> 1325.829</td></tr>\n",
       "\t<tr><th scope=row>count_floors_pre_eq</th><td>33.8458349</td><td> 1313.524</td></tr>\n",
       "</tbody>\n",
       "</table>\n"
      ],
      "text/latex": [
       "A matrix: 10 × 2 of type dbl\n",
       "\\begin{tabular}{r|ll}\n",
       "  & MeanDecreaseAccuracy & MeanDecreaseGini\\\\\n",
       "\\hline\n",
       "\tgeo\\_level\\_1\\_id & 59.4266505 & 10815.384\\\\\n",
       "\tgeo\\_level\\_2\\_id & 61.8315677 &  6970.377\\\\\n",
       "\tgeo\\_level\\_3\\_id & 62.5056623 &  6360.522\\\\\n",
       "\tbuilding\\_id &  0.2196931 &  5979.942\\\\\n",
       "\tarea\\_percentage & 36.5914139 &  4188.049\\\\\n",
       "\tage & 39.3773808 &  4153.983\\\\\n",
       "\theight\\_percentage & 38.4725939 &  2859.444\\\\\n",
       "\t6 & 16.8599819 &  1530.966\\\\\n",
       "\thas\\_superstructure\\_mud\\_mortar\\_stone & 24.1470154 &  1325.829\\\\\n",
       "\tcount\\_floors\\_pre\\_eq & 33.8458349 &  1313.524\\\\\n",
       "\\end{tabular}\n"
      ],
      "text/markdown": [
       "\n",
       "A matrix: 10 × 2 of type dbl\n",
       "\n",
       "| <!--/--> | MeanDecreaseAccuracy | MeanDecreaseGini |\n",
       "|---|---|---|\n",
       "| geo_level_1_id | 59.4266505 | 10815.384 |\n",
       "| geo_level_2_id | 61.8315677 |  6970.377 |\n",
       "| geo_level_3_id | 62.5056623 |  6360.522 |\n",
       "| building_id |  0.2196931 |  5979.942 |\n",
       "| area_percentage | 36.5914139 |  4188.049 |\n",
       "| age | 39.3773808 |  4153.983 |\n",
       "| height_percentage | 38.4725939 |  2859.444 |\n",
       "| 6 | 16.8599819 |  1530.966 |\n",
       "| has_superstructure_mud_mortar_stone | 24.1470154 |  1325.829 |\n",
       "| count_floors_pre_eq | 33.8458349 |  1313.524 |\n",
       "\n"
      ],
      "text/plain": [
       "                                    MeanDecreaseAccuracy MeanDecreaseGini\n",
       "geo_level_1_id                      59.4266505           10815.384       \n",
       "geo_level_2_id                      61.8315677            6970.377       \n",
       "geo_level_3_id                      62.5056623            6360.522       \n",
       "building_id                          0.2196931            5979.942       \n",
       "area_percentage                     36.5914139            4188.049       \n",
       "age                                 39.3773808            4153.983       \n",
       "height_percentage                   38.4725939            2859.444       \n",
       "6                                   16.8599819            1530.966       \n",
       "has_superstructure_mud_mortar_stone 24.1470154            1325.829       \n",
       "count_floors_pre_eq                 33.8458349            1313.524       "
      ]
     },
     "metadata": {},
     "output_type": "display_data"
    }
   ],
   "source": [
    "importance(RF_model3)[order(importance(RF_model3)[,5],decreasing = TRUE),][1:10,4:5]"
   ]
  },
  {
   "cell_type": "code",
   "execution_count": 18,
   "metadata": {},
   "outputs": [],
   "source": [
    "pred <- predict(RF_model3, test)\n",
    "cm <- table(test$damage_grade,pred)\n",
    "rf_result[3,1] <- 90\n",
    "rf_result[3,2:3] <- perf_eval_multi(cm)"
   ]
  },
  {
   "cell_type": "code",
   "execution_count": 19,
   "metadata": {},
   "outputs": [],
   "source": [
    "RF_model4 <- randomForest(damage_grade ~ ., data = all_train, ntree = 120, importance = TRUE)"
   ]
  },
  {
   "cell_type": "code",
   "execution_count": 20,
   "metadata": {},
   "outputs": [
    {
     "data": {
      "text/html": [
       "<table>\n",
       "<caption>A matrix: 10 × 2 of type dbl</caption>\n",
       "<thead>\n",
       "\t<tr><th></th><th scope=col>MeanDecreaseAccuracy</th><th scope=col>MeanDecreaseGini</th></tr>\n",
       "</thead>\n",
       "<tbody>\n",
       "\t<tr><th scope=row>geo_level_3_id</th><td>77.50807</td><td> 6275.4595</td></tr>\n",
       "\t<tr><th scope=row>geo_level_2_id</th><td>75.39719</td><td> 7010.3391</td></tr>\n",
       "\t<tr><th scope=row>geo_level_1_id</th><td>71.92578</td><td>10714.1116</td></tr>\n",
       "\t<tr><th scope=row>area_percentage</th><td>54.07018</td><td> 4191.0831</td></tr>\n",
       "\t<tr><th scope=row>height_percentage</th><td>47.03389</td><td> 2849.1494</td></tr>\n",
       "\t<tr><th scope=row>age</th><td>39.52765</td><td> 4101.8497</td></tr>\n",
       "\t<tr><th scope=row>has_superstructure_adobe_mud</th><td>38.43454</td><td>  566.8922</td></tr>\n",
       "\t<tr><th scope=row>count_floors_pre_eq</th><td>37.87799</td><td> 1277.8694</td></tr>\n",
       "\t<tr><th scope=row>has_superstructure_stone_flag</th><td>34.15385</td><td>  458.2168</td></tr>\n",
       "\t<tr><th scope=row>has_superstructure_timber</th><td>33.84484</td><td>  835.6177</td></tr>\n",
       "</tbody>\n",
       "</table>\n"
      ],
      "text/latex": [
       "A matrix: 10 × 2 of type dbl\n",
       "\\begin{tabular}{r|ll}\n",
       "  & MeanDecreaseAccuracy & MeanDecreaseGini\\\\\n",
       "\\hline\n",
       "\tgeo\\_level\\_3\\_id & 77.50807 &  6275.4595\\\\\n",
       "\tgeo\\_level\\_2\\_id & 75.39719 &  7010.3391\\\\\n",
       "\tgeo\\_level\\_1\\_id & 71.92578 & 10714.1116\\\\\n",
       "\tarea\\_percentage & 54.07018 &  4191.0831\\\\\n",
       "\theight\\_percentage & 47.03389 &  2849.1494\\\\\n",
       "\tage & 39.52765 &  4101.8497\\\\\n",
       "\thas\\_superstructure\\_adobe\\_mud & 38.43454 &   566.8922\\\\\n",
       "\tcount\\_floors\\_pre\\_eq & 37.87799 &  1277.8694\\\\\n",
       "\thas\\_superstructure\\_stone\\_flag & 34.15385 &   458.2168\\\\\n",
       "\thas\\_superstructure\\_timber & 33.84484 &   835.6177\\\\\n",
       "\\end{tabular}\n"
      ],
      "text/markdown": [
       "\n",
       "A matrix: 10 × 2 of type dbl\n",
       "\n",
       "| <!--/--> | MeanDecreaseAccuracy | MeanDecreaseGini |\n",
       "|---|---|---|\n",
       "| geo_level_3_id | 77.50807 |  6275.4595 |\n",
       "| geo_level_2_id | 75.39719 |  7010.3391 |\n",
       "| geo_level_1_id | 71.92578 | 10714.1116 |\n",
       "| area_percentage | 54.07018 |  4191.0831 |\n",
       "| height_percentage | 47.03389 |  2849.1494 |\n",
       "| age | 39.52765 |  4101.8497 |\n",
       "| has_superstructure_adobe_mud | 38.43454 |   566.8922 |\n",
       "| count_floors_pre_eq | 37.87799 |  1277.8694 |\n",
       "| has_superstructure_stone_flag | 34.15385 |   458.2168 |\n",
       "| has_superstructure_timber | 33.84484 |   835.6177 |\n",
       "\n"
      ],
      "text/plain": [
       "                              MeanDecreaseAccuracy MeanDecreaseGini\n",
       "geo_level_3_id                77.50807              6275.4595      \n",
       "geo_level_2_id                75.39719              7010.3391      \n",
       "geo_level_1_id                71.92578             10714.1116      \n",
       "area_percentage               54.07018              4191.0831      \n",
       "height_percentage             47.03389              2849.1494      \n",
       "age                           39.52765              4101.8497      \n",
       "has_superstructure_adobe_mud  38.43454               566.8922      \n",
       "count_floors_pre_eq           37.87799              1277.8694      \n",
       "has_superstructure_stone_flag 34.15385               458.2168      \n",
       "has_superstructure_timber     33.84484               835.6177      "
      ]
     },
     "metadata": {},
     "output_type": "display_data"
    }
   ],
   "source": [
    "importance(RF_model4)[order(importance(RF_model4)[,4],decreasing = TRUE),][1:10,4:5]"
   ]
  },
  {
   "cell_type": "code",
   "execution_count": 21,
   "metadata": {},
   "outputs": [
    {
     "data": {
      "text/html": [
       "<table>\n",
       "<caption>A matrix: 10 × 2 of type dbl</caption>\n",
       "<thead>\n",
       "\t<tr><th></th><th scope=col>MeanDecreaseAccuracy</th><th scope=col>MeanDecreaseGini</th></tr>\n",
       "</thead>\n",
       "<tbody>\n",
       "\t<tr><th scope=row>geo_level_1_id</th><td>71.925781</td><td>10714.112</td></tr>\n",
       "\t<tr><th scope=row>geo_level_2_id</th><td>75.397189</td><td> 7010.339</td></tr>\n",
       "\t<tr><th scope=row>geo_level_3_id</th><td>77.508074</td><td> 6275.460</td></tr>\n",
       "\t<tr><th scope=row>building_id</th><td> 1.384627</td><td> 5947.282</td></tr>\n",
       "\t<tr><th scope=row>area_percentage</th><td>54.070175</td><td> 4191.083</td></tr>\n",
       "\t<tr><th scope=row>age</th><td>39.527648</td><td> 4101.850</td></tr>\n",
       "\t<tr><th scope=row>height_percentage</th><td>47.033891</td><td> 2849.149</td></tr>\n",
       "\t<tr><th scope=row>6</th><td>17.310123</td><td> 1515.007</td></tr>\n",
       "\t<tr><th scope=row>count_floors_pre_eq</th><td>37.877988</td><td> 1277.869</td></tr>\n",
       "\t<tr><th scope=row>count_families</th><td>22.023435</td><td> 1217.892</td></tr>\n",
       "</tbody>\n",
       "</table>\n"
      ],
      "text/latex": [
       "A matrix: 10 × 2 of type dbl\n",
       "\\begin{tabular}{r|ll}\n",
       "  & MeanDecreaseAccuracy & MeanDecreaseGini\\\\\n",
       "\\hline\n",
       "\tgeo\\_level\\_1\\_id & 71.925781 & 10714.112\\\\\n",
       "\tgeo\\_level\\_2\\_id & 75.397189 &  7010.339\\\\\n",
       "\tgeo\\_level\\_3\\_id & 77.508074 &  6275.460\\\\\n",
       "\tbuilding\\_id &  1.384627 &  5947.282\\\\\n",
       "\tarea\\_percentage & 54.070175 &  4191.083\\\\\n",
       "\tage & 39.527648 &  4101.850\\\\\n",
       "\theight\\_percentage & 47.033891 &  2849.149\\\\\n",
       "\t6 & 17.310123 &  1515.007\\\\\n",
       "\tcount\\_floors\\_pre\\_eq & 37.877988 &  1277.869\\\\\n",
       "\tcount\\_families & 22.023435 &  1217.892\\\\\n",
       "\\end{tabular}\n"
      ],
      "text/markdown": [
       "\n",
       "A matrix: 10 × 2 of type dbl\n",
       "\n",
       "| <!--/--> | MeanDecreaseAccuracy | MeanDecreaseGini |\n",
       "|---|---|---|\n",
       "| geo_level_1_id | 71.925781 | 10714.112 |\n",
       "| geo_level_2_id | 75.397189 |  7010.339 |\n",
       "| geo_level_3_id | 77.508074 |  6275.460 |\n",
       "| building_id |  1.384627 |  5947.282 |\n",
       "| area_percentage | 54.070175 |  4191.083 |\n",
       "| age | 39.527648 |  4101.850 |\n",
       "| height_percentage | 47.033891 |  2849.149 |\n",
       "| 6 | 17.310123 |  1515.007 |\n",
       "| count_floors_pre_eq | 37.877988 |  1277.869 |\n",
       "| count_families | 22.023435 |  1217.892 |\n",
       "\n"
      ],
      "text/plain": [
       "                    MeanDecreaseAccuracy MeanDecreaseGini\n",
       "geo_level_1_id      71.925781            10714.112       \n",
       "geo_level_2_id      75.397189             7010.339       \n",
       "geo_level_3_id      77.508074             6275.460       \n",
       "building_id          1.384627             5947.282       \n",
       "area_percentage     54.070175             4191.083       \n",
       "age                 39.527648             4101.850       \n",
       "height_percentage   47.033891             2849.149       \n",
       "6                   17.310123             1515.007       \n",
       "count_floors_pre_eq 37.877988             1277.869       \n",
       "count_families      22.023435             1217.892       "
      ]
     },
     "metadata": {},
     "output_type": "display_data"
    }
   ],
   "source": [
    "importance(RF_model4)[order(importance(RF_model4)[,5],decreasing = TRUE),][1:10,4:5]"
   ]
  },
  {
   "cell_type": "code",
   "execution_count": 22,
   "metadata": {},
   "outputs": [],
   "source": [
    "pred <- predict(RF_model4, test)\n",
    "cm <- table(test$damage_grade,pred)\n",
    "rf_result[4,1] <- 120\n",
    "rf_result[4,2:3] <- perf_eval_multi(cm)"
   ]
  },
  {
   "cell_type": "code",
   "execution_count": 23,
   "metadata": {},
   "outputs": [],
   "source": [
    "RF_model5 <- randomForest(damage_grade ~ ., data = all_train, ntree = 150, importance = TRUE)"
   ]
  },
  {
   "cell_type": "code",
   "execution_count": 24,
   "metadata": {},
   "outputs": [
    {
     "data": {
      "text/html": [
       "<table>\n",
       "<caption>A matrix: 10 × 2 of type dbl</caption>\n",
       "<thead>\n",
       "\t<tr><th></th><th scope=col>MeanDecreaseAccuracy</th><th scope=col>MeanDecreaseGini</th></tr>\n",
       "</thead>\n",
       "<tbody>\n",
       "\t<tr><th scope=row>geo_level_3_id</th><td>79.00494</td><td> 6370.8505</td></tr>\n",
       "\t<tr><th scope=row>geo_level_2_id</th><td>77.53467</td><td> 7040.6120</td></tr>\n",
       "\t<tr><th scope=row>geo_level_1_id</th><td>75.30981</td><td>10949.3734</td></tr>\n",
       "\t<tr><th scope=row>area_percentage</th><td>60.79212</td><td> 4217.9979</td></tr>\n",
       "\t<tr><th scope=row>height_percentage</th><td>54.54949</td><td> 2860.6149</td></tr>\n",
       "\t<tr><th scope=row>age</th><td>44.97294</td><td> 4171.9670</td></tr>\n",
       "\t<tr><th scope=row>has_superstructure_adobe_mud</th><td>41.37893</td><td>  585.3485</td></tr>\n",
       "\t<tr><th scope=row>has_superstructure_timber</th><td>41.09861</td><td>  805.7397</td></tr>\n",
       "\t<tr><th scope=row>3</th><td>39.67711</td><td>  638.9922</td></tr>\n",
       "\t<tr><th scope=row>1</th><td>37.72519</td><td>  576.3503</td></tr>\n",
       "</tbody>\n",
       "</table>\n"
      ],
      "text/latex": [
       "A matrix: 10 × 2 of type dbl\n",
       "\\begin{tabular}{r|ll}\n",
       "  & MeanDecreaseAccuracy & MeanDecreaseGini\\\\\n",
       "\\hline\n",
       "\tgeo\\_level\\_3\\_id & 79.00494 &  6370.8505\\\\\n",
       "\tgeo\\_level\\_2\\_id & 77.53467 &  7040.6120\\\\\n",
       "\tgeo\\_level\\_1\\_id & 75.30981 & 10949.3734\\\\\n",
       "\tarea\\_percentage & 60.79212 &  4217.9979\\\\\n",
       "\theight\\_percentage & 54.54949 &  2860.6149\\\\\n",
       "\tage & 44.97294 &  4171.9670\\\\\n",
       "\thas\\_superstructure\\_adobe\\_mud & 41.37893 &   585.3485\\\\\n",
       "\thas\\_superstructure\\_timber & 41.09861 &   805.7397\\\\\n",
       "\t3 & 39.67711 &   638.9922\\\\\n",
       "\t1 & 37.72519 &   576.3503\\\\\n",
       "\\end{tabular}\n"
      ],
      "text/markdown": [
       "\n",
       "A matrix: 10 × 2 of type dbl\n",
       "\n",
       "| <!--/--> | MeanDecreaseAccuracy | MeanDecreaseGini |\n",
       "|---|---|---|\n",
       "| geo_level_3_id | 79.00494 |  6370.8505 |\n",
       "| geo_level_2_id | 77.53467 |  7040.6120 |\n",
       "| geo_level_1_id | 75.30981 | 10949.3734 |\n",
       "| area_percentage | 60.79212 |  4217.9979 |\n",
       "| height_percentage | 54.54949 |  2860.6149 |\n",
       "| age | 44.97294 |  4171.9670 |\n",
       "| has_superstructure_adobe_mud | 41.37893 |   585.3485 |\n",
       "| has_superstructure_timber | 41.09861 |   805.7397 |\n",
       "| 3 | 39.67711 |   638.9922 |\n",
       "| 1 | 37.72519 |   576.3503 |\n",
       "\n"
      ],
      "text/plain": [
       "                             MeanDecreaseAccuracy MeanDecreaseGini\n",
       "geo_level_3_id               79.00494              6370.8505      \n",
       "geo_level_2_id               77.53467              7040.6120      \n",
       "geo_level_1_id               75.30981             10949.3734      \n",
       "area_percentage              60.79212              4217.9979      \n",
       "height_percentage            54.54949              2860.6149      \n",
       "age                          44.97294              4171.9670      \n",
       "has_superstructure_adobe_mud 41.37893               585.3485      \n",
       "has_superstructure_timber    41.09861               805.7397      \n",
       "3                            39.67711               638.9922      \n",
       "1                            37.72519               576.3503      "
      ]
     },
     "metadata": {},
     "output_type": "display_data"
    }
   ],
   "source": [
    "importance(RF_model5)[order(importance(RF_model5)[,4],decreasing = TRUE),][1:10,4:5]"
   ]
  },
  {
   "cell_type": "code",
   "execution_count": 25,
   "metadata": {},
   "outputs": [
    {
     "data": {
      "text/html": [
       "<table>\n",
       "<caption>A matrix: 10 × 2 of type dbl</caption>\n",
       "<thead>\n",
       "\t<tr><th></th><th scope=col>MeanDecreaseAccuracy</th><th scope=col>MeanDecreaseGini</th></tr>\n",
       "</thead>\n",
       "<tbody>\n",
       "\t<tr><th scope=row>geo_level_1_id</th><td>75.3098075</td><td>10949.373</td></tr>\n",
       "\t<tr><th scope=row>geo_level_2_id</th><td>77.5346653</td><td> 7040.612</td></tr>\n",
       "\t<tr><th scope=row>geo_level_3_id</th><td>79.0049354</td><td> 6370.851</td></tr>\n",
       "\t<tr><th scope=row>building_id</th><td> 0.3572611</td><td> 5998.067</td></tr>\n",
       "\t<tr><th scope=row>area_percentage</th><td>60.7921182</td><td> 4217.998</td></tr>\n",
       "\t<tr><th scope=row>age</th><td>44.9729397</td><td> 4171.967</td></tr>\n",
       "\t<tr><th scope=row>height_percentage</th><td>54.5494947</td><td> 2860.615</td></tr>\n",
       "\t<tr><th scope=row>6</th><td>21.1011220</td><td> 1364.468</td></tr>\n",
       "\t<tr><th scope=row>has_superstructure_mud_mortar_stone</th><td>30.5465995</td><td> 1352.704</td></tr>\n",
       "\t<tr><th scope=row>count_floors_pre_eq</th><td>37.5824800</td><td> 1306.269</td></tr>\n",
       "</tbody>\n",
       "</table>\n"
      ],
      "text/latex": [
       "A matrix: 10 × 2 of type dbl\n",
       "\\begin{tabular}{r|ll}\n",
       "  & MeanDecreaseAccuracy & MeanDecreaseGini\\\\\n",
       "\\hline\n",
       "\tgeo\\_level\\_1\\_id & 75.3098075 & 10949.373\\\\\n",
       "\tgeo\\_level\\_2\\_id & 77.5346653 &  7040.612\\\\\n",
       "\tgeo\\_level\\_3\\_id & 79.0049354 &  6370.851\\\\\n",
       "\tbuilding\\_id &  0.3572611 &  5998.067\\\\\n",
       "\tarea\\_percentage & 60.7921182 &  4217.998\\\\\n",
       "\tage & 44.9729397 &  4171.967\\\\\n",
       "\theight\\_percentage & 54.5494947 &  2860.615\\\\\n",
       "\t6 & 21.1011220 &  1364.468\\\\\n",
       "\thas\\_superstructure\\_mud\\_mortar\\_stone & 30.5465995 &  1352.704\\\\\n",
       "\tcount\\_floors\\_pre\\_eq & 37.5824800 &  1306.269\\\\\n",
       "\\end{tabular}\n"
      ],
      "text/markdown": [
       "\n",
       "A matrix: 10 × 2 of type dbl\n",
       "\n",
       "| <!--/--> | MeanDecreaseAccuracy | MeanDecreaseGini |\n",
       "|---|---|---|\n",
       "| geo_level_1_id | 75.3098075 | 10949.373 |\n",
       "| geo_level_2_id | 77.5346653 |  7040.612 |\n",
       "| geo_level_3_id | 79.0049354 |  6370.851 |\n",
       "| building_id |  0.3572611 |  5998.067 |\n",
       "| area_percentage | 60.7921182 |  4217.998 |\n",
       "| age | 44.9729397 |  4171.967 |\n",
       "| height_percentage | 54.5494947 |  2860.615 |\n",
       "| 6 | 21.1011220 |  1364.468 |\n",
       "| has_superstructure_mud_mortar_stone | 30.5465995 |  1352.704 |\n",
       "| count_floors_pre_eq | 37.5824800 |  1306.269 |\n",
       "\n"
      ],
      "text/plain": [
       "                                    MeanDecreaseAccuracy MeanDecreaseGini\n",
       "geo_level_1_id                      75.3098075           10949.373       \n",
       "geo_level_2_id                      77.5346653            7040.612       \n",
       "geo_level_3_id                      79.0049354            6370.851       \n",
       "building_id                          0.3572611            5998.067       \n",
       "area_percentage                     60.7921182            4217.998       \n",
       "age                                 44.9729397            4171.967       \n",
       "height_percentage                   54.5494947            2860.615       \n",
       "6                                   21.1011220            1364.468       \n",
       "has_superstructure_mud_mortar_stone 30.5465995            1352.704       \n",
       "count_floors_pre_eq                 37.5824800            1306.269       "
      ]
     },
     "metadata": {},
     "output_type": "display_data"
    }
   ],
   "source": [
    "importance(RF_model5)[order(importance(RF_model5)[,5],decreasing = TRUE),][1:10,4:5]"
   ]
  },
  {
   "cell_type": "code",
   "execution_count": 26,
   "metadata": {},
   "outputs": [],
   "source": [
    "pred <- predict(RF_model5, test)\n",
    "cm <- table(test$damage_grade,pred)\n",
    "rf_result[5,1] <- 150\n",
    "rf_result[5,2:3] <- perf_eval_multi(cm)"
   ]
  },
  {
   "cell_type": "code",
   "execution_count": 27,
   "metadata": {},
   "outputs": [],
   "source": [
    "RF_model6 <- randomForest(damage_grade ~ ., data = all_train, ntree = 180, importance = TRUE)"
   ]
  },
  {
   "cell_type": "code",
   "execution_count": 28,
   "metadata": {},
   "outputs": [
    {
     "data": {
      "text/html": [
       "<table>\n",
       "<caption>A matrix: 10 × 2 of type dbl</caption>\n",
       "<thead>\n",
       "\t<tr><th></th><th scope=col>MeanDecreaseAccuracy</th><th scope=col>MeanDecreaseGini</th></tr>\n",
       "</thead>\n",
       "<tbody>\n",
       "\t<tr><th scope=row>geo_level_2_id</th><td>93.40652</td><td> 6947.7164</td></tr>\n",
       "\t<tr><th scope=row>geo_level_3_id</th><td>83.44628</td><td> 6271.3084</td></tr>\n",
       "\t<tr><th scope=row>geo_level_1_id</th><td>75.78440</td><td>10808.4562</td></tr>\n",
       "\t<tr><th scope=row>area_percentage</th><td>66.24596</td><td> 4207.0532</td></tr>\n",
       "\t<tr><th scope=row>height_percentage</th><td>56.86605</td><td> 2850.4187</td></tr>\n",
       "\t<tr><th scope=row>age</th><td>53.80933</td><td> 4079.9566</td></tr>\n",
       "\t<tr><th scope=row>has_superstructure_timber</th><td>43.40285</td><td>  836.7401</td></tr>\n",
       "\t<tr><th scope=row>count_floors_pre_eq</th><td>42.83905</td><td> 1304.5651</td></tr>\n",
       "\t<tr><th scope=row>has_superstructure_adobe_mud</th><td>41.89307</td><td>  594.3970</td></tr>\n",
       "\t<tr><th scope=row>3</th><td>39.84965</td><td>  629.0285</td></tr>\n",
       "</tbody>\n",
       "</table>\n"
      ],
      "text/latex": [
       "A matrix: 10 × 2 of type dbl\n",
       "\\begin{tabular}{r|ll}\n",
       "  & MeanDecreaseAccuracy & MeanDecreaseGini\\\\\n",
       "\\hline\n",
       "\tgeo\\_level\\_2\\_id & 93.40652 &  6947.7164\\\\\n",
       "\tgeo\\_level\\_3\\_id & 83.44628 &  6271.3084\\\\\n",
       "\tgeo\\_level\\_1\\_id & 75.78440 & 10808.4562\\\\\n",
       "\tarea\\_percentage & 66.24596 &  4207.0532\\\\\n",
       "\theight\\_percentage & 56.86605 &  2850.4187\\\\\n",
       "\tage & 53.80933 &  4079.9566\\\\\n",
       "\thas\\_superstructure\\_timber & 43.40285 &   836.7401\\\\\n",
       "\tcount\\_floors\\_pre\\_eq & 42.83905 &  1304.5651\\\\\n",
       "\thas\\_superstructure\\_adobe\\_mud & 41.89307 &   594.3970\\\\\n",
       "\t3 & 39.84965 &   629.0285\\\\\n",
       "\\end{tabular}\n"
      ],
      "text/markdown": [
       "\n",
       "A matrix: 10 × 2 of type dbl\n",
       "\n",
       "| <!--/--> | MeanDecreaseAccuracy | MeanDecreaseGini |\n",
       "|---|---|---|\n",
       "| geo_level_2_id | 93.40652 |  6947.7164 |\n",
       "| geo_level_3_id | 83.44628 |  6271.3084 |\n",
       "| geo_level_1_id | 75.78440 | 10808.4562 |\n",
       "| area_percentage | 66.24596 |  4207.0532 |\n",
       "| height_percentage | 56.86605 |  2850.4187 |\n",
       "| age | 53.80933 |  4079.9566 |\n",
       "| has_superstructure_timber | 43.40285 |   836.7401 |\n",
       "| count_floors_pre_eq | 42.83905 |  1304.5651 |\n",
       "| has_superstructure_adobe_mud | 41.89307 |   594.3970 |\n",
       "| 3 | 39.84965 |   629.0285 |\n",
       "\n"
      ],
      "text/plain": [
       "                             MeanDecreaseAccuracy MeanDecreaseGini\n",
       "geo_level_2_id               93.40652              6947.7164      \n",
       "geo_level_3_id               83.44628              6271.3084      \n",
       "geo_level_1_id               75.78440             10808.4562      \n",
       "area_percentage              66.24596              4207.0532      \n",
       "height_percentage            56.86605              2850.4187      \n",
       "age                          53.80933              4079.9566      \n",
       "has_superstructure_timber    43.40285               836.7401      \n",
       "count_floors_pre_eq          42.83905              1304.5651      \n",
       "has_superstructure_adobe_mud 41.89307               594.3970      \n",
       "3                            39.84965               629.0285      "
      ]
     },
     "metadata": {},
     "output_type": "display_data"
    }
   ],
   "source": [
    "importance(RF_model6)[order(importance(RF_model6)[,4],decreasing = TRUE),][1:10,4:5]"
   ]
  },
  {
   "cell_type": "code",
   "execution_count": 29,
   "metadata": {},
   "outputs": [
    {
     "data": {
      "text/html": [
       "<table>\n",
       "<caption>A matrix: 10 × 2 of type dbl</caption>\n",
       "<thead>\n",
       "\t<tr><th></th><th scope=col>MeanDecreaseAccuracy</th><th scope=col>MeanDecreaseGini</th></tr>\n",
       "</thead>\n",
       "<tbody>\n",
       "\t<tr><th scope=row>geo_level_1_id</th><td>75.78439909</td><td>10808.456</td></tr>\n",
       "\t<tr><th scope=row>geo_level_2_id</th><td>93.40651640</td><td> 6947.716</td></tr>\n",
       "\t<tr><th scope=row>geo_level_3_id</th><td>83.44628311</td><td> 6271.308</td></tr>\n",
       "\t<tr><th scope=row>building_id</th><td>-0.03053057</td><td> 5906.696</td></tr>\n",
       "\t<tr><th scope=row>area_percentage</th><td>66.24596416</td><td> 4207.053</td></tr>\n",
       "\t<tr><th scope=row>age</th><td>53.80933439</td><td> 4079.957</td></tr>\n",
       "\t<tr><th scope=row>height_percentage</th><td>56.86604813</td><td> 2850.419</td></tr>\n",
       "\t<tr><th scope=row>6</th><td>23.97485242</td><td> 1414.895</td></tr>\n",
       "\t<tr><th scope=row>has_superstructure_mud_mortar_stone</th><td>31.97057048</td><td> 1405.229</td></tr>\n",
       "\t<tr><th scope=row>count_floors_pre_eq</th><td>42.83905226</td><td> 1304.565</td></tr>\n",
       "</tbody>\n",
       "</table>\n"
      ],
      "text/latex": [
       "A matrix: 10 × 2 of type dbl\n",
       "\\begin{tabular}{r|ll}\n",
       "  & MeanDecreaseAccuracy & MeanDecreaseGini\\\\\n",
       "\\hline\n",
       "\tgeo\\_level\\_1\\_id & 75.78439909 & 10808.456\\\\\n",
       "\tgeo\\_level\\_2\\_id & 93.40651640 &  6947.716\\\\\n",
       "\tgeo\\_level\\_3\\_id & 83.44628311 &  6271.308\\\\\n",
       "\tbuilding\\_id & -0.03053057 &  5906.696\\\\\n",
       "\tarea\\_percentage & 66.24596416 &  4207.053\\\\\n",
       "\tage & 53.80933439 &  4079.957\\\\\n",
       "\theight\\_percentage & 56.86604813 &  2850.419\\\\\n",
       "\t6 & 23.97485242 &  1414.895\\\\\n",
       "\thas\\_superstructure\\_mud\\_mortar\\_stone & 31.97057048 &  1405.229\\\\\n",
       "\tcount\\_floors\\_pre\\_eq & 42.83905226 &  1304.565\\\\\n",
       "\\end{tabular}\n"
      ],
      "text/markdown": [
       "\n",
       "A matrix: 10 × 2 of type dbl\n",
       "\n",
       "| <!--/--> | MeanDecreaseAccuracy | MeanDecreaseGini |\n",
       "|---|---|---|\n",
       "| geo_level_1_id | 75.78439909 | 10808.456 |\n",
       "| geo_level_2_id | 93.40651640 |  6947.716 |\n",
       "| geo_level_3_id | 83.44628311 |  6271.308 |\n",
       "| building_id | -0.03053057 |  5906.696 |\n",
       "| area_percentage | 66.24596416 |  4207.053 |\n",
       "| age | 53.80933439 |  4079.957 |\n",
       "| height_percentage | 56.86604813 |  2850.419 |\n",
       "| 6 | 23.97485242 |  1414.895 |\n",
       "| has_superstructure_mud_mortar_stone | 31.97057048 |  1405.229 |\n",
       "| count_floors_pre_eq | 42.83905226 |  1304.565 |\n",
       "\n"
      ],
      "text/plain": [
       "                                    MeanDecreaseAccuracy MeanDecreaseGini\n",
       "geo_level_1_id                      75.78439909          10808.456       \n",
       "geo_level_2_id                      93.40651640           6947.716       \n",
       "geo_level_3_id                      83.44628311           6271.308       \n",
       "building_id                         -0.03053057           5906.696       \n",
       "area_percentage                     66.24596416           4207.053       \n",
       "age                                 53.80933439           4079.957       \n",
       "height_percentage                   56.86604813           2850.419       \n",
       "6                                   23.97485242           1414.895       \n",
       "has_superstructure_mud_mortar_stone 31.97057048           1405.229       \n",
       "count_floors_pre_eq                 42.83905226           1304.565       "
      ]
     },
     "metadata": {},
     "output_type": "display_data"
    }
   ],
   "source": [
    "importance(RF_model6)[order(importance(RF_model6)[,5],decreasing = TRUE),][1:10,4:5]"
   ]
  },
  {
   "cell_type": "code",
   "execution_count": 30,
   "metadata": {},
   "outputs": [],
   "source": [
    "pred <- predict(RF_model6, test)\n",
    "cm <- table(test$damage_grade,pred)\n",
    "rf_result[6,1] <- 180\n",
    "rf_result[6,2:3] <- perf_eval_multi(cm)"
   ]
  },
  {
   "cell_type": "code",
   "execution_count": 31,
   "metadata": {},
   "outputs": [],
   "source": [
    "RF_model7 <- randomForest(damage_grade ~ ., data = all_train, ntree = 210, importance = TRUE)"
   ]
  },
  {
   "cell_type": "code",
   "execution_count": 32,
   "metadata": {},
   "outputs": [
    {
     "data": {
      "text/html": [
       "<table>\n",
       "<caption>A matrix: 10 × 2 of type dbl</caption>\n",
       "<thead>\n",
       "\t<tr><th></th><th scope=col>MeanDecreaseAccuracy</th><th scope=col>MeanDecreaseGini</th></tr>\n",
       "</thead>\n",
       "<tbody>\n",
       "\t<tr><th scope=row>geo_level_3_id</th><td>101.18302</td><td> 6374.1560</td></tr>\n",
       "\t<tr><th scope=row>geo_level_2_id</th><td> 95.25848</td><td> 7030.2878</td></tr>\n",
       "\t<tr><th scope=row>geo_level_1_id</th><td> 85.00256</td><td>10914.3754</td></tr>\n",
       "\t<tr><th scope=row>area_percentage</th><td> 63.95605</td><td> 4226.7300</td></tr>\n",
       "\t<tr><th scope=row>height_percentage</th><td> 63.26053</td><td> 2876.4582</td></tr>\n",
       "\t<tr><th scope=row>age</th><td> 61.26433</td><td> 4151.8825</td></tr>\n",
       "\t<tr><th scope=row>has_superstructure_adobe_mud</th><td> 48.79679</td><td>  588.1430</td></tr>\n",
       "\t<tr><th scope=row>has_superstructure_timber</th><td> 48.76528</td><td>  836.5124</td></tr>\n",
       "\t<tr><th scope=row>has_superstructure_stone_flag</th><td> 48.22621</td><td>  480.9988</td></tr>\n",
       "\t<tr><th scope=row>3</th><td> 47.75287</td><td>  650.1448</td></tr>\n",
       "</tbody>\n",
       "</table>\n"
      ],
      "text/latex": [
       "A matrix: 10 × 2 of type dbl\n",
       "\\begin{tabular}{r|ll}\n",
       "  & MeanDecreaseAccuracy & MeanDecreaseGini\\\\\n",
       "\\hline\n",
       "\tgeo\\_level\\_3\\_id & 101.18302 &  6374.1560\\\\\n",
       "\tgeo\\_level\\_2\\_id &  95.25848 &  7030.2878\\\\\n",
       "\tgeo\\_level\\_1\\_id &  85.00256 & 10914.3754\\\\\n",
       "\tarea\\_percentage &  63.95605 &  4226.7300\\\\\n",
       "\theight\\_percentage &  63.26053 &  2876.4582\\\\\n",
       "\tage &  61.26433 &  4151.8825\\\\\n",
       "\thas\\_superstructure\\_adobe\\_mud &  48.79679 &   588.1430\\\\\n",
       "\thas\\_superstructure\\_timber &  48.76528 &   836.5124\\\\\n",
       "\thas\\_superstructure\\_stone\\_flag &  48.22621 &   480.9988\\\\\n",
       "\t3 &  47.75287 &   650.1448\\\\\n",
       "\\end{tabular}\n"
      ],
      "text/markdown": [
       "\n",
       "A matrix: 10 × 2 of type dbl\n",
       "\n",
       "| <!--/--> | MeanDecreaseAccuracy | MeanDecreaseGini |\n",
       "|---|---|---|\n",
       "| geo_level_3_id | 101.18302 |  6374.1560 |\n",
       "| geo_level_2_id |  95.25848 |  7030.2878 |\n",
       "| geo_level_1_id |  85.00256 | 10914.3754 |\n",
       "| area_percentage |  63.95605 |  4226.7300 |\n",
       "| height_percentage |  63.26053 |  2876.4582 |\n",
       "| age |  61.26433 |  4151.8825 |\n",
       "| has_superstructure_adobe_mud |  48.79679 |   588.1430 |\n",
       "| has_superstructure_timber |  48.76528 |   836.5124 |\n",
       "| has_superstructure_stone_flag |  48.22621 |   480.9988 |\n",
       "| 3 |  47.75287 |   650.1448 |\n",
       "\n"
      ],
      "text/plain": [
       "                              MeanDecreaseAccuracy MeanDecreaseGini\n",
       "geo_level_3_id                101.18302             6374.1560      \n",
       "geo_level_2_id                 95.25848             7030.2878      \n",
       "geo_level_1_id                 85.00256            10914.3754      \n",
       "area_percentage                63.95605             4226.7300      \n",
       "height_percentage              63.26053             2876.4582      \n",
       "age                            61.26433             4151.8825      \n",
       "has_superstructure_adobe_mud   48.79679              588.1430      \n",
       "has_superstructure_timber      48.76528              836.5124      \n",
       "has_superstructure_stone_flag  48.22621              480.9988      \n",
       "3                              47.75287              650.1448      "
      ]
     },
     "metadata": {},
     "output_type": "display_data"
    }
   ],
   "source": [
    "importance(RF_model7)[order(importance(RF_model7)[,4],decreasing = TRUE),][1:10,4:5]"
   ]
  },
  {
   "cell_type": "code",
   "execution_count": 33,
   "metadata": {},
   "outputs": [
    {
     "data": {
      "text/html": [
       "<table>\n",
       "<caption>A matrix: 10 × 2 of type dbl</caption>\n",
       "<thead>\n",
       "\t<tr><th></th><th scope=col>MeanDecreaseAccuracy</th><th scope=col>MeanDecreaseGini</th></tr>\n",
       "</thead>\n",
       "<tbody>\n",
       "\t<tr><th scope=row>geo_level_1_id</th><td> 85.0025644</td><td>10914.375</td></tr>\n",
       "\t<tr><th scope=row>geo_level_2_id</th><td> 95.2584810</td><td> 7030.288</td></tr>\n",
       "\t<tr><th scope=row>geo_level_3_id</th><td>101.1830240</td><td> 6374.156</td></tr>\n",
       "\t<tr><th scope=row>building_id</th><td>  0.2297114</td><td> 6020.705</td></tr>\n",
       "\t<tr><th scope=row>area_percentage</th><td> 63.9560525</td><td> 4226.730</td></tr>\n",
       "\t<tr><th scope=row>age</th><td> 61.2643273</td><td> 4151.883</td></tr>\n",
       "\t<tr><th scope=row>height_percentage</th><td> 63.2605331</td><td> 2876.458</td></tr>\n",
       "\t<tr><th scope=row>6</th><td> 26.7516074</td><td> 1796.062</td></tr>\n",
       "\t<tr><th scope=row>count_floors_pre_eq</th><td> 44.9512701</td><td> 1292.289</td></tr>\n",
       "\t<tr><th scope=row>has_superstructure_mud_mortar_stone</th><td> 34.2561149</td><td> 1269.066</td></tr>\n",
       "</tbody>\n",
       "</table>\n"
      ],
      "text/latex": [
       "A matrix: 10 × 2 of type dbl\n",
       "\\begin{tabular}{r|ll}\n",
       "  & MeanDecreaseAccuracy & MeanDecreaseGini\\\\\n",
       "\\hline\n",
       "\tgeo\\_level\\_1\\_id &  85.0025644 & 10914.375\\\\\n",
       "\tgeo\\_level\\_2\\_id &  95.2584810 &  7030.288\\\\\n",
       "\tgeo\\_level\\_3\\_id & 101.1830240 &  6374.156\\\\\n",
       "\tbuilding\\_id &   0.2297114 &  6020.705\\\\\n",
       "\tarea\\_percentage &  63.9560525 &  4226.730\\\\\n",
       "\tage &  61.2643273 &  4151.883\\\\\n",
       "\theight\\_percentage &  63.2605331 &  2876.458\\\\\n",
       "\t6 &  26.7516074 &  1796.062\\\\\n",
       "\tcount\\_floors\\_pre\\_eq &  44.9512701 &  1292.289\\\\\n",
       "\thas\\_superstructure\\_mud\\_mortar\\_stone &  34.2561149 &  1269.066\\\\\n",
       "\\end{tabular}\n"
      ],
      "text/markdown": [
       "\n",
       "A matrix: 10 × 2 of type dbl\n",
       "\n",
       "| <!--/--> | MeanDecreaseAccuracy | MeanDecreaseGini |\n",
       "|---|---|---|\n",
       "| geo_level_1_id |  85.0025644 | 10914.375 |\n",
       "| geo_level_2_id |  95.2584810 |  7030.288 |\n",
       "| geo_level_3_id | 101.1830240 |  6374.156 |\n",
       "| building_id |   0.2297114 |  6020.705 |\n",
       "| area_percentage |  63.9560525 |  4226.730 |\n",
       "| age |  61.2643273 |  4151.883 |\n",
       "| height_percentage |  63.2605331 |  2876.458 |\n",
       "| 6 |  26.7516074 |  1796.062 |\n",
       "| count_floors_pre_eq |  44.9512701 |  1292.289 |\n",
       "| has_superstructure_mud_mortar_stone |  34.2561149 |  1269.066 |\n",
       "\n"
      ],
      "text/plain": [
       "                                    MeanDecreaseAccuracy MeanDecreaseGini\n",
       "geo_level_1_id                       85.0025644          10914.375       \n",
       "geo_level_2_id                       95.2584810           7030.288       \n",
       "geo_level_3_id                      101.1830240           6374.156       \n",
       "building_id                           0.2297114           6020.705       \n",
       "area_percentage                      63.9560525           4226.730       \n",
       "age                                  61.2643273           4151.883       \n",
       "height_percentage                    63.2605331           2876.458       \n",
       "6                                    26.7516074           1796.062       \n",
       "count_floors_pre_eq                  44.9512701           1292.289       \n",
       "has_superstructure_mud_mortar_stone  34.2561149           1269.066       "
      ]
     },
     "metadata": {},
     "output_type": "display_data"
    }
   ],
   "source": [
    "importance(RF_model7)[order(importance(RF_model7)[,5],decreasing = TRUE),][1:10,4:5]"
   ]
  },
  {
   "cell_type": "code",
   "execution_count": 34,
   "metadata": {},
   "outputs": [],
   "source": [
    "pred <- predict(RF_model7, test)\n",
    "cm <- table(test$damage_grade,pred)\n",
    "rf_result[7,1] <- 210\n",
    "rf_result[7,2:3] <- perf_eval_multi(cm)"
   ]
  },
  {
   "cell_type": "code",
   "execution_count": 35,
   "metadata": {},
   "outputs": [],
   "source": [
    "RF_model8 <- randomForest(damage_grade ~ ., data = all_train, ntree = 240, importance = TRUE)"
   ]
  },
  {
   "cell_type": "code",
   "execution_count": 36,
   "metadata": {},
   "outputs": [
    {
     "data": {
      "text/html": [
       "<table>\n",
       "<caption>A matrix: 10 × 2 of type dbl</caption>\n",
       "<thead>\n",
       "\t<tr><th></th><th scope=col>MeanDecreaseAccuracy</th><th scope=col>MeanDecreaseGini</th></tr>\n",
       "</thead>\n",
       "<tbody>\n",
       "\t<tr><th scope=row>geo_level_2_id</th><td>102.37152</td><td> 6990.3074</td></tr>\n",
       "\t<tr><th scope=row>geo_level_3_id</th><td> 91.45475</td><td> 6332.3985</td></tr>\n",
       "\t<tr><th scope=row>geo_level_1_id</th><td> 84.38659</td><td>10831.2942</td></tr>\n",
       "\t<tr><th scope=row>area_percentage</th><td> 73.71984</td><td> 4216.3497</td></tr>\n",
       "\t<tr><th scope=row>age</th><td> 63.96292</td><td> 4162.2864</td></tr>\n",
       "\t<tr><th scope=row>height_percentage</th><td> 63.87032</td><td> 2837.4137</td></tr>\n",
       "\t<tr><th scope=row>count_floors_pre_eq</th><td> 50.10605</td><td> 1289.8646</td></tr>\n",
       "\t<tr><th scope=row>has_superstructure_adobe_mud</th><td> 50.06545</td><td>  589.6675</td></tr>\n",
       "\t<tr><th scope=row>has_superstructure_timber</th><td> 49.68090</td><td>  854.3265</td></tr>\n",
       "\t<tr><th scope=row>3</th><td> 47.23244</td><td>  637.6850</td></tr>\n",
       "</tbody>\n",
       "</table>\n"
      ],
      "text/latex": [
       "A matrix: 10 × 2 of type dbl\n",
       "\\begin{tabular}{r|ll}\n",
       "  & MeanDecreaseAccuracy & MeanDecreaseGini\\\\\n",
       "\\hline\n",
       "\tgeo\\_level\\_2\\_id & 102.37152 &  6990.3074\\\\\n",
       "\tgeo\\_level\\_3\\_id &  91.45475 &  6332.3985\\\\\n",
       "\tgeo\\_level\\_1\\_id &  84.38659 & 10831.2942\\\\\n",
       "\tarea\\_percentage &  73.71984 &  4216.3497\\\\\n",
       "\tage &  63.96292 &  4162.2864\\\\\n",
       "\theight\\_percentage &  63.87032 &  2837.4137\\\\\n",
       "\tcount\\_floors\\_pre\\_eq &  50.10605 &  1289.8646\\\\\n",
       "\thas\\_superstructure\\_adobe\\_mud &  50.06545 &   589.6675\\\\\n",
       "\thas\\_superstructure\\_timber &  49.68090 &   854.3265\\\\\n",
       "\t3 &  47.23244 &   637.6850\\\\\n",
       "\\end{tabular}\n"
      ],
      "text/markdown": [
       "\n",
       "A matrix: 10 × 2 of type dbl\n",
       "\n",
       "| <!--/--> | MeanDecreaseAccuracy | MeanDecreaseGini |\n",
       "|---|---|---|\n",
       "| geo_level_2_id | 102.37152 |  6990.3074 |\n",
       "| geo_level_3_id |  91.45475 |  6332.3985 |\n",
       "| geo_level_1_id |  84.38659 | 10831.2942 |\n",
       "| area_percentage |  73.71984 |  4216.3497 |\n",
       "| age |  63.96292 |  4162.2864 |\n",
       "| height_percentage |  63.87032 |  2837.4137 |\n",
       "| count_floors_pre_eq |  50.10605 |  1289.8646 |\n",
       "| has_superstructure_adobe_mud |  50.06545 |   589.6675 |\n",
       "| has_superstructure_timber |  49.68090 |   854.3265 |\n",
       "| 3 |  47.23244 |   637.6850 |\n",
       "\n"
      ],
      "text/plain": [
       "                             MeanDecreaseAccuracy MeanDecreaseGini\n",
       "geo_level_2_id               102.37152             6990.3074      \n",
       "geo_level_3_id                91.45475             6332.3985      \n",
       "geo_level_1_id                84.38659            10831.2942      \n",
       "area_percentage               73.71984             4216.3497      \n",
       "age                           63.96292             4162.2864      \n",
       "height_percentage             63.87032             2837.4137      \n",
       "count_floors_pre_eq           50.10605             1289.8646      \n",
       "has_superstructure_adobe_mud  50.06545              589.6675      \n",
       "has_superstructure_timber     49.68090              854.3265      \n",
       "3                             47.23244              637.6850      "
      ]
     },
     "metadata": {},
     "output_type": "display_data"
    }
   ],
   "source": [
    "importance(RF_model8)[order(importance(RF_model8)[,4],decreasing = TRUE),][1:10,4:5]"
   ]
  },
  {
   "cell_type": "code",
   "execution_count": 37,
   "metadata": {},
   "outputs": [
    {
     "data": {
      "text/html": [
       "<table>\n",
       "<caption>A matrix: 10 × 2 of type dbl</caption>\n",
       "<thead>\n",
       "\t<tr><th></th><th scope=col>MeanDecreaseAccuracy</th><th scope=col>MeanDecreaseGini</th></tr>\n",
       "</thead>\n",
       "<tbody>\n",
       "\t<tr><th scope=row>geo_level_1_id</th><td> 84.3865915</td><td>10831.294</td></tr>\n",
       "\t<tr><th scope=row>geo_level_2_id</th><td>102.3715161</td><td> 6990.307</td></tr>\n",
       "\t<tr><th scope=row>geo_level_3_id</th><td> 91.4547534</td><td> 6332.398</td></tr>\n",
       "\t<tr><th scope=row>building_id</th><td>  0.3589888</td><td> 5953.415</td></tr>\n",
       "\t<tr><th scope=row>area_percentage</th><td> 73.7198432</td><td> 4216.350</td></tr>\n",
       "\t<tr><th scope=row>age</th><td> 63.9629204</td><td> 4162.286</td></tr>\n",
       "\t<tr><th scope=row>height_percentage</th><td> 63.8703222</td><td> 2837.414</td></tr>\n",
       "\t<tr><th scope=row>6</th><td> 27.2929325</td><td> 1508.317</td></tr>\n",
       "\t<tr><th scope=row>has_superstructure_mud_mortar_stone</th><td> 36.6054419</td><td> 1356.355</td></tr>\n",
       "\t<tr><th scope=row>count_floors_pre_eq</th><td> 50.1060521</td><td> 1289.865</td></tr>\n",
       "</tbody>\n",
       "</table>\n"
      ],
      "text/latex": [
       "A matrix: 10 × 2 of type dbl\n",
       "\\begin{tabular}{r|ll}\n",
       "  & MeanDecreaseAccuracy & MeanDecreaseGini\\\\\n",
       "\\hline\n",
       "\tgeo\\_level\\_1\\_id &  84.3865915 & 10831.294\\\\\n",
       "\tgeo\\_level\\_2\\_id & 102.3715161 &  6990.307\\\\\n",
       "\tgeo\\_level\\_3\\_id &  91.4547534 &  6332.398\\\\\n",
       "\tbuilding\\_id &   0.3589888 &  5953.415\\\\\n",
       "\tarea\\_percentage &  73.7198432 &  4216.350\\\\\n",
       "\tage &  63.9629204 &  4162.286\\\\\n",
       "\theight\\_percentage &  63.8703222 &  2837.414\\\\\n",
       "\t6 &  27.2929325 &  1508.317\\\\\n",
       "\thas\\_superstructure\\_mud\\_mortar\\_stone &  36.6054419 &  1356.355\\\\\n",
       "\tcount\\_floors\\_pre\\_eq &  50.1060521 &  1289.865\\\\\n",
       "\\end{tabular}\n"
      ],
      "text/markdown": [
       "\n",
       "A matrix: 10 × 2 of type dbl\n",
       "\n",
       "| <!--/--> | MeanDecreaseAccuracy | MeanDecreaseGini |\n",
       "|---|---|---|\n",
       "| geo_level_1_id |  84.3865915 | 10831.294 |\n",
       "| geo_level_2_id | 102.3715161 |  6990.307 |\n",
       "| geo_level_3_id |  91.4547534 |  6332.398 |\n",
       "| building_id |   0.3589888 |  5953.415 |\n",
       "| area_percentage |  73.7198432 |  4216.350 |\n",
       "| age |  63.9629204 |  4162.286 |\n",
       "| height_percentage |  63.8703222 |  2837.414 |\n",
       "| 6 |  27.2929325 |  1508.317 |\n",
       "| has_superstructure_mud_mortar_stone |  36.6054419 |  1356.355 |\n",
       "| count_floors_pre_eq |  50.1060521 |  1289.865 |\n",
       "\n"
      ],
      "text/plain": [
       "                                    MeanDecreaseAccuracy MeanDecreaseGini\n",
       "geo_level_1_id                       84.3865915          10831.294       \n",
       "geo_level_2_id                      102.3715161           6990.307       \n",
       "geo_level_3_id                       91.4547534           6332.398       \n",
       "building_id                           0.3589888           5953.415       \n",
       "area_percentage                      73.7198432           4216.350       \n",
       "age                                  63.9629204           4162.286       \n",
       "height_percentage                    63.8703222           2837.414       \n",
       "6                                    27.2929325           1508.317       \n",
       "has_superstructure_mud_mortar_stone  36.6054419           1356.355       \n",
       "count_floors_pre_eq                  50.1060521           1289.865       "
      ]
     },
     "metadata": {},
     "output_type": "display_data"
    }
   ],
   "source": [
    "importance(RF_model8)[order(importance(RF_model8)[,5],decreasing = TRUE),][1:10,4:5]"
   ]
  },
  {
   "cell_type": "code",
   "execution_count": 38,
   "metadata": {},
   "outputs": [],
   "source": [
    "pred <- predict(RF_model8, test)\n",
    "cm <- table(test$damage_grade,pred)\n",
    "rf_result[8,1] <- 240\n",
    "rf_result[8,2:3] <- perf_eval_multi(cm)"
   ]
  },
  {
   "cell_type": "code",
   "execution_count": 39,
   "metadata": {},
   "outputs": [],
   "source": [
    "RF_model9 <- randomForest(damage_grade ~ ., data = all_train, ntree = 270, importance = TRUE)"
   ]
  },
  {
   "cell_type": "code",
   "execution_count": 40,
   "metadata": {},
   "outputs": [
    {
     "data": {
      "text/html": [
       "<table>\n",
       "<caption>A matrix: 10 × 2 of type dbl</caption>\n",
       "<thead>\n",
       "\t<tr><th></th><th scope=col>MeanDecreaseAccuracy</th><th scope=col>MeanDecreaseGini</th></tr>\n",
       "</thead>\n",
       "<tbody>\n",
       "\t<tr><th scope=row>geo_level_2_id</th><td>110.13349</td><td> 7016.1146</td></tr>\n",
       "\t<tr><th scope=row>geo_level_3_id</th><td> 98.65968</td><td> 6340.1802</td></tr>\n",
       "\t<tr><th scope=row>geo_level_1_id</th><td> 96.88792</td><td>10829.7548</td></tr>\n",
       "\t<tr><th scope=row>height_percentage</th><td> 73.02269</td><td> 2861.5747</td></tr>\n",
       "\t<tr><th scope=row>area_percentage</th><td> 72.63977</td><td> 4197.2699</td></tr>\n",
       "\t<tr><th scope=row>age</th><td> 66.97961</td><td> 4131.4341</td></tr>\n",
       "\t<tr><th scope=row>has_superstructure_adobe_mud</th><td> 56.07806</td><td>  581.8898</td></tr>\n",
       "\t<tr><th scope=row>has_superstructure_timber</th><td> 54.47628</td><td>  845.1002</td></tr>\n",
       "\t<tr><th scope=row>3</th><td> 52.26499</td><td>  634.3857</td></tr>\n",
       "\t<tr><th scope=row>count_floors_pre_eq</th><td> 51.78611</td><td> 1295.3844</td></tr>\n",
       "</tbody>\n",
       "</table>\n"
      ],
      "text/latex": [
       "A matrix: 10 × 2 of type dbl\n",
       "\\begin{tabular}{r|ll}\n",
       "  & MeanDecreaseAccuracy & MeanDecreaseGini\\\\\n",
       "\\hline\n",
       "\tgeo\\_level\\_2\\_id & 110.13349 &  7016.1146\\\\\n",
       "\tgeo\\_level\\_3\\_id &  98.65968 &  6340.1802\\\\\n",
       "\tgeo\\_level\\_1\\_id &  96.88792 & 10829.7548\\\\\n",
       "\theight\\_percentage &  73.02269 &  2861.5747\\\\\n",
       "\tarea\\_percentage &  72.63977 &  4197.2699\\\\\n",
       "\tage &  66.97961 &  4131.4341\\\\\n",
       "\thas\\_superstructure\\_adobe\\_mud &  56.07806 &   581.8898\\\\\n",
       "\thas\\_superstructure\\_timber &  54.47628 &   845.1002\\\\\n",
       "\t3 &  52.26499 &   634.3857\\\\\n",
       "\tcount\\_floors\\_pre\\_eq &  51.78611 &  1295.3844\\\\\n",
       "\\end{tabular}\n"
      ],
      "text/markdown": [
       "\n",
       "A matrix: 10 × 2 of type dbl\n",
       "\n",
       "| <!--/--> | MeanDecreaseAccuracy | MeanDecreaseGini |\n",
       "|---|---|---|\n",
       "| geo_level_2_id | 110.13349 |  7016.1146 |\n",
       "| geo_level_3_id |  98.65968 |  6340.1802 |\n",
       "| geo_level_1_id |  96.88792 | 10829.7548 |\n",
       "| height_percentage |  73.02269 |  2861.5747 |\n",
       "| area_percentage |  72.63977 |  4197.2699 |\n",
       "| age |  66.97961 |  4131.4341 |\n",
       "| has_superstructure_adobe_mud |  56.07806 |   581.8898 |\n",
       "| has_superstructure_timber |  54.47628 |   845.1002 |\n",
       "| 3 |  52.26499 |   634.3857 |\n",
       "| count_floors_pre_eq |  51.78611 |  1295.3844 |\n",
       "\n"
      ],
      "text/plain": [
       "                             MeanDecreaseAccuracy MeanDecreaseGini\n",
       "geo_level_2_id               110.13349             7016.1146      \n",
       "geo_level_3_id                98.65968             6340.1802      \n",
       "geo_level_1_id                96.88792            10829.7548      \n",
       "height_percentage             73.02269             2861.5747      \n",
       "area_percentage               72.63977             4197.2699      \n",
       "age                           66.97961             4131.4341      \n",
       "has_superstructure_adobe_mud  56.07806              581.8898      \n",
       "has_superstructure_timber     54.47628              845.1002      \n",
       "3                             52.26499              634.3857      \n",
       "count_floors_pre_eq           51.78611             1295.3844      "
      ]
     },
     "metadata": {},
     "output_type": "display_data"
    }
   ],
   "source": [
    "importance(RF_model9)[order(importance(RF_model9)[,4],decreasing = TRUE),][1:10,4:5]"
   ]
  },
  {
   "cell_type": "code",
   "execution_count": 41,
   "metadata": {},
   "outputs": [
    {
     "data": {
      "text/html": [
       "<table>\n",
       "<caption>A matrix: 10 × 2 of type dbl</caption>\n",
       "<thead>\n",
       "\t<tr><th></th><th scope=col>MeanDecreaseAccuracy</th><th scope=col>MeanDecreaseGini</th></tr>\n",
       "</thead>\n",
       "<tbody>\n",
       "\t<tr><th scope=row>geo_level_1_id</th><td> 96.8879247</td><td>10829.755</td></tr>\n",
       "\t<tr><th scope=row>geo_level_2_id</th><td>110.1334891</td><td> 7016.115</td></tr>\n",
       "\t<tr><th scope=row>geo_level_3_id</th><td> 98.6596762</td><td> 6340.180</td></tr>\n",
       "\t<tr><th scope=row>building_id</th><td> -0.3398225</td><td> 5947.657</td></tr>\n",
       "\t<tr><th scope=row>area_percentage</th><td> 72.6397724</td><td> 4197.270</td></tr>\n",
       "\t<tr><th scope=row>age</th><td> 66.9796133</td><td> 4131.434</td></tr>\n",
       "\t<tr><th scope=row>height_percentage</th><td> 73.0226931</td><td> 2861.575</td></tr>\n",
       "\t<tr><th scope=row>6</th><td> 28.3873152</td><td> 1526.175</td></tr>\n",
       "\t<tr><th scope=row>count_floors_pre_eq</th><td> 51.7861069</td><td> 1295.384</td></tr>\n",
       "\t<tr><th scope=row>has_superstructure_mud_mortar_stone</th><td> 41.1914427</td><td> 1239.941</td></tr>\n",
       "</tbody>\n",
       "</table>\n"
      ],
      "text/latex": [
       "A matrix: 10 × 2 of type dbl\n",
       "\\begin{tabular}{r|ll}\n",
       "  & MeanDecreaseAccuracy & MeanDecreaseGini\\\\\n",
       "\\hline\n",
       "\tgeo\\_level\\_1\\_id &  96.8879247 & 10829.755\\\\\n",
       "\tgeo\\_level\\_2\\_id & 110.1334891 &  7016.115\\\\\n",
       "\tgeo\\_level\\_3\\_id &  98.6596762 &  6340.180\\\\\n",
       "\tbuilding\\_id &  -0.3398225 &  5947.657\\\\\n",
       "\tarea\\_percentage &  72.6397724 &  4197.270\\\\\n",
       "\tage &  66.9796133 &  4131.434\\\\\n",
       "\theight\\_percentage &  73.0226931 &  2861.575\\\\\n",
       "\t6 &  28.3873152 &  1526.175\\\\\n",
       "\tcount\\_floors\\_pre\\_eq &  51.7861069 &  1295.384\\\\\n",
       "\thas\\_superstructure\\_mud\\_mortar\\_stone &  41.1914427 &  1239.941\\\\\n",
       "\\end{tabular}\n"
      ],
      "text/markdown": [
       "\n",
       "A matrix: 10 × 2 of type dbl\n",
       "\n",
       "| <!--/--> | MeanDecreaseAccuracy | MeanDecreaseGini |\n",
       "|---|---|---|\n",
       "| geo_level_1_id |  96.8879247 | 10829.755 |\n",
       "| geo_level_2_id | 110.1334891 |  7016.115 |\n",
       "| geo_level_3_id |  98.6596762 |  6340.180 |\n",
       "| building_id |  -0.3398225 |  5947.657 |\n",
       "| area_percentage |  72.6397724 |  4197.270 |\n",
       "| age |  66.9796133 |  4131.434 |\n",
       "| height_percentage |  73.0226931 |  2861.575 |\n",
       "| 6 |  28.3873152 |  1526.175 |\n",
       "| count_floors_pre_eq |  51.7861069 |  1295.384 |\n",
       "| has_superstructure_mud_mortar_stone |  41.1914427 |  1239.941 |\n",
       "\n"
      ],
      "text/plain": [
       "                                    MeanDecreaseAccuracy MeanDecreaseGini\n",
       "geo_level_1_id                       96.8879247          10829.755       \n",
       "geo_level_2_id                      110.1334891           7016.115       \n",
       "geo_level_3_id                       98.6596762           6340.180       \n",
       "building_id                          -0.3398225           5947.657       \n",
       "area_percentage                      72.6397724           4197.270       \n",
       "age                                  66.9796133           4131.434       \n",
       "height_percentage                    73.0226931           2861.575       \n",
       "6                                    28.3873152           1526.175       \n",
       "count_floors_pre_eq                  51.7861069           1295.384       \n",
       "has_superstructure_mud_mortar_stone  41.1914427           1239.941       "
      ]
     },
     "metadata": {},
     "output_type": "display_data"
    }
   ],
   "source": [
    "importance(RF_model9)[order(importance(RF_model9)[,5],decreasing = TRUE),][1:10,4:5]"
   ]
  },
  {
   "cell_type": "code",
   "execution_count": 42,
   "metadata": {},
   "outputs": [],
   "source": [
    "pred <- predict(RF_model9, test)\n",
    "cm <- table(test$damage_grade,pred)\n",
    "rf_result[9,1] <- 270\n",
    "rf_result[9,2:3] <- perf_eval_multi(cm)"
   ]
  },
  {
   "cell_type": "code",
   "execution_count": 43,
   "metadata": {},
   "outputs": [],
   "source": [
    "RF_model10 <- randomForest(damage_grade ~ ., data = all_train, ntree = 300, importance = TRUE)"
   ]
  },
  {
   "cell_type": "code",
   "execution_count": 44,
   "metadata": {},
   "outputs": [
    {
     "data": {
      "text/html": [
       "<table>\n",
       "<caption>A matrix: 10 × 2 of type dbl</caption>\n",
       "<thead>\n",
       "\t<tr><th></th><th scope=col>MeanDecreaseAccuracy</th><th scope=col>MeanDecreaseGini</th></tr>\n",
       "</thead>\n",
       "<tbody>\n",
       "\t<tr><th scope=row>geo_level_2_id</th><td>119.41015</td><td> 7021.6290</td></tr>\n",
       "\t<tr><th scope=row>geo_level_3_id</th><td>105.24278</td><td> 6351.5723</td></tr>\n",
       "\t<tr><th scope=row>geo_level_1_id</th><td>101.62712</td><td>10977.3923</td></tr>\n",
       "\t<tr><th scope=row>area_percentage</th><td> 82.73428</td><td> 4229.7060</td></tr>\n",
       "\t<tr><th scope=row>height_percentage</th><td> 78.26973</td><td> 2882.0387</td></tr>\n",
       "\t<tr><th scope=row>age</th><td> 69.68032</td><td> 4183.1613</td></tr>\n",
       "\t<tr><th scope=row>has_superstructure_timber</th><td> 58.11288</td><td>  848.2388</td></tr>\n",
       "\t<tr><th scope=row>count_floors_pre_eq</th><td> 56.52828</td><td> 1308.5686</td></tr>\n",
       "\t<tr><th scope=row>3</th><td> 55.83557</td><td>  643.3361</td></tr>\n",
       "\t<tr><th scope=row>has_superstructure_adobe_mud</th><td> 55.01630</td><td>  595.2561</td></tr>\n",
       "</tbody>\n",
       "</table>\n"
      ],
      "text/latex": [
       "A matrix: 10 × 2 of type dbl\n",
       "\\begin{tabular}{r|ll}\n",
       "  & MeanDecreaseAccuracy & MeanDecreaseGini\\\\\n",
       "\\hline\n",
       "\tgeo\\_level\\_2\\_id & 119.41015 &  7021.6290\\\\\n",
       "\tgeo\\_level\\_3\\_id & 105.24278 &  6351.5723\\\\\n",
       "\tgeo\\_level\\_1\\_id & 101.62712 & 10977.3923\\\\\n",
       "\tarea\\_percentage &  82.73428 &  4229.7060\\\\\n",
       "\theight\\_percentage &  78.26973 &  2882.0387\\\\\n",
       "\tage &  69.68032 &  4183.1613\\\\\n",
       "\thas\\_superstructure\\_timber &  58.11288 &   848.2388\\\\\n",
       "\tcount\\_floors\\_pre\\_eq &  56.52828 &  1308.5686\\\\\n",
       "\t3 &  55.83557 &   643.3361\\\\\n",
       "\thas\\_superstructure\\_adobe\\_mud &  55.01630 &   595.2561\\\\\n",
       "\\end{tabular}\n"
      ],
      "text/markdown": [
       "\n",
       "A matrix: 10 × 2 of type dbl\n",
       "\n",
       "| <!--/--> | MeanDecreaseAccuracy | MeanDecreaseGini |\n",
       "|---|---|---|\n",
       "| geo_level_2_id | 119.41015 |  7021.6290 |\n",
       "| geo_level_3_id | 105.24278 |  6351.5723 |\n",
       "| geo_level_1_id | 101.62712 | 10977.3923 |\n",
       "| area_percentage |  82.73428 |  4229.7060 |\n",
       "| height_percentage |  78.26973 |  2882.0387 |\n",
       "| age |  69.68032 |  4183.1613 |\n",
       "| has_superstructure_timber |  58.11288 |   848.2388 |\n",
       "| count_floors_pre_eq |  56.52828 |  1308.5686 |\n",
       "| 3 |  55.83557 |   643.3361 |\n",
       "| has_superstructure_adobe_mud |  55.01630 |   595.2561 |\n",
       "\n"
      ],
      "text/plain": [
       "                             MeanDecreaseAccuracy MeanDecreaseGini\n",
       "geo_level_2_id               119.41015             7021.6290      \n",
       "geo_level_3_id               105.24278             6351.5723      \n",
       "geo_level_1_id               101.62712            10977.3923      \n",
       "area_percentage               82.73428             4229.7060      \n",
       "height_percentage             78.26973             2882.0387      \n",
       "age                           69.68032             4183.1613      \n",
       "has_superstructure_timber     58.11288              848.2388      \n",
       "count_floors_pre_eq           56.52828             1308.5686      \n",
       "3                             55.83557              643.3361      \n",
       "has_superstructure_adobe_mud  55.01630              595.2561      "
      ]
     },
     "metadata": {},
     "output_type": "display_data"
    }
   ],
   "source": [
    "importance(RF_model10)[order(importance(RF_model10)[,4],decreasing = TRUE),][1:10,4:5]"
   ]
  },
  {
   "cell_type": "code",
   "execution_count": 45,
   "metadata": {},
   "outputs": [
    {
     "data": {
      "text/html": [
       "<table>\n",
       "<caption>A matrix: 10 × 2 of type dbl</caption>\n",
       "<thead>\n",
       "\t<tr><th></th><th scope=col>MeanDecreaseAccuracy</th><th scope=col>MeanDecreaseGini</th></tr>\n",
       "</thead>\n",
       "<tbody>\n",
       "\t<tr><th scope=row>geo_level_1_id</th><td>101.62711789</td><td>10977.392</td></tr>\n",
       "\t<tr><th scope=row>geo_level_2_id</th><td>119.41014939</td><td> 7021.629</td></tr>\n",
       "\t<tr><th scope=row>geo_level_3_id</th><td>105.24278432</td><td> 6351.572</td></tr>\n",
       "\t<tr><th scope=row>building_id</th><td>  0.02973738</td><td> 5970.989</td></tr>\n",
       "\t<tr><th scope=row>area_percentage</th><td> 82.73427750</td><td> 4229.706</td></tr>\n",
       "\t<tr><th scope=row>age</th><td> 69.68032484</td><td> 4183.161</td></tr>\n",
       "\t<tr><th scope=row>height_percentage</th><td> 78.26973442</td><td> 2882.039</td></tr>\n",
       "\t<tr><th scope=row>6</th><td> 32.19877008</td><td> 1519.460</td></tr>\n",
       "\t<tr><th scope=row>has_superstructure_mud_mortar_stone</th><td> 39.41097866</td><td> 1333.587</td></tr>\n",
       "\t<tr><th scope=row>count_floors_pre_eq</th><td> 56.52827562</td><td> 1308.569</td></tr>\n",
       "</tbody>\n",
       "</table>\n"
      ],
      "text/latex": [
       "A matrix: 10 × 2 of type dbl\n",
       "\\begin{tabular}{r|ll}\n",
       "  & MeanDecreaseAccuracy & MeanDecreaseGini\\\\\n",
       "\\hline\n",
       "\tgeo\\_level\\_1\\_id & 101.62711789 & 10977.392\\\\\n",
       "\tgeo\\_level\\_2\\_id & 119.41014939 &  7021.629\\\\\n",
       "\tgeo\\_level\\_3\\_id & 105.24278432 &  6351.572\\\\\n",
       "\tbuilding\\_id &   0.02973738 &  5970.989\\\\\n",
       "\tarea\\_percentage &  82.73427750 &  4229.706\\\\\n",
       "\tage &  69.68032484 &  4183.161\\\\\n",
       "\theight\\_percentage &  78.26973442 &  2882.039\\\\\n",
       "\t6 &  32.19877008 &  1519.460\\\\\n",
       "\thas\\_superstructure\\_mud\\_mortar\\_stone &  39.41097866 &  1333.587\\\\\n",
       "\tcount\\_floors\\_pre\\_eq &  56.52827562 &  1308.569\\\\\n",
       "\\end{tabular}\n"
      ],
      "text/markdown": [
       "\n",
       "A matrix: 10 × 2 of type dbl\n",
       "\n",
       "| <!--/--> | MeanDecreaseAccuracy | MeanDecreaseGini |\n",
       "|---|---|---|\n",
       "| geo_level_1_id | 101.62711789 | 10977.392 |\n",
       "| geo_level_2_id | 119.41014939 |  7021.629 |\n",
       "| geo_level_3_id | 105.24278432 |  6351.572 |\n",
       "| building_id |   0.02973738 |  5970.989 |\n",
       "| area_percentage |  82.73427750 |  4229.706 |\n",
       "| age |  69.68032484 |  4183.161 |\n",
       "| height_percentage |  78.26973442 |  2882.039 |\n",
       "| 6 |  32.19877008 |  1519.460 |\n",
       "| has_superstructure_mud_mortar_stone |  39.41097866 |  1333.587 |\n",
       "| count_floors_pre_eq |  56.52827562 |  1308.569 |\n",
       "\n"
      ],
      "text/plain": [
       "                                    MeanDecreaseAccuracy MeanDecreaseGini\n",
       "geo_level_1_id                      101.62711789         10977.392       \n",
       "geo_level_2_id                      119.41014939          7021.629       \n",
       "geo_level_3_id                      105.24278432          6351.572       \n",
       "building_id                           0.02973738          5970.989       \n",
       "area_percentage                      82.73427750          4229.706       \n",
       "age                                  69.68032484          4183.161       \n",
       "height_percentage                    78.26973442          2882.039       \n",
       "6                                    32.19877008          1519.460       \n",
       "has_superstructure_mud_mortar_stone  39.41097866          1333.587       \n",
       "count_floors_pre_eq                  56.52827562          1308.569       "
      ]
     },
     "metadata": {},
     "output_type": "display_data"
    }
   ],
   "source": [
    "importance(RF_model10)[order(importance(RF_model10)[,5],decreasing = TRUE),][1:10,4:5]"
   ]
  },
  {
   "cell_type": "code",
   "execution_count": 46,
   "metadata": {},
   "outputs": [],
   "source": [
    "pred <- predict(RF_model10, test)\n",
    "cm <- table(test$damage_grade,pred)\n",
    "rf_result[10,1] <- 300\n",
    "rf_result[10,2:3] <- perf_eval_multi(cm)"
   ]
  },
  {
   "cell_type": "code",
   "execution_count": 47,
   "metadata": {},
   "outputs": [
    {
     "data": {
      "text/html": [
       "<table>\n",
       "<caption>A matrix: 10 × 3 of type dbl</caption>\n",
       "<thead>\n",
       "\t<tr><th scope=col>ntree</th><th scope=col>ACC</th><th scope=col>BCR</th></tr>\n",
       "</thead>\n",
       "<tbody>\n",
       "\t<tr><td> 30</td><td>0.7072326</td><td>0.5766060</td></tr>\n",
       "\t<tr><td> 60</td><td>0.7116549</td><td>0.5748111</td></tr>\n",
       "\t<tr><td> 90</td><td>0.7104668</td><td>0.5744820</td></tr>\n",
       "\t<tr><td>120</td><td>0.7121830</td><td>0.5776896</td></tr>\n",
       "\t<tr><td>150</td><td>0.7132556</td><td>0.5797089</td></tr>\n",
       "\t<tr><td>180</td><td>0.7122985</td><td>0.5763037</td></tr>\n",
       "\t<tr><td>210</td><td>0.7129255</td><td>0.5775153</td></tr>\n",
       "\t<tr><td>240</td><td>0.7134371</td><td>0.5775716</td></tr>\n",
       "\t<tr><td>270</td><td>0.7136021</td><td>0.5787192</td></tr>\n",
       "\t<tr><td>300</td><td>0.7139981</td><td>0.5780241</td></tr>\n",
       "</tbody>\n",
       "</table>\n"
      ],
      "text/latex": [
       "A matrix: 10 × 3 of type dbl\n",
       "\\begin{tabular}{lll}\n",
       " ntree & ACC & BCR\\\\\n",
       "\\hline\n",
       "\t  30 & 0.7072326 & 0.5766060\\\\\n",
       "\t  60 & 0.7116549 & 0.5748111\\\\\n",
       "\t  90 & 0.7104668 & 0.5744820\\\\\n",
       "\t 120 & 0.7121830 & 0.5776896\\\\\n",
       "\t 150 & 0.7132556 & 0.5797089\\\\\n",
       "\t 180 & 0.7122985 & 0.5763037\\\\\n",
       "\t 210 & 0.7129255 & 0.5775153\\\\\n",
       "\t 240 & 0.7134371 & 0.5775716\\\\\n",
       "\t 270 & 0.7136021 & 0.5787192\\\\\n",
       "\t 300 & 0.7139981 & 0.5780241\\\\\n",
       "\\end{tabular}\n"
      ],
      "text/markdown": [
       "\n",
       "A matrix: 10 × 3 of type dbl\n",
       "\n",
       "| ntree | ACC | BCR |\n",
       "|---|---|---|\n",
       "|  30 | 0.7072326 | 0.5766060 |\n",
       "|  60 | 0.7116549 | 0.5748111 |\n",
       "|  90 | 0.7104668 | 0.5744820 |\n",
       "| 120 | 0.7121830 | 0.5776896 |\n",
       "| 150 | 0.7132556 | 0.5797089 |\n",
       "| 180 | 0.7122985 | 0.5763037 |\n",
       "| 210 | 0.7129255 | 0.5775153 |\n",
       "| 240 | 0.7134371 | 0.5775716 |\n",
       "| 270 | 0.7136021 | 0.5787192 |\n",
       "| 300 | 0.7139981 | 0.5780241 |\n",
       "\n"
      ],
      "text/plain": [
       "      ntree ACC       BCR      \n",
       " [1,]  30   0.7072326 0.5766060\n",
       " [2,]  60   0.7116549 0.5748111\n",
       " [3,]  90   0.7104668 0.5744820\n",
       " [4,] 120   0.7121830 0.5776896\n",
       " [5,] 150   0.7132556 0.5797089\n",
       " [6,] 180   0.7122985 0.5763037\n",
       " [7,] 210   0.7129255 0.5775153\n",
       " [8,] 240   0.7134371 0.5775716\n",
       " [9,] 270   0.7136021 0.5787192\n",
       "[10,] 300   0.7139981 0.5780241"
      ]
     },
     "metadata": {},
     "output_type": "display_data"
    }
   ],
   "source": [
    "rf_result"
   ]
  },
  {
   "cell_type": "code",
   "execution_count": null,
   "metadata": {},
   "outputs": [],
   "source": []
  }
 ],
 "metadata": {
  "kernelspec": {
   "display_name": "R",
   "language": "R",
   "name": "ir"
  },
  "language_info": {
   "codemirror_mode": "r",
   "file_extension": ".r",
   "mimetype": "text/x-r-source",
   "name": "R",
   "pygments_lexer": "r",
   "version": "3.6.3"
  }
 },
 "nbformat": 4,
 "nbformat_minor": 4
}
