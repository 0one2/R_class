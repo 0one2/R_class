{
 "cells": [
  {
   "cell_type": "code",
   "execution_count": 1,
   "metadata": {},
   "outputs": [],
   "source": [
    "data <- read.csv(\"Earthquate_Damage.csv\")\n",
    "perf_eval_multi <- function(cm){\n",
    "  \n",
    "  # Simple Accuracy\n",
    "  ACC = sum(diag(cm))/sum(cm)\n",
    "  \n",
    "  # Balanced Correction Rate\n",
    "  BCR = 1\n",
    "  for (i in 1:dim(cm)[1]){\n",
    "    BCR = BCR*(cm[i,i]/sum(cm[i,])) \n",
    "  }\n",
    "  \n",
    "  BCR = BCR^(1/dim(cm)[1])\n",
    "  \n",
    "  return(c(ACC, BCR))\n",
    "}\n",
    "set.seed(42)\n",
    "trn_idx <- sample(1:nrow(data), 150000)\n",
    "train <- data[trn_idx,]\n",
    "tmp <- data[-trn_idx,]\n",
    "val_idx <- sample(1:nrow(tmp),50000)\n",
    "val <- tmp[val_idx,]\n",
    "test <- tmp[-val_idx,]\n",
    "all_train <- rbind(train,val)\n",
    "val$damage_grade <- as.factor(val$damage_grade)\n",
    "train$damage_grade <- as.factor(train$damage_grade)\n",
    "all_train$damage_grade <- as.factor(all_train$damage_grade)\n",
    "test$damage_grade <- as.factor(test$damage_grade)\n",
    "x_train <- train[,!(names(train)%in%\"damage_grade\")]\n",
    "y_train <- train[,(names(train)%in%\"damage_grade\")]\n",
    "x_val <- val[,!(names(val)%in%\"damage_grade\")]\n",
    "y_val <- val[,(names(val)%in%\"damage_grade\")]\n",
    "x_test <- test[,!(names(test)%in%\"damage_grade\")]\n",
    "y_test <- test[,(names(test)%in%\"damage_grade\")]\n",
    "x_all_train <- all_train[,!(names(all_train)%in%\"damage_grade\")]\n",
    "y_all_train <- all_train[,(names(all_train)%in%\"damage_grade\")]"
   ]
  },
  {
   "cell_type": "code",
   "execution_count": 2,
   "metadata": {},
   "outputs": [
    {
     "name": "stdout",
     "output_type": "stream",
     "text": [
      "package 'gbm' successfully unpacked and MD5 sums checked\n"
     ]
    },
    {
     "name": "stderr",
     "output_type": "stream",
     "text": [
      "Warning message:\n",
      "\"cannot remove prior installation of package 'gbm'\"\n",
      "Warning message in file.copy(savedcopy, lib, recursive = TRUE):\n",
      "\"C:\\R\\R-3.6.3\\library\\00LOCK\\gbm\\libs\\x64\\gbm.dll를 C:\\R\\R-3.6.3\\library\\gbm\\libs\\x64\\gbm.dll로 복사하는데 문제가 발생했습니다: Permission denied\"\n",
      "Warning message:\n",
      "\"restored 'gbm'\"\n"
     ]
    },
    {
     "name": "stdout",
     "output_type": "stream",
     "text": [
      "\n",
      "The downloaded binary packages are in\n",
      "\tC:\\Users\\lmwlm\\AppData\\Local\\Temp\\RtmpgbpGGR\\downloaded_packages\n"
     ]
    },
    {
     "name": "stderr",
     "output_type": "stream",
     "text": [
      "Loaded gbm 2.1.5\n",
      "\n"
     ]
    }
   ],
   "source": [
    "install.packages(\"gbm\")\n",
    "library(gbm)"
   ]
  },
  {
   "cell_type": "code",
   "execution_count": 3,
   "metadata": {},
   "outputs": [
    {
     "name": "stdout",
     "output_type": "stream",
     "text": [
      "package 'caret' successfully unpacked and MD5 sums checked\n"
     ]
    },
    {
     "name": "stderr",
     "output_type": "stream",
     "text": [
      "Warning message:\n",
      "\"cannot remove prior installation of package 'caret'\"\n",
      "Warning message in file.copy(savedcopy, lib, recursive = TRUE):\n",
      "\"C:\\R\\R-3.6.3\\library\\00LOCK\\caret\\libs\\x64\\caret.dll를 C:\\R\\R-3.6.3\\library\\caret\\libs\\x64\\caret.dll로 복사하는데 문제가 발생했습니다: Permission denied\"\n",
      "Warning message:\n",
      "\"restored 'caret'\"\n"
     ]
    },
    {
     "name": "stdout",
     "output_type": "stream",
     "text": [
      "\n",
      "The downloaded binary packages are in\n",
      "\tC:\\Users\\lmwlm\\AppData\\Local\\Temp\\RtmpgbpGGR\\downloaded_packages\n"
     ]
    },
    {
     "name": "stderr",
     "output_type": "stream",
     "text": [
      "Loading required package: lattice\n",
      "\n",
      "Loading required package: ggplot2\n",
      "\n"
     ]
    }
   ],
   "source": [
    "install.packages(\"caret\")\n",
    "library(caret)"
   ]
  },
  {
   "cell_type": "code",
   "execution_count": 19,
   "metadata": {},
   "outputs": [],
   "source": [
    "upsample_train <- upSample(subset(x_all_train), y_all_train)"
   ]
  },
  {
   "cell_type": "code",
   "execution_count": 20,
   "metadata": {},
   "outputs": [],
   "source": [
    "x_upsample_train <- upsample_train[,!(names(upsample_train)%in%\"Class\")]\n",
    "y_upsample_train <- upsample_train[,(names(upsample_train)%in%\"Class\")]"
   ]
  },
  {
   "cell_type": "code",
   "execution_count": 21,
   "metadata": {},
   "outputs": [],
   "source": [
    "downsample_train <- downSample(subset(x_all_train),y_all_train)"
   ]
  },
  {
   "cell_type": "code",
   "execution_count": 22,
   "metadata": {},
   "outputs": [],
   "source": [
    "x_downsample_train <- downsample_train[,!(names(downsample_train)%in%\"Class\")]\n",
    "y_downsample_train <- downsample_train[,(names(downsample_train)%in%\"Class\")]"
   ]
  },
  {
   "cell_type": "code",
   "execution_count": 10,
   "metadata": {},
   "outputs": [],
   "source": [
    "gbm_model <- gbm.fit(x_all_train, y_all_train, verbose=0,\n",
    "                 n.trees = 150, shrinkage = 0.1,distribution=\"multinomial\",interaction.depth = 4)"
   ]
  },
  {
   "cell_type": "code",
   "execution_count": 23,
   "metadata": {},
   "outputs": [],
   "source": [
    "gbm_upsample_model <- gbm.fit(x_upsample_train, y_upsample_train, verbose=0,\n",
    "                 n.trees = 150, shrinkage = 0.1,distribution=\"multinomial\",interaction.depth = 4)"
   ]
  },
  {
   "cell_type": "code",
   "execution_count": 24,
   "metadata": {},
   "outputs": [],
   "source": [
    "gbm_downsample_model <- gbm.fit(x_downsample_train, y_downsample_train, verbose=0,\n",
    "                 n.trees = 150, shrinkage = 0.1,distribution=\"multinomial\",interaction.depth = 4)"
   ]
  },
  {
   "cell_type": "code",
   "execution_count": 25,
   "metadata": {},
   "outputs": [
    {
     "name": "stdout",
     "output_type": "stream",
     "text": [
      "    y_test\n",
      "pred     1     2     3\n",
      "   1  2277  1126    74\n",
      "   2  3548 29296  9702\n",
      "   3    58  4043 10477\n",
      "[1] 0.6938829 0.6868823\n"
     ]
    }
   ],
   "source": [
    "pred <- predict(gbm_model,newdata=x_test,n.trees=150, type = \"response\")\n",
    "dim(pred)<-c(60601,3)\n",
    "pred <- apply(pred, 1, which.max)\n",
    "cm <- table(pred,y_test)\n",
    "print(cm)\n",
    "print(perf_eval_multi(cm))"
   ]
  },
  {
   "cell_type": "code",
   "execution_count": 26,
   "metadata": {},
   "outputs": [
    {
     "name": "stdout",
     "output_type": "stream",
     "text": [
      "    y_test\n",
      "pred     1     2     3\n",
      "   1  4600  6451   889\n",
      "   2  1123 18449  4879\n",
      "   3   160  9565 14485\n",
      "[1] 0.6193627 0.5581931\n"
     ]
    }
   ],
   "source": [
    "pred <- predict(gbm_upsample_model,newdata=x_test,n.trees=150, type = \"response\")\n",
    "dim(pred)<-c(60601,3)\n",
    "pred <- apply(pred, 1, which.max)\n",
    "cm <- table(pred,y_test)\n",
    "print(cm)\n",
    "print(perf_eval_multi(cm))"
   ]
  },
  {
   "cell_type": "code",
   "execution_count": 27,
   "metadata": {},
   "outputs": [
    {
     "name": "stdout",
     "output_type": "stream",
     "text": [
      "    y_test\n",
      "pred     1     2     3\n",
      "   1  4639  6739   951\n",
      "   2  1087 18219  4884\n",
      "   3   157  9507 14418\n",
      "[1] 0.6151054 0.5536040\n"
     ]
    }
   ],
   "source": [
    "pred <- predict(gbm_downsample_model,newdata=x_test,n.trees=150, type = \"response\")\n",
    "dim(pred)<-c(60601,3)\n",
    "pred <- apply(pred, 1, which.max)\n",
    "cm <- table(pred,y_test)\n",
    "print(cm)\n",
    "print(perf_eval_multi(cm))"
   ]
  },
  {
   "cell_type": "code",
   "execution_count": 28,
   "metadata": {},
   "outputs": [],
   "source": [
    "pred1 <- predict(gbm_model,newdata=x_test,n.trees=150, type = \"response\")\n",
    "dim(pred1)<-c(60601,3)\n",
    "pred2 <- predict(gbm_upsample_model,newdata=x_test,n.trees=150, type = \"response\")\n",
    "dim(pred2)<-c(60601,3)\n",
    "pred3 <- predict(gbm_downsample_model,newdata=x_test,n.trees=150, type = \"response\")\n",
    "dim(pred3)<-c(60601,3)"
   ]
  },
  {
   "cell_type": "code",
   "execution_count": 69,
   "metadata": {},
   "outputs": [],
   "source": [
    "pred <- pred1*0.9 + pred2*0.05 + pred3*0.05"
   ]
  },
  {
   "cell_type": "code",
   "execution_count": 70,
   "metadata": {},
   "outputs": [
    {
     "name": "stdout",
     "output_type": "stream",
     "text": [
      "    y_test\n",
      "pred     1     2     3\n",
      "   1  2479  1336    88\n",
      "   2  3334 28661  9242\n",
      "   3    70  4468 10923\n",
      "[1] 0.6940975 0.6781548\n"
     ]
    }
   ],
   "source": [
    "pred <- apply(pred, 1, which.max)\n",
    "cm <- table(pred,y_test)\n",
    "print(cm)\n",
    "print(perf_eval_multi(cm))"
   ]
  },
  {
   "cell_type": "code",
   "execution_count": 75,
   "metadata": {},
   "outputs": [
    {
     "name": "stderr",
     "output_type": "stream",
     "text": [
      "also installing the dependencies 'rlang', 'tidyselect', 'vctrs'\n",
      "\n",
      "\n"
     ]
    },
    {
     "name": "stdout",
     "output_type": "stream",
     "text": [
      "package 'rlang' successfully unpacked and MD5 sums checked\n"
     ]
    },
    {
     "name": "stderr",
     "output_type": "stream",
     "text": [
      "Warning message:\n",
      "\"cannot remove prior installation of package 'rlang'\"\n",
      "Warning message in file.copy(savedcopy, lib, recursive = TRUE):\n",
      "\"C:\\R\\R-3.6.3\\library\\00LOCK\\rlang\\libs\\x64\\rlang.dll를 C:\\R\\R-3.6.3\\library\\rlang\\libs\\x64\\rlang.dll로 복사하는데 문제가 발생했습니다: Permission denied\"\n",
      "Warning message:\n",
      "\"restored 'rlang'\"\n"
     ]
    },
    {
     "name": "stdout",
     "output_type": "stream",
     "text": [
      "package 'tidyselect' successfully unpacked and MD5 sums checked\n",
      "package 'vctrs' successfully unpacked and MD5 sums checked\n"
     ]
    },
    {
     "name": "stderr",
     "output_type": "stream",
     "text": [
      "Warning message:\n",
      "\"cannot remove prior installation of package 'vctrs'\"\n",
      "Warning message in file.copy(savedcopy, lib, recursive = TRUE):\n",
      "\"C:\\R\\R-3.6.3\\library\\00LOCK\\vctrs\\libs\\x64\\vctrs.dll를 C:\\R\\R-3.6.3\\library\\vctrs\\libs\\x64\\vctrs.dll로 복사하는데 문제가 발생했습니다: Permission denied\"\n",
      "Warning message:\n",
      "\"restored 'vctrs'\"\n"
     ]
    },
    {
     "name": "stdout",
     "output_type": "stream",
     "text": [
      "package 'dplyr' successfully unpacked and MD5 sums checked\n"
     ]
    },
    {
     "name": "stderr",
     "output_type": "stream",
     "text": [
      "Warning message:\n",
      "\"cannot remove prior installation of package 'dplyr'\"\n",
      "Warning message in file.copy(savedcopy, lib, recursive = TRUE):\n",
      "\"C:\\R\\R-3.6.3\\library\\00LOCK\\dplyr\\libs\\x64\\dplyr.dll를 C:\\R\\R-3.6.3\\library\\dplyr\\libs\\x64\\dplyr.dll로 복사하는데 문제가 발생했습니다: Permission denied\"\n",
      "Warning message:\n",
      "\"restored 'dplyr'\"\n"
     ]
    },
    {
     "name": "stdout",
     "output_type": "stream",
     "text": [
      "\n",
      "The downloaded binary packages are in\n",
      "\tC:\\Users\\lmwlm\\AppData\\Local\\Temp\\RtmpgbpGGR\\downloaded_packages\n"
     ]
    },
    {
     "name": "stderr",
     "output_type": "stream",
     "text": [
      "\n",
      "Attaching package: 'dplyr'\n",
      "\n",
      "\n",
      "The following objects are masked from 'package:stats':\n",
      "\n",
      "    filter, lag\n",
      "\n",
      "\n",
      "The following objects are masked from 'package:base':\n",
      "\n",
      "    intersect, setdiff, setequal, union\n",
      "\n",
      "\n"
     ]
    }
   ],
   "source": [
    "install.packages(\"dplyr\")\n",
    "library(dplyr)"
   ]
  },
  {
   "cell_type": "code",
   "execution_count": 76,
   "metadata": {},
   "outputs": [],
   "source": [
    "class1_tmp <-filter(all_train, damage_grade == c(\"1\"))\n",
    "class2_tmp <-filter(all_train, damage_grade == c(\"2\"))\n",
    "class3_tmp <-filter(all_train, damage_grade == c(\"3\"))"
   ]
  },
  {
   "cell_type": "code",
   "execution_count": 95,
   "metadata": {},
   "outputs": [
    {
     "data": {
      "text/html": [
       "19241"
      ],
      "text/latex": [
       "19241"
      ],
      "text/markdown": [
       "19241"
      ],
      "text/plain": [
       "[1] 19241"
      ]
     },
     "metadata": {},
     "output_type": "display_data"
    }
   ],
   "source": [
    "nrow(class1_tmp)"
   ]
  },
  {
   "cell_type": "code",
   "execution_count": 96,
   "metadata": {},
   "outputs": [
    {
     "data": {
      "text/html": [
       "113794"
      ],
      "text/latex": [
       "113794"
      ],
      "text/markdown": [
       "113794"
      ],
      "text/plain": [
       "[1] 113794"
      ]
     },
     "metadata": {},
     "output_type": "display_data"
    }
   ],
   "source": [
    "nrow(class2_tmp)"
   ]
  },
  {
   "cell_type": "code",
   "execution_count": 97,
   "metadata": {},
   "outputs": [
    {
     "data": {
      "text/html": [
       "66965"
      ],
      "text/latex": [
       "66965"
      ],
      "text/markdown": [
       "66965"
      ],
      "text/plain": [
       "[1] 66965"
      ]
     },
     "metadata": {},
     "output_type": "display_data"
    }
   ],
   "source": [
    "nrow(class3_tmp)"
   ]
  },
  {
   "cell_type": "code",
   "execution_count": 78,
   "metadata": {},
   "outputs": [],
   "source": [
    "set.seed(42)\n",
    "selec_idx <- sample(1:nrow(class2_tmp), 75000)\n",
    "class2_tmp <- class2_tmp[selec_idx,]\n",
    "set.seed(42)\n",
    "selec_idx <- sample(1:nrow(class3_tmp), 50000)\n",
    "class3_tmp <- class3_tmp[selec_idx,]"
   ]
  },
  {
   "cell_type": "code",
   "execution_count": 79,
   "metadata": {},
   "outputs": [],
   "source": [
    "new_train <- rbind(class1_tmp,class2_tmp,class3_tmp)"
   ]
  },
  {
   "cell_type": "code",
   "execution_count": 80,
   "metadata": {},
   "outputs": [],
   "source": [
    "x_new_train <- new_train[,!(names(new_train)%in%\"damage_grade\")]\n",
    "y_new_train <- new_train[,(names(new_train)%in%\"damage_grade\")]"
   ]
  },
  {
   "cell_type": "code",
   "execution_count": 81,
   "metadata": {},
   "outputs": [],
   "source": [
    "gbm_new_model <- gbm.fit(x_new_train, y_new_train, verbose=0,\n",
    "                 n.trees = 150, shrinkage = 0.1,distribution=\"multinomial\",interaction.depth = 4)"
   ]
  },
  {
   "cell_type": "code",
   "execution_count": 82,
   "metadata": {},
   "outputs": [
    {
     "name": "stdout",
     "output_type": "stream",
     "text": [
      "    y_test\n",
      "pred     1     2     3\n",
      "   1  2849  1797   146\n",
      "   2  2948 27388  8507\n",
      "   3    86  5280 11600\n",
      "[1] 0.6903681 0.6593266\n"
     ]
    }
   ],
   "source": [
    "pred <- predict(gbm_new_model,newdata=x_test,n.trees=150, type = \"response\")\n",
    "dim(pred)<-c(60601,3)\n",
    "pred <- apply(pred, 1, which.max)\n",
    "cm <- table(pred,y_test)\n",
    "print(cm)\n",
    "print(perf_eval_multi(cm))"
   ]
  },
  {
   "cell_type": "code",
   "execution_count": 105,
   "metadata": {},
   "outputs": [],
   "source": [
    "pred4 <- predict(gbm_new_model,newdata=x_test,n.trees=150, type = \"response\")\n",
    "dim(pred4)<-c(60601,3)"
   ]
  },
  {
   "cell_type": "code",
   "execution_count": 106,
   "metadata": {},
   "outputs": [
    {
     "name": "stdout",
     "output_type": "stream",
     "text": [
      "    y_test\n",
      "pred     1     2     3\n",
      "   1  2324  1170    80\n",
      "   2  3497 29142  9602\n",
      "   3    62  4153 10571\n",
      "[1] 0.6936684 0.6845062\n"
     ]
    }
   ],
   "source": [
    "pred <- pred1*0.9 + pred4*0.1\n",
    "pred <- apply(pred, 1, which.max)\n",
    "cm <- table(pred,y_test)\n",
    "print(cm)\n",
    "print(perf_eval_multi(cm))"
   ]
  },
  {
   "cell_type": "code",
   "execution_count": 98,
   "metadata": {},
   "outputs": [],
   "source": [
    "class1_tmp <-filter(all_train, damage_grade == c(\"1\"))\n",
    "class2_tmp <-filter(all_train, damage_grade == c(\"2\"))\n",
    "class3_tmp <-filter(all_train, damage_grade == c(\"3\"))\n",
    "set.seed(42)\n",
    "selec_idx <- sample(1:nrow(class2_tmp), 90000)\n",
    "class2_tmp <- class2_tmp[selec_idx,]\n",
    "set.seed(42)\n",
    "selec_idx <- sample(1:nrow(class3_tmp), 55000)\n",
    "class3_tmp <- class3_tmp[selec_idx,]"
   ]
  },
  {
   "cell_type": "code",
   "execution_count": 99,
   "metadata": {},
   "outputs": [],
   "source": [
    "new2_train <- rbind(class1_tmp,class2_tmp,class3_tmp)\n",
    "x_new2_train <- new2_train[,!(names(new2_train)%in%\"damage_grade\")]\n",
    "y_new2_train <- new2_train[,(names(new2_train)%in%\"damage_grade\")]"
   ]
  },
  {
   "cell_type": "code",
   "execution_count": 100,
   "metadata": {},
   "outputs": [],
   "source": [
    "gbm_new2_model <- gbm.fit(x_new2_train, y_new2_train, verbose=0,\n",
    "                 n.trees = 150, shrinkage = 0.1,distribution=\"multinomial\",interaction.depth = 4)"
   ]
  },
  {
   "cell_type": "code",
   "execution_count": 103,
   "metadata": {},
   "outputs": [],
   "source": [
    "pred5 <- predict(gbm_new2_model,newdata=x_test,n.trees=150, type = \"response\")\n",
    "dim(pred5)<-c(60601,3)"
   ]
  },
  {
   "cell_type": "code",
   "execution_count": 104,
   "metadata": {},
   "outputs": [
    {
     "name": "stdout",
     "output_type": "stream",
     "text": [
      "    y_test\n",
      "pred     1     2     3\n",
      "   1  2566  1465   108\n",
      "   2  3242 28519  9232\n",
      "   3    75  4481 10913\n",
      "[1] 0.6930249 0.6725985\n"
     ]
    }
   ],
   "source": [
    "pred <- pred5\n",
    "pred <- apply(pred, 1, which.max)\n",
    "cm <- table(pred,y_test)\n",
    "print(cm)\n",
    "print(perf_eval_multi(cm))"
   ]
  },
  {
   "cell_type": "code",
   "execution_count": 113,
   "metadata": {},
   "outputs": [
    {
     "name": "stdout",
     "output_type": "stream",
     "text": [
      "    y_test\n",
      "pred     1     2     3\n",
      "   1  2281  1128    75\n",
      "   2  3544 29286  9697\n",
      "   3    58  4051 10481\n",
      "[1] 0.6938499 0.6867468\n"
     ]
    }
   ],
   "source": [
    "pred <- pred1*0.99 + pred5*0.005 +pred4*0.005\n",
    "pred <- apply(pred, 1, which.max)\n",
    "cm <- table(pred,y_test)\n",
    "print(cm)\n",
    "print(perf_eval_multi(cm))"
   ]
  },
  {
   "cell_type": "code",
   "execution_count": 114,
   "metadata": {},
   "outputs": [],
   "source": [
    "class1_tmp <-filter(all_train, damage_grade == c(\"1\"))\n",
    "class2_tmp <-filter(all_train, damage_grade == c(\"2\"))\n",
    "class3_tmp <-filter(all_train, damage_grade == c(\"3\"))\n",
    "set.seed(42)\n",
    "selec_idx <- sample(1:nrow(class2_tmp), 100000)\n",
    "class2_tmp <- class2_tmp[selec_idx,]\n",
    "set.seed(42)\n",
    "selec_idx <- sample(1:nrow(class3_tmp), 60000)\n",
    "class3_tmp <- class3_tmp[selec_idx,]\n",
    "new3_train <- rbind(class1_tmp,class2_tmp,class3_tmp)\n",
    "x_new3_train <- new3_train[,!(names(new3_train)%in%\"damage_grade\")]\n",
    "y_new3_train <- new3_train[,(names(new3_train)%in%\"damage_grade\")]"
   ]
  },
  {
   "cell_type": "code",
   "execution_count": 115,
   "metadata": {},
   "outputs": [],
   "source": [
    "gbm_new3_model <- gbm.fit(x_new3_train, y_new3_train, verbose=0,\n",
    "                 n.trees = 150, shrinkage = 0.1,distribution=\"multinomial\",interaction.depth = 4)"
   ]
  },
  {
   "cell_type": "code",
   "execution_count": 116,
   "metadata": {},
   "outputs": [],
   "source": [
    "pred6 <- predict(gbm_new3_model,newdata=x_test,n.trees=150, type = \"response\")\n",
    "dim(pred6)<-c(60601,3)"
   ]
  },
  {
   "cell_type": "code",
   "execution_count": 117,
   "metadata": {},
   "outputs": [
    {
     "name": "stdout",
     "output_type": "stream",
     "text": [
      "    y_test\n",
      "pred     1     2     3\n",
      "   1  2418  1301    91\n",
      "   2  3396 28826  9373\n",
      "   3    69  4338 10789\n",
      "[1] 0.6936024 0.6784359\n"
     ]
    }
   ],
   "source": [
    "pred <- pred6\n",
    "pred <- apply(pred, 1, which.max)\n",
    "cm <- table(pred,y_test)\n",
    "print(cm)\n",
    "print(perf_eval_multi(cm))"
   ]
  },
  {
   "cell_type": "code",
   "execution_count": 121,
   "metadata": {},
   "outputs": [
    {
     "name": "stdout",
     "output_type": "stream",
     "text": [
      "    y_test\n",
      "pred     1     2     3\n",
      "   1  2288  1134    75\n",
      "   2  3537 29278  9689\n",
      "   3    58  4053 10489\n",
      "[1] 0.6939654 0.6866747\n"
     ]
    }
   ],
   "source": [
    "pred <- pred1*0.95 + pred6*0.05\n",
    "pred <- apply(pred, 1, which.max)\n",
    "cm <- table(pred,y_test)\n",
    "print(cm)\n",
    "print(perf_eval_multi(cm))"
   ]
  },
  {
   "cell_type": "code",
   "execution_count": 123,
   "metadata": {},
   "outputs": [],
   "source": [
    "class1_tmp <-filter(all_train, damage_grade == c(\"1\"))\n",
    "\n",
    "set.seed(42)\n",
    "selec_idx <- sample(1:nrow(class1_tmp), 5000)\n",
    "class1_tmp <- class1_tmp[selec_idx,]\n",
    "new4_train <- rbind(class1_tmp,all_train)\n",
    "x_new4_train <- new4_train[,!(names(new4_train)%in%\"damage_grade\")]\n",
    "y_new4_train <- new4_train[,(names(new4_train)%in%\"damage_grade\")]"
   ]
  },
  {
   "cell_type": "code",
   "execution_count": 124,
   "metadata": {},
   "outputs": [],
   "source": [
    "gbm_new4_model <- gbm.fit(x_new4_train, y_new4_train, verbose=0,\n",
    "                 n.trees = 150, shrinkage = 0.1,distribution=\"multinomial\",interaction.depth = 4)"
   ]
  },
  {
   "cell_type": "code",
   "execution_count": 125,
   "metadata": {},
   "outputs": [],
   "source": [
    "pred7 <- predict(gbm_new4_model,newdata=x_test,n.trees=150, type = \"response\")\n",
    "dim(pred7)<-c(60601,3)"
   ]
  },
  {
   "cell_type": "code",
   "execution_count": 126,
   "metadata": {},
   "outputs": [
    {
     "name": "stdout",
     "output_type": "stream",
     "text": [
      "    y_test\n",
      "pred     1     2     3\n",
      "   1  2576  1448    92\n",
      "   2  3240 28804  9634\n",
      "   3    67  4213 10527\n",
      "[1] 0.6915232 0.6749703\n"
     ]
    }
   ],
   "source": [
    "pred <- pred7\n",
    "pred <- apply(pred, 1, which.max)\n",
    "cm <- table(pred,y_test)\n",
    "print(cm)\n",
    "print(perf_eval_multi(cm))"
   ]
  },
  {
   "cell_type": "code",
   "execution_count": 136,
   "metadata": {},
   "outputs": [
    {
     "name": "stdout",
     "output_type": "stream",
     "text": [
      "    y_test\n",
      "pred     1     2     3\n",
      "   1  2277  1126    74\n",
      "   2  3548 29297  9702\n",
      "   3    58  4042 10477\n",
      "[1] 0.6938994 0.6869004\n"
     ]
    }
   ],
   "source": [
    "pred <- pred1*0.999 + pred7*0.0005 + pred6*0.0005\n",
    "pred <- apply(pred, 1, which.max)\n",
    "cm <- table(pred,y_test)\n",
    "print(cm)\n",
    "print(perf_eval_multi(cm))"
   ]
  }
 ],
 "metadata": {
  "kernelspec": {
   "display_name": "R",
   "language": "R",
   "name": "ir"
  },
  "language_info": {
   "codemirror_mode": "r",
   "file_extension": ".r",
   "mimetype": "text/x-r-source",
   "name": "R",
   "pygments_lexer": "r",
   "version": "3.6.3"
  }
 },
 "nbformat": 4,
 "nbformat_minor": 4
}
